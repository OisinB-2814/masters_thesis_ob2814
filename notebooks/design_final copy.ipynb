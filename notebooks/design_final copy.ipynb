{
 "cells": [
  {
   "cell_type": "code",
   "execution_count": 120,
   "metadata": {},
   "outputs": [],
   "source": [
    "import pandas as pd\n",
    "import random\n",
    "from sklearn.tree import ExtraTreeClassifier\n",
    "from sklearn.tree import DecisionTreeClassifier\n",
    "from sklearn.neighbors import KNeighborsClassifier\n",
    "from sklearn.multioutput import ClassifierChain\n",
    "from sklearn.multioutput import MultiOutputClassifier\n",
    "from sklearn.multiclass import OutputCodeClassifier\n",
    "from sklearn.multiclass import OneVsOneClassifier\n",
    "from sklearn.multiclass import OneVsRestClassifier\n",
    "from sklearn.ensemble import RandomForestClassifier\n",
    "from sklearn.naive_bayes import BernoulliNB\n",
    "from sklearn.calibration import CalibratedClassifierCV\n",
    "from sklearn.naive_bayes import GaussianNB\n",
    "from sklearn.semi_supervised import LabelPropagation\n",
    "from sklearn.semi_supervised import LabelSpreading\n",
    "from sklearn.discriminant_analysis import LinearDiscriminantAnalysis\n",
    "from sklearn.svm import LinearSVC\n",
    "from sklearn.linear_model import LogisticRegression\n",
    "from sklearn.linear_model import LogisticRegressionCV\n",
    "from sklearn.naive_bayes import MultinomialNB  \n",
    "from sklearn.neighbors import NearestCentroid\n",
    "from sklearn.svm import NuSVC\n",
    "from sklearn.linear_model import Perceptron\n",
    "from sklearn.discriminant_analysis import QuadraticDiscriminantAnalysis\n",
    "from sklearn.svm import SVC\n",
    "from sklearn.preprocessing import MinMaxScaler, StandardScaler, QuantileTransformer, RobustScaler\n",
    "from imblearn.combine import SMOTETomek\n",
    "from imblearn.under_sampling import TomekLinks\n",
    "from sklearn.metrics import classification_report\n",
    "random.seed(2814)"
   ]
  },
  {
   "cell_type": "code",
   "execution_count": 123,
   "metadata": {},
   "outputs": [],
   "source": [
    "df = pd.read_csv('../data/processed/3_seai_miss_forest_imputation.csv')\n",
    "# Read in our cleaned up SEAI data\n",
    "df = df.drop('BerRating', axis = 1)\n",
    "df = df.drop('CO2Rating', axis = 1)\n",
    "df['NoOfSidesSheltered'] = df['NoOfSidesSheltered'].astype('category')"
   ]
  },
  {
   "cell_type": "code",
   "execution_count": 124,
   "metadata": {},
   "outputs": [],
   "source": [
    "df = df[['YearofConstruction', 'GroundFloorArea(sq m)', 'TotalDeliveredEnergy', 'EnergyRating']]"
   ]
  },
  {
   "cell_type": "code",
   "execution_count": 125,
   "metadata": {},
   "outputs": [
    {
     "data": {
      "text/plain": [
       "C2    124530\n",
       "C3    118185\n",
       "D1    114352\n",
       "C1    113782\n",
       "D2     98187\n",
       "B3     77970\n",
       "G      66815\n",
       "E1     56631\n",
       "A3     51193\n",
       "F      46347\n",
       "E2     44780\n",
       "A2     43242\n",
       "B2     32814\n",
       "B1     15261\n",
       "A1      1258\n",
       "Name: EnergyRating, dtype: int64"
      ]
     },
     "execution_count": 125,
     "metadata": {},
     "output_type": "execute_result"
    }
   ],
   "source": [
    "df.EnergyRating.value_counts()"
   ]
  },
  {
   "cell_type": "code",
   "execution_count": 126,
   "metadata": {},
   "outputs": [],
   "source": [
    "X = df.iloc[:, :-1] # Independent Variables\n",
    "y = df.iloc[:, -1] # Dependent Variables"
   ]
  },
  {
   "cell_type": "code",
   "execution_count": 127,
   "metadata": {},
   "outputs": [],
   "source": [
    "# Define SMOTE-Tomek Links\n",
    "resample=SMOTETomek(tomek=TomekLinks(sampling_strategy='majority'))\n",
    "X, y = resample.fit_resample(X, y)"
   ]
  },
  {
   "cell_type": "code",
   "execution_count": 130,
   "metadata": {},
   "outputs": [],
   "source": [
    "X[['YearofConstruction', 'GroundFloorArea(sq m)', 'TotalDeliveredEnergy']] = QuantileTransformer().fit_transform(X[['YearofConstruction', 'GroundFloorArea(sq m)', 'TotalDeliveredEnergy']])"
   ]
  },
  {
   "cell_type": "code",
   "execution_count": 131,
   "metadata": {},
   "outputs": [
    {
     "data": {
      "text/html": [
       "<div>\n",
       "<style scoped>\n",
       "    .dataframe tbody tr th:only-of-type {\n",
       "        vertical-align: middle;\n",
       "    }\n",
       "\n",
       "    .dataframe tbody tr th {\n",
       "        vertical-align: top;\n",
       "    }\n",
       "\n",
       "    .dataframe thead th {\n",
       "        text-align: right;\n",
       "    }\n",
       "</style>\n",
       "<table border=\"1\" class=\"dataframe\">\n",
       "  <thead>\n",
       "    <tr style=\"text-align: right;\">\n",
       "      <th></th>\n",
       "      <th>YearofConstruction</th>\n",
       "      <th>GroundFloorArea(sq m)</th>\n",
       "      <th>TotalDeliveredEnergy</th>\n",
       "    </tr>\n",
       "  </thead>\n",
       "  <tbody>\n",
       "    <tr>\n",
       "      <th>0</th>\n",
       "      <td>0.474975</td>\n",
       "      <td>0.834647</td>\n",
       "      <td>0.760827</td>\n",
       "    </tr>\n",
       "    <tr>\n",
       "      <th>1</th>\n",
       "      <td>0.804805</td>\n",
       "      <td>0.939870</td>\n",
       "      <td>0.800123</td>\n",
       "    </tr>\n",
       "    <tr>\n",
       "      <th>2</th>\n",
       "      <td>0.509510</td>\n",
       "      <td>0.460497</td>\n",
       "      <td>0.557582</td>\n",
       "    </tr>\n",
       "    <tr>\n",
       "      <th>3</th>\n",
       "      <td>0.206206</td>\n",
       "      <td>0.739348</td>\n",
       "      <td>0.702097</td>\n",
       "    </tr>\n",
       "    <tr>\n",
       "      <th>4</th>\n",
       "      <td>0.374875</td>\n",
       "      <td>0.685611</td>\n",
       "      <td>0.809193</td>\n",
       "    </tr>\n",
       "    <tr>\n",
       "      <th>...</th>\n",
       "      <td>...</td>\n",
       "      <td>...</td>\n",
       "      <td>...</td>\n",
       "    </tr>\n",
       "    <tr>\n",
       "      <th>1867527</th>\n",
       "      <td>0.145646</td>\n",
       "      <td>0.226685</td>\n",
       "      <td>0.852013</td>\n",
       "    </tr>\n",
       "    <tr>\n",
       "      <th>1867528</th>\n",
       "      <td>0.124124</td>\n",
       "      <td>0.507119</td>\n",
       "      <td>0.962652</td>\n",
       "    </tr>\n",
       "    <tr>\n",
       "      <th>1867529</th>\n",
       "      <td>0.193694</td>\n",
       "      <td>0.581634</td>\n",
       "      <td>0.951299</td>\n",
       "    </tr>\n",
       "    <tr>\n",
       "      <th>1867530</th>\n",
       "      <td>0.070571</td>\n",
       "      <td>0.454537</td>\n",
       "      <td>0.956715</td>\n",
       "    </tr>\n",
       "    <tr>\n",
       "      <th>1867531</th>\n",
       "      <td>0.022022</td>\n",
       "      <td>0.041105</td>\n",
       "      <td>0.962129</td>\n",
       "    </tr>\n",
       "  </tbody>\n",
       "</table>\n",
       "<p>1867532 rows × 3 columns</p>\n",
       "</div>"
      ],
      "text/plain": [
       "         YearofConstruction  GroundFloorArea(sq m)  TotalDeliveredEnergy\n",
       "0                  0.474975               0.834647              0.760827\n",
       "1                  0.804805               0.939870              0.800123\n",
       "2                  0.509510               0.460497              0.557582\n",
       "3                  0.206206               0.739348              0.702097\n",
       "4                  0.374875               0.685611              0.809193\n",
       "...                     ...                    ...                   ...\n",
       "1867527            0.145646               0.226685              0.852013\n",
       "1867528            0.124124               0.507119              0.962652\n",
       "1867529            0.193694               0.581634              0.951299\n",
       "1867530            0.070571               0.454537              0.956715\n",
       "1867531            0.022022               0.041105              0.962129\n",
       "\n",
       "[1867532 rows x 3 columns]"
      ]
     },
     "execution_count": 131,
     "metadata": {},
     "output_type": "execute_result"
    }
   ],
   "source": [
    "X"
   ]
  },
  {
   "cell_type": "code",
   "execution_count": 132,
   "metadata": {},
   "outputs": [],
   "source": [
    "from sklearn.model_selection import train_test_split, cross_validate\n",
    "\n",
    "X_train, X_test, y_train, y_test = train_test_split(\n",
    "    X, y, test_size=0.3, random_state=2814)"
   ]
  },
  {
   "cell_type": "code",
   "execution_count": 133,
   "metadata": {},
   "outputs": [
    {
     "name": "stdout",
     "output_type": "stream",
     "text": [
      "              precision    recall  f1-score   support\n",
      "\n",
      "          A1       0.97      0.97      0.97     37197\n",
      "          A2       0.92      0.93      0.93     37439\n",
      "          A3       0.90      0.88      0.89     37622\n",
      "          B1       0.83      0.84      0.84     37188\n",
      "          B2       0.75      0.76      0.75     37580\n",
      "          B3       0.67      0.67      0.67     37519\n",
      "          C1       0.66      0.66      0.66     37182\n",
      "          C2       0.65      0.65      0.65     37260\n",
      "          C3       0.66      0.65      0.66     37263\n",
      "          D1       0.66      0.65      0.66     37164\n",
      "          D2       0.69      0.69      0.69     37439\n",
      "          E1       0.73      0.74      0.73     37441\n",
      "          E2       0.76      0.77      0.76     37432\n",
      "           F       0.78      0.79      0.79     37192\n",
      "           G       0.83      0.82      0.82     37342\n",
      "\n",
      "    accuracy                           0.76    560260\n",
      "   macro avg       0.76      0.76      0.76    560260\n",
      "weighted avg       0.76      0.76      0.76    560260\n",
      "\n"
     ]
    }
   ],
   "source": [
    "dt = DecisionTreeClassifier(criterion='entropy')\n",
    "dt.fit(X_train, y_train)\n",
    "\n",
    "y_pred = dt.predict(X_test)\n",
    "from sklearn.metrics import classification_report\n",
    "\n",
    "print(classification_report(y_test,y_pred))"
   ]
  },
  {
   "cell_type": "code",
   "execution_count": 134,
   "metadata": {},
   "outputs": [
    {
     "name": "stdout",
     "output_type": "stream",
     "text": [
      "              precision    recall  f1-score   support\n",
      "\n",
      "          A1       0.89      0.94      0.92     37197\n",
      "          A2       0.88      0.87      0.88     37439\n",
      "          A3       0.86      0.83      0.84     37622\n",
      "          B1       0.77      0.79      0.78     37188\n",
      "          B2       0.71      0.73      0.72     37580\n",
      "          B3       0.67      0.70      0.69     37519\n",
      "          C1       0.70      0.74      0.72     37182\n",
      "          C2       0.70      0.72      0.71     37260\n",
      "          C3       0.70      0.72      0.71     37263\n",
      "          D1       0.71      0.70      0.70     37164\n",
      "          D2       0.75      0.73      0.74     37439\n",
      "          E1       0.75      0.75      0.75     37441\n",
      "          E2       0.77      0.77      0.77     37432\n",
      "           F       0.80      0.78      0.79     37192\n",
      "           G       0.90      0.78      0.84     37342\n",
      "\n",
      "    accuracy                           0.77    560260\n",
      "   macro avg       0.77      0.77      0.77    560260\n",
      "weighted avg       0.77      0.77      0.77    560260\n",
      "\n"
     ]
    }
   ],
   "source": [
    "knn = KNeighborsClassifier()\n",
    "knn.fit(X_train, y_train)\n",
    "y_pred = knn.predict(X_test)\n",
    "print(classification_report(y_test,y_pred))"
   ]
  },
  {
   "cell_type": "code",
   "execution_count": 135,
   "metadata": {},
   "outputs": [
    {
     "name": "stdout",
     "output_type": "stream",
     "text": [
      "              precision    recall  f1-score   support\n",
      "\n",
      "          A1       0.96      0.98      0.97     37197\n",
      "          A2       0.95      0.92      0.93     37439\n",
      "          A3       0.91      0.90      0.90     37622\n",
      "          B1       0.85      0.85      0.85     37188\n",
      "          B2       0.78      0.79      0.78     37580\n",
      "          B3       0.71      0.75      0.73     37519\n",
      "          C1       0.72      0.76      0.74     37182\n",
      "          C2       0.73      0.74      0.73     37260\n",
      "          C3       0.73      0.74      0.73     37263\n",
      "          D1       0.74      0.73      0.73     37164\n",
      "          D2       0.77      0.76      0.77     37439\n",
      "          E1       0.79      0.80      0.79     37441\n",
      "          E2       0.82      0.82      0.82     37432\n",
      "           F       0.84      0.83      0.84     37192\n",
      "           G       0.92      0.82      0.87     37342\n",
      "\n",
      "    accuracy                           0.81    560260\n",
      "   macro avg       0.81      0.81      0.81    560260\n",
      "weighted avg       0.81      0.81      0.81    560260\n",
      "\n"
     ]
    }
   ],
   "source": [
    "rf = RandomForestClassifier()\n",
    "rf.fit(X_train, y_train)\n",
    "y_pred = rf.predict(X_test)\n",
    "print(classification_report(y_test,y_pred))"
   ]
  },
  {
   "cell_type": "code",
   "execution_count": 136,
   "metadata": {},
   "outputs": [
    {
     "name": "stdout",
     "output_type": "stream",
     "text": [
      "              precision    recall  f1-score   support\n",
      "\n",
      "          A1       0.49      0.53      0.51     37197\n",
      "          A2       0.48      0.46      0.47     37439\n",
      "          A3       0.53      0.56      0.55     37622\n",
      "          B1       0.50      0.46      0.48     37188\n",
      "          B2       0.33      0.32      0.32     37580\n",
      "          B3       0.27      0.26      0.27     37519\n",
      "          C1       0.25      0.28      0.27     37182\n",
      "          C2       0.30      0.33      0.31     37260\n",
      "          C3       0.33      0.35      0.34     37263\n",
      "          D1       0.24      0.28      0.26     37164\n",
      "          D2       0.23      0.23      0.23     37439\n",
      "          E1       0.19      0.14      0.16     37441\n",
      "          E2       0.20      0.14      0.16     37432\n",
      "           F       0.31      0.28      0.29     37192\n",
      "           G       0.49      0.67      0.56     37342\n",
      "\n",
      "    accuracy                           0.35    560260\n",
      "   macro avg       0.34      0.35      0.35    560260\n",
      "weighted avg       0.34      0.35      0.35    560260\n",
      "\n"
     ]
    }
   ],
   "source": [
    "lr = LogisticRegression(max_iter = 10000)\n",
    "lr.fit(X_train, y_train)\n",
    "y_pred = lr.predict(X_test)\n",
    "print(classification_report(y_test,y_pred))"
   ]
  },
  {
   "cell_type": "code",
   "execution_count": 137,
   "metadata": {},
   "outputs": [
    {
     "name": "stdout",
     "output_type": "stream",
     "text": [
      "              precision    recall  f1-score   support\n",
      "\n",
      "          A1       0.47      0.12      0.20     37197\n",
      "          A2       0.39      0.87      0.54     37439\n",
      "          A3       0.21      0.31      0.25     37622\n",
      "          B1       0.19      0.18      0.18     37188\n",
      "          B2       0.31      0.12      0.18     37580\n",
      "          B3       0.29      0.23      0.26     37519\n",
      "          C1       0.22      0.24      0.23     37182\n",
      "          C2       0.20      0.16      0.18     37260\n",
      "          C3       0.19      0.18      0.18     37263\n",
      "          D1       0.14      0.12      0.13     37164\n",
      "          D2       0.15      0.10      0.12     37439\n",
      "          E1       0.09      0.04      0.06     37441\n",
      "          E2       0.15      0.06      0.08     37432\n",
      "           F       0.17      0.19      0.18     37192\n",
      "           G       0.31      0.81      0.45     37342\n",
      "\n",
      "    accuracy                           0.25    560260\n",
      "   macro avg       0.23      0.25      0.21    560260\n",
      "weighted avg       0.23      0.25      0.21    560260\n",
      "\n"
     ]
    }
   ],
   "source": [
    "nb = GaussianNB()\n",
    "nb.fit(X_train, y_train)\n",
    "y_pred = nb.predict(X_test)\n",
    "print(classification_report(y_test,y_pred))"
   ]
  },
  {
   "cell_type": "code",
   "execution_count": 138,
   "metadata": {},
   "outputs": [
    {
     "name": "stdout",
     "output_type": "stream",
     "text": [
      "              precision    recall  f1-score   support\n",
      "\n",
      "          A1       0.91      0.92      0.91     37197\n",
      "          A2       0.88      0.88      0.88     37439\n",
      "          A3       0.84      0.83      0.84     37622\n",
      "          B1       0.74      0.74      0.74     37188\n",
      "          B2       0.65      0.65      0.65     37580\n",
      "          B3       0.60      0.60      0.60     37519\n",
      "          C1       0.61      0.61      0.61     37182\n",
      "          C2       0.60      0.60      0.60     37260\n",
      "          C3       0.60      0.60      0.60     37263\n",
      "          D1       0.60      0.60      0.60     37164\n",
      "          D2       0.63      0.63      0.63     37439\n",
      "          E1       0.65      0.65      0.65     37441\n",
      "          E2       0.67      0.67      0.67     37432\n",
      "           F       0.70      0.70      0.70     37192\n",
      "           G       0.79      0.77      0.78     37342\n",
      "\n",
      "    accuracy                           0.70    560260\n",
      "   macro avg       0.70      0.70      0.70    560260\n",
      "weighted avg       0.70      0.70      0.70    560260\n",
      "\n"
     ]
    }
   ],
   "source": [
    "et = ExtraTreeClassifier()\n",
    "et.fit(X_train, y_train)\n",
    "y_pred = et.predict(X_test)\n",
    "print(classification_report(y_test,y_pred))"
   ]
  },
  {
   "cell_type": "code",
   "execution_count": 139,
   "metadata": {},
   "outputs": [
    {
     "name": "stdout",
     "output_type": "stream",
     "text": [
      "              precision    recall  f1-score   support\n",
      "\n",
      "          A1       0.41      0.71      0.52     37197\n",
      "          A2       0.36      0.55      0.44     37439\n",
      "          A3       0.05      0.07      0.06     37622\n",
      "          B1       0.15      0.16      0.16     37188\n",
      "          B2       0.21      0.08      0.12     37580\n",
      "          B3       0.18      0.17      0.18     37519\n",
      "          C1       0.30      0.13      0.18     37182\n",
      "          C2       0.19      0.11      0.14     37260\n",
      "          C3       0.39      0.05      0.09     37263\n",
      "          D1       0.07      0.01      0.01     37164\n",
      "          D2       0.11      0.08      0.09     37439\n",
      "          E1       0.13      0.14      0.14     37441\n",
      "          E2       0.04      0.03      0.04     37432\n",
      "           F       0.14      0.24      0.17     37192\n",
      "           G       0.36      0.82      0.50     37342\n",
      "\n",
      "    accuracy                           0.22    560260\n",
      "   macro avg       0.21      0.22      0.19    560260\n",
      "weighted avg       0.21      0.22      0.19    560260\n",
      "\n"
     ]
    }
   ],
   "source": [
    "svc = LinearSVC()\n",
    "svc.fit(X_train, y_train)\n",
    "y_pred = svc.predict(X_test)\n",
    "print(classification_report(y_test,y_pred))"
   ]
  },
  {
   "cell_type": "code",
   "execution_count": null,
   "metadata": {},
   "outputs": [],
   "source": []
  }
 ],
 "metadata": {
  "kernelspec": {
   "display_name": "Python 3.10.5 64-bit ('masters_thesis')",
   "language": "python",
   "name": "python3"
  },
  "language_info": {
   "codemirror_mode": {
    "name": "ipython",
    "version": 3
   },
   "file_extension": ".py",
   "mimetype": "text/x-python",
   "name": "python",
   "nbconvert_exporter": "python",
   "pygments_lexer": "ipython3",
   "version": "3.10.5"
  },
  "orig_nbformat": 4,
  "vscode": {
   "interpreter": {
    "hash": "ecf9425976ca1d495f6ff342e01edb9b99409cdaa6c55166a5169aaab36ca909"
   }
  }
 },
 "nbformat": 4,
 "nbformat_minor": 2
}
