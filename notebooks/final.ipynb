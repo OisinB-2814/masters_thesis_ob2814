{
 "cells": [
  {
   "cell_type": "code",
   "execution_count": 1,
   "metadata": {},
   "outputs": [],
   "source": [
    "import pandas as pd\n",
    "import numpy as np\n",
    "import pandas as pd\n",
    "from sklearn.preprocessing import LabelEncoder\n",
    "from sklearn.experimental import enable_iterative_imputer\n",
    "from sklearn.impute import IterativeImputer\n",
    "from sklearn.ensemble import RandomForestRegressor, RandomForestClassifier\n",
    "import pandas as pd\n",
    "import random\n",
    "import numpy as np\n",
    "from sklearn.tree import DecisionTreeClassifier\n",
    "from sklearn.ensemble import RandomForestClassifier\n",
    "from sklearn.model_selection import RepeatedStratifiedKFold\n",
    "from sklearn.svm import LinearSVC\n",
    "from imblearn.pipeline import Pipeline\n",
    "from sklearn.neighbors import KNeighborsClassifier\n",
    "from sklearn.model_selection import GridSearchCV\n",
    "from imblearn.over_sampling import SMOTE\n",
    "from sklearn.ensemble import RandomForestClassifier\n",
    "from sklearn.linear_model import LogisticRegression\n",
    "from sklearn.linear_model import LogisticRegressionCV\n",
    "from sklearn.svm import SVC\n",
    "from sklearn.preprocessing import MinMaxScaler, StandardScaler, QuantileTransformer, RobustScaler\n",
    "from imblearn.combine import SMOTETomek\n",
    "from sklearn.model_selection import train_test_split, cross_validate\n",
    "from imblearn.under_sampling import TomekLinks\n",
    "from sklearn.metrics import classification_report\n",
    "import matplotlib.pyplot as plt\n",
    "from sklearn.model_selection import cross_val_score\n",
    "from yellowbrick.classifier.rocauc import roc_auc\n",
    "from sklearn.preprocessing import OneHotEncoder\n",
    "from sklearn.compose import make_column_transformer\n",
    "from yellowbrick.classifier import ROCAUC\n",
    "from imblearn.over_sampling import SMOTENC\n",
    "from sklearn.metrics import roc_curve, auc\n",
    "random.seed(2814)"
   ]
  },
  {
   "cell_type": "code",
   "execution_count": 2,
   "metadata": {},
   "outputs": [],
   "source": [
    "df = pd.read_csv('../data/processed/3_seai_miss_forest_imputation.csv')\n",
    "df.drop(['BerRating', 'CO2Rating'], axis = 1, inplace=True)\n",
    "df['NoOfSidesSheltered'] = df['NoOfSidesSheltered'].replace(0, 'zero')\n",
    "df['NoOfSidesSheltered'] = df['NoOfSidesSheltered'].replace(1, 'one')\n",
    "df['NoOfSidesSheltered'] = df['NoOfSidesSheltered'].replace(2, 'two')\n",
    "df['NoOfSidesSheltered'] = df['NoOfSidesSheltered'].replace(3, 'three')\n",
    "df['NoOfSidesSheltered'] = df['NoOfSidesSheltered'].replace(4, 'four')\n",
    "df['NoOfSidesSheltered'] = df['NoOfSidesSheltered'].astype('category')"
   ]
  },
  {
   "cell_type": "markdown",
   "metadata": {},
   "source": [
    "df['EnergyRating'] = df['EnergyRating'].replace('A1', 'A')\n",
    "df['EnergyRating'] = df['EnergyRating'].replace('A2', 'A')\n",
    "df['EnergyRating'] = df['EnergyRating'].replace('A3', 'A')\n",
    "df['EnergyRating'] = df['EnergyRating'].replace('B1', 'B')\n",
    "df['EnergyRating'] = df['EnergyRating'].replace('B2', 'B')\n",
    "df['EnergyRating'] = df['EnergyRating'].replace('B3', 'B')\n",
    "df['EnergyRating'] = df['EnergyRating'].replace('C1', 'C')\n",
    "df['EnergyRating'] = df['EnergyRating'].replace('C2', 'C')\n",
    "df['EnergyRating'] = df['EnergyRating'].replace('C3', 'C')\n",
    "df['EnergyRating'] = df['EnergyRating'].replace('D1', 'D')\n",
    "df['EnergyRating'] = df['EnergyRating'].replace('D2', 'D')\n",
    "df['EnergyRating'] = df['EnergyRating'].replace('E1', 'E')\n",
    "df['EnergyRating'] = df['EnergyRating'].replace('E2', 'E')\n",
    "df['EnergyRating'] = df['EnergyRating'].replace('F', 'F')\n",
    "df['EnergyRating'] = df['EnergyRating'].replace('G', 'G')"
   ]
  },
  {
   "cell_type": "code",
   "execution_count": 3,
   "metadata": {},
   "outputs": [],
   "source": [
    "new_cols = [col for col in df.columns if col != 'EnergyRating'] + ['EnergyRating']\n",
    "df = df[new_cols]\n",
    "del(new_cols)"
   ]
  },
  {
   "cell_type": "code",
   "execution_count": 4,
   "metadata": {},
   "outputs": [
    {
     "data": {
      "text/plain": [
       "C2    124530\n",
       "C3    118185\n",
       "D1    114352\n",
       "C1    113782\n",
       "D2     98187\n",
       "B3     77970\n",
       "G      66815\n",
       "E1     56631\n",
       "A3     51193\n",
       "F      46347\n",
       "E2     44780\n",
       "A2     43242\n",
       "B2     32814\n",
       "B1     15261\n",
       "A1      1258\n",
       "Name: EnergyRating, dtype: int64"
      ]
     },
     "execution_count": 4,
     "metadata": {},
     "output_type": "execute_result"
    }
   ],
   "source": [
    "df.EnergyRating.value_counts()"
   ]
  },
  {
   "cell_type": "code",
   "execution_count": 5,
   "metadata": {},
   "outputs": [],
   "source": [
    "df_copy = df.copy()"
   ]
  },
  {
   "cell_type": "code",
   "execution_count": 6,
   "metadata": {},
   "outputs": [],
   "source": [
    "X = df.iloc[:, :-1] # Independent Variables\n",
    "y = df.iloc[:, -1] # Dependent Variables"
   ]
  },
  {
   "cell_type": "code",
   "execution_count": 7,
   "metadata": {},
   "outputs": [],
   "source": [
    "numerical = [\n",
    "    'YearofConstruction'\n",
    "    ,'GroundFloorArea(sq m)'\n",
    "    ,'TotalDeliveredEnergy'\n",
    "    ,'InsulationThickness'\n",
    "]\n",
    "\n",
    "X[numerical] = MinMaxScaler().fit_transform(X[numerical])"
   ]
  },
  {
   "cell_type": "code",
   "execution_count": 8,
   "metadata": {},
   "outputs": [],
   "source": [
    "# Train-Test Split\n",
    "X_train, X_test, y_train, y_test = train_test_split(\n",
    "    X, y, test_size=0.25, stratify=y,  random_state=2814)"
   ]
  },
  {
   "cell_type": "code",
   "execution_count": 9,
   "metadata": {},
   "outputs": [],
   "source": [
    "# Create the oversampler\n",
    "smotenc = SMOTENC([2,4,5,6,7,8,9,10],random_state = 2814)\n",
    "X_train, y_train = smotenc.fit_resample(X_train, y_train)"
   ]
  },
  {
   "cell_type": "code",
   "execution_count": 10,
   "metadata": {},
   "outputs": [],
   "source": [
    "# https://stackoverflow.com/a/52935270/5923619\n",
    "# One Hot Encodes our categorical feature and binds it to the original dataset\n",
    "def encode_and_bind(original_dataframe, feature_to_encode):\n",
    "    dummies = pd.get_dummies(original_dataframe[[feature_to_encode]])\n",
    "    res = pd.concat([original_dataframe, dummies], axis=1)\n",
    "    res = res.drop([feature_to_encode], axis=1)\n",
    "    return(res) "
   ]
  },
  {
   "cell_type": "code",
   "execution_count": 11,
   "metadata": {},
   "outputs": [],
   "source": [
    "# One Hot Encode all of our categorical features\n",
    "categorical = [ \n",
    "    'CountyName'\n",
    "    ,'DwellingTypeDescr'\n",
    "    ,'MainSpaceHeatingFuel'\n",
    "    ,'MainWaterHeatingFuel'\n",
    "    ,'VentilationMethod'\n",
    "    ,'StructureType'\n",
    "    ,'InsulationType'\n",
    "    ,'NoOfSidesSheltered'\n",
    "]\n",
    "\n",
    "for feature in categorical:\n",
    "    X_train = encode_and_bind(X_train, feature)"
   ]
  },
  {
   "cell_type": "code",
   "execution_count": 12,
   "metadata": {},
   "outputs": [],
   "source": [
    "# One Hot Encode all of our categorical features\n",
    "for feature in categorical:\n",
    "    X_test = encode_and_bind(X_test, feature)"
   ]
  },
  {
   "cell_type": "markdown",
   "metadata": {},
   "source": [
    "# Define SMOTE-Tomek Links\n",
    "resample=SMOTETomek(tomek=TomekLinks(sampling_strategy='majority'), smote=SMOTE(k_neighbors=6), random_state=2814)\n",
    "X_train, y_train = resample.fit_resample(X_train, y_train)"
   ]
  },
  {
   "cell_type": "code",
   "execution_count": 14,
   "metadata": {},
   "outputs": [],
   "source": [
    "X_test = X_test.drop('MainWaterHeatingFuel_Electricity - On-peak Night-Ra', axis=1)\n",
    "X_train = X_train.drop('MainSpaceHeatingFuel_Bioethanol from renewable sour', axis=1)\n",
    "X_train = X_train.drop('MainWaterHeatingFuel_None', axis=1)"
   ]
  },
  {
   "cell_type": "code",
   "execution_count": null,
   "metadata": {},
   "outputs": [],
   "source": [
    "y_train.value_counts()"
   ]
  },
  {
   "cell_type": "code",
   "execution_count": 16,
   "metadata": {},
   "outputs": [
    {
     "name": "stdout",
     "output_type": "stream",
     "text": [
      "              precision    recall  f1-score   support\n",
      "\n",
      "          A1       0.37      0.62      0.46       314\n",
      "          A2       0.90      0.91      0.90     10810\n",
      "          A3       0.90      0.87      0.88     12798\n",
      "          B1       0.53      0.70      0.60      3815\n",
      "          B2       0.60      0.67      0.63      8203\n",
      "          B3       0.73      0.71      0.72     19493\n",
      "          C1       0.77      0.75      0.76     28446\n",
      "          C2       0.76      0.75      0.75     31133\n",
      "          C3       0.75      0.74      0.74     29546\n",
      "          D1       0.78      0.77      0.78     28588\n",
      "          D2       0.81      0.79      0.80     24547\n",
      "          E1       0.74      0.77      0.75     14158\n",
      "          E2       0.75      0.79      0.77     11195\n",
      "           F       0.81      0.83      0.82     11587\n",
      "           G       0.95      0.93      0.94     16704\n",
      "\n",
      "    accuracy                           0.78    251337\n",
      "   macro avg       0.74      0.77      0.76    251337\n",
      "weighted avg       0.78      0.78      0.78    251337\n",
      "\n"
     ]
    }
   ],
   "source": [
    "# Modelling\n",
    "dt = DecisionTreeClassifier()\n",
    "dt.fit(X_train, y_train)\n",
    "\n",
    "y_pred = dt.predict(X_test)\n",
    "print(classification_report(y_test,y_pred))"
   ]
  },
  {
   "cell_type": "code",
   "execution_count": 17,
   "metadata": {},
   "outputs": [
    {
     "name": "stdout",
     "output_type": "stream",
     "text": [
      "              precision    recall  f1-score   support\n",
      "\n",
      "          A1       0.16      0.51      0.24       314\n",
      "          A2       0.82      0.84      0.83     10810\n",
      "          A3       0.78      0.76      0.77     12798\n",
      "          B1       0.23      0.45      0.30      3815\n",
      "          B2       0.23      0.40      0.29      8203\n",
      "          B3       0.28      0.36      0.32     19493\n",
      "          C1       0.32      0.31      0.31     28446\n",
      "          C2       0.30      0.25      0.28     31133\n",
      "          C3       0.28      0.23      0.25     29546\n",
      "          D1       0.28      0.22      0.25     28588\n",
      "          D2       0.26      0.21      0.23     24547\n",
      "          E1       0.18      0.22      0.20     14158\n",
      "          E2       0.17      0.23      0.20     11195\n",
      "           F       0.22      0.24      0.23     11587\n",
      "           G       0.59      0.51      0.55     16704\n",
      "\n",
      "    accuracy                           0.33    251337\n",
      "   macro avg       0.34      0.38      0.35    251337\n",
      "weighted avg       0.34      0.33      0.33    251337\n",
      "\n"
     ]
    }
   ],
   "source": [
    "knn = KNeighborsClassifier()\n",
    "knn.fit(X_train, y_train)\n",
    "y_pred = knn.predict(X_test)\n",
    "print(classification_report(y_test,y_pred))"
   ]
  },
  {
   "cell_type": "code",
   "execution_count": 18,
   "metadata": {},
   "outputs": [
    {
     "name": "stdout",
     "output_type": "stream",
     "text": [
      "              precision    recall  f1-score   support\n",
      "\n",
      "          A1       0.39      0.59      0.47       314\n",
      "          A2       0.91      0.91      0.91     10810\n",
      "          A3       0.90      0.88      0.89     12798\n",
      "          B1       0.57      0.64      0.60      3815\n",
      "          B2       0.61      0.60      0.60      8203\n",
      "          B3       0.69      0.67      0.68     19493\n",
      "          C1       0.70      0.69      0.70     28446\n",
      "          C2       0.68      0.67      0.68     31133\n",
      "          C3       0.65      0.65      0.65     29546\n",
      "          D1       0.67      0.67      0.67     28588\n",
      "          D2       0.68      0.69      0.68     24547\n",
      "          E1       0.59      0.59      0.59     14158\n",
      "          E2       0.58      0.58      0.58     11195\n",
      "           F       0.64      0.67      0.65     11587\n",
      "           G       0.86      0.86      0.86     16704\n",
      "\n",
      "    accuracy                           0.70    251337\n",
      "   macro avg       0.68      0.69      0.68    251337\n",
      "weighted avg       0.70      0.70      0.70    251337\n",
      "\n"
     ]
    }
   ],
   "source": [
    "rf = RandomForestClassifier(criterion='entropy')\n",
    "rf.fit(X_train, y_train)\n",
    "y_pred = rf.predict(X_test)\n",
    "print(classification_report(y_test, y_pred))"
   ]
  },
  {
   "cell_type": "code",
   "execution_count": 19,
   "metadata": {},
   "outputs": [],
   "source": [
    "lr = LogisticRegression(max_iter=10000)\n",
    "lr.fit(X_train, y_train)\n",
    "y_pred = lr.predict(X_test)\n",
    "print(classification_report(y_test, y_pred))"
   ]
  },
  {
   "cell_type": "markdown",
   "metadata": {},
   "source": [
    "from sklearn.preprocessing import OneHotEncoder\n",
    "\n",
    "\n",
    "categorical = [ \n",
    "    'CountyName'\n",
    "    ,'DwellingTypeDescr'\n",
    "    ,'MainSpaceHeatingFuel'\n",
    "    ,'MainWaterHeatingFuel'\n",
    "    ,'VentilationMethod'\n",
    "    ,'StructureType'\n",
    "    ,'InsulationType'\n",
    "]\n",
    "\n",
    "numerical = [\n",
    "    'YearofConstruction'\n",
    "    ,'GroundFloorArea(sq m)'\n",
    "    ,'TotalDeliveredEnergy'\n",
    "]\n",
    "\n",
    "df[categorical] = df[categorical].apply(lambda series: pd.Series(\n",
    "OneHotEncoder().fit_transform(series[series.notnull()]),\n",
    "index=series[series.notnull()].index\n",
    "))"
   ]
  }
 ],
 "metadata": {
  "kernelspec": {
   "display_name": "Python 3.10.5 64-bit ('masters_thesis')",
   "language": "python",
   "name": "python3"
  },
  "language_info": {
   "codemirror_mode": {
    "name": "ipython",
    "version": 3
   },
   "file_extension": ".py",
   "mimetype": "text/x-python",
   "name": "python",
   "nbconvert_exporter": "python",
   "pygments_lexer": "ipython3",
   "version": "3.10.5"
  },
  "orig_nbformat": 4,
  "vscode": {
   "interpreter": {
    "hash": "ecf9425976ca1d495f6ff342e01edb9b99409cdaa6c55166a5169aaab36ca909"
   }
  }
 },
 "nbformat": 4,
 "nbformat_minor": 2
}
