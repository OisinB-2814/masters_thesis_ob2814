{
 "cells": [
  {
   "cell_type": "code",
   "execution_count": 2,
   "metadata": {},
   "outputs": [],
   "source": [
    "import pandas as pd\n",
    "import random\n",
    "import numpy as np\n",
    "from sklearn.tree import DecisionTreeClassifier\n",
    "from sklearn.ensemble import RandomForestClassifier\n",
    "from sklearn.model_selection import RepeatedStratifiedKFold\n",
    "from sklearn.svm import LinearSVC\n",
    "from imblearn.pipeline import Pipeline\n",
    "from sklearn.neighbors import KNeighborsClassifier\n",
    "from sklearn.model_selection import GridSearchCV\n",
    "from imblearn.over_sampling import SMOTE\n",
    "from sklearn.ensemble import RandomForestClassifier\n",
    "from sklearn.linear_model import LogisticRegression\n",
    "from sklearn.linear_model import LogisticRegressionCV\n",
    "from sklearn.svm import SVC\n",
    "from sklearn.preprocessing import MinMaxScaler, StandardScaler, QuantileTransformer, RobustScaler\n",
    "from imblearn.combine import SMOTETomek\n",
    "from sklearn.model_selection import train_test_split, cross_validate\n",
    "from imblearn.under_sampling import TomekLinks\n",
    "from sklearn.metrics import classification_report\n",
    "import matplotlib.pyplot as plt\n",
    "from sklearn.model_selection import cross_val_score\n",
    "from yellowbrick.classifier.rocauc import roc_auc\n",
    "from sklearn.preprocessing import OneHotEncoder\n",
    "from sklearn.compose import make_column_transformer\n",
    "from yellowbrick.classifier import ROCAUC\n",
    "from sklearn.metrics import roc_curve, auc\n",
    "random.seed(2814)"
   ]
  },
  {
   "cell_type": "code",
   "execution_count": 3,
   "metadata": {},
   "outputs": [],
   "source": [
    "df_dropped_na = pd.read_csv('../data/interim/1_seai_dropped_na.csv')\n",
    "df_mean_mode_impute = pd.read_csv('../data/interim/2_seai_mean_mode_imputation.csv')\n",
    "df_miss_forest_impute = pd.read_csv('../data/processed/3_seai_miss_forest_imputation.csv')"
   ]
  },
  {
   "cell_type": "code",
   "execution_count": 4,
   "metadata": {},
   "outputs": [],
   "source": [
    "df_dropped_na = df_dropped_na.drop('BerRating', axis = 1)\n",
    "df_dropped_na = df_dropped_na.drop('CO2Rating', axis = 1)\n",
    "df_dropped_na['NoOfSidesSheltered'] = df_dropped_na['NoOfSidesSheltered'].astype('category')"
   ]
  },
  {
   "cell_type": "markdown",
   "metadata": {},
   "source": [
    "df_dropped_na = df_dropped_na[['YearofConstruction', 'GroundFloorArea(sq m)', 'TotalDeliveredEnergy', 'EnergyRating']]\n",
    "df_mean_mode_impute = df_mean_mode_impute[['YearofConstruction', 'GroundFloorArea(sq m)', 'TotalDeliveredEnergy', 'EnergyRating']]\n",
    "df_miss_forest_impute = df_miss_forest_impute[['YearofConstruction', 'GroundFloorArea(sq m)', 'TotalDeliveredEnergy', 'EnergyRating']]"
   ]
  },
  {
   "cell_type": "code",
   "execution_count": 48,
   "metadata": {},
   "outputs": [],
   "source": [
    "# https://stackoverflow.com/a/52935270/5923619\n",
    "# One Hot Encodes our categorical feature and binds it to the original dataset\n",
    "def encode_and_bind(original_dataframe, feature_to_encode):\n",
    "    dummies = pd.get_dummies(original_dataframe[[feature_to_encode]])\n",
    "    res = pd.concat([original_dataframe, dummies], axis=1)\n",
    "    return(res)\n",
    "\n",
    "\n",
    "# One Hot Encode all of our categorical features\n",
    "df_dropped_na = encode_and_bind(df_dropped_na, 'CountyName')\n",
    "df_dropped_na = encode_and_bind(df_dropped_na, 'DwellingTypeDescr')\n",
    "df_dropped_na = encode_and_bind(df_dropped_na, 'MainSpaceHeatingFuel')\n",
    "df_dropped_na = encode_and_bind(df_dropped_na, 'MainWaterHeatingFuel')\n",
    "df_dropped_na = encode_and_bind(df_dropped_na, 'VentilationMethod')\n",
    "df_dropped_na = encode_and_bind(df_dropped_na, 'StructureType')\n",
    "df_dropped_na = encode_and_bind(df_dropped_na, 'InsulationType')\n",
    "df_dropped_na = encode_and_bind(df_dropped_na, 'NoOfSidesSheltered')\n",
    "\n",
    "# Dropping the unencoded columns for now\n",
    "df_dropped_na = df_dropped_na.drop(['CountyName', 'NoOfSidesSheltered','DwellingTypeDescr', 'MainSpaceHeatingFuel', 'MainWaterHeatingFuel', 'VentilationMethod', 'StructureType','InsulationType'], axis = 1)"
   ]
  },
  {
   "cell_type": "code",
   "execution_count": 44,
   "metadata": {},
   "outputs": [
    {
     "data": {
      "text/html": [
       "<div>\n",
       "<style scoped>\n",
       "    .dataframe tbody tr th:only-of-type {\n",
       "        vertical-align: middle;\n",
       "    }\n",
       "\n",
       "    .dataframe tbody tr th {\n",
       "        vertical-align: top;\n",
       "    }\n",
       "\n",
       "    .dataframe thead th {\n",
       "        text-align: right;\n",
       "    }\n",
       "</style>\n",
       "<table border=\"1\" class=\"dataframe\">\n",
       "  <thead>\n",
       "    <tr style=\"text-align: right;\">\n",
       "      <th></th>\n",
       "      <th>YearofConstruction</th>\n",
       "      <th>EnergyRating</th>\n",
       "      <th>GroundFloorArea(sq m)</th>\n",
       "      <th>CO2Rating</th>\n",
       "      <th>InsulationThickness</th>\n",
       "      <th>TotalDeliveredEnergy</th>\n",
       "      <th>CountyName_Carlow</th>\n",
       "      <th>CountyName_Cavan</th>\n",
       "      <th>CountyName_Clare</th>\n",
       "      <th>CountyName_Cork</th>\n",
       "      <th>...</th>\n",
       "      <th>StructureType_Masonry</th>\n",
       "      <th>StructureType_Timber or Steel Frame</th>\n",
       "      <th>InsulationType_Factory Insulated</th>\n",
       "      <th>InsulationType_Loose Jacket</th>\n",
       "      <th>InsulationType_None</th>\n",
       "      <th>NoOfSidesSheltered_0.0</th>\n",
       "      <th>NoOfSidesSheltered_1.0</th>\n",
       "      <th>NoOfSidesSheltered_2.0</th>\n",
       "      <th>NoOfSidesSheltered_3.0</th>\n",
       "      <th>NoOfSidesSheltered_4.0</th>\n",
       "    </tr>\n",
       "  </thead>\n",
       "  <tbody>\n",
       "    <tr>\n",
       "      <th>0</th>\n",
       "      <td>1997</td>\n",
       "      <td>C2</td>\n",
       "      <td>171.19</td>\n",
       "      <td>45.53</td>\n",
       "      <td>20.0</td>\n",
       "      <td>25474.522</td>\n",
       "      <td>0</td>\n",
       "      <td>0</td>\n",
       "      <td>0</td>\n",
       "      <td>0</td>\n",
       "      <td>...</td>\n",
       "      <td>1</td>\n",
       "      <td>0</td>\n",
       "      <td>1</td>\n",
       "      <td>0</td>\n",
       "      <td>0</td>\n",
       "      <td>0</td>\n",
       "      <td>1</td>\n",
       "      <td>0</td>\n",
       "      <td>0</td>\n",
       "      <td>0</td>\n",
       "    </tr>\n",
       "    <tr>\n",
       "      <th>1</th>\n",
       "      <td>2010</td>\n",
       "      <td>B3</td>\n",
       "      <td>242.93</td>\n",
       "      <td>35.66</td>\n",
       "      <td>50.0</td>\n",
       "      <td>27654.474</td>\n",
       "      <td>0</td>\n",
       "      <td>0</td>\n",
       "      <td>0</td>\n",
       "      <td>0</td>\n",
       "      <td>...</td>\n",
       "      <td>1</td>\n",
       "      <td>0</td>\n",
       "      <td>1</td>\n",
       "      <td>0</td>\n",
       "      <td>0</td>\n",
       "      <td>0</td>\n",
       "      <td>0</td>\n",
       "      <td>1</td>\n",
       "      <td>0</td>\n",
       "      <td>0</td>\n",
       "    </tr>\n",
       "    <tr>\n",
       "      <th>2</th>\n",
       "      <td>1999</td>\n",
       "      <td>C3</td>\n",
       "      <td>99.38</td>\n",
       "      <td>44.65</td>\n",
       "      <td>20.0</td>\n",
       "      <td>17000.038</td>\n",
       "      <td>0</td>\n",
       "      <td>0</td>\n",
       "      <td>0</td>\n",
       "      <td>0</td>\n",
       "      <td>...</td>\n",
       "      <td>1</td>\n",
       "      <td>0</td>\n",
       "      <td>0</td>\n",
       "      <td>1</td>\n",
       "      <td>0</td>\n",
       "      <td>0</td>\n",
       "      <td>0</td>\n",
       "      <td>0</td>\n",
       "      <td>1</td>\n",
       "      <td>0</td>\n",
       "    </tr>\n",
       "    <tr>\n",
       "      <th>3</th>\n",
       "      <td>1985</td>\n",
       "      <td>D2</td>\n",
       "      <td>127.16</td>\n",
       "      <td>55.07</td>\n",
       "      <td>100.0</td>\n",
       "      <td>28182.863</td>\n",
       "      <td>0</td>\n",
       "      <td>0</td>\n",
       "      <td>0</td>\n",
       "      <td>0</td>\n",
       "      <td>...</td>\n",
       "      <td>1</td>\n",
       "      <td>0</td>\n",
       "      <td>0</td>\n",
       "      <td>1</td>\n",
       "      <td>0</td>\n",
       "      <td>0</td>\n",
       "      <td>0</td>\n",
       "      <td>1</td>\n",
       "      <td>0</td>\n",
       "      <td>0</td>\n",
       "    </tr>\n",
       "    <tr>\n",
       "      <th>4</th>\n",
       "      <td>1975</td>\n",
       "      <td>D1</td>\n",
       "      <td>88.57</td>\n",
       "      <td>62.68</td>\n",
       "      <td>0.0</td>\n",
       "      <td>18470.029</td>\n",
       "      <td>0</td>\n",
       "      <td>0</td>\n",
       "      <td>0</td>\n",
       "      <td>0</td>\n",
       "      <td>...</td>\n",
       "      <td>1</td>\n",
       "      <td>0</td>\n",
       "      <td>1</td>\n",
       "      <td>0</td>\n",
       "      <td>0</td>\n",
       "      <td>0</td>\n",
       "      <td>0</td>\n",
       "      <td>1</td>\n",
       "      <td>0</td>\n",
       "      <td>0</td>\n",
       "    </tr>\n",
       "    <tr>\n",
       "      <th>...</th>\n",
       "      <td>...</td>\n",
       "      <td>...</td>\n",
       "      <td>...</td>\n",
       "      <td>...</td>\n",
       "      <td>...</td>\n",
       "      <td>...</td>\n",
       "      <td>...</td>\n",
       "      <td>...</td>\n",
       "      <td>...</td>\n",
       "      <td>...</td>\n",
       "      <td>...</td>\n",
       "      <td>...</td>\n",
       "      <td>...</td>\n",
       "      <td>...</td>\n",
       "      <td>...</td>\n",
       "      <td>...</td>\n",
       "      <td>...</td>\n",
       "      <td>...</td>\n",
       "      <td>...</td>\n",
       "      <td>...</td>\n",
       "      <td>...</td>\n",
       "    </tr>\n",
       "    <tr>\n",
       "      <th>378504</th>\n",
       "      <td>1979</td>\n",
       "      <td>D1</td>\n",
       "      <td>81.74</td>\n",
       "      <td>51.64</td>\n",
       "      <td>0.0</td>\n",
       "      <td>16038.841</td>\n",
       "      <td>0</td>\n",
       "      <td>0</td>\n",
       "      <td>0</td>\n",
       "      <td>0</td>\n",
       "      <td>...</td>\n",
       "      <td>1</td>\n",
       "      <td>0</td>\n",
       "      <td>0</td>\n",
       "      <td>0</td>\n",
       "      <td>1</td>\n",
       "      <td>0</td>\n",
       "      <td>0</td>\n",
       "      <td>1</td>\n",
       "      <td>0</td>\n",
       "      <td>0</td>\n",
       "    </tr>\n",
       "    <tr>\n",
       "      <th>378505</th>\n",
       "      <td>1996</td>\n",
       "      <td>C3</td>\n",
       "      <td>78.81</td>\n",
       "      <td>50.29</td>\n",
       "      <td>35.0</td>\n",
       "      <td>13208.402</td>\n",
       "      <td>0</td>\n",
       "      <td>0</td>\n",
       "      <td>0</td>\n",
       "      <td>0</td>\n",
       "      <td>...</td>\n",
       "      <td>1</td>\n",
       "      <td>0</td>\n",
       "      <td>1</td>\n",
       "      <td>0</td>\n",
       "      <td>0</td>\n",
       "      <td>0</td>\n",
       "      <td>0</td>\n",
       "      <td>1</td>\n",
       "      <td>0</td>\n",
       "      <td>0</td>\n",
       "    </tr>\n",
       "    <tr>\n",
       "      <th>378506</th>\n",
       "      <td>1990</td>\n",
       "      <td>D1</td>\n",
       "      <td>118.09</td>\n",
       "      <td>62.88</td>\n",
       "      <td>35.0</td>\n",
       "      <td>25420.303</td>\n",
       "      <td>0</td>\n",
       "      <td>0</td>\n",
       "      <td>0</td>\n",
       "      <td>0</td>\n",
       "      <td>...</td>\n",
       "      <td>1</td>\n",
       "      <td>0</td>\n",
       "      <td>1</td>\n",
       "      <td>0</td>\n",
       "      <td>0</td>\n",
       "      <td>1</td>\n",
       "      <td>0</td>\n",
       "      <td>0</td>\n",
       "      <td>0</td>\n",
       "      <td>0</td>\n",
       "    </tr>\n",
       "    <tr>\n",
       "      <th>378507</th>\n",
       "      <td>1998</td>\n",
       "      <td>D2</td>\n",
       "      <td>114.30</td>\n",
       "      <td>69.24</td>\n",
       "      <td>60.0</td>\n",
       "      <td>26317.076</td>\n",
       "      <td>0</td>\n",
       "      <td>0</td>\n",
       "      <td>0</td>\n",
       "      <td>0</td>\n",
       "      <td>...</td>\n",
       "      <td>1</td>\n",
       "      <td>0</td>\n",
       "      <td>0</td>\n",
       "      <td>1</td>\n",
       "      <td>0</td>\n",
       "      <td>0</td>\n",
       "      <td>1</td>\n",
       "      <td>0</td>\n",
       "      <td>0</td>\n",
       "      <td>0</td>\n",
       "    </tr>\n",
       "    <tr>\n",
       "      <th>378508</th>\n",
       "      <td>2003</td>\n",
       "      <td>C2</td>\n",
       "      <td>104.38</td>\n",
       "      <td>38.18</td>\n",
       "      <td>25.0</td>\n",
       "      <td>16239.328</td>\n",
       "      <td>1</td>\n",
       "      <td>0</td>\n",
       "      <td>0</td>\n",
       "      <td>0</td>\n",
       "      <td>...</td>\n",
       "      <td>0</td>\n",
       "      <td>1</td>\n",
       "      <td>1</td>\n",
       "      <td>0</td>\n",
       "      <td>0</td>\n",
       "      <td>0</td>\n",
       "      <td>0</td>\n",
       "      <td>1</td>\n",
       "      <td>0</td>\n",
       "      <td>0</td>\n",
       "    </tr>\n",
       "  </tbody>\n",
       "</table>\n",
       "<p>378509 rows × 97 columns</p>\n",
       "</div>"
      ],
      "text/plain": [
       "        YearofConstruction EnergyRating  GroundFloorArea(sq m)  CO2Rating  \\\n",
       "0                     1997           C2                 171.19      45.53   \n",
       "1                     2010           B3                 242.93      35.66   \n",
       "2                     1999           C3                  99.38      44.65   \n",
       "3                     1985           D2                 127.16      55.07   \n",
       "4                     1975           D1                  88.57      62.68   \n",
       "...                    ...          ...                    ...        ...   \n",
       "378504                1979           D1                  81.74      51.64   \n",
       "378505                1996           C3                  78.81      50.29   \n",
       "378506                1990           D1                 118.09      62.88   \n",
       "378507                1998           D2                 114.30      69.24   \n",
       "378508                2003           C2                 104.38      38.18   \n",
       "\n",
       "        InsulationThickness  TotalDeliveredEnergy  CountyName_Carlow  \\\n",
       "0                      20.0             25474.522                  0   \n",
       "1                      50.0             27654.474                  0   \n",
       "2                      20.0             17000.038                  0   \n",
       "3                     100.0             28182.863                  0   \n",
       "4                       0.0             18470.029                  0   \n",
       "...                     ...                   ...                ...   \n",
       "378504                  0.0             16038.841                  0   \n",
       "378505                 35.0             13208.402                  0   \n",
       "378506                 35.0             25420.303                  0   \n",
       "378507                 60.0             26317.076                  0   \n",
       "378508                 25.0             16239.328                  1   \n",
       "\n",
       "        CountyName_Cavan  CountyName_Clare  CountyName_Cork  ...  \\\n",
       "0                      0                 0                0  ...   \n",
       "1                      0                 0                0  ...   \n",
       "2                      0                 0                0  ...   \n",
       "3                      0                 0                0  ...   \n",
       "4                      0                 0                0  ...   \n",
       "...                  ...               ...              ...  ...   \n",
       "378504                 0                 0                0  ...   \n",
       "378505                 0                 0                0  ...   \n",
       "378506                 0                 0                0  ...   \n",
       "378507                 0                 0                0  ...   \n",
       "378508                 0                 0                0  ...   \n",
       "\n",
       "        StructureType_Masonry  StructureType_Timber or Steel Frame  \\\n",
       "0                           1                                    0   \n",
       "1                           1                                    0   \n",
       "2                           1                                    0   \n",
       "3                           1                                    0   \n",
       "4                           1                                    0   \n",
       "...                       ...                                  ...   \n",
       "378504                      1                                    0   \n",
       "378505                      1                                    0   \n",
       "378506                      1                                    0   \n",
       "378507                      1                                    0   \n",
       "378508                      0                                    1   \n",
       "\n",
       "        InsulationType_Factory Insulated  InsulationType_Loose Jacket  \\\n",
       "0                                      1                            0   \n",
       "1                                      1                            0   \n",
       "2                                      0                            1   \n",
       "3                                      0                            1   \n",
       "4                                      1                            0   \n",
       "...                                  ...                          ...   \n",
       "378504                                 0                            0   \n",
       "378505                                 1                            0   \n",
       "378506                                 1                            0   \n",
       "378507                                 0                            1   \n",
       "378508                                 1                            0   \n",
       "\n",
       "        InsulationType_None  NoOfSidesSheltered_0.0  NoOfSidesSheltered_1.0  \\\n",
       "0                         0                       0                       1   \n",
       "1                         0                       0                       0   \n",
       "2                         0                       0                       0   \n",
       "3                         0                       0                       0   \n",
       "4                         0                       0                       0   \n",
       "...                     ...                     ...                     ...   \n",
       "378504                    1                       0                       0   \n",
       "378505                    0                       0                       0   \n",
       "378506                    0                       1                       0   \n",
       "378507                    0                       0                       1   \n",
       "378508                    0                       0                       0   \n",
       "\n",
       "        NoOfSidesSheltered_2.0  NoOfSidesSheltered_3.0  NoOfSidesSheltered_4.0  \n",
       "0                            0                       0                       0  \n",
       "1                            1                       0                       0  \n",
       "2                            0                       1                       0  \n",
       "3                            1                       0                       0  \n",
       "4                            1                       0                       0  \n",
       "...                        ...                     ...                     ...  \n",
       "378504                       1                       0                       0  \n",
       "378505                       1                       0                       0  \n",
       "378506                       0                       0                       0  \n",
       "378507                       0                       0                       0  \n",
       "378508                       1                       0                       0  \n",
       "\n",
       "[378509 rows x 97 columns]"
      ]
     },
     "execution_count": 44,
     "metadata": {},
     "output_type": "execute_result"
    }
   ],
   "source": [
    "df_dropped_na"
   ]
  },
  {
   "cell_type": "code",
   "execution_count": 52,
   "metadata": {},
   "outputs": [],
   "source": [
    "scaler = QuantileTransformer()\n",
    "scale_vars = ['YearofConstruction', 'GroundFloorArea(sq m)', 'InsulationThickness', 'TotalDeliveredEnergy']\n",
    "df_dropped_na[scale_vars]=scaler.fit_transform(df_dropped_na[scale_vars])"
   ]
  },
  {
   "cell_type": "code",
   "execution_count": 54,
   "metadata": {},
   "outputs": [],
   "source": [
    "new_cols = [col for col in df_dropped_na.columns if col != 'EnergyRating'] + ['EnergyRating']\n",
    "df_dropped_na = df_dropped_na[new_cols]\n",
    "\n",
    "del(new_cols)"
   ]
  },
  {
   "cell_type": "code",
   "execution_count": 7,
   "metadata": {},
   "outputs": [],
   "source": [
    "df_dropped_na\n",
    "df_dropped_na[['CountyName', 'DwellingTypeDescr', 'MainSpaceHeatingFuel', 'MainWaterHeatingFuel', 'VentilationMethod', 'StructureType', 'NoOfSidesSheltered', 'InsulationType']] = df_dropped_na[['CountyName', 'DwellingTypeDescr', 'MainSpaceHeatingFuel', 'MainWaterHeatingFuel', 'VentilationMethod', 'StructureType', 'NoOfSidesSheltered', 'InsulationType']].astype('object')"
   ]
  },
  {
   "cell_type": "code",
   "execution_count": 8,
   "metadata": {},
   "outputs": [
    {
     "name": "stdout",
     "output_type": "stream",
     "text": [
      "<class 'pandas.core.frame.DataFrame'>\n",
      "RangeIndex: 378509 entries, 0 to 378508\n",
      "Data columns (total 13 columns):\n",
      " #   Column                 Non-Null Count   Dtype  \n",
      "---  ------                 --------------   -----  \n",
      " 0   CountyName             378509 non-null  object \n",
      " 1   DwellingTypeDescr      378509 non-null  object \n",
      " 2   YearofConstruction     378509 non-null  int64  \n",
      " 3   EnergyRating           378509 non-null  object \n",
      " 4   GroundFloorArea(sq m)  378509 non-null  float64\n",
      " 5   MainSpaceHeatingFuel   378509 non-null  object \n",
      " 6   MainWaterHeatingFuel   378509 non-null  object \n",
      " 7   VentilationMethod      378509 non-null  object \n",
      " 8   StructureType          378509 non-null  object \n",
      " 9   NoOfSidesSheltered     378509 non-null  object \n",
      " 10  InsulationType         378509 non-null  object \n",
      " 11  InsulationThickness    378509 non-null  float64\n",
      " 12  TotalDeliveredEnergy   378509 non-null  float64\n",
      "dtypes: float64(3), int64(1), object(9)\n",
      "memory usage: 37.5+ MB\n"
     ]
    }
   ],
   "source": [
    "df_dropped_na.info()"
   ]
  },
  {
   "cell_type": "code",
   "execution_count": 9,
   "metadata": {},
   "outputs": [],
   "source": [
    "new_cols = [col for col in df_dropped_na.columns if col != 'EnergyRating'] + ['EnergyRating']\n",
    "df_dropped_na = df_dropped_na[new_cols]\n",
    "\n",
    "del(new_cols)"
   ]
  },
  {
   "cell_type": "code",
   "execution_count": 10,
   "metadata": {},
   "outputs": [],
   "source": [
    "import prince"
   ]
  },
  {
   "cell_type": "code",
   "execution_count": 12,
   "metadata": {},
   "outputs": [
    {
     "name": "stderr",
     "output_type": "stream",
     "text": [
      "/Users/oisinbrannock/.pyenv/versions/3.10.5/envs/masters_thesis/lib/python3.10/site-packages/pandas/core/algorithms.py:798: FutureWarning: In a future version, the Index constructor will not infer numeric dtypes when passed object-dtype sequences (matching Series behavior)\n",
      "  uniques = Index(uniques)\n"
     ]
    },
    {
     "ename": "",
     "evalue": "",
     "output_type": "error",
     "traceback": [
      "\u001b[1;31mThe Kernel crashed while executing code in the the current cell or a previous cell. Please review the code in the cell(s) to identify a possible cause of the failure. Click <a href='https://aka.ms/vscodeJupyterKernelCrash'>here</a> for more info. View Jupyter <a href='command:jupyter.viewOutput'>log</a> for further details."
     ]
    },
    {
     "ename": "",
     "evalue": "",
     "output_type": "error",
     "traceback": [
      "\u001b[1;31mCanceled future for execute_request message before replies were done"
     ]
    }
   ],
   "source": [
    "mfa = prince.MFA(\n",
    "    groups=groups,\n",
    "    n_components=2,\n",
    "    n_iter=3,\n",
    "    copy=True,\n",
    "    check_input=True,\n",
    "    engine='auto',\n",
    "    random_state=42\n",
    "... )\n",
    "\n",
    "famd.fit(df_dropped_na.drop('EnergyRating', axis =1))"
   ]
  },
  {
   "cell_type": "code",
   "execution_count": 5,
   "metadata": {},
   "outputs": [
    {
     "ename": "",
     "evalue": "",
     "output_type": "error",
     "traceback": [
      "\u001b[1;31mThe Kernel crashed while executing code in the the current cell or a previous cell. Please review the code in the cell(s) to identify a possible cause of the failure. Click <a href='https://aka.ms/vscodeJupyterKernelCrash'>here</a> for more info. View Jupyter <a href='command:jupyter.viewOutput'>log</a> for further details."
     ]
    },
    {
     "ename": "",
     "evalue": "",
     "output_type": "error",
     "traceback": [
      "\u001b[1;31mCanceled future for execute_request message before replies were done"
     ]
    }
   ],
   "source": [
    "from light_famd import FAMD\n",
    "famd = FAMD(n_components=2)\n",
    "famd.fit(df_dropped_na)"
   ]
  },
  {
   "cell_type": "markdown",
   "metadata": {},
   "source": [
    "---"
   ]
  },
  {
   "cell_type": "markdown",
   "metadata": {},
   "source": [
    "### 1. Dropped dataset model build"
   ]
  },
  {
   "cell_type": "code",
   "execution_count": 11,
   "metadata": {},
   "outputs": [],
   "source": [
    "X = df_dropped_na.iloc[:, :-1] # Independent Variables\n",
    "y = df_dropped_na.iloc[:, -1] # Dependent Variables\n",
    "\n",
    "# Train-Test Split\n",
    "X_train, X_test, y_train, y_test = train_test_split(\n",
    "    X, y, test_size=0.2, stratify=y,  random_state=2814)\n",
    "\n",
    "# Define SMOTE-Tomek Links\n",
    "resample=SMOTETomek(tomek=TomekLinks(sampling_strategy='all'), smote=SMOTE(k_neighbors=1), random_state=2814)\n",
    "X_train, y_train = resample.fit_resample(X_train, y_train)"
   ]
  },
  {
   "cell_type": "code",
   "execution_count": 12,
   "metadata": {},
   "outputs": [
    {
     "name": "stdout",
     "output_type": "stream",
     "text": [
      "              precision    recall  f1-score   support\n",
      "\n",
      "          A1       0.00      1.00      0.00         1\n",
      "          A2       0.00      0.17      0.00        35\n",
      "          A3       0.00      0.06      0.00       432\n",
      "          B1       0.00      0.04      0.01      1304\n",
      "          B2       0.01      0.09      0.02      3692\n",
      "          B3       0.01      0.02      0.01      9824\n",
      "          C1       0.01      0.02      0.02     17425\n",
      "          C2       0.02      0.01      0.02     23913\n",
      "          C3       0.03      0.01      0.02     26794\n",
      "          D1       0.04      0.02      0.03     27642\n",
      "          D2       0.03      0.02      0.02     24457\n",
      "          E1       0.03      0.01      0.02     14288\n",
      "          E2       0.03      0.02      0.02     11851\n",
      "           F       0.13      0.06      0.08     12477\n",
      "           G       0.95      0.47      0.63     15120\n",
      "\n",
      "    accuracy                           0.06    189255\n",
      "   macro avg       0.09      0.13      0.06    189255\n",
      "weighted avg       0.11      0.06      0.07    189255\n",
      "\n"
     ]
    }
   ],
   "source": [
    "# Modelling\n",
    "dt = DecisionTreeClassifier()\n",
    "dt.fit(X_train, y_train)\n",
    "\n",
    "y_pred = dt.predict(X_test)\n",
    "print(classification_report(y_test,y_pred))"
   ]
  },
  {
   "cell_type": "markdown",
   "metadata": {},
   "source": [
    "rf = RandomForestClassifier(criterion='entropy', random_state=2814)\n",
    "rf.fit(X_train, y_train)\n",
    "y_pred = rf.predict(X_test)\n",
    "print(classification_report(y_test, y_pred))"
   ]
  },
  {
   "cell_type": "code",
   "execution_count": 14,
   "metadata": {},
   "outputs": [
    {
     "name": "stdout",
     "output_type": "stream",
     "text": [
      "              precision    recall  f1-score   support\n",
      "\n",
      "          A1       0.00      0.00      0.00         1\n",
      "          A2       0.01      0.66      0.02        35\n",
      "          A3       0.01      0.26      0.01       432\n",
      "          B1       0.00      0.06      0.01      1304\n",
      "          B2       0.00      0.03      0.01      3692\n",
      "          B3       0.00      0.01      0.01      9824\n",
      "          C1       0.01      0.01      0.01     17425\n",
      "          C2       0.00      0.00      0.00     23913\n",
      "          C3       0.00      0.00      0.00     26794\n",
      "          D1       0.01      0.00      0.00     27642\n",
      "          D2       0.02      0.01      0.01     24457\n",
      "          E1       0.03      0.02      0.02     14288\n",
      "          E2       0.02      0.01      0.01     11851\n",
      "           F       0.10      0.05      0.06     12477\n",
      "           G       0.98      0.43      0.60     15120\n",
      "\n",
      "    accuracy                           0.04    189255\n",
      "   macro avg       0.08      0.10      0.05    189255\n",
      "weighted avg       0.09      0.04      0.06    189255\n",
      "\n"
     ]
    }
   ],
   "source": [
    "knn = KNeighborsClassifier(n_neighbors=8)\n",
    "knn.fit(X_train, y_train)\n",
    "y_pred = knn.predict(X_test)\n",
    "print(classification_report(y_test,y_pred))"
   ]
  },
  {
   "cell_type": "markdown",
   "metadata": {},
   "source": [
    "---"
   ]
  },
  {
   "cell_type": "markdown",
   "metadata": {},
   "source": [
    "## 2. Mean/Mode Imputed Modelling"
   ]
  },
  {
   "cell_type": "code",
   "execution_count": 15,
   "metadata": {},
   "outputs": [],
   "source": [
    "X = df_mean_mode_impute.iloc[:, :-1] # Independent Variables\n",
    "y = df_mean_mode_impute.iloc[:, -1] # Dependent Variables\n",
    "\n",
    "# Train-Test Split\n",
    "X_train, X_test, y_train, y_test = train_test_split(\n",
    "    X, y, test_size=0.2, stratify=y,  random_state=2814)\n",
    "\n",
    "# Define SMOTE-Tomek Links\n",
    "resample=SMOTETomek(tomek=TomekLinks(sampling_strategy='all'), smote=SMOTE(k_neighbors=300), random_state=2814)\n",
    "X_train, y_train = resample.fit_resample(X_train, y_train)\n",
    "\n",
    "# Quantile Transform Variables\n",
    "X_train[['YearofConstruction', 'GroundFloorArea(sq m)', 'TotalDeliveredEnergy']] = QuantileTransformer(random_state=2814).fit_transform(X_train[['YearofConstruction', 'GroundFloorArea(sq m)', 'TotalDeliveredEnergy']])\n",
    "X_test[['YearofConstruction', 'GroundFloorArea(sq m)', 'TotalDeliveredEnergy']] = QuantileTransformer(random_state=2814).fit_transform(X_test[['YearofConstruction', 'GroundFloorArea(sq m)', 'TotalDeliveredEnergy']])"
   ]
  },
  {
   "cell_type": "code",
   "execution_count": 16,
   "metadata": {},
   "outputs": [
    {
     "name": "stdout",
     "output_type": "stream",
     "text": [
      "              precision    recall  f1-score   support\n",
      "\n",
      "          A1       0.01      0.94      0.02       152\n",
      "          A2       0.00      0.00      0.00      8627\n",
      "          A3       0.22      0.32      0.26     10237\n",
      "          B1       0.02      0.10      0.03      3050\n",
      "          B2       0.02      0.03      0.02      6561\n",
      "          B3       0.07      0.05      0.06     15590\n",
      "          C1       0.34      0.14      0.19     22755\n",
      "          C2       0.17      0.15      0.16     24905\n",
      "          C3       0.21      0.12      0.15     23636\n",
      "          D1       0.36      0.20      0.26     22870\n",
      "          D2       0.66      0.63      0.64     19637\n",
      "          E1       0.51      0.48      0.49     11326\n",
      "          E2       0.56      0.68      0.62      8956\n",
      "           F       0.58      0.72      0.64      9269\n",
      "           G       0.76      0.85      0.80     13221\n",
      "\n",
      "    accuracy                           0.30    200792\n",
      "   macro avg       0.30      0.36      0.29    200792\n",
      "weighted avg       0.34      0.30      0.31    200792\n",
      "\n"
     ]
    }
   ],
   "source": [
    "# Modelling\n",
    "dt = DecisionTreeClassifier()\n",
    "dt.fit(X_train, y_train)\n",
    "\n",
    "y_pred = dt.predict(X_test)\n",
    "print(classification_report(y_test,y_pred))"
   ]
  },
  {
   "cell_type": "code",
   "execution_count": 17,
   "metadata": {},
   "outputs": [
    {
     "name": "stdout",
     "output_type": "stream",
     "text": [
      "              precision    recall  f1-score   support\n",
      "\n",
      "          A1       0.01      0.98      0.03       152\n",
      "          A2       0.00      0.00      0.00      8627\n",
      "          A3       0.01      0.01      0.01     10237\n",
      "          B1       0.01      0.07      0.02      3050\n",
      "          B2       0.02      0.04      0.02      6561\n",
      "          B3       0.07      0.06      0.07     15590\n",
      "          C1       0.25      0.12      0.16     22755\n",
      "          C2       0.16      0.14      0.15     24905\n",
      "          C3       0.24      0.12      0.16     23636\n",
      "          D1       0.50      0.28      0.36     22870\n",
      "          D2       0.67      0.64      0.65     19637\n",
      "          E1       0.50      0.44      0.47     11326\n",
      "          E2       0.55      0.53      0.54      8956\n",
      "           F       0.66      0.75      0.70      9269\n",
      "           G       0.79      0.86      0.82     13221\n",
      "\n",
      "    accuracy                           0.29    200792\n",
      "   macro avg       0.30      0.34      0.28    200792\n",
      "weighted avg       0.34      0.29      0.31    200792\n",
      "\n"
     ]
    }
   ],
   "source": [
    "rf = RandomForestClassifier(criterion='entropy', random_state=2814)\n",
    "rf.fit(X_train, y_train)\n",
    "y_pred = rf.predict(X_test)\n",
    "print(classification_report(y_test, y_pred))"
   ]
  },
  {
   "cell_type": "code",
   "execution_count": null,
   "metadata": {},
   "outputs": [],
   "source": [
    "cross_val_score(rf, X_train, y_train, cv=5) "
   ]
  },
  {
   "cell_type": "markdown",
   "metadata": {},
   "source": [
    "from sklearn.model_selection import RandomizedSearchCV\n",
    "\n",
    "param_space = {\"bootstrap\": [True, False],\n",
    "        \"max_depth\": [6, 8, 10, 12, 14, None],\n",
    "        \"max_features\": ['sqrt','log2'],\n",
    "        \"min_samples_leaf\": [2, 3, 4, None],\n",
    "        \"min_samples_split\": [2, 3, 4, 5, None],\n",
    "        \"n_estimators\": [100, 200, 300, 400, 500, 600, 700, 800, 900, 1000]\n",
    "}\n",
    "\n",
    "forest_rand_search = RandomizedSearchCV(rf, param_space, n_iter=32,\n",
    "                                        scoring=\"accuracy\", verbose=True, cv=5,\n",
    "                                        n_jobs=-1, random_state=2814)\n",
    "\n",
    "forest_rand_search.fit(X_train, y_train)"
   ]
  },
  {
   "cell_type": "markdown",
   "metadata": {},
   "source": [
    "from skopt import BayesSearchCV\n",
    "from skopt.space import Real, Categorical, Integer\n",
    "\n",
    "search_space = {\"bootstrap\": Categorical([True, False]), # values for boostrap can be either True or False\n",
    "        \"max_depth\": Integer(6, 50), # values of max_depth are integers from 6 to 20\n",
    "        \"max_features\": Categorical(['sqrt','log2']), \n",
    "        \"min_samples_leaf\": Integer(2, 10),\n",
    "        \"min_samples_split\": Integer(2, 10),\n",
    "        \"n_estimators\": Integer(100, 500)\n",
    "    }\n",
    "\n",
    "def on_step(optim_result):\n",
    "    \"\"\"\n",
    "    Callback meant to view scores after\n",
    "    each iteration while performing Bayesian\n",
    "    Optimization in Skopt\"\"\"\n",
    "    score = forest_bayes_search.best_score_\n",
    "    print(\"best score: %s\" % score)\n",
    "    if score >= 0.98:\n",
    "        print('Interrupting!')\n",
    "        return True\n",
    "\n",
    "forest_bayes_search = BayesSearchCV(rf, search_space, n_iter=32, # specify how many iterations\n",
    "                                    scoring=\"accuracy\", n_jobs=-1, cv=5)\n",
    "\n",
    "forest_bayes_search.fit(X_train, y_train, callback=on_step) # callback=on_step will print score after each iteration"
   ]
  },
  {
   "cell_type": "markdown",
   "metadata": {},
   "source": [
    "forest_bayes_search.best_params_"
   ]
  },
  {
   "cell_type": "markdown",
   "metadata": {},
   "source": [
    "roc_auc(rf, X_train, y_train, X_test=X_test, y_test=y_test, classes=['A1','A2','A3','B1','B2','B3','C1','C2','C3','D1','D2','E1','E2','F','G'])    "
   ]
  },
  {
   "cell_type": "markdown",
   "metadata": {},
   "source": [
    "d = y_test.unique()\n",
    "\n",
    "class_name = list(d.flatten())\n",
    "\n",
    "class_name\n",
    "\n",
    "pr, tpr, thresholds = metrics.roc_curve(y_test,  \n",
    "                     LRE.predict_proba(X_test)[:,1], pos_label = p) \n",
    "\n",
    "      auroc = round(metrics.auc(fpr, tpr),2)\n",
    "      print('LRE',p,'--AUC--->',auroc)"
   ]
  },
  {
   "cell_type": "code",
   "execution_count": 18,
   "metadata": {},
   "outputs": [
    {
     "name": "stdout",
     "output_type": "stream",
     "text": [
      "              precision    recall  f1-score   support\n",
      "\n",
      "          A1       0.01      0.98      0.02       152\n",
      "          A2       0.00      0.00      0.00      8627\n",
      "          A3       0.02      0.02      0.02     10237\n",
      "          B1       0.01      0.06      0.02      3050\n",
      "          B2       0.02      0.04      0.03      6561\n",
      "          B3       0.06      0.06      0.06     15590\n",
      "          C1       0.21      0.12      0.15     22755\n",
      "          C2       0.16      0.14      0.15     24905\n",
      "          C3       0.22      0.12      0.16     23636\n",
      "          D1       0.56      0.35      0.43     22870\n",
      "          D2       0.71      0.62      0.66     19637\n",
      "          E1       0.56      0.52      0.54     11326\n",
      "          E2       0.58      0.61      0.59      8956\n",
      "           F       0.68      0.72      0.70      9269\n",
      "           G       0.90      0.82      0.86     13221\n",
      "\n",
      "    accuracy                           0.30    200792\n",
      "   macro avg       0.31      0.34      0.29    200792\n",
      "weighted avg       0.36      0.30      0.32    200792\n",
      "\n"
     ]
    }
   ],
   "source": [
    "knn = KNeighborsClassifier(n_neighbors=8)\n",
    "knn.fit(X_train, y_train)\n",
    "y_pred = knn.predict(X_test)\n",
    "print(classification_report(y_test,y_pred))"
   ]
  },
  {
   "cell_type": "markdown",
   "metadata": {},
   "source": [
    "---"
   ]
  },
  {
   "cell_type": "markdown",
   "metadata": {},
   "source": [
    "### 3. missForest Imptation Modelling"
   ]
  },
  {
   "cell_type": "code",
   "execution_count": null,
   "metadata": {},
   "outputs": [],
   "source": [
    "X = df_miss_forest_impute.iloc[:, :-1] # Independent Variables\n",
    "y = df_miss_forest_impute.iloc[:, -1] # Dependent Variables\n",
    "\n",
    "# Train-Test Split\n",
    "X_train, X_test, y_train, y_test = train_test_split(\n",
    "    X, y, test_size=0.2, stratify=y,  random_state=2814)\n",
    "\n",
    "# Define SMOTE-Tomek Links\n",
    "resample=SMOTETomek(tomek=TomekLinks(sampling_strategy='all'), smote=SMOTE(k_neighbors=300), random_state=2814)\n",
    "X_train, y_train = resample.fit_resample(X_train, y_train)\n",
    "\n",
    "# Quantile Transform Variables\n",
    "X_train[['YearofConstruction', 'GroundFloorArea(sq m)', 'TotalDeliveredEnergy']] = QuantileTransformer(random_state=2814).fit_transform(X_train[['YearofConstruction', 'GroundFloorArea(sq m)', 'TotalDeliveredEnergy']])\n",
    "X_test[['YearofConstruction', 'GroundFloorArea(sq m)', 'TotalDeliveredEnergy']] = QuantileTransformer(random_state=2814).fit_transform(X_test[['YearofConstruction', 'GroundFloorArea(sq m)', 'TotalDeliveredEnergy']])"
   ]
  },
  {
   "cell_type": "code",
   "execution_count": null,
   "metadata": {},
   "outputs": [],
   "source": [
    "knn = KNeighborsClassifier()\n",
    "knn.fit(X_train, y_train)\n",
    "y_pred = knn.predict(X_test)\n",
    "print(classification_report(y_test,y_pred))"
   ]
  },
  {
   "cell_type": "code",
   "execution_count": null,
   "metadata": {},
   "outputs": [],
   "source": [
    "rf = RandomForestClassifier()\n",
    "rf.fit(X_train, y_train)\n",
    "y_pred = rf.predict(X_test)\n",
    "print(classification_report(y_test,y_pred))"
   ]
  }
 ],
 "metadata": {
  "kernelspec": {
   "display_name": "Python 3.10.5 64-bit ('masters_thesis')",
   "language": "python",
   "name": "python3"
  },
  "language_info": {
   "codemirror_mode": {
    "name": "ipython",
    "version": 3
   },
   "file_extension": ".py",
   "mimetype": "text/x-python",
   "name": "python",
   "nbconvert_exporter": "python",
   "pygments_lexer": "ipython3",
   "version": "3.10.5"
  },
  "orig_nbformat": 4,
  "vscode": {
   "interpreter": {
    "hash": "ecf9425976ca1d495f6ff342e01edb9b99409cdaa6c55166a5169aaab36ca909"
   }
  }
 },
 "nbformat": 4,
 "nbformat_minor": 2
}
