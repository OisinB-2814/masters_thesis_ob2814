{
 "cells": [
  {
   "cell_type": "markdown",
   "metadata": {},
   "source": [
    "# 1. Discover \n",
    "#### A deep dive into the problem we are trying to solve"
   ]
  },
  {
   "cell_type": "markdown",
   "metadata": {},
   "source": [
    "> Successful people have fear, successful people have doubts, and successful people have worry. They just don’t let these feelings stop them."
   ]
  },
  {
   "cell_type": "markdown",
   "metadata": {},
   "source": [
    "This section covers the discover phase of the project lifecycle\n",
    "\n",
    "This phase covers:\n",
    "- An idea of how AI can help solve a particular problem\n",
    "    - Inspirtation of this idea\n",
    "- Building research questions\n",
    "- Literature review of work done in the area of energy\n",
    "- What is the end in mind?\n",
    "- Hypothesis formulation\n"
   ]
  },
  {
   "cell_type": "markdown",
   "metadata": {},
   "source": [
    "---"
   ]
  },
  {
   "cell_type": "markdown",
   "metadata": {},
   "source": [
    "#### 1. Ideation\n",
    "\n",
    "The goal of this thesis is to model energy usage for customers of Bank X with\n",
    "their providers using spend data as opposed to raw energy data, and to use this\n",
    "model to show areas where energy savings could be made. Customers would gain\n",
    "an awareness of how much they spend compared to how much they only need\n",
    "to spend. This analysis can open doors for new green focused products that help\n",
    "Bank X as a brand, help customers save money, and most importantly help raise\n",
    "awareness and inspire action for a sustainable environment."
   ]
  },
  {
   "cell_type": "markdown",
   "metadata": {},
   "source": [
    "#### 2. Research Questions\n",
    "\n",
    "**RQ1** \n",
    "- What are the data requirements for modelling energy usage in Bank X\n",
    "customers?\n",
    "\n",
    "**RQ2** \n",
    "- How should machine learning be applied to best predict customer energy\n",
    "efficiency?\n",
    "\n",
    "**RQ3** \n",
    "- How can users effectively interact with and gain insight about the customer\n",
    "base from this customer model?\n",
    "\n"
   ]
  },
  {
   "cell_type": "markdown",
   "metadata": {},
   "source": [
    "#### 3. Literature Review\n",
    "\n",
    "Covered in Chapter 3 of Thesis Report"
   ]
  },
  {
   "cell_type": "markdown",
   "metadata": {},
   "source": [
    "#### 4. End in Mind\n",
    "\n",
    "The end goal of this work is to develop a model that can predict energy usage for fictious customers of bank X and overlay a dashboard GUI structure on top of this that can be used by staff of bank X in order to understand the personalised journey of each customer they deal with."
   ]
  }
 ],
 "metadata": {
  "language_info": {
   "name": "python"
  },
  "orig_nbformat": 4
 },
 "nbformat": 4,
 "nbformat_minor": 2
}
