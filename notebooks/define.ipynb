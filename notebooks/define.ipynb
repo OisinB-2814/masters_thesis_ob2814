{
 "cells": [
  {
   "cell_type": "markdown",
   "metadata": {},
   "source": [
    "# Define\n",
    "\n"
   ]
  },
  {
   "cell_type": "markdown",
   "metadata": {},
   "source": [
    "Now that the initial hypothesis has been defined, we can focus on the following questions in the define phase:\n",
    "- What matters most?\n",
    "- What should I do to begin analysis?\n",
    "- What is feasible?\n",
    "\n",
    "The number 1 goal to keep in mind in the define phase is that we are defining a product around a user, not programming a user around a product."
   ]
  },
  {
   "cell_type": "markdown",
   "metadata": {},
   "source": [
    "#### Bank X Data Collection & Analysis\n",
    "\n",
    "I am not at liberty to disclose any of the data or code used to pull this dataset together, nor show the dataset in this report. However, I will explain the thought process around what was done.\n",
    "\n",
    "Data was gathered for customers who had a valid energy spend with Bank X accounted for, as well as their mortgage property details like year of constrction etc. This was then collated along with BER ratings. However the BER coverage was very poor and was supplemented with probabilities based on the SEAI BER external dataset found [here](https://ndber.seai.ie/BERResearchTool/ber/search.aspx). This however was still very imbalanced and hence I concluded a new approach was needed to be taken.\n",
    "\n",
    "I can use the data of Bank X to gather statistics on the data (mean, min, max, std), and use this to create a new, 'ideal world' dataset of ficticious customers. Therefore in conclusion, I had to pivot in order to make the hypothesis still work. I was able to use the internal data sucessfully to provide for a theoretical sample.\n",
    "\n",
    "This now sets up the body of work aligned with the define phase of this thesis."
   ]
  },
  {
   "cell_type": "code",
   "execution_count": 1,
   "metadata": {},
   "outputs": [
    {
     "name": "stderr",
     "output_type": "stream",
     "text": [
      "/Users/oisinbrannock/.pyenv/versions/3.10.5/envs/masters_thesis/lib/python3.10/site-packages/tqdm/auto.py:22: TqdmWarning: IProgress not found. Please update jupyter and ipywidgets. See https://ipywidgets.readthedocs.io/en/stable/user_install.html\n",
      "  from .autonotebook import tqdm as notebook_tqdm\n"
     ]
    }
   ],
   "source": [
    "# Read in libraries needed for analysis\n",
    "import pandas as pd\n",
    "import warnings\n",
    "warnings.simplefilter(action='ignore', category=FutureWarning) # Suppress all future warnings\n",
    "pd.set_option('display.float_format', lambda x: '%.2f' % x) # Leaves all pandas calculations to 2 decimal places to avoid SN\n",
    "import numpy as np\n",
    "from pandas_profiling import ProfileReport\n",
    "import matplotlib.pyplot as plt\n",
    "import seaborn as sns"
   ]
  },
  {
   "cell_type": "code",
   "execution_count": 2,
   "metadata": {},
   "outputs": [],
   "source": [
    "# Pull in the SEAI dataset to use for analysis\n",
    "seai = pd.read_table( \n",
    "    '../data/external/BERPublicSearch/BERPublicsearch.txt'\n",
    "    ,usecols=['CountyName', 'DwellingTypeDescr', 'Year_of_Construction', 'GroundFloorArea(sq m)', 'EnergyRating', 'BerRating', 'CO2Rating', 'TotalDeliveredEnergy', 'DateOfAssessment']\n",
    "    ,encoding = 'Latin-1'\n",
    ")"
   ]
  },
  {
   "cell_type": "code",
   "execution_count": 3,
   "metadata": {},
   "outputs": [
    {
     "data": {
      "text/html": [
       "<div>\n",
       "<style scoped>\n",
       "    .dataframe tbody tr th:only-of-type {\n",
       "        vertical-align: middle;\n",
       "    }\n",
       "\n",
       "    .dataframe tbody tr th {\n",
       "        vertical-align: top;\n",
       "    }\n",
       "\n",
       "    .dataframe thead th {\n",
       "        text-align: right;\n",
       "    }\n",
       "</style>\n",
       "<table border=\"1\" class=\"dataframe\">\n",
       "  <thead>\n",
       "    <tr style=\"text-align: right;\">\n",
       "      <th></th>\n",
       "      <th>CountyName</th>\n",
       "      <th>DwellingTypeDescr</th>\n",
       "      <th>Year_of_Construction</th>\n",
       "      <th>EnergyRating</th>\n",
       "      <th>BerRating</th>\n",
       "      <th>GroundFloorArea(sq m)</th>\n",
       "      <th>CO2Rating</th>\n",
       "      <th>TotalDeliveredEnergy</th>\n",
       "      <th>DateOfAssessment</th>\n",
       "    </tr>\n",
       "  </thead>\n",
       "  <tbody>\n",
       "    <tr>\n",
       "      <th>0</th>\n",
       "      <td>Co. Donegal</td>\n",
       "      <td>Detached house</td>\n",
       "      <td>1997</td>\n",
       "      <td>C2</td>\n",
       "      <td>180.01</td>\n",
       "      <td>171.19</td>\n",
       "      <td>45.53</td>\n",
       "      <td>25474.52</td>\n",
       "      <td>Oct  8 2010 12:00AM</td>\n",
       "    </tr>\n",
       "    <tr>\n",
       "      <th>1</th>\n",
       "      <td>Co. Kildare</td>\n",
       "      <td>Detached house</td>\n",
       "      <td>2010</td>\n",
       "      <td>B3</td>\n",
       "      <td>137.56</td>\n",
       "      <td>242.93</td>\n",
       "      <td>35.66</td>\n",
       "      <td>27654.47</td>\n",
       "      <td>Oct 19 2010 12:00AM</td>\n",
       "    </tr>\n",
       "    <tr>\n",
       "      <th>2</th>\n",
       "      <td>Co. Dublin</td>\n",
       "      <td>Semi-detached house</td>\n",
       "      <td>1999</td>\n",
       "      <td>C3</td>\n",
       "      <td>223.61</td>\n",
       "      <td>99.38</td>\n",
       "      <td>44.65</td>\n",
       "      <td>17000.04</td>\n",
       "      <td>Oct  9 2010 12:00AM</td>\n",
       "    </tr>\n",
       "    <tr>\n",
       "      <th>3</th>\n",
       "      <td>Dublin 11</td>\n",
       "      <td>Semi-detached house</td>\n",
       "      <td>1965</td>\n",
       "      <td>C2</td>\n",
       "      <td>196.99</td>\n",
       "      <td>138.41</td>\n",
       "      <td>37.83</td>\n",
       "      <td>22708.48</td>\n",
       "      <td>Oct 20 2010 12:00AM</td>\n",
       "    </tr>\n",
       "    <tr>\n",
       "      <th>4</th>\n",
       "      <td>Dublin 22</td>\n",
       "      <td>Semi-detached house</td>\n",
       "      <td>1985</td>\n",
       "      <td>D2</td>\n",
       "      <td>260.52</td>\n",
       "      <td>127.16</td>\n",
       "      <td>55.07</td>\n",
       "      <td>28182.86</td>\n",
       "      <td>Oct 21 2010 12:00AM</td>\n",
       "    </tr>\n",
       "    <tr>\n",
       "      <th>...</th>\n",
       "      <td>...</td>\n",
       "      <td>...</td>\n",
       "      <td>...</td>\n",
       "      <td>...</td>\n",
       "      <td>...</td>\n",
       "      <td>...</td>\n",
       "      <td>...</td>\n",
       "      <td>...</td>\n",
       "      <td>...</td>\n",
       "    </tr>\n",
       "    <tr>\n",
       "      <th>1043905</th>\n",
       "      <td>Co. Donegal</td>\n",
       "      <td>Detached house</td>\n",
       "      <td>1982</td>\n",
       "      <td>D2</td>\n",
       "      <td>282.58</td>\n",
       "      <td>214.18</td>\n",
       "      <td>70.89</td>\n",
       "      <td>52927.53</td>\n",
       "      <td>Jun 25 2022 12:00AM</td>\n",
       "    </tr>\n",
       "    <tr>\n",
       "      <th>1043906</th>\n",
       "      <td>Dublin 6</td>\n",
       "      <td>Mid-terrace house</td>\n",
       "      <td>1900</td>\n",
       "      <td>G</td>\n",
       "      <td>998.14</td>\n",
       "      <td>99.77</td>\n",
       "      <td>317.99</td>\n",
       "      <td>NaN</td>\n",
       "      <td>Jul  6 2022 12:00AM</td>\n",
       "    </tr>\n",
       "    <tr>\n",
       "      <th>1043907</th>\n",
       "      <td>Dublin 1</td>\n",
       "      <td>Mid-floor apartment</td>\n",
       "      <td>2021</td>\n",
       "      <td>A2</td>\n",
       "      <td>37.26</td>\n",
       "      <td>81.32</td>\n",
       "      <td>7.33</td>\n",
       "      <td>NaN</td>\n",
       "      <td>Dec 20 2021 12:00AM</td>\n",
       "    </tr>\n",
       "    <tr>\n",
       "      <th>1043908</th>\n",
       "      <td>Dublin 1</td>\n",
       "      <td>Mid-floor apartment</td>\n",
       "      <td>2022</td>\n",
       "      <td>A2</td>\n",
       "      <td>36.05</td>\n",
       "      <td>82.09</td>\n",
       "      <td>6.76</td>\n",
       "      <td>NaN</td>\n",
       "      <td>Jul 14 2022 12:00AM</td>\n",
       "    </tr>\n",
       "    <tr>\n",
       "      <th>1043909</th>\n",
       "      <td>Co. Monaghan</td>\n",
       "      <td>Detached house</td>\n",
       "      <td>2013</td>\n",
       "      <td>B1</td>\n",
       "      <td>90.57</td>\n",
       "      <td>334.35</td>\n",
       "      <td>19.66</td>\n",
       "      <td>NaN</td>\n",
       "      <td>Jul 15 2022 12:00AM</td>\n",
       "    </tr>\n",
       "  </tbody>\n",
       "</table>\n",
       "<p>1043910 rows × 9 columns</p>\n",
       "</div>"
      ],
      "text/plain": [
       "           CountyName    DwellingTypeDescr  Year_of_Construction EnergyRating  \\\n",
       "0         Co. Donegal       Detached house                  1997           C2   \n",
       "1         Co. Kildare       Detached house                  2010           B3   \n",
       "2          Co. Dublin  Semi-detached house                  1999           C3   \n",
       "3           Dublin 11  Semi-detached house                  1965           C2   \n",
       "4           Dublin 22  Semi-detached house                  1985           D2   \n",
       "...               ...                  ...                   ...          ...   \n",
       "1043905   Co. Donegal       Detached house                  1982           D2   \n",
       "1043906      Dublin 6    Mid-terrace house                  1900           G    \n",
       "1043907      Dublin 1  Mid-floor apartment                  2021           A2   \n",
       "1043908      Dublin 1  Mid-floor apartment                  2022           A2   \n",
       "1043909  Co. Monaghan       Detached house                  2013           B1   \n",
       "\n",
       "         BerRating  GroundFloorArea(sq m)  CO2Rating  TotalDeliveredEnergy  \\\n",
       "0           180.01                 171.19      45.53              25474.52   \n",
       "1           137.56                 242.93      35.66              27654.47   \n",
       "2           223.61                  99.38      44.65              17000.04   \n",
       "3           196.99                 138.41      37.83              22708.48   \n",
       "4           260.52                 127.16      55.07              28182.86   \n",
       "...            ...                    ...        ...                   ...   \n",
       "1043905     282.58                 214.18      70.89              52927.53   \n",
       "1043906     998.14                  99.77     317.99                   NaN   \n",
       "1043907      37.26                  81.32       7.33                   NaN   \n",
       "1043908      36.05                  82.09       6.76                   NaN   \n",
       "1043909      90.57                 334.35      19.66                   NaN   \n",
       "\n",
       "            DateOfAssessment  \n",
       "0        Oct  8 2010 12:00AM  \n",
       "1        Oct 19 2010 12:00AM  \n",
       "2        Oct  9 2010 12:00AM  \n",
       "3        Oct 20 2010 12:00AM  \n",
       "4        Oct 21 2010 12:00AM  \n",
       "...                      ...  \n",
       "1043905  Jun 25 2022 12:00AM  \n",
       "1043906  Jul  6 2022 12:00AM  \n",
       "1043907  Dec 20 2021 12:00AM  \n",
       "1043908  Jul 14 2022 12:00AM  \n",
       "1043909  Jul 15 2022 12:00AM  \n",
       "\n",
       "[1043910 rows x 9 columns]"
      ]
     },
     "execution_count": 3,
     "metadata": {},
     "output_type": "execute_result"
    }
   ],
   "source": [
    "# High level overview of the dataset\n",
    "seai"
   ]
  },
  {
   "cell_type": "code",
   "execution_count": 4,
   "metadata": {},
   "outputs": [
    {
     "data": {
      "text/html": [
       "<div>\n",
       "<style scoped>\n",
       "    .dataframe tbody tr th:only-of-type {\n",
       "        vertical-align: middle;\n",
       "    }\n",
       "\n",
       "    .dataframe tbody tr th {\n",
       "        vertical-align: top;\n",
       "    }\n",
       "\n",
       "    .dataframe thead th {\n",
       "        text-align: right;\n",
       "    }\n",
       "</style>\n",
       "<table border=\"1\" class=\"dataframe\">\n",
       "  <thead>\n",
       "    <tr style=\"text-align: right;\">\n",
       "      <th></th>\n",
       "      <th>Year_of_Construction</th>\n",
       "      <th>BerRating</th>\n",
       "      <th>GroundFloorArea(sq m)</th>\n",
       "      <th>CO2Rating</th>\n",
       "      <th>TotalDeliveredEnergy</th>\n",
       "    </tr>\n",
       "  </thead>\n",
       "  <tbody>\n",
       "    <tr>\n",
       "      <th>count</th>\n",
       "      <td>1043910.00</td>\n",
       "      <td>1043910.00</td>\n",
       "      <td>1043910.00</td>\n",
       "      <td>1043910.00</td>\n",
       "      <td>445800.00</td>\n",
       "    </tr>\n",
       "    <tr>\n",
       "      <th>mean</th>\n",
       "      <td>1983.79</td>\n",
       "      <td>234.55</td>\n",
       "      <td>114.01</td>\n",
       "      <td>54.56</td>\n",
       "      <td>24085.64</td>\n",
       "    </tr>\n",
       "    <tr>\n",
       "      <th>std</th>\n",
       "      <td>33.78</td>\n",
       "      <td>172.78</td>\n",
       "      <td>59.76</td>\n",
       "      <td>48.60</td>\n",
       "      <td>23306.38</td>\n",
       "    </tr>\n",
       "    <tr>\n",
       "      <th>min</th>\n",
       "      <td>1753.00</td>\n",
       "      <td>-158.42</td>\n",
       "      <td>5.47</td>\n",
       "      <td>-258.25</td>\n",
       "      <td>-3929.79</td>\n",
       "    </tr>\n",
       "    <tr>\n",
       "      <th>25%</th>\n",
       "      <td>1973.00</td>\n",
       "      <td>153.64</td>\n",
       "      <td>77.92</td>\n",
       "      <td>32.46</td>\n",
       "      <td>14844.80</td>\n",
       "    </tr>\n",
       "    <tr>\n",
       "      <th>50%</th>\n",
       "      <td>1997.00</td>\n",
       "      <td>207.08</td>\n",
       "      <td>100.30</td>\n",
       "      <td>46.25</td>\n",
       "      <td>21027.03</td>\n",
       "    </tr>\n",
       "    <tr>\n",
       "      <th>75%</th>\n",
       "      <td>2005.00</td>\n",
       "      <td>282.32</td>\n",
       "      <td>133.71</td>\n",
       "      <td>65.13</td>\n",
       "      <td>29315.55</td>\n",
       "    </tr>\n",
       "    <tr>\n",
       "      <th>max</th>\n",
       "      <td>2104.00</td>\n",
       "      <td>56423.71</td>\n",
       "      <td>3546.11</td>\n",
       "      <td>18417.10</td>\n",
       "      <td>5431169.68</td>\n",
       "    </tr>\n",
       "  </tbody>\n",
       "</table>\n",
       "</div>"
      ],
      "text/plain": [
       "       Year_of_Construction  BerRating  GroundFloorArea(sq m)  CO2Rating  \\\n",
       "count            1043910.00 1043910.00             1043910.00 1043910.00   \n",
       "mean                1983.79     234.55                 114.01      54.56   \n",
       "std                   33.78     172.78                  59.76      48.60   \n",
       "min                 1753.00    -158.42                   5.47    -258.25   \n",
       "25%                 1973.00     153.64                  77.92      32.46   \n",
       "50%                 1997.00     207.08                 100.30      46.25   \n",
       "75%                 2005.00     282.32                 133.71      65.13   \n",
       "max                 2104.00   56423.71                3546.11   18417.10   \n",
       "\n",
       "       TotalDeliveredEnergy  \n",
       "count             445800.00  \n",
       "mean               24085.64  \n",
       "std                23306.38  \n",
       "min                -3929.79  \n",
       "25%                14844.80  \n",
       "50%                21027.03  \n",
       "75%                29315.55  \n",
       "max              5431169.68  "
      ]
     },
     "execution_count": 4,
     "metadata": {},
     "output_type": "execute_result"
    }
   ],
   "source": [
    "# Taking a look at the SEAI dataset numerical columns\n",
    "seai.describe()"
   ]
  },
  {
   "cell_type": "code",
   "execution_count": 5,
   "metadata": {},
   "outputs": [
    {
     "name": "stdout",
     "output_type": "stream",
     "text": [
      "<class 'pandas.core.frame.DataFrame'>\n",
      "RangeIndex: 1043910 entries, 0 to 1043909\n",
      "Data columns (total 9 columns):\n",
      " #   Column                 Non-Null Count    Dtype  \n",
      "---  ------                 --------------    -----  \n",
      " 0   CountyName             1043910 non-null  object \n",
      " 1   DwellingTypeDescr      1043910 non-null  object \n",
      " 2   Year_of_Construction   1043910 non-null  int64  \n",
      " 3   EnergyRating           1043910 non-null  object \n",
      " 4   BerRating              1043910 non-null  float64\n",
      " 5   GroundFloorArea(sq m)  1043910 non-null  float64\n",
      " 6   CO2Rating              1043910 non-null  float64\n",
      " 7   TotalDeliveredEnergy   445800 non-null   float64\n",
      " 8   DateOfAssessment       1043910 non-null  object \n",
      "dtypes: float64(4), int64(1), object(4)\n",
      "memory usage: 71.7+ MB\n"
     ]
    }
   ],
   "source": [
    "# Check the datatypes for each column and determine if they are correct or not\n",
    "seai.info()"
   ]
  },
  {
   "cell_type": "code",
   "execution_count": 6,
   "metadata": {},
   "outputs": [],
   "source": [
    "# Create a pandas profile report\n",
    "profile = ProfileReport(seai, title=\"SEAI Data Report\", explorative=True)"
   ]
  },
  {
   "cell_type": "code",
   "execution_count": 7,
   "metadata": {},
   "outputs": [
    {
     "name": "stderr",
     "output_type": "stream",
     "text": [
      "Summarize dataset: 100%|██████████| 48/48 [00:19<00:00,  2.47it/s, Completed]                                           \n",
      "Generate report structure: 100%|██████████| 1/1 [00:00<00:00,  1.01it/s]\n",
      "Render HTML: 100%|██████████| 1/1 [00:00<00:00,  1.60it/s]\n",
      "Export report to file: 100%|██████████| 1/1 [00:00<00:00, 426.08it/s]\n"
     ]
    }
   ],
   "source": [
    "# Output the report to a html file to view\n",
    "profile.to_file(\"../reports/seai_profile_report.html\")"
   ]
  },
  {
   "cell_type": "markdown",
   "metadata": {},
   "source": [
    "A few issues have arisen based on the initial observation of the data above:\n",
    "- The dataset overview shows that the `CountyName` column has 'Co.' with each county and Dublin is split into numerical districts. Both need to be removed.\n",
    "    - Done\n",
    "- The description report shows the max year of construction is 2104. The max needs to be amended to be 2022.\n",
    "    - Done\n",
    "- The description report shows we have 57.3% missing values for `TotalDeliveredEnergy` column. This will need to be dropped at a minimum.\n",
    "    - Done\n",
    "- The description report shows that the min for `BerRating`, `CO2Rating` and `TotalDeliveredEnergy` are negative. This could be bad data or indication of a good BER rating. Needs to be investigated and dealt with.\n",
    "    - Done\n",
    "- The `EnergyRating` column is an object, it should be an ordered factor.\n",
    "    - Done\n",
    "- The `DateOfAssessment` column is an object, it should be a datetime object.\n",
    "    - Done\n",
    "- Make sure date column is sensible after conversion\n",
    "    - Done\n",
    "- There are duplicates being accounted for on some entries that must be removed.\n",
    "    - Done\n",
    "\n",
    "Note that I am not worried about the very high BerRating and CO2Rating maxiumums as they make sense when the data is examined."
   ]
  },
  {
   "cell_type": "code",
   "execution_count": 8,
   "metadata": {},
   "outputs": [],
   "source": [
    "# Removal of 'Co.' and numerical items from CountyName column\n",
    "seai['CountyName'] = seai['CountyName'].str.replace('Co. ', '') # Removes all occurrences of Co.\n",
    "seai['CountyName'] = seai['CountyName'].str.replace('City', '') # Removes all occurrences of City\n",
    "seai['CountyName'] = seai['CountyName'].str.replace('\\d+', '') # Removes all digits\n",
    "seai['CountyName'] = seai['CountyName'].str.replace('Dublin W', 'Dublin') # Removes occurence of W after Dublin\n",
    "seai['CountyName'] = seai['CountyName'].str.strip() # Removes any blankspace left after cleaning\n"
   ]
  },
  {
   "cell_type": "code",
   "execution_count": 9,
   "metadata": {},
   "outputs": [
    {
     "name": "stdout",
     "output_type": "stream",
     "text": [
      "['Donegal' 'Kildare' 'Dublin' 'Limerick' 'Kerry' 'Kilkenny' 'Cork'\n",
      " 'Wexford' 'Carlow' 'Galway' 'Louth' 'Offaly' 'Sligo' 'Wicklow' 'Clare'\n",
      " 'Tipperary' 'Monaghan' 'Mayo' 'Laois' 'Westmeath' 'Roscommon' 'Meath'\n",
      " 'Leitrim' 'Cavan' 'Waterford' 'Longford']\n",
      "--------------------------------------------------------------------------------------------------------\n",
      "--------------------------------------------------------------------------------------------------------\n",
      "26\n"
     ]
    }
   ],
   "source": [
    "# Checking out the column to see if changes have worked\n",
    "print(seai['CountyName'].unique())\n",
    "# Printing some lines between the two results for clarity\n",
    "print('--------------------------------------------------------------------------------------------------------')\n",
    "print('--------------------------------------------------------------------------------------------------------')\n",
    "# Checking to see if the length is 26 (Number of counties in Republic of Ireland)\n",
    "print(len(seai['CountyName'].unique()))"
   ]
  },
  {
   "cell_type": "markdown",
   "metadata": {},
   "source": [
    "---"
   ]
  },
  {
   "cell_type": "code",
   "execution_count": 10,
   "metadata": {},
   "outputs": [
    {
     "data": {
      "text/plain": [
       "<AxesSubplot:xlabel='Year_of_Construction', ylabel='Count'>"
      ]
     },
     "execution_count": 10,
     "metadata": {},
     "output_type": "execute_result"
    },
    {
     "data": {
      "image/png": "[encoded data removed]",
      "text/plain": [
       "<Figure size 640x480 with 1 Axes>"
      ]
     },
     "metadata": {},
     "output_type": "display_data"
    }
   ],
   "source": [
    "# Defining the statistics from Bank X data\n",
    "sns.histplot(data=seai\n",
    "            ,x='Year_of_Construction'\n",
    "            ,bins=30\n",
    "            ,kde=True)"
   ]
  },
  {
   "cell_type": "markdown",
   "metadata": {},
   "source": [
    "We can clearly see from above 2104 as a year is a once off error and can be removed"
   ]
  },
  {
   "cell_type": "code",
   "execution_count": 11,
   "metadata": {},
   "outputs": [],
   "source": [
    "# Removal of bad year entry in data\n",
    "seai = seai[seai['Year_of_Construction'] <= 2022]"
   ]
  },
  {
   "cell_type": "code",
   "execution_count": 12,
   "metadata": {},
   "outputs": [
    {
     "data": {
      "text/plain": [
       "<AxesSubplot:xlabel='Year_of_Construction', ylabel='Count'>"
      ]
     },
     "execution_count": 12,
     "metadata": {},
     "output_type": "execute_result"
    },
    {
     "data": {
      "image/png": "[encoded data removed]",
      "text/plain": [
       "<Figure size 640x480 with 1 Axes>"
      ]
     },
     "metadata": {},
     "output_type": "display_data"
    }
   ],
   "source": [
    "# Checking distributions again to check if this has worked.\n",
    "sns.histplot(data=seai\n",
    "            ,x='Year_of_Construction'\n",
    "            ,bins=30\n",
    "            ,kde=True)"
   ]
  },
  {
   "cell_type": "markdown",
   "metadata": {},
   "source": [
    "---"
   ]
  },
  {
   "cell_type": "code",
   "execution_count": 13,
   "metadata": {},
   "outputs": [],
   "source": [
    "# Removal of missing data majority column\n",
    "# seai = seai.drop('TotalDeliveredEnergy', axis=1)"
   ]
  },
  {
   "cell_type": "markdown",
   "metadata": {},
   "source": [
    "---"
   ]
  },
  {
   "cell_type": "code",
   "execution_count": 14,
   "metadata": {},
   "outputs": [
    {
     "data": {
      "text/html": [
       "<div>\n",
       "<style scoped>\n",
       "    .dataframe tbody tr th:only-of-type {\n",
       "        vertical-align: middle;\n",
       "    }\n",
       "\n",
       "    .dataframe tbody tr th {\n",
       "        vertical-align: top;\n",
       "    }\n",
       "\n",
       "    .dataframe thead th {\n",
       "        text-align: right;\n",
       "    }\n",
       "</style>\n",
       "<table border=\"1\" class=\"dataframe\">\n",
       "  <thead>\n",
       "    <tr style=\"text-align: right;\">\n",
       "      <th></th>\n",
       "      <th>CO2Rating</th>\n",
       "    </tr>\n",
       "    <tr>\n",
       "      <th>EnergyRating</th>\n",
       "      <th></th>\n",
       "    </tr>\n",
       "  </thead>\n",
       "  <tbody>\n",
       "    <tr>\n",
       "      <th>A1</th>\n",
       "      <td>167</td>\n",
       "    </tr>\n",
       "    <tr>\n",
       "      <th>A2</th>\n",
       "      <td>12</td>\n",
       "    </tr>\n",
       "    <tr>\n",
       "      <th>A3</th>\n",
       "      <td>12</td>\n",
       "    </tr>\n",
       "    <tr>\n",
       "      <th>B1</th>\n",
       "      <td>8</td>\n",
       "    </tr>\n",
       "    <tr>\n",
       "      <th>B2</th>\n",
       "      <td>8</td>\n",
       "    </tr>\n",
       "    <tr>\n",
       "      <th>B3</th>\n",
       "      <td>5</td>\n",
       "    </tr>\n",
       "    <tr>\n",
       "      <th>C1</th>\n",
       "      <td>6</td>\n",
       "    </tr>\n",
       "    <tr>\n",
       "      <th>C2</th>\n",
       "      <td>4</td>\n",
       "    </tr>\n",
       "    <tr>\n",
       "      <th>C3</th>\n",
       "      <td>1</td>\n",
       "    </tr>\n",
       "  </tbody>\n",
       "</table>\n",
       "</div>"
      ],
      "text/plain": [
       "              CO2Rating\n",
       "EnergyRating           \n",
       "A1                  167\n",
       "A2                   12\n",
       "A3                   12\n",
       "B1                    8\n",
       "B2                    8\n",
       "B3                    5\n",
       "C1                    6\n",
       "C2                    4\n",
       "C3                    1"
      ]
     },
     "execution_count": 14,
     "metadata": {},
     "output_type": "execute_result"
    }
   ],
   "source": [
    "# Checking out the distribution of values where we have negative in the 2 columns.\n",
    "seai[['EnergyRating', 'CO2Rating']][(seai[['BerRating']] < 0).all(1) | \n",
    "                                    (seai[['CO2Rating']] < 0).all(1)].groupby('EnergyRating').count()"
   ]
  },
  {
   "cell_type": "markdown",
   "metadata": {},
   "source": [
    "Interestingly we have people who have lower bounds of energy ratings but still negative CO2 emissions somehow. Perhaps these people have solar panelling but their house rating is simply just poorer. \n",
    "\n",
    "The majority of houses with negative emissions are A1 rated which makes sense to what I would have thought the cause to be if these values were not poor data.\n",
    "\n",
    "I will remove any below a B2 rating as I do not see logically other than solar panelling how this would occur. Regardless these people will skew the data and as such need to be accounted for."
   ]
  },
  {
   "cell_type": "code",
   "execution_count": 15,
   "metadata": {},
   "outputs": [
    {
     "name": "stderr",
     "output_type": "stream",
     "text": [
      "/var/folders/f2/h4nbcthd4cld5t6fzd1x3jg40000gn/T/ipykernel_26939/1009298007.py:2: UserWarning: Boolean Series key will be reindexed to match DataFrame index.\n",
      "  seai_to_drop = seai[seai['EnergyRating'].map(lambda x: x in ['B2', 'B3', 'C1', 'C2', 'C3'])][(seai[['BerRating']] < 0).all(1) |\n"
     ]
    }
   ],
   "source": [
    "# Identify all entries that qualify for removal as above and save them to a new dataframe\n",
    "seai_to_drop = seai[seai['EnergyRating'].map(lambda x: x in ['B2', 'B3', 'C1', 'C2', 'C3'])][(seai[['BerRating']] < 0).all(1) | \n",
    "                                                                                             (seai[['CO2Rating']] < 0).all(1)\n",
    "                                                                                            ]\n",
    "# Drop these index entries from our original dataframe\n",
    "seai = seai.drop(seai_to_drop.index)\n",
    "# Delete the now redundant index dataframe\n",
    "del(seai_to_drop)"
   ]
  },
  {
   "cell_type": "code",
   "execution_count": 16,
   "metadata": {},
   "outputs": [
    {
     "name": "stderr",
     "output_type": "stream",
     "text": [
      "/var/folders/f2/h4nbcthd4cld5t6fzd1x3jg40000gn/T/ipykernel_26939/2974966041.py:2: UserWarning: Boolean Series key will be reindexed to match DataFrame index.\n",
      "  seai[seai['EnergyRating'].map(lambda x: x in ['B2', 'B3', 'C1', 'C2', 'C3'])][(seai[['BerRating']] < 0).all(1) |\n"
     ]
    },
    {
     "data": {
      "text/html": [
       "<div>\n",
       "<style scoped>\n",
       "    .dataframe tbody tr th:only-of-type {\n",
       "        vertical-align: middle;\n",
       "    }\n",
       "\n",
       "    .dataframe tbody tr th {\n",
       "        vertical-align: top;\n",
       "    }\n",
       "\n",
       "    .dataframe thead th {\n",
       "        text-align: right;\n",
       "    }\n",
       "</style>\n",
       "<table border=\"1\" class=\"dataframe\">\n",
       "  <thead>\n",
       "    <tr style=\"text-align: right;\">\n",
       "      <th></th>\n",
       "      <th>CountyName</th>\n",
       "      <th>DwellingTypeDescr</th>\n",
       "      <th>Year_of_Construction</th>\n",
       "      <th>EnergyRating</th>\n",
       "      <th>BerRating</th>\n",
       "      <th>GroundFloorArea(sq m)</th>\n",
       "      <th>CO2Rating</th>\n",
       "      <th>TotalDeliveredEnergy</th>\n",
       "      <th>DateOfAssessment</th>\n",
       "    </tr>\n",
       "  </thead>\n",
       "  <tbody>\n",
       "  </tbody>\n",
       "</table>\n",
       "</div>"
      ],
      "text/plain": [
       "Empty DataFrame\n",
       "Columns: [CountyName, DwellingTypeDescr, Year_of_Construction, EnergyRating, BerRating, GroundFloorArea(sq m), CO2Rating, TotalDeliveredEnergy, DateOfAssessment]\n",
       "Index: []"
      ]
     },
     "execution_count": 16,
     "metadata": {},
     "output_type": "execute_result"
    }
   ],
   "source": [
    "# Check to see if these entries were dropped correctly. Should produce 0 rows\n",
    "seai[seai['EnergyRating'].map(lambda x: x in ['B2', 'B3', 'C1', 'C2', 'C3'])][(seai[['BerRating']] < 0).all(1) | \n",
    "                                    (seai[['CO2Rating']] < 0).all(1)]"
   ]
  },
  {
   "cell_type": "markdown",
   "metadata": {},
   "source": [
    "---"
   ]
  },
  {
   "cell_type": "code",
   "execution_count": 17,
   "metadata": {},
   "outputs": [],
   "source": [
    "# Remove any blank space\n",
    "seai['EnergyRating'] = seai['EnergyRating'].str.strip()\n",
    "# Changing the datatype of the EnergyRating column\n",
    "seai['EnergyRating'] = seai['EnergyRating'].astype('category')\n",
    "# Reorder categories in order of how good they are descending\n",
    "seai['EnergyRating'] = seai['EnergyRating'].cat.reorder_categories(['A1', 'A2', 'A3', 'B1', 'B2', 'B3', 'C1', 'C2', 'C3', 'D1', 'D2', 'E1', 'E2', 'F', 'G'])"
   ]
  },
  {
   "cell_type": "code",
   "execution_count": 18,
   "metadata": {},
   "outputs": [
    {
     "data": {
      "text/plain": [
       "['C2', 'B3', 'C3', 'D2', 'D1', ..., 'B2', 'B1', 'A3', 'A2', 'A1']\n",
       "Length: 15\n",
       "Categories (15, object): ['A1', 'A2', 'A3', 'B1', ..., 'E1', 'E2', 'F', 'G']"
      ]
     },
     "execution_count": 18,
     "metadata": {},
     "output_type": "execute_result"
    }
   ],
   "source": [
    "# Checking the work above is correct\n",
    "seai['EnergyRating'].unique()"
   ]
  },
  {
   "cell_type": "markdown",
   "metadata": {},
   "source": [
    "---"
   ]
  },
  {
   "cell_type": "code",
   "execution_count": 19,
   "metadata": {},
   "outputs": [],
   "source": [
    "# Remove redundant time aspect of date column - regex used to remove 12:00AM from end of all rows\n",
    "seai['DateOfAssessment'] = seai['DateOfAssessment'].str.replace(r'12:00AM$', '')\n",
    "# Convert from string to datetime. Change any nonsense values to NaT\n",
    "seai['DateOfAssessment'] = pd.to_datetime(seai['DateOfAssessment'], errors='coerce')"
   ]
  },
  {
   "cell_type": "code",
   "execution_count": 20,
   "metadata": {},
   "outputs": [
    {
     "data": {
      "text/plain": [
       "count                 1043878\n",
       "unique                   5280\n",
       "top       2019-10-31 00:00:00\n",
       "freq                      662\n",
       "first     2000-01-22 00:00:00\n",
       "last      2109-09-23 00:00:00\n",
       "Name: DateOfAssessment, dtype: object"
      ]
     },
     "execution_count": 20,
     "metadata": {},
     "output_type": "execute_result"
    }
   ],
   "source": [
    "seai['DateOfAssessment'].describe()"
   ]
  },
  {
   "cell_type": "markdown",
   "metadata": {},
   "source": [
    "We still have nonsense date values so we will drop these "
   ]
  },
  {
   "cell_type": "code",
   "execution_count": 21,
   "metadata": {},
   "outputs": [],
   "source": [
    "# Drop any values above 30th June 2022\n",
    "seai = seai[~(seai['DateOfAssessment'] > '2022-06-30')]\n",
    "seai = seai[~seai['DateOfAssessment'].isnull()]"
   ]
  },
  {
   "cell_type": "markdown",
   "metadata": {},
   "source": [
    "---"
   ]
  },
  {
   "cell_type": "code",
   "execution_count": 22,
   "metadata": {},
   "outputs": [],
   "source": [
    "# Drop all duplicates in the dataset and keep the first entry of each\n",
    "seai = seai.drop_duplicates(keep='first')"
   ]
  },
  {
   "cell_type": "markdown",
   "metadata": {},
   "source": [
    "---\n",
    "---"
   ]
  },
  {
   "cell_type": "code",
   "execution_count": 23,
   "metadata": {},
   "outputs": [],
   "source": [
    "# Reset index so it is not included in report putput\n",
    "seai.reset_index(drop=True, inplace=True)"
   ]
  },
  {
   "cell_type": "code",
   "execution_count": 24,
   "metadata": {},
   "outputs": [],
   "source": [
    "# Create a pandas profile report\n",
    "profile_optimised = ProfileReport(seai, title=\"SEAI Data Cleaned Report\", explorative=True)"
   ]
  },
  {
   "cell_type": "code",
   "execution_count": 25,
   "metadata": {},
   "outputs": [
    {
     "name": "stderr",
     "output_type": "stream",
     "text": [
      "Summarize dataset: 100%|██████████| 48/48 [00:15<00:00,  3.20it/s, Completed]                                           \n",
      "Generate report structure: 100%|██████████| 1/1 [00:01<00:00,  1.16s/it]\n",
      "Render HTML: 100%|██████████| 1/1 [00:00<00:00,  2.12it/s]\n",
      "Export report to file: 100%|██████████| 1/1 [00:00<00:00, 301.21it/s]\n"
     ]
    }
   ],
   "source": [
    "# Output the report to a html file to view\n",
    "profile_optimised.to_file(\"../reports/seai_cleaned_profile_report.html\")"
   ]
  },
  {
   "cell_type": "markdown",
   "metadata": {},
   "source": [
    "The new generated report shows we have:\n",
    "- No duplicate rows\n",
    "- No missing values\n",
    "- All fixes made above implemented correctly"
   ]
  },
  {
   "cell_type": "markdown",
   "metadata": {},
   "source": [
    "---"
   ]
  },
  {
   "cell_type": "code",
   "execution_count": 26,
   "metadata": {},
   "outputs": [
    {
     "data": {
      "text/plain": [
       "<AxesSubplot:xlabel='EnergyRating', ylabel='count'>"
      ]
     },
     "execution_count": 26,
     "metadata": {},
     "output_type": "execute_result"
    },
    {
     "data": {
      "image/png": "[encoded data removed]",
      "text/plain": [
       "<Figure size 640x480 with 1 Axes>"
      ]
     },
     "metadata": {},
     "output_type": "display_data"
    }
   ],
   "source": [
    "sns.countplot(\n",
    "             data=seai\n",
    "            ,x='EnergyRating'\n",
    "            ,order=['A1', 'A2', 'A3', 'B1', 'B2', 'B3', 'C1', 'C2', 'C3', 'D1', 'D2', 'E1', 'E2', 'F', 'G']\n",
    "            ,color='#009E73')"
   ]
  },
  {
   "cell_type": "markdown",
   "metadata": {},
   "source": [
    "---"
   ]
  },
  {
   "cell_type": "code",
   "execution_count": 29,
   "metadata": {},
   "outputs": [
    {
     "data": {
      "text/html": [
       "<div>\n",
       "<style scoped>\n",
       "    .dataframe tbody tr th:only-of-type {\n",
       "        vertical-align: middle;\n",
       "    }\n",
       "\n",
       "    .dataframe tbody tr th {\n",
       "        vertical-align: top;\n",
       "    }\n",
       "\n",
       "    .dataframe thead th {\n",
       "        text-align: right;\n",
       "    }\n",
       "</style>\n",
       "<table border=\"1\" class=\"dataframe\">\n",
       "  <thead>\n",
       "    <tr style=\"text-align: right;\">\n",
       "      <th></th>\n",
       "      <th>CountyName</th>\n",
       "      <th>DwellingTypeDescr</th>\n",
       "      <th>Year_of_Construction</th>\n",
       "      <th>EnergyRating</th>\n",
       "      <th>BerRating</th>\n",
       "      <th>GroundFloorArea(sq m)</th>\n",
       "      <th>CO2Rating</th>\n",
       "      <th>TotalDeliveredEnergy</th>\n",
       "      <th>DateOfAssessment</th>\n",
       "    </tr>\n",
       "  </thead>\n",
       "  <tbody>\n",
       "    <tr>\n",
       "      <th>0</th>\n",
       "      <td>Donegal</td>\n",
       "      <td>Detached house</td>\n",
       "      <td>1997</td>\n",
       "      <td>C2</td>\n",
       "      <td>180.01</td>\n",
       "      <td>171.19</td>\n",
       "      <td>45.53</td>\n",
       "      <td>25474.52</td>\n",
       "      <td>2010-10-08</td>\n",
       "    </tr>\n",
       "    <tr>\n",
       "      <th>1</th>\n",
       "      <td>Kildare</td>\n",
       "      <td>Detached house</td>\n",
       "      <td>2010</td>\n",
       "      <td>B3</td>\n",
       "      <td>137.56</td>\n",
       "      <td>242.93</td>\n",
       "      <td>35.66</td>\n",
       "      <td>27654.47</td>\n",
       "      <td>2010-10-19</td>\n",
       "    </tr>\n",
       "    <tr>\n",
       "      <th>2</th>\n",
       "      <td>Dublin</td>\n",
       "      <td>Semi-detached house</td>\n",
       "      <td>1999</td>\n",
       "      <td>C3</td>\n",
       "      <td>223.61</td>\n",
       "      <td>99.38</td>\n",
       "      <td>44.65</td>\n",
       "      <td>17000.04</td>\n",
       "      <td>2010-10-09</td>\n",
       "    </tr>\n",
       "    <tr>\n",
       "      <th>3</th>\n",
       "      <td>Dublin</td>\n",
       "      <td>Semi-detached house</td>\n",
       "      <td>1965</td>\n",
       "      <td>C2</td>\n",
       "      <td>196.99</td>\n",
       "      <td>138.41</td>\n",
       "      <td>37.83</td>\n",
       "      <td>22708.48</td>\n",
       "      <td>2010-10-20</td>\n",
       "    </tr>\n",
       "    <tr>\n",
       "      <th>4</th>\n",
       "      <td>Dublin</td>\n",
       "      <td>Semi-detached house</td>\n",
       "      <td>1985</td>\n",
       "      <td>D2</td>\n",
       "      <td>260.52</td>\n",
       "      <td>127.16</td>\n",
       "      <td>55.07</td>\n",
       "      <td>28182.86</td>\n",
       "      <td>2010-10-21</td>\n",
       "    </tr>\n",
       "    <tr>\n",
       "      <th>...</th>\n",
       "      <td>...</td>\n",
       "      <td>...</td>\n",
       "      <td>...</td>\n",
       "      <td>...</td>\n",
       "      <td>...</td>\n",
       "      <td>...</td>\n",
       "      <td>...</td>\n",
       "      <td>...</td>\n",
       "      <td>...</td>\n",
       "    </tr>\n",
       "    <tr>\n",
       "      <th>1005531</th>\n",
       "      <td>Dublin</td>\n",
       "      <td>Mid-terrace house</td>\n",
       "      <td>2005</td>\n",
       "      <td>C1</td>\n",
       "      <td>158.91</td>\n",
       "      <td>148.17</td>\n",
       "      <td>29.42</td>\n",
       "      <td>NaN</td>\n",
       "      <td>2022-06-28</td>\n",
       "    </tr>\n",
       "    <tr>\n",
       "      <th>1005532</th>\n",
       "      <td>Dublin</td>\n",
       "      <td>Mid-floor apartment</td>\n",
       "      <td>2022</td>\n",
       "      <td>A2</td>\n",
       "      <td>39.01</td>\n",
       "      <td>74.90</td>\n",
       "      <td>7.35</td>\n",
       "      <td>NaN</td>\n",
       "      <td>2022-06-27</td>\n",
       "    </tr>\n",
       "    <tr>\n",
       "      <th>1005533</th>\n",
       "      <td>Dublin</td>\n",
       "      <td>Top-floor apartment</td>\n",
       "      <td>2022</td>\n",
       "      <td>A2</td>\n",
       "      <td>46.90</td>\n",
       "      <td>77.00</td>\n",
       "      <td>8.82</td>\n",
       "      <td>NaN</td>\n",
       "      <td>2022-06-28</td>\n",
       "    </tr>\n",
       "    <tr>\n",
       "      <th>1005534</th>\n",
       "      <td>Donegal</td>\n",
       "      <td>Detached house</td>\n",
       "      <td>1982</td>\n",
       "      <td>D2</td>\n",
       "      <td>282.58</td>\n",
       "      <td>214.18</td>\n",
       "      <td>70.89</td>\n",
       "      <td>52927.53</td>\n",
       "      <td>2022-06-25</td>\n",
       "    </tr>\n",
       "    <tr>\n",
       "      <th>1005535</th>\n",
       "      <td>Dublin</td>\n",
       "      <td>Mid-floor apartment</td>\n",
       "      <td>2021</td>\n",
       "      <td>A2</td>\n",
       "      <td>37.26</td>\n",
       "      <td>81.32</td>\n",
       "      <td>7.33</td>\n",
       "      <td>NaN</td>\n",
       "      <td>2021-12-20</td>\n",
       "    </tr>\n",
       "  </tbody>\n",
       "</table>\n",
       "<p>1005536 rows × 9 columns</p>\n",
       "</div>"
      ],
      "text/plain": [
       "        CountyName    DwellingTypeDescr  Year_of_Construction EnergyRating  \\\n",
       "0          Donegal       Detached house                  1997           C2   \n",
       "1          Kildare       Detached house                  2010           B3   \n",
       "2           Dublin  Semi-detached house                  1999           C3   \n",
       "3           Dublin  Semi-detached house                  1965           C2   \n",
       "4           Dublin  Semi-detached house                  1985           D2   \n",
       "...            ...                  ...                   ...          ...   \n",
       "1005531     Dublin    Mid-terrace house                  2005           C1   \n",
       "1005532     Dublin  Mid-floor apartment                  2022           A2   \n",
       "1005533     Dublin  Top-floor apartment                  2022           A2   \n",
       "1005534    Donegal       Detached house                  1982           D2   \n",
       "1005535     Dublin  Mid-floor apartment                  2021           A2   \n",
       "\n",
       "         BerRating  GroundFloorArea(sq m)  CO2Rating  TotalDeliveredEnergy  \\\n",
       "0           180.01                 171.19      45.53              25474.52   \n",
       "1           137.56                 242.93      35.66              27654.47   \n",
       "2           223.61                  99.38      44.65              17000.04   \n",
       "3           196.99                 138.41      37.83              22708.48   \n",
       "4           260.52                 127.16      55.07              28182.86   \n",
       "...            ...                    ...        ...                   ...   \n",
       "1005531     158.91                 148.17      29.42                   NaN   \n",
       "1005532      39.01                  74.90       7.35                   NaN   \n",
       "1005533      46.90                  77.00       8.82                   NaN   \n",
       "1005534     282.58                 214.18      70.89              52927.53   \n",
       "1005535      37.26                  81.32       7.33                   NaN   \n",
       "\n",
       "        DateOfAssessment  \n",
       "0             2010-10-08  \n",
       "1             2010-10-19  \n",
       "2             2010-10-09  \n",
       "3             2010-10-20  \n",
       "4             2010-10-21  \n",
       "...                  ...  \n",
       "1005531       2022-06-28  \n",
       "1005532       2022-06-27  \n",
       "1005533       2022-06-28  \n",
       "1005534       2022-06-25  \n",
       "1005535       2021-12-20  \n",
       "\n",
       "[1005536 rows x 9 columns]"
      ]
     },
     "execution_count": 29,
     "metadata": {},
     "output_type": "execute_result"
    }
   ],
   "source": [
    "# Taking a look at the SEAI dataset numerical columns\n",
    "seai"
   ]
  },
  {
   "cell_type": "markdown",
   "metadata": {},
   "source": [
    "I want to model out the `TotalDeliveredEnergy` missing values to account for them using a regression based imputation"
   ]
  },
  {
   "cell_type": "markdown",
   "metadata": {},
   "source": [
    "Before I go down that route, is there an easier way to do this?\n",
    "- Could I impute based on the features I already have and use the mode/mean?\n",
    "    - kNN imputation could work well here.\n",
    "        - For this to work, we need to first change any string or categorical features into numerical format. This can be done using One-Hot-Encoding\n",
    "        - We also need to normalise our data as kNN is a distance based metric."
   ]
  },
  {
   "cell_type": "code",
   "execution_count": 45,
   "metadata": {},
   "outputs": [],
   "source": [
    "from sklearn.impute import KNNImputer\n",
    "from sklearn.preprocessing import MinMaxScaler\n",
    "from sklearn.preprocessing import OneHotEncoder\n",
    "from sklearn.preprocessing import LabelEncoder"
   ]
  },
  {
   "cell_type": "code",
   "execution_count": 46,
   "metadata": {},
   "outputs": [],
   "source": [
    "v = np.array(seai['EnergyRating'])"
   ]
  },
  {
   "cell_type": "code",
   "execution_count": 47,
   "metadata": {},
   "outputs": [],
   "source": [
    "lb = LabelEncoder()\n",
    "int_encoded = lb.fit_transform(v)"
   ]
  },
  {
   "cell_type": "code",
   "execution_count": 50,
   "metadata": {},
   "outputs": [
    {
     "name": "stdout",
     "output_type": "stream",
     "text": [
      "[[0. 0. 0. ... 0. 0. 0.]\n",
      " [0. 0. 0. ... 0. 0. 0.]\n",
      " [0. 0. 0. ... 0. 0. 0.]\n",
      " ...\n",
      " [0. 1. 0. ... 0. 0. 0.]\n",
      " [0. 0. 0. ... 0. 0. 0.]\n",
      " [0. 1. 0. ... 0. 0. 0.]]\n"
     ]
    }
   ],
   "source": [
    "onehot_encoder = OneHotEncoder(sparse=False)\n",
    "int_encoded = int_encoded.reshape(len(int_encoded), 1)\n",
    "onehot_encoded = onehot_encoder.fit_transform(int_encoded)\n",
    "print(onehot_encoded)"
   ]
  },
  {
   "cell_type": "code",
   "execution_count": 53,
   "metadata": {},
   "outputs": [
    {
     "name": "stdout",
     "output_type": "stream",
     "text": [
      "['C2']\n"
     ]
    }
   ],
   "source": [
    "inverted = lb.inverse_transform([np.argmax(onehot_encoded[0, :])])\n",
    "print(inverted)"
   ]
  },
  {
   "cell_type": "code",
   "execution_count": 54,
   "metadata": {},
   "outputs": [
    {
     "data": {
      "text/html": [
       "<div>\n",
       "<style scoped>\n",
       "    .dataframe tbody tr th:only-of-type {\n",
       "        vertical-align: middle;\n",
       "    }\n",
       "\n",
       "    .dataframe tbody tr th {\n",
       "        vertical-align: top;\n",
       "    }\n",
       "\n",
       "    .dataframe thead th {\n",
       "        text-align: right;\n",
       "    }\n",
       "</style>\n",
       "<table border=\"1\" class=\"dataframe\">\n",
       "  <thead>\n",
       "    <tr style=\"text-align: right;\">\n",
       "      <th></th>\n",
       "      <th>0</th>\n",
       "      <th>1</th>\n",
       "      <th>2</th>\n",
       "      <th>3</th>\n",
       "      <th>4</th>\n",
       "      <th>5</th>\n",
       "      <th>6</th>\n",
       "      <th>7</th>\n",
       "      <th>8</th>\n",
       "      <th>9</th>\n",
       "      <th>10</th>\n",
       "      <th>11</th>\n",
       "      <th>12</th>\n",
       "      <th>13</th>\n",
       "      <th>14</th>\n",
       "    </tr>\n",
       "  </thead>\n",
       "  <tbody>\n",
       "    <tr>\n",
       "      <th>0</th>\n",
       "      <td>0.00</td>\n",
       "      <td>0.00</td>\n",
       "      <td>0.00</td>\n",
       "      <td>0.00</td>\n",
       "      <td>0.00</td>\n",
       "      <td>0.00</td>\n",
       "      <td>0.00</td>\n",
       "      <td>1.00</td>\n",
       "      <td>0.00</td>\n",
       "      <td>0.00</td>\n",
       "      <td>0.00</td>\n",
       "      <td>0.00</td>\n",
       "      <td>0.00</td>\n",
       "      <td>0.00</td>\n",
       "      <td>0.00</td>\n",
       "    </tr>\n",
       "    <tr>\n",
       "      <th>1</th>\n",
       "      <td>0.00</td>\n",
       "      <td>0.00</td>\n",
       "      <td>0.00</td>\n",
       "      <td>0.00</td>\n",
       "      <td>0.00</td>\n",
       "      <td>1.00</td>\n",
       "      <td>0.00</td>\n",
       "      <td>0.00</td>\n",
       "      <td>0.00</td>\n",
       "      <td>0.00</td>\n",
       "      <td>0.00</td>\n",
       "      <td>0.00</td>\n",
       "      <td>0.00</td>\n",
       "      <td>0.00</td>\n",
       "      <td>0.00</td>\n",
       "    </tr>\n",
       "    <tr>\n",
       "      <th>2</th>\n",
       "      <td>0.00</td>\n",
       "      <td>0.00</td>\n",
       "      <td>0.00</td>\n",
       "      <td>0.00</td>\n",
       "      <td>0.00</td>\n",
       "      <td>0.00</td>\n",
       "      <td>0.00</td>\n",
       "      <td>0.00</td>\n",
       "      <td>1.00</td>\n",
       "      <td>0.00</td>\n",
       "      <td>0.00</td>\n",
       "      <td>0.00</td>\n",
       "      <td>0.00</td>\n",
       "      <td>0.00</td>\n",
       "      <td>0.00</td>\n",
       "    </tr>\n",
       "    <tr>\n",
       "      <th>3</th>\n",
       "      <td>0.00</td>\n",
       "      <td>0.00</td>\n",
       "      <td>0.00</td>\n",
       "      <td>0.00</td>\n",
       "      <td>0.00</td>\n",
       "      <td>0.00</td>\n",
       "      <td>0.00</td>\n",
       "      <td>1.00</td>\n",
       "      <td>0.00</td>\n",
       "      <td>0.00</td>\n",
       "      <td>0.00</td>\n",
       "      <td>0.00</td>\n",
       "      <td>0.00</td>\n",
       "      <td>0.00</td>\n",
       "      <td>0.00</td>\n",
       "    </tr>\n",
       "    <tr>\n",
       "      <th>4</th>\n",
       "      <td>0.00</td>\n",
       "      <td>0.00</td>\n",
       "      <td>0.00</td>\n",
       "      <td>0.00</td>\n",
       "      <td>0.00</td>\n",
       "      <td>0.00</td>\n",
       "      <td>0.00</td>\n",
       "      <td>0.00</td>\n",
       "      <td>0.00</td>\n",
       "      <td>0.00</td>\n",
       "      <td>1.00</td>\n",
       "      <td>0.00</td>\n",
       "      <td>0.00</td>\n",
       "      <td>0.00</td>\n",
       "      <td>0.00</td>\n",
       "    </tr>\n",
       "    <tr>\n",
       "      <th>...</th>\n",
       "      <td>...</td>\n",
       "      <td>...</td>\n",
       "      <td>...</td>\n",
       "      <td>...</td>\n",
       "      <td>...</td>\n",
       "      <td>...</td>\n",
       "      <td>...</td>\n",
       "      <td>...</td>\n",
       "      <td>...</td>\n",
       "      <td>...</td>\n",
       "      <td>...</td>\n",
       "      <td>...</td>\n",
       "      <td>...</td>\n",
       "      <td>...</td>\n",
       "      <td>...</td>\n",
       "    </tr>\n",
       "    <tr>\n",
       "      <th>1005531</th>\n",
       "      <td>0.00</td>\n",
       "      <td>0.00</td>\n",
       "      <td>0.00</td>\n",
       "      <td>0.00</td>\n",
       "      <td>0.00</td>\n",
       "      <td>0.00</td>\n",
       "      <td>1.00</td>\n",
       "      <td>0.00</td>\n",
       "      <td>0.00</td>\n",
       "      <td>0.00</td>\n",
       "      <td>0.00</td>\n",
       "      <td>0.00</td>\n",
       "      <td>0.00</td>\n",
       "      <td>0.00</td>\n",
       "      <td>0.00</td>\n",
       "    </tr>\n",
       "    <tr>\n",
       "      <th>1005532</th>\n",
       "      <td>0.00</td>\n",
       "      <td>1.00</td>\n",
       "      <td>0.00</td>\n",
       "      <td>0.00</td>\n",
       "      <td>0.00</td>\n",
       "      <td>0.00</td>\n",
       "      <td>0.00</td>\n",
       "      <td>0.00</td>\n",
       "      <td>0.00</td>\n",
       "      <td>0.00</td>\n",
       "      <td>0.00</td>\n",
       "      <td>0.00</td>\n",
       "      <td>0.00</td>\n",
       "      <td>0.00</td>\n",
       "      <td>0.00</td>\n",
       "    </tr>\n",
       "    <tr>\n",
       "      <th>1005533</th>\n",
       "      <td>0.00</td>\n",
       "      <td>1.00</td>\n",
       "      <td>0.00</td>\n",
       "      <td>0.00</td>\n",
       "      <td>0.00</td>\n",
       "      <td>0.00</td>\n",
       "      <td>0.00</td>\n",
       "      <td>0.00</td>\n",
       "      <td>0.00</td>\n",
       "      <td>0.00</td>\n",
       "      <td>0.00</td>\n",
       "      <td>0.00</td>\n",
       "      <td>0.00</td>\n",
       "      <td>0.00</td>\n",
       "      <td>0.00</td>\n",
       "    </tr>\n",
       "    <tr>\n",
       "      <th>1005534</th>\n",
       "      <td>0.00</td>\n",
       "      <td>0.00</td>\n",
       "      <td>0.00</td>\n",
       "      <td>0.00</td>\n",
       "      <td>0.00</td>\n",
       "      <td>0.00</td>\n",
       "      <td>0.00</td>\n",
       "      <td>0.00</td>\n",
       "      <td>0.00</td>\n",
       "      <td>0.00</td>\n",
       "      <td>1.00</td>\n",
       "      <td>0.00</td>\n",
       "      <td>0.00</td>\n",
       "      <td>0.00</td>\n",
       "      <td>0.00</td>\n",
       "    </tr>\n",
       "    <tr>\n",
       "      <th>1005535</th>\n",
       "      <td>0.00</td>\n",
       "      <td>1.00</td>\n",
       "      <td>0.00</td>\n",
       "      <td>0.00</td>\n",
       "      <td>0.00</td>\n",
       "      <td>0.00</td>\n",
       "      <td>0.00</td>\n",
       "      <td>0.00</td>\n",
       "      <td>0.00</td>\n",
       "      <td>0.00</td>\n",
       "      <td>0.00</td>\n",
       "      <td>0.00</td>\n",
       "      <td>0.00</td>\n",
       "      <td>0.00</td>\n",
       "      <td>0.00</td>\n",
       "    </tr>\n",
       "  </tbody>\n",
       "</table>\n",
       "<p>1005536 rows × 15 columns</p>\n",
       "</div>"
      ],
      "text/plain": [
       "          0    1    2    3    4    5    6    7    8    9    10   11   12   13  \\\n",
       "0       0.00 0.00 0.00 0.00 0.00 0.00 0.00 1.00 0.00 0.00 0.00 0.00 0.00 0.00   \n",
       "1       0.00 0.00 0.00 0.00 0.00 1.00 0.00 0.00 0.00 0.00 0.00 0.00 0.00 0.00   \n",
       "2       0.00 0.00 0.00 0.00 0.00 0.00 0.00 0.00 1.00 0.00 0.00 0.00 0.00 0.00   \n",
       "3       0.00 0.00 0.00 0.00 0.00 0.00 0.00 1.00 0.00 0.00 0.00 0.00 0.00 0.00   \n",
       "4       0.00 0.00 0.00 0.00 0.00 0.00 0.00 0.00 0.00 0.00 1.00 0.00 0.00 0.00   \n",
       "...      ...  ...  ...  ...  ...  ...  ...  ...  ...  ...  ...  ...  ...  ...   \n",
       "1005531 0.00 0.00 0.00 0.00 0.00 0.00 1.00 0.00 0.00 0.00 0.00 0.00 0.00 0.00   \n",
       "1005532 0.00 1.00 0.00 0.00 0.00 0.00 0.00 0.00 0.00 0.00 0.00 0.00 0.00 0.00   \n",
       "1005533 0.00 1.00 0.00 0.00 0.00 0.00 0.00 0.00 0.00 0.00 0.00 0.00 0.00 0.00   \n",
       "1005534 0.00 0.00 0.00 0.00 0.00 0.00 0.00 0.00 0.00 0.00 1.00 0.00 0.00 0.00   \n",
       "1005535 0.00 1.00 0.00 0.00 0.00 0.00 0.00 0.00 0.00 0.00 0.00 0.00 0.00 0.00   \n",
       "\n",
       "          14  \n",
       "0       0.00  \n",
       "1       0.00  \n",
       "2       0.00  \n",
       "3       0.00  \n",
       "4       0.00  \n",
       "...      ...  \n",
       "1005531 0.00  \n",
       "1005532 0.00  \n",
       "1005533 0.00  \n",
       "1005534 0.00  \n",
       "1005535 0.00  \n",
       "\n",
       "[1005536 rows x 15 columns]"
      ]
     },
     "execution_count": 54,
     "metadata": {},
     "output_type": "execute_result"
    }
   ],
   "source": [
    "pd.DataFrame(onehot_encoded)"
   ]
  },
  {
   "cell_type": "code",
   "execution_count": 55,
   "metadata": {},
   "outputs": [],
   "source": [
    "def encode_and_bind(original_dataframe, feature_to_encode):\n",
    "    dummies = pd.get_dummies(original_dataframe[[feature_to_encode]])\n",
    "    res = pd.concat([original_dataframe, dummies], axis=1)\n",
    "    return(res)"
   ]
  },
  {
   "cell_type": "code",
   "execution_count": null,
   "metadata": {},
   "outputs": [],
   "source": []
  }
 ],
 "metadata": {
  "kernelspec": {
   "display_name": "Python 3.10.5 64-bit ('masters_thesis')",
   "language": "python",
   "name": "python3"
  },
  "language_info": {
   "codemirror_mode": {
    "name": "ipython",
    "version": 3
   },
   "file_extension": ".py",
   "mimetype": "text/x-python",
   "name": "python",
   "nbconvert_exporter": "python",
   "pygments_lexer": "ipython3",
   "version": "3.10.5"
  },
  "orig_nbformat": 4,
  "vscode": {
   "interpreter": {
    "hash": "ecf9425976ca1d495f6ff342e01edb9b99409cdaa6c55166a5169aaab36ca909"
   }
  }
 },
 "nbformat": 4,
 "nbformat_minor": 2
}
