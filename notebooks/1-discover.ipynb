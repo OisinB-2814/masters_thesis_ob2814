{
 "cells": [
  {
   "cell_type": "markdown",
   "metadata": {},
   "source": [
    "# 1. Discover \n",
    "#### A deep dive into the problem we are trying to solve"
   ]
  },
  {
   "cell_type": "markdown",
   "metadata": {},
   "source": [
    "> Successful people have fear, successful people have doubts, and successful people have worry. They just don’t let these feelings stop them."
   ]
  },
  {
   "cell_type": "markdown",
   "metadata": {},
   "source": [
    "This section covers the discover phase of the project lifecycle\n",
    "\n",
    "This phase covers:\n",
    "- An idea of how AI can help solve a particular problem (done)\n",
    "    - Inspirtation of this idea (done)\n",
    "- Building research questions (done)\n",
    "- Literature review of work done in the area of energy (done)\n",
    "- What is the end in mind? (done)\n",
    "- Hypothesis formulation (done)\n"
   ]
  },
  {
   "cell_type": "markdown",
   "metadata": {},
   "source": [
    "---"
   ]
  },
  {
   "cell_type": "markdown",
   "metadata": {},
   "source": [
    "#### 1. Ideation\n",
    "\n",
    "The goal of this thesis is to model energy usage for households using generally\n",
    "accessible household data, and to highlight the uses for this model, not just for\n",
    "the home owners, but also general sustainability bodies in government, in the\n",
    "focus on driving to a net zero target by 2050."
   ]
  },
  {
   "cell_type": "markdown",
   "metadata": {},
   "source": [
    "#### 2. Research Questions\n",
    "\n",
    "**RQ1** \n",
    "- What are the data requirements for modelling energy usage for house-\n",
    "holds?\n",
    "\n",
    "**RQ2** \n",
    "- How should machine learning be applied to best predict household energy\n",
    "efficiency?\n",
    "\n",
    "**RQ3** \n",
    "- How can users effectively interact with and gain insight about the house-\n",
    "hold base from this model?"
   ]
  },
  {
   "cell_type": "markdown",
   "metadata": {},
   "source": [
    "#### 3. Literature Review\n",
    "\n",
    "Covered in Chapter 3 of Thesis Report"
   ]
  },
  {
   "cell_type": "markdown",
   "metadata": {},
   "source": [
    "#### 4. End in Mind\n",
    "\n",
    "The end goal of this work is to develop a model that can predict energy efficiency for home owners and governing bodies, overlay a dashboard GUI structure on top of this that can be used either in order to understand the personalised journey of each home they dealt with."
   ]
  },
  {
   "cell_type": "markdown",
   "metadata": {},
   "source": [
    "#### 5. Hypothesis Formulation\n",
    "\n",
    "**The BER of households can be predicted using general household\n",
    "characteristics to an accuracy of 80%**"
   ]
  }
 ],
 "metadata": {
  "kernelspec": {
   "display_name": "Python 3.10.5 64-bit ('3.10.5')",
   "language": "python",
   "name": "python3"
  },
  "language_info": {
   "name": "python",
   "version": "3.10.5"
  },
  "orig_nbformat": 4,
  "vscode": {
   "interpreter": {
    "hash": "b90be3f545add2680d4342791cb9b96cf79cf23e9c89694d43702045508e8a43"
   }
  }
 },
 "nbformat": 4,
 "nbformat_minor": 2
}
