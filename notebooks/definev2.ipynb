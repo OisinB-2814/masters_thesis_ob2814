{
 "cells": [
  {
   "cell_type": "markdown",
   "metadata": {},
   "source": [
    "# Define\n",
    "\n"
   ]
  },
  {
   "cell_type": "markdown",
   "metadata": {},
   "source": [
    "Now that the initial hypothesis has been defined, we can focus on the following questions in the define phase:\n",
    "- What matters most?\n",
    "    - The cleaning and imputration of missing values in the data is essential for informing our modelling\n",
    "- What is feasible?\n",
    "    - What can be done that will be possible in short computation times\n",
    "\n",
    "The number 1 goal to keep in mind in the define phase is that we are defining a product around a user, not programming a user around a product."
   ]
  },
  {
   "cell_type": "markdown",
   "metadata": {},
   "source": [
    "#### 0. Data Collection & Analysis\n",
    "\n",
    "Data was gathered from [SEAI](https://ndber.seai.ie/BERResearchTool/ber/search.aspx) who we assume are our mortgage customers, who had a valid energy spend accounted for, as well as their mortgage property details like year of constrction etc.\n",
    "\n",
    "The SEAI dataset can help us determine the \n",
    "\n",
    "This now sets up the body of work aligned with the define phase of this thesis.\n",
    "\n",
    "Dwelling dimensions, orientation, \n",
    "ventilation, dwelling fabric, water heating, lighting, space heating, heating controls and \n",
    "fuel type influence the building energy rating and must all be considered when \n",
    "determining the actual rating and where potential improvements could be made."
   ]
  },
  {
   "cell_type": "code",
   "execution_count": 1,
   "metadata": {},
   "outputs": [
    {
     "name": "stderr",
     "output_type": "stream",
     "text": [
      "/Users/oisinbrannock/.pyenv/versions/3.10.5/envs/masters_thesis/lib/python3.10/site-packages/tqdm/auto.py:22: TqdmWarning: IProgress not found. Please update jupyter and ipywidgets. See https://ipywidgets.readthedocs.io/en/stable/user_install.html\n",
      "  from .autonotebook import tqdm as notebook_tqdm\n"
     ]
    }
   ],
   "source": [
    "# Read in libraries needed for analysis\n",
    "import pandas as pd\n",
    "import warnings\n",
    "warnings.simplefilter(action='ignore', category=FutureWarning) # Suppress all future warnings\n",
    "pd.set_option('display.float_format', lambda x: '%.2f' % x) # Leaves all pandas calculations to 2 decimal places to avoid SN\n",
    "import numpy as np\n",
    "from pandas_profiling import ProfileReport\n",
    "import matplotlib.pyplot as plt\n",
    "import seaborn as sns\n",
    "import random\n",
    "\n",
    "# Set a random seed so analysis is replicable\n",
    "random.seed(2814)"
   ]
  },
  {
   "cell_type": "code",
   "execution_count": 2,
   "metadata": {},
   "outputs": [
    {
     "name": "stderr",
     "output_type": "stream",
     "text": [
      "/var/folders/f2/h4nbcthd4cld5t6fzd1x3jg40000gn/T/ipykernel_21063/11886991.py:2: DtypeWarning: Columns (71) have mixed types. Specify dtype option on import or set low_memory=False.\n",
      "  seai = pd.read_table(\n"
     ]
    }
   ],
   "source": [
    "# Pull in the SEAI dataset to use for analysis\n",
    "seai = pd.read_table( \n",
    "    '../data/external/BERPublicSearch/BERPublicsearch.txt'\n",
    "    ,usecols=[  'CountyName'\n",
    "              , 'DwellingTypeDescr'\n",
    "              , 'Year_of_Construction'\n",
    "              , 'GroundFloorArea(sq m)'\n",
    "              , 'EnergyRating'\n",
    "              , 'BerRating'\n",
    "              , 'CO2Rating'\n",
    "              , 'TotalDeliveredEnergy'\n",
    "              , 'InsulationType'\n",
    "              , 'InsulationThickness'\n",
    "              , 'MainSpaceHeatingFuel'\n",
    "              , 'MainWaterHeatingFuel'\n",
    "              , 'NoOfSidesSheltered'\n",
    "              , 'StructureType'\n",
    "              , 'VentilationMethod']\n",
    "    ,encoding = 'Latin-1'\n",
    ")"
   ]
  },
  {
   "cell_type": "code",
   "execution_count": 3,
   "metadata": {},
   "outputs": [
    {
     "data": {
      "text/html": [
       "<div>\n",
       "<style scoped>\n",
       "    .dataframe tbody tr th:only-of-type {\n",
       "        vertical-align: middle;\n",
       "    }\n",
       "\n",
       "    .dataframe tbody tr th {\n",
       "        vertical-align: top;\n",
       "    }\n",
       "\n",
       "    .dataframe thead th {\n",
       "        text-align: right;\n",
       "    }\n",
       "</style>\n",
       "<table border=\"1\" class=\"dataframe\">\n",
       "  <thead>\n",
       "    <tr style=\"text-align: right;\">\n",
       "      <th></th>\n",
       "      <th>CountyName</th>\n",
       "      <th>DwellingTypeDescr</th>\n",
       "      <th>Year_of_Construction</th>\n",
       "      <th>EnergyRating</th>\n",
       "      <th>BerRating</th>\n",
       "      <th>GroundFloorArea(sq m)</th>\n",
       "      <th>CO2Rating</th>\n",
       "      <th>MainSpaceHeatingFuel</th>\n",
       "      <th>MainWaterHeatingFuel</th>\n",
       "      <th>VentilationMethod</th>\n",
       "      <th>StructureType</th>\n",
       "      <th>NoOfSidesSheltered</th>\n",
       "      <th>InsulationType</th>\n",
       "      <th>InsulationThickness</th>\n",
       "      <th>TotalDeliveredEnergy</th>\n",
       "    </tr>\n",
       "  </thead>\n",
       "  <tbody>\n",
       "    <tr>\n",
       "      <th>0</th>\n",
       "      <td>Co. Donegal</td>\n",
       "      <td>Detached house</td>\n",
       "      <td>1997</td>\n",
       "      <td>C2</td>\n",
       "      <td>180.01</td>\n",
       "      <td>171.19</td>\n",
       "      <td>45.53</td>\n",
       "      <td>Heating Oil</td>\n",
       "      <td>Heating Oil</td>\n",
       "      <td>Natural vent.</td>\n",
       "      <td>Masonry</td>\n",
       "      <td>1.00</td>\n",
       "      <td>Factory Insulated</td>\n",
       "      <td>20.00</td>\n",
       "      <td>25474.52</td>\n",
       "    </tr>\n",
       "    <tr>\n",
       "      <th>1</th>\n",
       "      <td>Co. Kildare</td>\n",
       "      <td>Detached house</td>\n",
       "      <td>2010</td>\n",
       "      <td>B3</td>\n",
       "      <td>137.56</td>\n",
       "      <td>242.93</td>\n",
       "      <td>35.66</td>\n",
       "      <td>Heating Oil</td>\n",
       "      <td>Heating Oil</td>\n",
       "      <td>Natural vent.</td>\n",
       "      <td>Masonry</td>\n",
       "      <td>2.00</td>\n",
       "      <td>Factory Insulated</td>\n",
       "      <td>50.00</td>\n",
       "      <td>27654.47</td>\n",
       "    </tr>\n",
       "    <tr>\n",
       "      <th>2</th>\n",
       "      <td>Co. Dublin</td>\n",
       "      <td>Semi-detached house</td>\n",
       "      <td>1999</td>\n",
       "      <td>C3</td>\n",
       "      <td>223.61</td>\n",
       "      <td>99.38</td>\n",
       "      <td>44.65</td>\n",
       "      <td>Mains Gas</td>\n",
       "      <td>Mains Gas</td>\n",
       "      <td>Natural vent.</td>\n",
       "      <td>Masonry</td>\n",
       "      <td>3.00</td>\n",
       "      <td>Loose Jacket</td>\n",
       "      <td>20.00</td>\n",
       "      <td>17000.04</td>\n",
       "    </tr>\n",
       "    <tr>\n",
       "      <th>3</th>\n",
       "      <td>Dublin 11</td>\n",
       "      <td>Semi-detached house</td>\n",
       "      <td>1965</td>\n",
       "      <td>C2</td>\n",
       "      <td>196.99</td>\n",
       "      <td>138.41</td>\n",
       "      <td>37.83</td>\n",
       "      <td>Mains Gas</td>\n",
       "      <td>Mains Gas</td>\n",
       "      <td>Natural vent.</td>\n",
       "      <td>Masonry</td>\n",
       "      <td>2.00</td>\n",
       "      <td>NaN</td>\n",
       "      <td>NaN</td>\n",
       "      <td>22708.48</td>\n",
       "    </tr>\n",
       "    <tr>\n",
       "      <th>4</th>\n",
       "      <td>Dublin 22</td>\n",
       "      <td>Semi-detached house</td>\n",
       "      <td>1985</td>\n",
       "      <td>D2</td>\n",
       "      <td>260.52</td>\n",
       "      <td>127.16</td>\n",
       "      <td>55.07</td>\n",
       "      <td>Mains Gas</td>\n",
       "      <td>Mains Gas</td>\n",
       "      <td>Natural vent.</td>\n",
       "      <td>Masonry</td>\n",
       "      <td>2.00</td>\n",
       "      <td>Loose Jacket</td>\n",
       "      <td>100.00</td>\n",
       "      <td>28182.86</td>\n",
       "    </tr>\n",
       "    <tr>\n",
       "      <th>...</th>\n",
       "      <td>...</td>\n",
       "      <td>...</td>\n",
       "      <td>...</td>\n",
       "      <td>...</td>\n",
       "      <td>...</td>\n",
       "      <td>...</td>\n",
       "      <td>...</td>\n",
       "      <td>...</td>\n",
       "      <td>...</td>\n",
       "      <td>...</td>\n",
       "      <td>...</td>\n",
       "      <td>...</td>\n",
       "      <td>...</td>\n",
       "      <td>...</td>\n",
       "      <td>...</td>\n",
       "    </tr>\n",
       "    <tr>\n",
       "      <th>1043905</th>\n",
       "      <td>Co. Donegal</td>\n",
       "      <td>Detached house</td>\n",
       "      <td>1982</td>\n",
       "      <td>D2</td>\n",
       "      <td>282.58</td>\n",
       "      <td>214.18</td>\n",
       "      <td>70.89</td>\n",
       "      <td>Heating Oil</td>\n",
       "      <td>Heating Oil</td>\n",
       "      <td>Natural vent.</td>\n",
       "      <td>Masonry</td>\n",
       "      <td>1.00</td>\n",
       "      <td>NaN</td>\n",
       "      <td>NaN</td>\n",
       "      <td>52927.53</td>\n",
       "    </tr>\n",
       "    <tr>\n",
       "      <th>1043906</th>\n",
       "      <td>Dublin 6</td>\n",
       "      <td>Mid-terrace house</td>\n",
       "      <td>1900</td>\n",
       "      <td>G</td>\n",
       "      <td>998.14</td>\n",
       "      <td>99.77</td>\n",
       "      <td>317.99</td>\n",
       "      <td>Manufactured Smokeless Fuel</td>\n",
       "      <td>Electricity</td>\n",
       "      <td>Natural vent.</td>\n",
       "      <td>Masonry</td>\n",
       "      <td>4.00</td>\n",
       "      <td>NaN</td>\n",
       "      <td>NaN</td>\n",
       "      <td>NaN</td>\n",
       "    </tr>\n",
       "    <tr>\n",
       "      <th>1043907</th>\n",
       "      <td>Dublin 1</td>\n",
       "      <td>Mid-floor apartment</td>\n",
       "      <td>2021</td>\n",
       "      <td>A2</td>\n",
       "      <td>37.26</td>\n",
       "      <td>81.32</td>\n",
       "      <td>7.33</td>\n",
       "      <td>NaN</td>\n",
       "      <td>NaN</td>\n",
       "      <td>Whole house extract vent.</td>\n",
       "      <td>Masonry</td>\n",
       "      <td>2.00</td>\n",
       "      <td>NaN</td>\n",
       "      <td>NaN</td>\n",
       "      <td>NaN</td>\n",
       "    </tr>\n",
       "    <tr>\n",
       "      <th>1043908</th>\n",
       "      <td>Dublin 1</td>\n",
       "      <td>Mid-floor apartment</td>\n",
       "      <td>2022</td>\n",
       "      <td>A2</td>\n",
       "      <td>36.05</td>\n",
       "      <td>82.09</td>\n",
       "      <td>6.76</td>\n",
       "      <td>NaN</td>\n",
       "      <td>NaN</td>\n",
       "      <td>Bal.whole mech.vent heat recvr</td>\n",
       "      <td>Masonry</td>\n",
       "      <td>4.00</td>\n",
       "      <td>NaN</td>\n",
       "      <td>NaN</td>\n",
       "      <td>NaN</td>\n",
       "    </tr>\n",
       "    <tr>\n",
       "      <th>1043909</th>\n",
       "      <td>Co. Monaghan</td>\n",
       "      <td>Detached house</td>\n",
       "      <td>2013</td>\n",
       "      <td>B1</td>\n",
       "      <td>90.57</td>\n",
       "      <td>334.35</td>\n",
       "      <td>19.66</td>\n",
       "      <td>Electricity</td>\n",
       "      <td>Electricity</td>\n",
       "      <td>Bal.whole mech.vent heat recvr</td>\n",
       "      <td>Timber or Steel Frame</td>\n",
       "      <td>1.00</td>\n",
       "      <td>NaN</td>\n",
       "      <td>NaN</td>\n",
       "      <td>NaN</td>\n",
       "    </tr>\n",
       "  </tbody>\n",
       "</table>\n",
       "<p>1043910 rows × 15 columns</p>\n",
       "</div>"
      ],
      "text/plain": [
       "           CountyName    DwellingTypeDescr  Year_of_Construction EnergyRating  \\\n",
       "0         Co. Donegal       Detached house                  1997           C2   \n",
       "1         Co. Kildare       Detached house                  2010           B3   \n",
       "2          Co. Dublin  Semi-detached house                  1999           C3   \n",
       "3           Dublin 11  Semi-detached house                  1965           C2   \n",
       "4           Dublin 22  Semi-detached house                  1985           D2   \n",
       "...               ...                  ...                   ...          ...   \n",
       "1043905   Co. Donegal       Detached house                  1982           D2   \n",
       "1043906      Dublin 6    Mid-terrace house                  1900           G    \n",
       "1043907      Dublin 1  Mid-floor apartment                  2021           A2   \n",
       "1043908      Dublin 1  Mid-floor apartment                  2022           A2   \n",
       "1043909  Co. Monaghan       Detached house                  2013           B1   \n",
       "\n",
       "         BerRating  GroundFloorArea(sq m)  CO2Rating  \\\n",
       "0           180.01                 171.19      45.53   \n",
       "1           137.56                 242.93      35.66   \n",
       "2           223.61                  99.38      44.65   \n",
       "3           196.99                 138.41      37.83   \n",
       "4           260.52                 127.16      55.07   \n",
       "...            ...                    ...        ...   \n",
       "1043905     282.58                 214.18      70.89   \n",
       "1043906     998.14                  99.77     317.99   \n",
       "1043907      37.26                  81.32       7.33   \n",
       "1043908      36.05                  82.09       6.76   \n",
       "1043909      90.57                 334.35      19.66   \n",
       "\n",
       "                   MainSpaceHeatingFuel            MainWaterHeatingFuel  \\\n",
       "0        Heating Oil                     Heating Oil                      \n",
       "1        Heating Oil                     Heating Oil                      \n",
       "2        Mains Gas                       Mains Gas                        \n",
       "3        Mains Gas                       Mains Gas                        \n",
       "4        Mains Gas                       Mains Gas                        \n",
       "...                                 ...                             ...   \n",
       "1043905  Heating Oil                     Heating Oil                      \n",
       "1043906  Manufactured Smokeless Fuel     Electricity                      \n",
       "1043907                             NaN                             NaN   \n",
       "1043908                             NaN                             NaN   \n",
       "1043909  Electricity                     Electricity                      \n",
       "\n",
       "                      VentilationMethod                   StructureType  \\\n",
       "0                         Natural vent.  Masonry                          \n",
       "1                         Natural vent.  Masonry                          \n",
       "2                         Natural vent.  Masonry                          \n",
       "3                         Natural vent.  Masonry                          \n",
       "4                         Natural vent.  Masonry                          \n",
       "...                                 ...                             ...   \n",
       "1043905                   Natural vent.  Masonry                          \n",
       "1043906                   Natural vent.  Masonry                          \n",
       "1043907       Whole house extract vent.  Masonry                          \n",
       "1043908  Bal.whole mech.vent heat recvr  Masonry                          \n",
       "1043909  Bal.whole mech.vent heat recvr  Timber or Steel Frame            \n",
       "\n",
       "         NoOfSidesSheltered                  InsulationType  \\\n",
       "0                      1.00  Factory Insulated                \n",
       "1                      2.00  Factory Insulated                \n",
       "2                      3.00  Loose Jacket                     \n",
       "3                      2.00                             NaN   \n",
       "4                      2.00  Loose Jacket                     \n",
       "...                     ...                             ...   \n",
       "1043905                1.00                             NaN   \n",
       "1043906                4.00                             NaN   \n",
       "1043907                2.00                             NaN   \n",
       "1043908                4.00                             NaN   \n",
       "1043909                1.00                             NaN   \n",
       "\n",
       "         InsulationThickness  TotalDeliveredEnergy  \n",
       "0                      20.00              25474.52  \n",
       "1                      50.00              27654.47  \n",
       "2                      20.00              17000.04  \n",
       "3                        NaN              22708.48  \n",
       "4                     100.00              28182.86  \n",
       "...                      ...                   ...  \n",
       "1043905                  NaN              52927.53  \n",
       "1043906                  NaN                   NaN  \n",
       "1043907                  NaN                   NaN  \n",
       "1043908                  NaN                   NaN  \n",
       "1043909                  NaN                   NaN  \n",
       "\n",
       "[1043910 rows x 15 columns]"
      ]
     },
     "execution_count": 3,
     "metadata": {},
     "output_type": "execute_result"
    }
   ],
   "source": [
    "# High level overview of the dataset\n",
    "seai"
   ]
  },
  {
   "cell_type": "code",
   "execution_count": 4,
   "metadata": {},
   "outputs": [],
   "source": [
    "# Get rid of all underscores to avoid issues later with encoding with dummy variables\n",
    "seai.columns = seai.columns.str.replace('_', '')"
   ]
  },
  {
   "cell_type": "code",
   "execution_count": 5,
   "metadata": {},
   "outputs": [
    {
     "data": {
      "text/html": [
       "<div>\n",
       "<style scoped>\n",
       "    .dataframe tbody tr th:only-of-type {\n",
       "        vertical-align: middle;\n",
       "    }\n",
       "\n",
       "    .dataframe tbody tr th {\n",
       "        vertical-align: top;\n",
       "    }\n",
       "\n",
       "    .dataframe thead th {\n",
       "        text-align: right;\n",
       "    }\n",
       "</style>\n",
       "<table border=\"1\" class=\"dataframe\">\n",
       "  <thead>\n",
       "    <tr style=\"text-align: right;\">\n",
       "      <th></th>\n",
       "      <th>YearofConstruction</th>\n",
       "      <th>BerRating</th>\n",
       "      <th>GroundFloorArea(sq m)</th>\n",
       "      <th>CO2Rating</th>\n",
       "      <th>NoOfSidesSheltered</th>\n",
       "      <th>InsulationThickness</th>\n",
       "      <th>TotalDeliveredEnergy</th>\n",
       "    </tr>\n",
       "  </thead>\n",
       "  <tbody>\n",
       "    <tr>\n",
       "      <th>count</th>\n",
       "      <td>1043910.00</td>\n",
       "      <td>1043910.00</td>\n",
       "      <td>1043910.00</td>\n",
       "      <td>1043910.00</td>\n",
       "      <td>1040297.00</td>\n",
       "      <td>811123.00</td>\n",
       "      <td>445800.00</td>\n",
       "    </tr>\n",
       "    <tr>\n",
       "      <th>mean</th>\n",
       "      <td>1983.79</td>\n",
       "      <td>234.55</td>\n",
       "      <td>114.01</td>\n",
       "      <td>54.56</td>\n",
       "      <td>2.31</td>\n",
       "      <td>31.62</td>\n",
       "      <td>24085.64</td>\n",
       "    </tr>\n",
       "    <tr>\n",
       "      <th>std</th>\n",
       "      <td>33.78</td>\n",
       "      <td>172.78</td>\n",
       "      <td>59.76</td>\n",
       "      <td>48.60</td>\n",
       "      <td>1.05</td>\n",
       "      <td>23.81</td>\n",
       "      <td>23306.38</td>\n",
       "    </tr>\n",
       "    <tr>\n",
       "      <th>min</th>\n",
       "      <td>1753.00</td>\n",
       "      <td>-158.42</td>\n",
       "      <td>5.47</td>\n",
       "      <td>-258.25</td>\n",
       "      <td>0.00</td>\n",
       "      <td>0.00</td>\n",
       "      <td>-3929.79</td>\n",
       "    </tr>\n",
       "    <tr>\n",
       "      <th>25%</th>\n",
       "      <td>1973.00</td>\n",
       "      <td>153.64</td>\n",
       "      <td>77.92</td>\n",
       "      <td>32.46</td>\n",
       "      <td>2.00</td>\n",
       "      <td>25.00</td>\n",
       "      <td>14844.80</td>\n",
       "    </tr>\n",
       "    <tr>\n",
       "      <th>50%</th>\n",
       "      <td>1997.00</td>\n",
       "      <td>207.08</td>\n",
       "      <td>100.30</td>\n",
       "      <td>46.25</td>\n",
       "      <td>2.00</td>\n",
       "      <td>30.00</td>\n",
       "      <td>21027.03</td>\n",
       "    </tr>\n",
       "    <tr>\n",
       "      <th>75%</th>\n",
       "      <td>2005.00</td>\n",
       "      <td>282.32</td>\n",
       "      <td>133.71</td>\n",
       "      <td>65.13</td>\n",
       "      <td>3.00</td>\n",
       "      <td>40.00</td>\n",
       "      <td>29315.55</td>\n",
       "    </tr>\n",
       "    <tr>\n",
       "      <th>max</th>\n",
       "      <td>2104.00</td>\n",
       "      <td>56423.71</td>\n",
       "      <td>3546.11</td>\n",
       "      <td>18417.10</td>\n",
       "      <td>4.00</td>\n",
       "      <td>1872.00</td>\n",
       "      <td>5431169.68</td>\n",
       "    </tr>\n",
       "  </tbody>\n",
       "</table>\n",
       "</div>"
      ],
      "text/plain": [
       "       YearofConstruction  BerRating  GroundFloorArea(sq m)  CO2Rating  \\\n",
       "count          1043910.00 1043910.00             1043910.00 1043910.00   \n",
       "mean              1983.79     234.55                 114.01      54.56   \n",
       "std                 33.78     172.78                  59.76      48.60   \n",
       "min               1753.00    -158.42                   5.47    -258.25   \n",
       "25%               1973.00     153.64                  77.92      32.46   \n",
       "50%               1997.00     207.08                 100.30      46.25   \n",
       "75%               2005.00     282.32                 133.71      65.13   \n",
       "max               2104.00   56423.71                3546.11   18417.10   \n",
       "\n",
       "       NoOfSidesSheltered  InsulationThickness  TotalDeliveredEnergy  \n",
       "count          1040297.00            811123.00             445800.00  \n",
       "mean                 2.31                31.62              24085.64  \n",
       "std                  1.05                23.81              23306.38  \n",
       "min                  0.00                 0.00              -3929.79  \n",
       "25%                  2.00                25.00              14844.80  \n",
       "50%                  2.00                30.00              21027.03  \n",
       "75%                  3.00                40.00              29315.55  \n",
       "max                  4.00              1872.00            5431169.68  "
      ]
     },
     "execution_count": 5,
     "metadata": {},
     "output_type": "execute_result"
    }
   ],
   "source": [
    "# Taking a look at the SEAI dataset numerical columns\n",
    "seai.describe()"
   ]
  },
  {
   "cell_type": "code",
   "execution_count": 6,
   "metadata": {},
   "outputs": [
    {
     "name": "stdout",
     "output_type": "stream",
     "text": [
      "<class 'pandas.core.frame.DataFrame'>\n",
      "RangeIndex: 1043910 entries, 0 to 1043909\n",
      "Data columns (total 15 columns):\n",
      " #   Column                 Non-Null Count    Dtype  \n",
      "---  ------                 --------------    -----  \n",
      " 0   CountyName             1043910 non-null  object \n",
      " 1   DwellingTypeDescr      1043910 non-null  object \n",
      " 2   YearofConstruction     1043910 non-null  int64  \n",
      " 3   EnergyRating           1043910 non-null  object \n",
      " 4   BerRating              1043910 non-null  float64\n",
      " 5   GroundFloorArea(sq m)  1043910 non-null  float64\n",
      " 6   CO2Rating              1043910 non-null  float64\n",
      " 7   MainSpaceHeatingFuel   1028262 non-null  object \n",
      " 8   MainWaterHeatingFuel   1028262 non-null  object \n",
      " 9   VentilationMethod      1040297 non-null  object \n",
      " 10  StructureType          1040297 non-null  object \n",
      " 11  NoOfSidesSheltered     1040297 non-null  float64\n",
      " 12  InsulationType         811123 non-null   object \n",
      " 13  InsulationThickness    811123 non-null   float64\n",
      " 14  TotalDeliveredEnergy   445800 non-null   float64\n",
      "dtypes: float64(6), int64(1), object(8)\n",
      "memory usage: 119.5+ MB\n"
     ]
    }
   ],
   "source": [
    "# Check the datatypes for each column and determine if they are correct or not\n",
    "seai.info()"
   ]
  },
  {
   "cell_type": "code",
   "execution_count": 7,
   "metadata": {},
   "outputs": [],
   "source": [
    "# Create a pandas profile report\n",
    "profile = ProfileReport(seai, title=\"SEAI Data Report v2\", explorative=True)"
   ]
  },
  {
   "cell_type": "code",
   "execution_count": 8,
   "metadata": {},
   "outputs": [
    {
     "name": "stderr",
     "output_type": "stream",
     "text": [
      "Summarize dataset:  69%|██████▉   | 18/26 [00:14<00:05,  1.49it/s, Calculate kendall correlation]         /Users/oisinbrannock/.pyenv/versions/3.10.5/envs/masters_thesis/lib/python3.10/site-packages/scipy/stats/_stats_py.py:4868: RuntimeWarning: overflow encountered in long_scalars\n",
      "  (2 * xtie * ytie) / m + x0 * y0 / (9 * m * (size - 2)))\n",
      "Summarize dataset: 100%|██████████| 66/66 [00:47<00:00,  1.40it/s, Completed]                                           \n",
      "Generate report structure: 100%|██████████| 1/1 [00:01<00:00,  1.75s/it]\n",
      "Render HTML: 100%|██████████| 1/1 [00:00<00:00,  1.12it/s]\n",
      "Export report to file: 100%|██████████| 1/1 [00:00<00:00, 291.39it/s]\n"
     ]
    }
   ],
   "source": [
    "# Output the report to a html file to view\n",
    "profile.to_file(\"../reports/seai_profile_report_v2.html\")"
   ]
  },
  {
   "cell_type": "markdown",
   "metadata": {},
   "source": [
    "A few issues have arisen based on the initial observation of the data above:\n",
    "- The dataset overview shows that the `CountyName` column has 'Co.' with each county and Dublin is split into numerical districts. Both need to be removed.\n",
    "    - Done\n",
    "- The description report shows the max year of construction is 2104. The max needs to be amended to be 2022.\n",
    "    - Done\n",
    "- The description report shows we have 57.3% missing values for `TotalDeliveredEnergy` column. This will need to be dropped at a minimum.\n",
    "    - Done\n",
    "- The description report shows that the min for `BerRating`, `CO2Rating` and `TotalDeliveredEnergy` are negative. This could be bad data or indication of a good BER rating. Needs to be investigated and dealt with.\n",
    "    - Done\n",
    "- The `EnergyRating` column is an object, it should be an ordered factor.\n",
    "    - Done\n",
    "- Change the `StructureType` value of 'Please Select' to NaN to be imputed later as this is a blank.\n",
    "    - Done\n",
    "- There are duplicates being accounted for on some entries that must be removed.\n",
    "    - Done\n",
    "- Investigate the nulls for:\n",
    "    - `MainSpaceHeatingFuel`\n",
    "    - `MainWaterHeatingFuel`\n",
    "    - `VentilationMethod`\n",
    "    - `StructureType`\n",
    "    - `NoOfSidesSheltered`\n",
    "    - `InsulationType`\n",
    "    - `InsulationThickness`\n",
    "    - `TotalDeliveredEnergy`\n",
    "- The investiation should involve looking at\n",
    "    - Where are the nulls?\n",
    "    - Is there a commonality with other values for these nulls?\n",
    "    - Is there coversely no discernible pattern?\n",
    "    - Is there a structural flaw?\n",
    "\n",
    "Note that I am not worried about the very high BerRating and CO2Rating maxiumums as they make sense when the data is examined."
   ]
  },
  {
   "cell_type": "markdown",
   "metadata": {},
   "source": [
    "### 1. Data Cleaning"
   ]
  },
  {
   "cell_type": "markdown",
   "metadata": {},
   "source": [
    "#### 1.1 County Cleaning"
   ]
  },
  {
   "cell_type": "code",
   "execution_count": 9,
   "metadata": {},
   "outputs": [],
   "source": [
    "# Removal of 'Co.' and numerical items from CountyName column\n",
    "seai['CountyName'] = seai['CountyName'].str.replace('Co. ', '') # Removes all occurrences of Co.\n",
    "seai['CountyName'] = seai['CountyName'].str.replace('City', '') # Removes all occurrences of City\n",
    "seai['CountyName'] = seai['CountyName'].str.replace('\\d+', '') # Removes all digits\n",
    "seai['CountyName'] = seai['CountyName'].str.replace('Dublin W', 'Dublin') # Removes occurence of W after Dublin\n",
    "seai['CountyName'] = seai['CountyName'].str.strip() # Removes any blankspace left after cleaning\n"
   ]
  },
  {
   "cell_type": "code",
   "execution_count": 10,
   "metadata": {},
   "outputs": [
    {
     "name": "stdout",
     "output_type": "stream",
     "text": [
      "['Donegal' 'Kildare' 'Dublin' 'Limerick' 'Kerry' 'Kilkenny' 'Cork'\n",
      " 'Wexford' 'Carlow' 'Galway' 'Louth' 'Offaly' 'Sligo' 'Wicklow' 'Clare'\n",
      " 'Tipperary' 'Monaghan' 'Mayo' 'Laois' 'Westmeath' 'Roscommon' 'Meath'\n",
      " 'Leitrim' 'Cavan' 'Waterford' 'Longford']\n",
      "--------------------------------------------------------------------------------------------------------\n",
      "--------------------------------------------------------------------------------------------------------\n",
      "26\n"
     ]
    }
   ],
   "source": [
    "# Checking out the column to see if changes have worked\n",
    "print(seai['CountyName'].unique())\n",
    "# Printing some lines between the two results for clarity\n",
    "print('--------------------------------------------------------------------------------------------------------')\n",
    "print('--------------------------------------------------------------------------------------------------------')\n",
    "# Checking to see if the length is 26 (Number of counties in Republic of Ireland)\n",
    "print(len(seai['CountyName'].unique()))"
   ]
  },
  {
   "cell_type": "code",
   "execution_count": 11,
   "metadata": {},
   "outputs": [],
   "source": [
    "# Convert from string to category\n",
    "seai['CountyName'] = seai['CountyName'].astype('category')"
   ]
  },
  {
   "cell_type": "markdown",
   "metadata": {},
   "source": [
    "---"
   ]
  },
  {
   "cell_type": "markdown",
   "metadata": {},
   "source": [
    "#### 1.2 Year of Construction Cleaning"
   ]
  },
  {
   "cell_type": "code",
   "execution_count": 12,
   "metadata": {},
   "outputs": [
    {
     "data": {
      "text/plain": [
       "<AxesSubplot:xlabel='YearofConstruction', ylabel='Count'>"
      ]
     },
     "execution_count": 12,
     "metadata": {},
     "output_type": "execute_result"
    },
    {
     "data": {
      "image/png": "[encoded data removed]",
      "text/plain": [
       "<Figure size 640x480 with 1 Axes>"
      ]
     },
     "metadata": {},
     "output_type": "display_data"
    }
   ],
   "source": [
    "# Checking distribution of years of house builds\n",
    "sns.histplot(data=seai\n",
    "            ,x='YearofConstruction'\n",
    "            ,bins=30\n",
    "            ,kde=True)"
   ]
  },
  {
   "cell_type": "markdown",
   "metadata": {},
   "source": [
    "We can clearly see from above 2104 as a year is a once off error and can be removed"
   ]
  },
  {
   "cell_type": "code",
   "execution_count": 13,
   "metadata": {},
   "outputs": [],
   "source": [
    "# Removal of bad year entry in data\n",
    "seai = seai[seai['YearofConstruction'] <= 2022]"
   ]
  },
  {
   "cell_type": "code",
   "execution_count": 14,
   "metadata": {},
   "outputs": [
    {
     "data": {
      "text/plain": [
       "<AxesSubplot:xlabel='YearofConstruction', ylabel='Count'>"
      ]
     },
     "execution_count": 14,
     "metadata": {},
     "output_type": "execute_result"
    },
    {
     "data": {
      "image/png": "[encoded data removed]",
      "text/plain": [
       "<Figure size 640x480 with 1 Axes>"
      ]
     },
     "metadata": {},
     "output_type": "display_data"
    }
   ],
   "source": [
    "# Checking distributions again to check if this has worked.\n",
    "sns.histplot(data=seai\n",
    "            ,x='YearofConstruction'\n",
    "            ,bins=30\n",
    "            ,kde=True)"
   ]
  },
  {
   "cell_type": "markdown",
   "metadata": {},
   "source": [
    "---"
   ]
  },
  {
   "cell_type": "markdown",
   "metadata": {},
   "source": [
    "#### 1.3 CO2 Rating Cleaning"
   ]
  },
  {
   "cell_type": "code",
   "execution_count": 15,
   "metadata": {},
   "outputs": [
    {
     "data": {
      "text/html": [
       "<div>\n",
       "<style scoped>\n",
       "    .dataframe tbody tr th:only-of-type {\n",
       "        vertical-align: middle;\n",
       "    }\n",
       "\n",
       "    .dataframe tbody tr th {\n",
       "        vertical-align: top;\n",
       "    }\n",
       "\n",
       "    .dataframe thead th {\n",
       "        text-align: right;\n",
       "    }\n",
       "</style>\n",
       "<table border=\"1\" class=\"dataframe\">\n",
       "  <thead>\n",
       "    <tr style=\"text-align: right;\">\n",
       "      <th></th>\n",
       "      <th>CO2Rating</th>\n",
       "    </tr>\n",
       "    <tr>\n",
       "      <th>EnergyRating</th>\n",
       "      <th></th>\n",
       "    </tr>\n",
       "  </thead>\n",
       "  <tbody>\n",
       "    <tr>\n",
       "      <th>A1</th>\n",
       "      <td>167</td>\n",
       "    </tr>\n",
       "    <tr>\n",
       "      <th>A2</th>\n",
       "      <td>12</td>\n",
       "    </tr>\n",
       "    <tr>\n",
       "      <th>A3</th>\n",
       "      <td>12</td>\n",
       "    </tr>\n",
       "    <tr>\n",
       "      <th>B1</th>\n",
       "      <td>8</td>\n",
       "    </tr>\n",
       "    <tr>\n",
       "      <th>B2</th>\n",
       "      <td>8</td>\n",
       "    </tr>\n",
       "    <tr>\n",
       "      <th>B3</th>\n",
       "      <td>5</td>\n",
       "    </tr>\n",
       "    <tr>\n",
       "      <th>C1</th>\n",
       "      <td>6</td>\n",
       "    </tr>\n",
       "    <tr>\n",
       "      <th>C2</th>\n",
       "      <td>4</td>\n",
       "    </tr>\n",
       "    <tr>\n",
       "      <th>C3</th>\n",
       "      <td>1</td>\n",
       "    </tr>\n",
       "  </tbody>\n",
       "</table>\n",
       "</div>"
      ],
      "text/plain": [
       "              CO2Rating\n",
       "EnergyRating           \n",
       "A1                  167\n",
       "A2                   12\n",
       "A3                   12\n",
       "B1                    8\n",
       "B2                    8\n",
       "B3                    5\n",
       "C1                    6\n",
       "C2                    4\n",
       "C3                    1"
      ]
     },
     "execution_count": 15,
     "metadata": {},
     "output_type": "execute_result"
    }
   ],
   "source": [
    "# Checking out the distribution of values where we have negative in the 2 columns.\n",
    "seai[['EnergyRating', 'CO2Rating']][(seai[['BerRating']] < 0).all(1) | \n",
    "                                    (seai[['CO2Rating']] < 0).all(1)].groupby('EnergyRating').count()"
   ]
  },
  {
   "cell_type": "markdown",
   "metadata": {},
   "source": [
    "Interestingly we have people who have lower bounds of energy ratings but still negative CO2 emissions somehow. Perhaps these people have solar panelling but their house rating is simply just poorer. \n",
    "\n",
    "The majority of houses with negative emissions are A1 rated which makes sense to what I would have thought the cause to be if these values were not poor data.\n",
    "\n",
    "I will remove any below a B2 rating as I do not see logically other than solar panelling how this would occur. Regardless these people will skew the data and as such need to be accounted for."
   ]
  },
  {
   "cell_type": "code",
   "execution_count": 16,
   "metadata": {},
   "outputs": [
    {
     "name": "stderr",
     "output_type": "stream",
     "text": [
      "/var/folders/f2/h4nbcthd4cld5t6fzd1x3jg40000gn/T/ipykernel_21063/1009298007.py:2: UserWarning: Boolean Series key will be reindexed to match DataFrame index.\n",
      "  seai_to_drop = seai[seai['EnergyRating'].map(lambda x: x in ['B2', 'B3', 'C1', 'C2', 'C3'])][(seai[['BerRating']] < 0).all(1) |\n"
     ]
    }
   ],
   "source": [
    "# Identify all entries that qualify for removal as above and save them to a new dataframe\n",
    "seai_to_drop = seai[seai['EnergyRating'].map(lambda x: x in ['B2', 'B3', 'C1', 'C2', 'C3'])][(seai[['BerRating']] < 0).all(1) | \n",
    "                                                                                             (seai[['CO2Rating']] < 0).all(1)\n",
    "                                                                                            ]\n",
    "# Drop these index entries from our original dataframe\n",
    "seai = seai.drop(seai_to_drop.index)\n",
    "# Delete the now redundant index dataframe\n",
    "del(seai_to_drop)"
   ]
  },
  {
   "cell_type": "code",
   "execution_count": 17,
   "metadata": {},
   "outputs": [
    {
     "name": "stderr",
     "output_type": "stream",
     "text": [
      "/var/folders/f2/h4nbcthd4cld5t6fzd1x3jg40000gn/T/ipykernel_21063/3569584113.py:2: UserWarning: Boolean Series key will be reindexed to match DataFrame index.\n",
      "  seai[seai['EnergyRating'].map(lambda x: x in ['B2', 'B3', 'C1', 'C2', 'C3'])][(seai[['BerRating']] < 0).all(1) |\n"
     ]
    },
    {
     "data": {
      "text/html": [
       "<div>\n",
       "<style scoped>\n",
       "    .dataframe tbody tr th:only-of-type {\n",
       "        vertical-align: middle;\n",
       "    }\n",
       "\n",
       "    .dataframe tbody tr th {\n",
       "        vertical-align: top;\n",
       "    }\n",
       "\n",
       "    .dataframe thead th {\n",
       "        text-align: right;\n",
       "    }\n",
       "</style>\n",
       "<table border=\"1\" class=\"dataframe\">\n",
       "  <thead>\n",
       "    <tr style=\"text-align: right;\">\n",
       "      <th></th>\n",
       "      <th>CountyName</th>\n",
       "      <th>DwellingTypeDescr</th>\n",
       "      <th>YearofConstruction</th>\n",
       "      <th>EnergyRating</th>\n",
       "      <th>BerRating</th>\n",
       "      <th>GroundFloorArea(sq m)</th>\n",
       "      <th>CO2Rating</th>\n",
       "      <th>MainSpaceHeatingFuel</th>\n",
       "      <th>MainWaterHeatingFuel</th>\n",
       "      <th>VentilationMethod</th>\n",
       "      <th>StructureType</th>\n",
       "      <th>NoOfSidesSheltered</th>\n",
       "      <th>InsulationType</th>\n",
       "      <th>InsulationThickness</th>\n",
       "      <th>TotalDeliveredEnergy</th>\n",
       "    </tr>\n",
       "  </thead>\n",
       "  <tbody>\n",
       "  </tbody>\n",
       "</table>\n",
       "</div>"
      ],
      "text/plain": [
       "Empty DataFrame\n",
       "Columns: [CountyName, DwellingTypeDescr, YearofConstruction, EnergyRating, BerRating, GroundFloorArea(sq m), CO2Rating, MainSpaceHeatingFuel, MainWaterHeatingFuel, VentilationMethod, StructureType, NoOfSidesSheltered, InsulationType, InsulationThickness, TotalDeliveredEnergy]\n",
       "Index: []"
      ]
     },
     "execution_count": 17,
     "metadata": {},
     "output_type": "execute_result"
    }
   ],
   "source": [
    "# Check to see if these entries were dropped correctly. Should produce 0 rows\n",
    "seai[seai['EnergyRating'].map(lambda x: x in ['B2', 'B3', 'C1', 'C2', 'C3'])][(seai[['BerRating']] < 0).all(1) | \n",
    "                                                                              (seai[['CO2Rating']] < 0).all(1)\n",
    "                                                                             ]"
   ]
  },
  {
   "cell_type": "markdown",
   "metadata": {},
   "source": [
    "---"
   ]
  },
  {
   "cell_type": "markdown",
   "metadata": {},
   "source": [
    "#### 1.4 Energy Rating Cleaning"
   ]
  },
  {
   "cell_type": "code",
   "execution_count": 18,
   "metadata": {},
   "outputs": [],
   "source": [
    "# Remove any blank space\n",
    "seai['EnergyRating'] = seai['EnergyRating'].str.strip()\n",
    "# Changing the datatype of the EnergyRating column\n",
    "seai['EnergyRating'] = seai['EnergyRating'].astype('category')\n",
    "# Reorder categories in order of how good they are descending\n",
    "seai['EnergyRating'] = seai['EnergyRating'].cat.reorder_categories(['A1', 'A2', 'A3', 'B1', 'B2', 'B3', 'C1', 'C2', 'C3', 'D1', 'D2', 'E1', 'E2', 'F', 'G'])"
   ]
  },
  {
   "cell_type": "code",
   "execution_count": 19,
   "metadata": {},
   "outputs": [
    {
     "data": {
      "text/plain": [
       "['C2', 'B3', 'C3', 'D2', 'D1', ..., 'B2', 'B1', 'A3', 'A2', 'A1']\n",
       "Length: 15\n",
       "Categories (15, object): ['A1', 'A2', 'A3', 'B1', ..., 'E1', 'E2', 'F', 'G']"
      ]
     },
     "execution_count": 19,
     "metadata": {},
     "output_type": "execute_result"
    }
   ],
   "source": [
    "# Checking the work above is correct\n",
    "seai['EnergyRating'].unique()"
   ]
  },
  {
   "cell_type": "code",
   "execution_count": 20,
   "metadata": {},
   "outputs": [
    {
     "data": {
      "text/plain": [
       "<AxesSubplot:xlabel='EnergyRating', ylabel='count'>"
      ]
     },
     "execution_count": 20,
     "metadata": {},
     "output_type": "execute_result"
    },
    {
     "data": {
      "image/png": "[encoded data removed]",
      "text/plain": [
       "<Figure size 640x480 with 1 Axes>"
      ]
     },
     "metadata": {},
     "output_type": "display_data"
    }
   ],
   "source": [
    "# Checking the distribution of BER values across the dataset\n",
    "sns.countplot(\n",
    "             data=seai\n",
    "            ,x='EnergyRating'\n",
    "            ,order=['A1', 'A2', 'A3', 'B1', 'B2', 'B3', 'C1', 'C2', 'C3', 'D1', 'D2', 'E1', 'E2', 'F', 'G']\n",
    "            ,color='#009E73')"
   ]
  },
  {
   "cell_type": "markdown",
   "metadata": {},
   "source": [
    "---"
   ]
  },
  {
   "cell_type": "markdown",
   "metadata": {},
   "source": [
    "#### 1.5 Structure Type Cleaning"
   ]
  },
  {
   "cell_type": "code",
   "execution_count": 21,
   "metadata": {},
   "outputs": [
    {
     "data": {
      "text/plain": [
       "array(['Masonry                       ', 'Timber or Steel Frame         ',\n",
       "       'Please select                 ', 'Insulated Conctete Form       ',\n",
       "       nan], dtype=object)"
      ]
     },
     "execution_count": 21,
     "metadata": {},
     "output_type": "execute_result"
    }
   ],
   "source": [
    "# Get all the unique values\n",
    "seai.StructureType.unique()"
   ]
  },
  {
   "cell_type": "code",
   "execution_count": 22,
   "metadata": {},
   "outputs": [],
   "source": [
    "# Remove redundant 'Please Select' entry in StructureType column \n",
    "seai['StructureType'] = seai['StructureType'].replace('Please select                 ', np.nan)\n",
    "\n",
    "# Clean the other column values\n",
    "seai['StructureType'] = seai['StructureType'].replace('Masonry                       ', 'Masonry')\n",
    "seai['StructureType'] = seai['StructureType'].replace('Timber or Steel Frame         ', 'Timber or Steel Frame')\n",
    "seai['StructureType'] = seai['StructureType'].replace('Insulated Conctete Form       ', 'Insulated Conctete Form')"
   ]
  },
  {
   "cell_type": "code",
   "execution_count": 23,
   "metadata": {},
   "outputs": [
    {
     "data": {
      "text/plain": [
       "array(['Masonry', 'Timber or Steel Frame', nan, 'Insulated Conctete Form'],\n",
       "      dtype=object)"
      ]
     },
     "execution_count": 23,
     "metadata": {},
     "output_type": "execute_result"
    }
   ],
   "source": [
    "# Check if the above was successful\n",
    "seai.StructureType.unique()"
   ]
  },
  {
   "cell_type": "markdown",
   "metadata": {},
   "source": [
    "---"
   ]
  },
  {
   "cell_type": "markdown",
   "metadata": {},
   "source": [
    "#### 1.6 Duplicate Cleaning"
   ]
  },
  {
   "cell_type": "code",
   "execution_count": 24,
   "metadata": {},
   "outputs": [],
   "source": [
    "# Drop all duplicates in the dataset and keep the first entry of each\n",
    "seai = seai.drop_duplicates(keep='first')"
   ]
  },
  {
   "cell_type": "markdown",
   "metadata": {},
   "source": [
    "---"
   ]
  },
  {
   "cell_type": "markdown",
   "metadata": {},
   "source": [
    "#### 1.7 Dwelling Type Description Cleaning"
   ]
  },
  {
   "cell_type": "code",
   "execution_count": 25,
   "metadata": {},
   "outputs": [],
   "source": [
    "# Change from a string to a category\n",
    "seai['DwellingTypeDescr'] = seai['DwellingTypeDescr'].astype('category')"
   ]
  },
  {
   "cell_type": "markdown",
   "metadata": {},
   "source": [
    "---\n"
   ]
  },
  {
   "cell_type": "markdown",
   "metadata": {},
   "source": [
    "#### 1.8 Nulls analysis"
   ]
  },
  {
   "cell_type": "markdown",
   "metadata": {},
   "source": [
    "##### 1.8.1 - `MainSpaceHeatingFuel`"
   ]
  },
  {
   "cell_type": "code",
   "execution_count": 27,
   "metadata": {},
   "outputs": [],
   "source": [
    "# Remove any whitespace in column\n",
    "seai['MainSpaceHeatingFuel'] = seai['MainSpaceHeatingFuel'].str.strip()"
   ]
  },
  {
   "cell_type": "code",
   "execution_count": 28,
   "metadata": {},
   "outputs": [
    {
     "data": {
      "text/plain": [
       "array(['Heating Oil', 'Mains Gas', 'Electricity', 'Solid Multi-Fuel',\n",
       "       'Sod Peat', 'Bulk LPG (propane or butane)', 'House Coal', nan,\n",
       "       'Wood Logs', 'Bottled LPG', 'Peat Briquettes',\n",
       "       'Wood Pellets (bulk supply for', 'Electricity - Standard Domesti',\n",
       "       'Wood Pellets (in bags for seco', 'Manufactured Smokeless Fuel',\n",
       "       'Anthracite', 'Wood Chips', 'Electricity - Off-peak Night-R',\n",
       "       'Electricity - On-peak Night-Ra', 'Bioethanol from renewable sour',\n",
       "       'Biodiesel from renewable sourc'], dtype=object)"
      ]
     },
     "execution_count": 28,
     "metadata": {},
     "output_type": "execute_result"
    }
   ],
   "source": [
    "# Check out any unique values\n",
    "seai['MainSpaceHeatingFuel'].unique()"
   ]
  },
  {
   "cell_type": "code",
   "execution_count": 29,
   "metadata": {},
   "outputs": [
    {
     "data": {
      "text/plain": [
       "NaN    14110\n",
       "Name: MainWaterHeatingFuel, dtype: int64"
      ]
     },
     "execution_count": 29,
     "metadata": {},
     "output_type": "execute_result"
    }
   ],
   "source": [
    "# Examination of the other columns in the case where or target is null\n",
    "seai[seai['MainSpaceHeatingFuel'].isna()]['MainWaterHeatingFuel'].value_counts(dropna=False)\n",
    "\n",
    "# 14k missing\n",
    "# 12k also have missing energy delivered\n",
    "# Every row has water heating missing too\n",
    "# Mainly missing in A rated homes - may be due no solar panel option?\n",
    "\n",
    "# This is MNAR"
   ]
  },
  {
   "cell_type": "markdown",
   "metadata": {},
   "source": [
    "##### 1.8.2 `MainWaterHeatingFuel`"
   ]
  },
  {
   "cell_type": "code",
   "execution_count": 30,
   "metadata": {},
   "outputs": [],
   "source": [
    "# Remove any whitespace in column\n",
    "seai['MainWaterHeatingFuel'] = seai['MainWaterHeatingFuel'].str.strip()"
   ]
  },
  {
   "cell_type": "code",
   "execution_count": 31,
   "metadata": {},
   "outputs": [
    {
     "data": {
      "text/plain": [
       "array(['Heating Oil', 'Mains Gas', 'Electricity', 'Sod Peat',\n",
       "       'Solid Multi-Fuel', 'Bulk LPG (propane or butane)', 'House Coal',\n",
       "       nan, 'Bottled LPG', 'Wood Logs', 'Peat Briquettes',\n",
       "       'Wood Pellets (bulk supply for', 'Wood Pellets (in bags for seco',\n",
       "       'Manufactured Smokeless Fuel', 'Anthracite', 'Wood Chips',\n",
       "       'Bioethanol from renewable sour', 'Electricity - Standard Domesti',\n",
       "       'Electricity - Off-peak Night-R', 'Electricity - On-peak Night-Ra',\n",
       "       'Biodiesel from renewable sourc', 'None'], dtype=object)"
      ]
     },
     "execution_count": 31,
     "metadata": {},
     "output_type": "execute_result"
    }
   ],
   "source": [
    "# Check out any unique values\n",
    "seai['MainWaterHeatingFuel'].unique()"
   ]
  },
  {
   "cell_type": "code",
   "execution_count": null,
   "metadata": {},
   "outputs": [],
   "source": [
    "# Examination of the other columns in the case where or target is null\n",
    "seai[seai['MainWaterHeatingFuel'].isna()]['EnergyRating'].value_counts(dropna=False)\n",
    "\n",
    "# Same 12k missing from before\n",
    "# Other heating column also missing everywhere this feature is\n",
    "# Same distribution of BER ratings as before\n",
    "\n",
    "# This feature is MNAR"
   ]
  },
  {
   "cell_type": "markdown",
   "metadata": {},
   "source": [
    "##### 1.8.3 `VentilationMethod`"
   ]
  },
  {
   "cell_type": "code",
   "execution_count": null,
   "metadata": {},
   "outputs": [],
   "source": [
    "# Remove any whitespace in column\n",
    "seai['VentilationMethod'] = seai['VentilationMethod'].str.strip()"
   ]
  },
  {
   "cell_type": "code",
   "execution_count": null,
   "metadata": {},
   "outputs": [],
   "source": [
    "# Check out any unique values\n",
    "seai['VentilationMethod'].unique()"
   ]
  },
  {
   "cell_type": "code",
   "execution_count": null,
   "metadata": {},
   "outputs": [],
   "source": [
    "# Examination of the other columns in the case where or target is null\n",
    "seai[seai['VentilationMethod'].isna()]['EnergyRating'].value_counts(dropna=False)\n",
    "\n",
    "# Only 2k missing from energy delivered\n",
    "# Other heating column also missing everywhere this feature is\n",
    "# Missing quite a lot in the A categories - Is this because they do not need vents?\n",
    "# Missing a lot of values for electricity based houses\n",
    "# All structure types associated are NaN\n",
    "# No insulation captured\n",
    "# No side sheltered captured\n",
    "\n",
    "# This feature is MNAR"
   ]
  },
  {
   "cell_type": "markdown",
   "metadata": {},
   "source": [
    "##### 1.8.4 `StructureType`"
   ]
  },
  {
   "cell_type": "code",
   "execution_count": null,
   "metadata": {},
   "outputs": [],
   "source": [
    "# Check out any unique values\n",
    "seai['StructureType'].unique()"
   ]
  },
  {
   "cell_type": "code",
   "execution_count": null,
   "metadata": {},
   "outputs": [],
   "source": [
    "# Examination of the other columns in the case where or target is null\n",
    "seai[seai['StructureType'].isna()]['InsulationType'].value_counts(dropna=False)\n",
    "\n",
    "# Huge amount of A rated homes missing values\n",
    "# 70k energy delivered missing for structure type\n",
    "# Most of these NaN values are due to simple non selection upon entry into database\n",
    "# 40k missing for electricity customers, 24k for mains gas on main space heating fuel\n",
    "# Coincides with 40k missing Insulation rows too\n",
    "\n",
    "# This feature is MNAR"
   ]
  },
  {
   "cell_type": "markdown",
   "metadata": {},
   "source": [
    "##### 1.8.5 `NoOfSidesSheltered`"
   ]
  },
  {
   "cell_type": "code",
   "execution_count": null,
   "metadata": {},
   "outputs": [],
   "source": [
    "# Check out any unique values\n",
    "seai['NoOfSidesSheltered'].unique()"
   ]
  },
  {
   "cell_type": "code",
   "execution_count": null,
   "metadata": {},
   "outputs": [],
   "source": [
    "# Examination of the other columns in the case where or target is null\n",
    "seai[seai['NoOfSidesSheltered'].isna()]['InsulationType'].value_counts(dropna=False)\n",
    "\n",
    "# Heating oil houses are generally much more abundant in missing values\n",
    "# Missing values distributed evenly over the BER ratings\n",
    "# Masonry structures have 58k missing values\n",
    "\n",
    "# This is MNAR"
   ]
  },
  {
   "cell_type": "markdown",
   "metadata": {},
   "source": [
    "##### 1.8.6 `InsulationType`"
   ]
  },
  {
   "cell_type": "code",
   "execution_count": null,
   "metadata": {},
   "outputs": [],
   "source": [
    "# Remove any whitespace in column\n",
    "seai['InsulationType'] = seai['InsulationType'].str.strip()"
   ]
  },
  {
   "cell_type": "code",
   "execution_count": null,
   "metadata": {},
   "outputs": [],
   "source": [
    "# Check out any unique values\n",
    "seai['InsulationType'].unique()"
   ]
  },
  {
   "cell_type": "code",
   "execution_count": null,
   "metadata": {},
   "outputs": [],
   "source": [
    "# Examination of the other columns in the case where or target is null\n",
    "seai[seai['InsulationType'].isna()]['StructureType'].value_counts(dropna=False)\n",
    "\n",
    "# Missing values distributed across BER - A has highest\n",
    "# 78k mains gas missing, 66k oil, 64k electricity\n",
    "# 170k masonry values missing \n",
    "\n",
    "# MNAR"
   ]
  },
  {
   "cell_type": "markdown",
   "metadata": {},
   "source": [
    "##### 1.8.6 `InsulationThickness`"
   ]
  },
  {
   "cell_type": "code",
   "execution_count": null,
   "metadata": {},
   "outputs": [],
   "source": [
    "seai[seai['InsulationThickness'].isna()]\n",
    "\n",
    "# Missing values distributed across BER - G has highest\n",
    "# 121k mains gas missing, 100k oil, 96k electricity\n",
    "# 274k masonry values missing \n",
    "# 242k missing energy delivered our of 343k\n",
    "\n",
    "\n",
    "# MNAR"
   ]
  },
  {
   "cell_type": "markdown",
   "metadata": {},
   "source": [
    "##### 1.8.9 `TotalDeliveredEnergy`"
   ]
  },
  {
   "cell_type": "code",
   "execution_count": null,
   "metadata": {},
   "outputs": [],
   "source": [
    "seai['TotalDeliveredEnergy'] = seai['TotalDeliveredEnergy'].replace(0, np.nan)"
   ]
  },
  {
   "cell_type": "code",
   "execution_count": null,
   "metadata": {},
   "outputs": [],
   "source": [
    "# Examination of the other columns in the case where or target is null\n",
    "seai[seai['TotalDeliveredEnergy'].isna()]['StructureType'].value_counts(dropna=False)\n",
    "\n",
    "# Missing values distributed across BER - C has highest\n",
    "# 235k mains gas missing, 137k oil, 164k electricity\n",
    "# 460k masonry values missing \n",
    "\n",
    "# MNAR"
   ]
  },
  {
   "cell_type": "markdown",
   "metadata": {},
   "source": [
    "---"
   ]
  },
  {
   "cell_type": "markdown",
   "metadata": {},
   "source": [
    "#### 1.10 Results"
   ]
  },
  {
   "cell_type": "code",
   "execution_count": null,
   "metadata": {},
   "outputs": [],
   "source": [
    "# Reset index so it is not included in report putput\n",
    "seai.reset_index(drop=True, inplace=True)"
   ]
  },
  {
   "cell_type": "code",
   "execution_count": null,
   "metadata": {},
   "outputs": [],
   "source": [
    "# Create a pandas profile report\n",
    "profile_optimised = ProfileReport(seai, title=\"SEAI Data With Nulls & Cleaned Report v2\", explorative=True)"
   ]
  },
  {
   "cell_type": "code",
   "execution_count": null,
   "metadata": {},
   "outputs": [],
   "source": [
    "# Output the report to a html file to view\n",
    "profile_optimised.to_file(\"../reports/seai_with_nulls_cleaned_profile_report_v2.html\")"
   ]
  },
  {
   "cell_type": "code",
   "execution_count": null,
   "metadata": {},
   "outputs": [],
   "source": [
    "# Write our data to be used in design phase\n",
    "seai.to_csv('../data/interim/seai_with_nulls_cleaned_v2.csv', index=False)"
   ]
  },
  {
   "cell_type": "markdown",
   "metadata": {},
   "source": [
    "The new generated report shows we have:\n",
    "- No duplicate rows\n",
    "- All fixes made above implemented correctly\n",
    "- There are clearly string size limits in the boxes when the data was collected"
   ]
  },
  {
   "cell_type": "markdown",
   "metadata": {},
   "source": [
    "---"
   ]
  },
  {
   "cell_type": "markdown",
   "metadata": {},
   "source": [
    "### 2. Total Delivered Energy Imputation"
   ]
  },
  {
   "cell_type": "markdown",
   "metadata": {},
   "source": [
    "#### 2.1 Ideation"
   ]
  },
  {
   "cell_type": "code",
   "execution_count": null,
   "metadata": {},
   "outputs": [],
   "source": [
    "# Taking a look at the SEAI dataset numerical columns\n",
    "seai"
   ]
  },
  {
   "cell_type": "markdown",
   "metadata": {},
   "source": [
    "I want to model out the `TotalDeliveredEnergy` missing values to account for them using a regression based imputation"
   ]
  },
  {
   "cell_type": "markdown",
   "metadata": {},
   "source": [
    "To start with, what is the TotalDeliveredEnergy column in terms of the null values\n",
    "    - We are going to assume it is MCAR and then MAR\n",
    "        - MCAR means we can remove it \n",
    "        - MAR means we can impute it\n",
    "    \n",
    "To start: We go from simple to advanced\n",
    "- Simply remove these records from the analysis altogether\n",
    "- Impute mean and mode for each groupby\n",
    "- MissForest Imputation\n",
    "- MICE (No Python package for this needs to be done in R)\n",
    "\n",
    "Each cleaned imputed dataset should be saved in the data/interim folder under specific names to pull back into the design phase for modelling."
   ]
  },
  {
   "cell_type": "markdown",
   "metadata": {},
   "source": [
    "---"
   ]
  },
  {
   "cell_type": "markdown",
   "metadata": {},
   "source": [
    "##### 2.1.1 Drop All Null Values"
   ]
  },
  {
   "cell_type": "code",
   "execution_count": null,
   "metadata": {},
   "outputs": [],
   "source": [
    "# Drop all NaN across entire df\n",
    "seai_dropped_na = seai.dropna()"
   ]
  },
  {
   "cell_type": "code",
   "execution_count": null,
   "metadata": {},
   "outputs": [],
   "source": [
    "# Write to interim files so we can model in design phase\n",
    "seai_dropped_na.to_csv('../data/interim/1_seai_dropped_na.csv', index=False)"
   ]
  },
  {
   "cell_type": "markdown",
   "metadata": {},
   "source": [
    "##### 2.1.2 Impute using mean and mode for groupby"
   ]
  },
  {
   "cell_type": "code",
   "execution_count": null,
   "metadata": {},
   "outputs": [],
   "source": [
    "# Create a copy of our data to work with without overwriting the original\n",
    "seai_mean_mode_imputation = seai.copy()"
   ]
  },
  {
   "cell_type": "code",
   "execution_count": null,
   "metadata": {},
   "outputs": [],
   "source": [
    "# Impute the modal values based on grouped columns\n",
    "seai_mean_mode_imputation.loc[\n",
    "    seai_mean_mode_imputation['MainSpaceHeatingFuel'].isna(), 'MainSpaceHeatingFuel'] = seai_mean_mode_imputation.groupby(\n",
    "        [\n",
    "            'CountyName'\n",
    "            ,'DwellingTypeDescr'\n",
    "            ,'EnergyRating'\n",
    "            ]\n",
    "        )['MainSpaceHeatingFuel'].transform(\n",
    "            lambda x: x.mode()[0] if any(x.mode()) else 'ALL_NAN'\n",
    "            )"
   ]
  },
  {
   "cell_type": "code",
   "execution_count": null,
   "metadata": {},
   "outputs": [],
   "source": [
    "# Impute the modal values based on grouped columns\n",
    "seai_mean_mode_imputation.loc[\n",
    "    seai_mean_mode_imputation['MainWaterHeatingFuel'].isna(), 'MainWaterHeatingFuel'] = seai_mean_mode_imputation.groupby(\n",
    "        [\n",
    "            'CountyName'\n",
    "            ,'DwellingTypeDescr'\n",
    "            ,'EnergyRating'\n",
    "            ,'MainSpaceHeatingFuel'\n",
    "            ]\n",
    "        )['MainWaterHeatingFuel'].transform(\n",
    "            lambda x: x.mode()[0] if any(x.mode()) else 'ALL_NAN'\n",
    "            )"
   ]
  },
  {
   "cell_type": "code",
   "execution_count": null,
   "metadata": {},
   "outputs": [],
   "source": [
    "# Impute the modal values based on grouped columns\n",
    "seai_mean_mode_imputation.loc[\n",
    "    seai_mean_mode_imputation['MainWaterHeatingFuel'].isna(), 'MainWaterHeatingFuel'] = seai_mean_mode_imputation.groupby(\n",
    "        [\n",
    "            'CountyName'\n",
    "            ,'DwellingTypeDescr'\n",
    "            ,'EnergyRating'\n",
    "            ,'MainSpaceHeatingFuel'\n",
    "            ]\n",
    "        )['MainWaterHeatingFuel'].transform(\n",
    "            lambda x: x.mode()[0] if any(x.mode()) else 'ALL_NAN'\n",
    "            )"
   ]
  },
  {
   "cell_type": "code",
   "execution_count": null,
   "metadata": {},
   "outputs": [],
   "source": [
    "# Impute the modal values based on County, Dwelling Type and Energy Rating\n",
    "seai_mean_mode_imputation.loc[\n",
    "    seai_mean_mode_imputation['VentilationMethod'].isna(), 'VentilationMethod'] = seai_mean_mode_imputation.groupby(\n",
    "        [\n",
    "            'CountyName'\n",
    "            ,'DwellingTypeDescr'\n",
    "            ,'EnergyRating'\n",
    "            ,'MainSpaceHeatingFuel'\n",
    "            ,'MainWaterHeatingFuel'\n",
    "            ]\n",
    "        )['VentilationMethod'].transform(\n",
    "            lambda x: x.mode()[0] if any(x.mode()) else 'ALL_NAN'\n",
    "            )"
   ]
  },
  {
   "cell_type": "code",
   "execution_count": null,
   "metadata": {},
   "outputs": [],
   "source": [
    "# Impute the modal values based on grouped columns\n",
    "seai_mean_mode_imputation.loc[\n",
    "    seai_mean_mode_imputation['StructureType'].isna(), 'StructureType'] = seai_mean_mode_imputation.groupby(\n",
    "        [\n",
    "            'CountyName'\n",
    "            ,'DwellingTypeDescr'\n",
    "            ,'EnergyRating'\n",
    "            ,'MainSpaceHeatingFuel'\n",
    "            ,'MainWaterHeatingFuel'\n",
    "            ,'VentilationMethod'\n",
    "            ]\n",
    "        )['StructureType'].transform(\n",
    "            lambda x: x.mode()[0] if any(x.mode()) else 'ALL_NAN'\n",
    "            )"
   ]
  },
  {
   "cell_type": "code",
   "execution_count": null,
   "metadata": {},
   "outputs": [],
   "source": [
    "# Impute the modal values based on grouped columns\n",
    "seai_mean_mode_imputation.loc[\n",
    "    seai_mean_mode_imputation['InsulationType'].isna(), 'InsulationType'] = seai_mean_mode_imputation.groupby(\n",
    "        [\n",
    "            'CountyName'\n",
    "            ,'DwellingTypeDescr'\n",
    "            ,'EnergyRating'\n",
    "            ,'MainSpaceHeatingFuel'\n",
    "            ,'MainWaterHeatingFuel'\n",
    "            ,'VentilationMethod'\n",
    "            ,'StructureType'\n",
    "            ]\n",
    "        )['InsulationType'].transform(\n",
    "            lambda x: x.mode()[0] if any(x.mode()) else 'ALL_NAN'\n",
    "            )"
   ]
  },
  {
   "cell_type": "code",
   "execution_count": null,
   "metadata": {},
   "outputs": [],
   "source": [
    "# Replace the values we could not impute with the overall column mode\n",
    "seai_mean_mode_imputation['InsulationType'] = seai_mean_mode_imputation['InsulationType'].replace('ALL_NAN', 'Factory Insulated')"
   ]
  },
  {
   "cell_type": "code",
   "execution_count": null,
   "metadata": {},
   "outputs": [],
   "source": [
    "# Impute the modal values based on County, Dwelling Type and Energy Rating\n",
    "seai_mean_mode_imputation.loc[\n",
    "    seai_mean_mode_imputation['NoOfSidesSheltered'].isna(), 'NoOfSidesSheltered'] = seai_mean_mode_imputation.groupby(\n",
    "        [\n",
    "            'YearofConstruction'\n",
    "            ]\n",
    "        )['NoOfSidesSheltered'].transform(\n",
    "            lambda x: x.fillna(x.mean())\n",
    "            )"
   ]
  },
  {
   "cell_type": "code",
   "execution_count": null,
   "metadata": {},
   "outputs": [],
   "source": [
    "# Impute the modal values based on grouped columns\n",
    "seai_mean_mode_imputation.loc[\n",
    "    seai_mean_mode_imputation['InsulationThickness'].isna(), 'InsulationThickness'] = seai_mean_mode_imputation.groupby(\n",
    "        [\n",
    "            'CO2Rating'\n",
    "            ]\n",
    "        )['InsulationThickness'].transform(\n",
    "            lambda x: x.fillna(x.mean())\n",
    "            )"
   ]
  },
  {
   "cell_type": "code",
   "execution_count": null,
   "metadata": {},
   "outputs": [],
   "source": [
    "# Replace anywhere we have no insulation with 0 so we don't have nonsene data\n",
    "seai_mean_mode_imputation.loc[seai_mean_mode_imputation['InsulationType'] == 'None', 'InsulationThickness'] = 0"
   ]
  },
  {
   "cell_type": "code",
   "execution_count": null,
   "metadata": {},
   "outputs": [],
   "source": [
    "# Impute the modal values based on grouped columns\n",
    "seai_mean_mode_imputation.loc[\n",
    "    seai_mean_mode_imputation['TotalDeliveredEnergy'].isna(), 'TotalDeliveredEnergy'] = seai_mean_mode_imputation.groupby(\n",
    "        [\n",
    "            'EnergyRating',  \n",
    "            ]\n",
    "        )['TotalDeliveredEnergy'].transform(\n",
    "            lambda x: x.fillna(x.mean())\n",
    "            )"
   ]
  },
  {
   "cell_type": "code",
   "execution_count": null,
   "metadata": {},
   "outputs": [],
   "source": [
    "# Remove any underlying NA data\n",
    "seai_mean_mode_imputation = seai_mean_mode_imputation.dropna()"
   ]
  },
  {
   "cell_type": "code",
   "execution_count": null,
   "metadata": {},
   "outputs": [],
   "source": [
    "# Check for any nulls left\n",
    "seai_mean_mode_imputation.isna().sum()"
   ]
  },
  {
   "cell_type": "code",
   "execution_count": null,
   "metadata": {},
   "outputs": [],
   "source": [
    "# Write to interim files so we can model in design phase\n",
    "seai_mean_mode_imputation.to_csv('../data/interim/2_seai_mean_mode_imputation.csv', index=False)"
   ]
  },
  {
   "cell_type": "markdown",
   "metadata": {},
   "source": [
    "---"
   ]
  },
  {
   "cell_type": "markdown",
   "metadata": {},
   "source": [
    "##### 2.1.3 MissForest"
   ]
  },
  {
   "cell_type": "code",
   "execution_count": null,
   "metadata": {},
   "outputs": [],
   "source": [
    "# MissForest does not work without this fix on latest version of Scikit-Learn\n",
    "import sklearn.neighbors._base\n",
    "sys.modules['sklearn.neighbors.base'] = sklearn.neighbors._base\n",
    "from missingpy import MissForest"
   ]
  },
  {
   "cell_type": "code",
   "execution_count": null,
   "metadata": {},
   "outputs": [],
   "source": [
    "# https://stackoverflow.com/a/52935270/5923619\n",
    "# One Hot Encodes our categorical feature and binds it to the original dataset\n",
    "def encode_and_bind(original_dataframe, feature_to_encode):\n",
    "    dummies = pd.get_dummies(original_dataframe[[feature_to_encode]])\n",
    "    res = pd.concat([original_dataframe, dummies], axis=1)\n",
    "    return(res)"
   ]
  },
  {
   "cell_type": "code",
   "execution_count": null,
   "metadata": {},
   "outputs": [],
   "source": [
    "# One Hot Encode all of our categorical features\n",
    "seai_copy_encoded = encode_and_bind(seai, 'CountyName')\n",
    "seai_copy_encoded = encode_and_bind(seai_copy_encoded, 'DwellingTypeDescr')\n",
    "seai_copy_encoded = encode_and_bind(seai_copy_encoded, 'EnergyRating')\n",
    "seai_copy_encoded = encode_and_bind(seai_copy_encoded, 'MainSpaceHeatingFuel')\n",
    "seai_copy_encoded = encode_and_bind(seai_copy_encoded, 'MainWaterHeatingFuel')\n",
    "seai_copy_encoded = encode_and_bind(seai_copy_encoded, 'VentilationMethod')\n",
    "seai_copy_encoded = encode_and_bind(seai_copy_encoded, 'StructureType')\n",
    "seai_copy_encoded = encode_and_bind(seai_copy_encoded, 'InsulationType')\n",
    "\n",
    "# Dropping the unencoded columns for now\n",
    "seai_copy_encoded = seai_copy_encoded.drop(['CountyName', 'DwellingTypeDescr', 'EnergyRating','DateOfAssessment', 'MainSpaceHeatingFuel', 'MainWaterHeatingFuel', 'VentilationMethod', 'StructureType','InsulationType'], axis = 1)\n",
    "\n",
    "# Moving target column to the very last\n",
    "new_cols = [col for col in seai_copy_encoded.columns if col != 'TotalDeliveredEnergy'] + ['TotalDeliveredEnergy']\n",
    "seai_copy_encoded = seai_copy_encoded[new_cols]"
   ]
  },
  {
   "cell_type": "markdown",
   "metadata": {},
   "source": [
    "The issue with what I am doing above is the kNN Imputer is only able to see 100k values at a time. This may be biased for each split as it cannot select based on the entire dataset. The ordering may even be a factor in this. Therefore I need a more computationally efficient algorithm\n",
    "\n",
    "MissForest is a machine learning-based imputation technique. It uses a Random Forest algorithm to do the task. It is based on an iterative approach, and at each iteration the generated imputations are better.\n",
    "Unlike KNN, MissForest doesn’t care about the scale of the data and doesn’t require tuning. It is easier to use out of the box, but that doesn’t mean the results will be better.\n",
    "Advantages: It doesn’t require data preparation, as the Random Forest algorithm can determine which features are important for imputation. It doesn’t require tuning, and can handle categorical variables.\n",
    "Disadvantages: It can be computationally expensive when working with large datasets.\n",
    "\n",
    "https://towardsdatascience.com/missforest-the-best-missing-data-imputation-algorithm-4d01182aed3\n",
    "\n",
    "https://pypi.org/project/missingpy/"
   ]
  },
  {
   "cell_type": "markdown",
   "metadata": {},
   "source": [
    "---"
   ]
  },
  {
   "cell_type": "markdown",
   "metadata": {},
   "source": [
    "#### 2.3 Imputation "
   ]
  },
  {
   "cell_type": "code",
   "execution_count": null,
   "metadata": {},
   "outputs": [],
   "source": [
    "# Make an instance and perform the imputation\n",
    "imputer = MissForest()\n",
    "data_imputed = imputer.fit_transform(seai_copy_encoded)\n",
    "data_imputed = pd.DataFrame(data=data_imputed, columns=seai_copy_encoded.columns)"
   ]
  },
  {
   "cell_type": "code",
   "execution_count": null,
   "metadata": {},
   "outputs": [],
   "source": [
    "data_imputed"
   ]
  },
  {
   "cell_type": "markdown",
   "metadata": {},
   "source": [
    "---"
   ]
  },
  {
   "cell_type": "markdown",
   "metadata": {},
   "source": [
    "#### 2.4 Cleanup and result overview"
   ]
  },
  {
   "cell_type": "code",
   "execution_count": null,
   "metadata": {},
   "outputs": [],
   "source": [
    "# https://stackoverflow.com/a/62085741/5923619\n",
    "# Function to remove the one hot encoding after the imputation has been completed\n",
    "def undummify(df, prefix_sep=\"_\"):\n",
    "    cols2collapse = {\n",
    "        item.split(prefix_sep)[0]: (prefix_sep in item) for item in df.columns\n",
    "    }\n",
    "    series_list = []\n",
    "    for col, needs_to_collapse in cols2collapse.items():\n",
    "        if needs_to_collapse:\n",
    "            undummified = (\n",
    "                df.filter(like=col)\n",
    "                .idxmax(axis=1)\n",
    "                .apply(lambda x: x.split(prefix_sep, maxsplit=1)[1])\n",
    "                .rename(col)\n",
    "            )\n",
    "            series_list.append(undummified)\n",
    "        else:\n",
    "            series_list.append(df[col])\n",
    "    undummified_df = pd.concat(series_list, axis=1)\n",
    "    return undummified_df"
   ]
  },
  {
   "cell_type": "code",
   "execution_count": null,
   "metadata": {},
   "outputs": [],
   "source": [
    "# Perform the reverse encoding\n",
    "seai_cleaned = undummify(data_imputed)"
   ]
  },
  {
   "cell_type": "code",
   "execution_count": null,
   "metadata": {},
   "outputs": [],
   "source": [
    "# Check out the dataframe to ensure it was a success\n",
    "seai_cleaned"
   ]
  },
  {
   "cell_type": "code",
   "execution_count": null,
   "metadata": {},
   "outputs": [],
   "source": [
    "# Make sure the year is not a float\n",
    "seai_cleaned['YearofConstruction'] = seai_cleaned['YearofConstruction'].astype('int')\n",
    "seai_cleaned['NoOfSidesSheltered'] = seai_cleaned['NoOfSidesSheltered'].astype('int')\n",
    "\n",
    "# Drop all duplicates in the dataset and keep the first entry of each\n",
    "seai_cleaned = seai_cleaned.drop_duplicates(keep='first')\n",
    "\n",
    "# Reset index so it is not included in report putput\n",
    "seai_cleaned.reset_index(drop=True, inplace=True)"
   ]
  },
  {
   "cell_type": "markdown",
   "metadata": {},
   "source": [
    "I want to be able to evaluate the MissForest algorithm so I know everything worked ok.\n",
    "\n",
    "To do this, I can simply nullify some of the columns in my original dataset with a set index, perform the algorithm on this and see how it performs relative to them when I resolve the nulls I have created artificially"
   ]
  },
  {
   "cell_type": "code",
   "execution_count": null,
   "metadata": {},
   "outputs": [],
   "source": [
    "seai_cleaned_results = seai.merge(\n",
    "     seai_cleaned\n",
    "    ,on=['YearofConstruction', 'BerRating', 'GroundFloorArea(sq m)', 'CO2Rating', 'CountyName', 'DwellingTypeDescr', 'EnergyRating', 'NoOfSidesSheltered']\n",
    "    ,how = 'inner'\n",
    ")\n",
    "\n",
    "seai_cleaned_results = seai_cleaned_results.rename(columns={ \"TotalDeliveredEnergy_x\":\"TotalDeliveredEnergyOriginal\"\n",
    "                                                            ,\"TotalDeliveredEnergy_y\":\"TotalDeliveredEnergyImputed\"})\n"
   ]
  },
  {
   "cell_type": "code",
   "execution_count": null,
   "metadata": {},
   "outputs": [],
   "source": [
    "seai_cleaned_results.groupby('EnergyRating').agg(['mean'])[['TotalDeliveredEnergyOriginal', 'TotalDeliveredEnergyImputed']]"
   ]
  },
  {
   "cell_type": "markdown",
   "metadata": {},
   "source": [
    "The results are interesting. \n",
    "- The means and medians are about 2k less most of the time, except for the A rated classes"
   ]
  },
  {
   "cell_type": "markdown",
   "metadata": {},
   "source": [
    "---"
   ]
  },
  {
   "cell_type": "markdown",
   "metadata": {},
   "source": [
    "#### 2.4 Assessment of Imputation as a tool"
   ]
  },
  {
   "cell_type": "code",
   "execution_count": null,
   "metadata": {},
   "outputs": [],
   "source": [
    "# To test the accuracy of this I am going to perform make a random subset of the A rated homes NaN and impute them and compare\n",
    "seai_a1_test = seai[seai['EnergyRating'] == 'A1']\n",
    "\n",
    "# We only want non null rows so we can make our own nulls to compare to\n",
    "seai_a1_test = seai_a1_test[~seai_a1_test.isnull().any(axis=1)]\n",
    "\n",
    "# Create a copy of the original dataframe to compare to after tests\n",
    "seai_a1_test_copy = seai_a1_test.copy()"
   ]
  },
  {
   "cell_type": "code",
   "execution_count": null,
   "metadata": {},
   "outputs": [],
   "source": [
    "# Create a list of random indices between 0 and the length of the dataframe to choose to nullify\n",
    "inds1 = list(set(np.random.randint(0, len(seai_a1_test), 10)))\n",
    "\n",
    "# Replace the values at given index position with NaNs\n",
    "seai_a1_test['TotalDeliveredEnergy'] = [val if i not in inds1 else np.nan for i, val in enumerate(seai_a1_test['TotalDeliveredEnergy'])]\n",
    "\n",
    "# Get count of missing values by column\n",
    "seai_a1_test.isnull().sum()"
   ]
  },
  {
   "cell_type": "code",
   "execution_count": null,
   "metadata": {},
   "outputs": [],
   "source": [
    "# One Hot Encode our variables so they can be put through the missing forest algorithm\n",
    "seai_a1_test = encode_and_bind(seai_a1_test, 'CountyName')\n",
    "seai_a1_test = encode_and_bind(seai_a1_test, 'DwellingTypeDescr')\n",
    "seai_a1_test = encode_and_bind(seai_a1_test, 'EnergyRating')\n",
    "seai_a1_test = encode_and_bind(seai_a1_test, 'MainSpaceHeatingFuel')\n",
    "seai_a1_test = encode_and_bind(seai_a1_test, 'MainWaterHeatingFuel')\n",
    "seai_a1_test = encode_and_bind(seai_a1_test, 'VentilationMethod')\n",
    "seai_a1_test = encode_and_bind(seai_a1_test, 'StructureType')\n",
    "seai_a1_test = encode_and_bind(seai_a1_test, 'InsulationType')\n",
    "\n",
    "# Dropping the unencoded columns for now\n",
    "seai_a1_test = seai_a1_test.drop(['CountyName', 'DwellingTypeDescr', 'EnergyRating','DateOfAssessment', 'MainSpaceHeatingFuel', 'MainWaterHeatingFuel', 'VentilationMethod', 'StructureType','InsulationType'], axis = 1)\n",
    "\n",
    "# Moving target column to the very last\n",
    "new_cols = [col for col in seai_a1_test.columns if col != 'TotalDeliveredEnergy'] + ['TotalDeliveredEnergy']\n",
    "seai_a1_test = seai_a1_test[new_cols]\n",
    "\n",
    "# Impure the missing values\n",
    "imputer = MissForest()\n",
    "imputed = imputer.fit_transform(seai_a1_test)"
   ]
  },
  {
   "cell_type": "code",
   "execution_count": null,
   "metadata": {},
   "outputs": [],
   "source": [
    "imputed"
   ]
  },
  {
   "cell_type": "code",
   "execution_count": null,
   "metadata": {},
   "outputs": [],
   "source": [
    "# Make the imputed array a dataframe and change it back to original formatting\n",
    "imputed = pd.DataFrame(data=imputed, columns=seai_a1_test.columns)\n",
    "imputed = undummify(imputed)\n",
    "\n",
    "# Merge the original dataframe with the modelled one on everything except what we estimated\n",
    "df = imputed.merge(seai_a1_test_copy, on=['YearofConstruction', 'BerRating', 'GroundFloorArea(sq m)', 'CO2Rating', 'CountyName', 'DwellingTypeDescr', 'EnergyRating', 'NoOfSidesSheltered'], how='inner')\n",
    "\n",
    "# Drop redundant columns\n",
    "df = df.drop('DateOfAssessment', axis=1)\n",
    "\n",
    "# Find the standard deviation of the original energy results\n",
    "df['Stdev'] = df['TotalDeliveredEnergy_x'].std()\n",
    "\n",
    "# Change column names for clarity\n",
    "df = df.rename(columns={ \"TotalDeliveredEnergy_x\":\"TotalDeliveredEnergyOriginal\"\n",
    "                                                            ,\"TotalDeliveredEnergy_y\":\"TotalDeliveredEnergyImputed\"})\n",
    "\n",
    "# Define the error between the original and imputed values\n",
    "df['abs_error'] = np.abs(df['TotalDeliveredEnergyOriginal'] - df['TotalDeliveredEnergyImputed'])\n",
    "\n",
    "# Define a score metric we can use to evaluate the model\n",
    "df['Score'] = np.where(df.abs_error < df.Stdev, 1, 0)"
   ]
  },
  {
   "cell_type": "code",
   "execution_count": null,
   "metadata": {},
   "outputs": [],
   "source": [
    "df"
   ]
  },
  {
   "cell_type": "code",
   "execution_count": null,
   "metadata": {},
   "outputs": [],
   "source": [
    "1 - (abs(df['Score'].sum() - df['Score'].count()) / df['Score'].sum())"
   ]
  },
  {
   "cell_type": "markdown",
   "metadata": {},
   "source": [
    "As we can see above out of our samples, the majority were within a single standard deviation of the original. A couple were above.\n",
    "\n",
    "If we take this to be our accuracy on this hypothesis test, we have a very high accuracy in our tests. For those within the standard deviation, they are very low in margin of error which is great. It is never going to be 100% accurate as we can see with the single outlier which we need to watch out for and perhaps check for after the fact. In majority it works perfectly for our needs."
   ]
  },
  {
   "cell_type": "markdown",
   "metadata": {},
   "source": [
    "---"
   ]
  },
  {
   "cell_type": "markdown",
   "metadata": {},
   "source": [
    "#### 2.5 Cleanup"
   ]
  },
  {
   "cell_type": "code",
   "execution_count": null,
   "metadata": {},
   "outputs": [],
   "source": [
    "# inspect final output\n",
    "seai_cleaned"
   ]
  },
  {
   "cell_type": "code",
   "execution_count": null,
   "metadata": {},
   "outputs": [],
   "source": [
    "# Create a pandas profile report\n",
    "profile_optimised = ProfileReport(seai_cleaned, title=\"SEAI Data Cleaned & Imputed Report\", explorative=True)\n",
    "\n",
    "# Output the report to a html file to view\n",
    "profile_optimised.to_file(\"../reports/seai_cleaned_and_imputed_profile_report_v2.html\")"
   ]
  },
  {
   "cell_type": "code",
   "execution_count": null,
   "metadata": {},
   "outputs": [],
   "source": [
    "seai_cleaned.to_csv('../data/processed/3_seai_miss_forest_imputation.csv', index=False)"
   ]
  },
  {
   "cell_type": "markdown",
   "metadata": {},
   "source": [
    "---"
   ]
  }
 ],
 "metadata": {
  "kernelspec": {
   "display_name": "Python 3.10.5 64-bit ('masters_thesis')",
   "language": "python",
   "name": "python3"
  },
  "language_info": {
   "codemirror_mode": {
    "name": "ipython",
    "version": 3
   },
   "file_extension": ".py",
   "mimetype": "text/x-python",
   "name": "python",
   "nbconvert_exporter": "python",
   "pygments_lexer": "ipython3",
   "version": "3.10.5"
  },
  "orig_nbformat": 4,
  "vscode": {
   "interpreter": {
    "hash": "ecf9425976ca1d495f6ff342e01edb9b99409cdaa6c55166a5169aaab36ca909"
   }
  }
 },
 "nbformat": 4,
 "nbformat_minor": 2
}
