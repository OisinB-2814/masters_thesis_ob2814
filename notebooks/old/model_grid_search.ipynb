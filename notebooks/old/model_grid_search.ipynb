{
 "cells": [
  {
   "cell_type": "code",
   "execution_count": 1,
   "metadata": {},
   "outputs": [],
   "source": [
    "from numpy import random\n",
    "random.seed(2814)"
   ]
  },
  {
   "cell_type": "code",
   "execution_count": 1,
   "metadata": {},
   "outputs": [],
   "source": [
    "from numpy import load\n",
    "import pickle\n",
    "\n",
    "X_train = load('../../data/interim//Design/X_train.npy')\n",
    "X_test = load('../../data/interim/Design/X_test.npy')\n",
    "y_train = load('../../data/interim/Design/y_train.npy')\n",
    "y_test = load('../../data/interim/Design/y_test.npy')"
   ]
  },
  {
   "cell_type": "code",
   "execution_count": 2,
   "metadata": {},
   "outputs": [
    {
     "name": "stdout",
     "output_type": "stream",
     "text": [
      "0.8088409108817272\n"
     ]
    }
   ],
   "source": [
    "loaded_model = pickle.load(open('../../models/final_model.pkl', 'rb'))\n",
    "result = loaded_model.score(X_test, y_test)\n",
    "print(result)"
   ]
  },
  {
   "cell_type": "code",
   "execution_count": 3,
   "metadata": {},
   "outputs": [
    {
     "data": {
      "text/plain": [
       "0     97294\n",
       "1     96900\n",
       "2     96627\n",
       "3     96464\n",
       "4     94818\n",
       "5     86912\n",
       "6     75265\n",
       "7     68420\n",
       "8     69375\n",
       "9     73321\n",
       "10    81233\n",
       "11    90512\n",
       "12    93190\n",
       "13    94137\n",
       "14    95307\n",
       "dtype: int64"
      ]
     },
     "execution_count": 3,
     "metadata": {},
     "output_type": "execute_result"
    }
   ],
   "source": [
    "import pandas as pd\n",
    "pd.DataFrame(y_train).value_counts().sort_index()"
   ]
  },
  {
   "cell_type": "code",
   "execution_count": 4,
   "metadata": {},
   "outputs": [],
   "source": [
    "from sklearn.model_selection import StratifiedKFold, GridSearchCV, train_test_split\n",
    "_, X_strat, _, y_strat = train_test_split(\n",
    "X_train, y_train, test_size=0.013, random_state=2814, stratify=y_train)"
   ]
  },
  {
   "cell_type": "code",
   "execution_count": 5,
   "metadata": {},
   "outputs": [
    {
     "data": {
      "text/plain": [
       "17028"
      ]
     },
     "execution_count": 5,
     "metadata": {},
     "output_type": "execute_result"
    }
   ],
   "source": [
    "len(X_strat)"
   ]
  },
  {
   "cell_type": "markdown",
   "metadata": {},
   "source": [
    "## 1. KNN"
   ]
  },
  {
   "cell_type": "code",
   "execution_count": 13,
   "metadata": {},
   "outputs": [],
   "source": [
    "from sklearn.neighbors import KNeighborsClassifier\n",
    "parameters_KNN = {\n",
    "    'n_neighbors': range(1,50,2),\n",
    "    'leaf_size': range(20,40,5),\n",
    "    'weights': ('uniform', 'distance'),\n",
    "    'algorithm': ('auto', 'ball_tree', 'kd_tree', 'brute'),\n",
    "    'metric': ['minkowski']}\n",
    "\n",
    "scoring = 'f1_macro'\n",
    "\n",
    "knn = KNeighborsClassifier()\n",
    "\n",
    "from sklearn.model_selection import StratifiedKFold, GridSearchCV\n",
    "grid_knn = GridSearchCV(knn, parameters_KNN, cv=StratifiedKFold(10), scoring=scoring)"
   ]
  },
  {
   "cell_type": "code",
   "execution_count": 12,
   "metadata": {},
   "outputs": [
    {
     "data": {
      "text/html": [
       "<style>#sk-container-id-1 {color: black;background-color: white;}#sk-container-id-1 pre{padding: 0;}#sk-container-id-1 div.sk-toggleable {background-color: white;}#sk-container-id-1 label.sk-toggleable__label {cursor: pointer;display: block;width: 100%;margin-bottom: 0;padding: 0.3em;box-sizing: border-box;text-align: center;}#sk-container-id-1 label.sk-toggleable__label-arrow:before {content: \"▸\";float: left;margin-right: 0.25em;color: #696969;}#sk-container-id-1 label.sk-toggleable__label-arrow:hover:before {color: black;}#sk-container-id-1 div.sk-estimator:hover label.sk-toggleable__label-arrow:before {color: black;}#sk-container-id-1 div.sk-toggleable__content {max-height: 0;max-width: 0;overflow: hidden;text-align: left;background-color: #f0f8ff;}#sk-container-id-1 div.sk-toggleable__content pre {margin: 0.2em;color: black;border-radius: 0.25em;background-color: #f0f8ff;}#sk-container-id-1 input.sk-toggleable__control:checked~div.sk-toggleable__content {max-height: 200px;max-width: 100%;overflow: auto;}#sk-container-id-1 input.sk-toggleable__control:checked~label.sk-toggleable__label-arrow:before {content: \"▾\";}#sk-container-id-1 div.sk-estimator input.sk-toggleable__control:checked~label.sk-toggleable__label {background-color: #d4ebff;}#sk-container-id-1 div.sk-label input.sk-toggleable__control:checked~label.sk-toggleable__label {background-color: #d4ebff;}#sk-container-id-1 input.sk-hidden--visually {border: 0;clip: rect(1px 1px 1px 1px);clip: rect(1px, 1px, 1px, 1px);height: 1px;margin: -1px;overflow: hidden;padding: 0;position: absolute;width: 1px;}#sk-container-id-1 div.sk-estimator {font-family: monospace;background-color: #f0f8ff;border: 1px dotted black;border-radius: 0.25em;box-sizing: border-box;margin-bottom: 0.5em;}#sk-container-id-1 div.sk-estimator:hover {background-color: #d4ebff;}#sk-container-id-1 div.sk-parallel-item::after {content: \"\";width: 100%;border-bottom: 1px solid gray;flex-grow: 1;}#sk-container-id-1 div.sk-label:hover label.sk-toggleable__label {background-color: #d4ebff;}#sk-container-id-1 div.sk-serial::before {content: \"\";position: absolute;border-left: 1px solid gray;box-sizing: border-box;top: 0;bottom: 0;left: 50%;z-index: 0;}#sk-container-id-1 div.sk-serial {display: flex;flex-direction: column;align-items: center;background-color: white;padding-right: 0.2em;padding-left: 0.2em;position: relative;}#sk-container-id-1 div.sk-item {position: relative;z-index: 1;}#sk-container-id-1 div.sk-parallel {display: flex;align-items: stretch;justify-content: center;background-color: white;position: relative;}#sk-container-id-1 div.sk-item::before, #sk-container-id-1 div.sk-parallel-item::before {content: \"\";position: absolute;border-left: 1px solid gray;box-sizing: border-box;top: 0;bottom: 0;left: 50%;z-index: -1;}#sk-container-id-1 div.sk-parallel-item {display: flex;flex-direction: column;z-index: 1;position: relative;background-color: white;}#sk-container-id-1 div.sk-parallel-item:first-child::after {align-self: flex-end;width: 50%;}#sk-container-id-1 div.sk-parallel-item:last-child::after {align-self: flex-start;width: 50%;}#sk-container-id-1 div.sk-parallel-item:only-child::after {width: 0;}#sk-container-id-1 div.sk-dashed-wrapped {border: 1px dashed gray;margin: 0 0.4em 0.5em 0.4em;box-sizing: border-box;padding-bottom: 0.4em;background-color: white;}#sk-container-id-1 div.sk-label label {font-family: monospace;font-weight: bold;display: inline-block;line-height: 1.2em;}#sk-container-id-1 div.sk-label-container {text-align: center;}#sk-container-id-1 div.sk-container {/* jupyter's `normalize.less` sets `[hidden] { display: none; }` but bootstrap.min.css set `[hidden] { display: none !important; }` so we also need the `!important` here to be able to override the default hidden behavior on the sphinx rendered scikit-learn.org. See: https://github.com/scikit-learn/scikit-learn/issues/21755 */display: inline-block !important;position: relative;}#sk-container-id-1 div.sk-text-repr-fallback {display: none;}</style><div id=\"sk-container-id-1\" class=\"sk-top-container\"><div class=\"sk-text-repr-fallback\"><pre>GridSearchCV(cv=StratifiedKFold(n_splits=10, random_state=None, shuffle=False),\n",
       "             estimator=KNeighborsClassifier(),\n",
       "             param_grid={&#x27;algorithm&#x27;: (&#x27;auto&#x27;, &#x27;ball_tree&#x27;, &#x27;kd_tree&#x27;, &#x27;brute&#x27;),\n",
       "                         &#x27;leaf_size&#x27;: range(20, 40, 5), &#x27;metric&#x27;: [&#x27;minkowski&#x27;],\n",
       "                         &#x27;n_neighbors&#x27;: range(1, 50, 2),\n",
       "                         &#x27;weights&#x27;: (&#x27;uniform&#x27;, &#x27;distance&#x27;)},\n",
       "             scoring=&#x27;f1_macro&#x27;)</pre><b>In a Jupyter environment, please rerun this cell to show the HTML representation or trust the notebook. <br />On GitHub, the HTML representation is unable to render, please try loading this page with nbviewer.org.</b></div><div class=\"sk-container\" hidden><div class=\"sk-item sk-dashed-wrapped\"><div class=\"sk-label-container\"><div class=\"sk-label sk-toggleable\"><input class=\"sk-toggleable__control sk-hidden--visually\" id=\"sk-estimator-id-1\" type=\"checkbox\" ><label for=\"sk-estimator-id-1\" class=\"sk-toggleable__label sk-toggleable__label-arrow\">GridSearchCV</label><div class=\"sk-toggleable__content\"><pre>GridSearchCV(cv=StratifiedKFold(n_splits=10, random_state=None, shuffle=False),\n",
       "             estimator=KNeighborsClassifier(),\n",
       "             param_grid={&#x27;algorithm&#x27;: (&#x27;auto&#x27;, &#x27;ball_tree&#x27;, &#x27;kd_tree&#x27;, &#x27;brute&#x27;),\n",
       "                         &#x27;leaf_size&#x27;: range(20, 40, 5), &#x27;metric&#x27;: [&#x27;minkowski&#x27;],\n",
       "                         &#x27;n_neighbors&#x27;: range(1, 50, 2),\n",
       "                         &#x27;weights&#x27;: (&#x27;uniform&#x27;, &#x27;distance&#x27;)},\n",
       "             scoring=&#x27;f1_macro&#x27;)</pre></div></div></div><div class=\"sk-parallel\"><div class=\"sk-parallel-item\"><div class=\"sk-item\"><div class=\"sk-label-container\"><div class=\"sk-label sk-toggleable\"><input class=\"sk-toggleable__control sk-hidden--visually\" id=\"sk-estimator-id-2\" type=\"checkbox\" ><label for=\"sk-estimator-id-2\" class=\"sk-toggleable__label sk-toggleable__label-arrow\">estimator: KNeighborsClassifier</label><div class=\"sk-toggleable__content\"><pre>KNeighborsClassifier()</pre></div></div></div><div class=\"sk-serial\"><div class=\"sk-item\"><div class=\"sk-estimator sk-toggleable\"><input class=\"sk-toggleable__control sk-hidden--visually\" id=\"sk-estimator-id-3\" type=\"checkbox\" ><label for=\"sk-estimator-id-3\" class=\"sk-toggleable__label sk-toggleable__label-arrow\">KNeighborsClassifier</label><div class=\"sk-toggleable__content\"><pre>KNeighborsClassifier()</pre></div></div></div></div></div></div></div></div></div></div>"
      ],
      "text/plain": [
       "GridSearchCV(cv=StratifiedKFold(n_splits=10, random_state=None, shuffle=False),\n",
       "             estimator=KNeighborsClassifier(),\n",
       "             param_grid={'algorithm': ('auto', 'ball_tree', 'kd_tree', 'brute'),\n",
       "                         'leaf_size': range(20, 40, 5), 'metric': ['minkowski'],\n",
       "                         'n_neighbors': range(1, 50, 2),\n",
       "                         'weights': ('uniform', 'distance')},\n",
       "             scoring='f1_macro')"
      ]
     },
     "execution_count": 12,
     "metadata": {},
     "output_type": "execute_result"
    }
   ],
   "source": [
    "grid_knn.fit(X_strat, y_strat)"
   ]
  },
  {
   "cell_type": "code",
   "execution_count": 13,
   "metadata": {},
   "outputs": [
    {
     "data": {
      "text/plain": [
       "{'algorithm': 'auto',\n",
       " 'leaf_size': 20,\n",
       " 'metric': 'minkowski',\n",
       " 'n_neighbors': 27,\n",
       " 'weights': 'distance'}"
      ]
     },
     "execution_count": 13,
     "metadata": {},
     "output_type": "execute_result"
    }
   ],
   "source": [
    "grid_knn.best_params_"
   ]
  },
  {
   "cell_type": "code",
   "execution_count": 14,
   "metadata": {},
   "outputs": [
    {
     "data": {
      "text/plain": [
       "0.350528806577099"
      ]
     },
     "execution_count": 14,
     "metadata": {},
     "output_type": "execute_result"
    }
   ],
   "source": [
    "grid_knn.best_score_"
   ]
  },
  {
   "cell_type": "code",
   "execution_count": 15,
   "metadata": {},
   "outputs": [],
   "source": [
    "y_pred_grid_knn = grid_knn.predict(X_test)"
   ]
  },
  {
   "cell_type": "code",
   "execution_count": 16,
   "metadata": {},
   "outputs": [
    {
     "name": "stdout",
     "output_type": "stream",
     "text": [
      "              precision    recall  f1-score   support\n",
      "\n",
      "           0       0.03      0.68      0.06       196\n",
      "           1       0.67      0.54      0.60      5195\n",
      "           2       0.69      0.55      0.61      6857\n",
      "           3       0.15      0.39      0.21      2773\n",
      "           4       0.16      0.30      0.21      6231\n",
      "           5       0.22      0.25      0.24     15040\n",
      "           6       0.27      0.19      0.22     22077\n",
      "           7       0.27      0.15      0.19     24325\n",
      "           8       0.24      0.15      0.18     23215\n",
      "           9       0.23      0.16      0.19     22520\n",
      "          10       0.21      0.19      0.20     19384\n",
      "          11       0.13      0.20      0.16     11198\n",
      "          12       0.13      0.23      0.17      8873\n",
      "          13       0.17      0.30      0.22      9191\n",
      "          14       0.55      0.61      0.58     13290\n",
      "\n",
      "    accuracy                           0.25    190365\n",
      "   macro avg       0.28      0.33      0.27    190365\n",
      "weighted avg       0.27      0.25      0.25    190365\n",
      "\n"
     ]
    }
   ],
   "source": [
    "from sklearn.metrics import classification_report\n",
    "print(classification_report(y_test, y_pred_grid_knn))"
   ]
  },
  {
   "cell_type": "code",
   "execution_count": 91,
   "metadata": {},
   "outputs": [
    {
     "name": "stdout",
     "output_type": "stream",
     "text": [
      "              precision    recall  f1-score   support\n",
      "\n",
      "           0       0.10      0.34      0.16       196\n",
      "           1       0.75      0.74      0.75      5195\n",
      "           2       0.76      0.66      0.70      6857\n",
      "           3       0.27      0.42      0.33      2773\n",
      "           4       0.30      0.33      0.32      6231\n",
      "           5       0.39      0.22      0.28     15040\n",
      "           6       0.44      0.13      0.20     22077\n",
      "           7       0.43      0.07      0.13     24325\n",
      "           8       0.39      0.07      0.13     23215\n",
      "           9       0.40      0.07      0.12     22520\n",
      "          10       0.38      0.09      0.14     19384\n",
      "          11       0.26      0.15      0.19     11198\n",
      "          12       0.23      0.18      0.20      8873\n",
      "          13       0.31      0.22      0.26      9191\n",
      "          14       0.78      0.57      0.65     13290\n",
      "\n",
      "   micro avg       0.44      0.20      0.27    190365\n",
      "   macro avg       0.41      0.28      0.30    190365\n",
      "weighted avg       0.43      0.20      0.25    190365\n",
      " samples avg       0.20      0.20      0.20    190365\n",
      "\n"
     ]
    }
   ],
   "source": [
    "knn_optimal = KNeighborsClassifier(\n",
    "    algorithm = 'auto',\n",
    "    leaf_size = 20,\n",
    "    metric = 'minkowski',\n",
    "    n_neighbors = 13,\n",
    "    weights = 'distance'\n",
    ")\n",
    "\n",
    "knn_optimal.fit(X_train, y_train)\n",
    "y_pred_knn_optimal = knn_optimal.predict(X_test)\n",
    "\n",
    "print(classification_report(y_test, y_pred_knn_optimal))"
   ]
  },
  {
   "cell_type": "code",
   "execution_count": 112,
   "metadata": {},
   "outputs": [],
   "source": [
    "classes=['A1','A2','A3','B1','B2','B3','C1','C2','C3','D1','D2','E1','E2','F','G']\n",
    "features = [\n",
    "    'CountyName',\n",
    "\t'DwellingTypeDescr',\n",
    "    'YearofConstruction',\n",
    "    'GroundFloorArea(sq m)',\n",
    "    'MainSpaceHeatingFuel',\t\n",
    "    'MainWaterHeatingFuel',\t\n",
    "    'VentilationMethod',\n",
    "    'StructureType',\n",
    "    'NoOfSidesSheltered',\n",
    "    'InsulationType',\n",
    "    'InsulationThickness',\n",
    "    'TotalDeliveredEnergy',\n",
    "    'EnergyCost']\n",
    "\n",
    "import matplotlib.pyplot as plt"
   ]
  },
  {
   "cell_type": "code",
   "execution_count": 1,
   "metadata": {},
   "outputs": [
    {
     "ename": "NameError",
     "evalue": "name 'y_test' is not defined",
     "output_type": "error",
     "traceback": [
      "\u001b[0;31m---------------------------------------------------------------------------\u001b[0m",
      "\u001b[0;31mNameError\u001b[0m                                 Traceback (most recent call last)",
      "\u001b[1;32m/Users/oisinbrannock/Documents/masters_thesis_ob2814/masters_thesis_ob2814/notebooks/old/model_grid_search.ipynb Cell 16\u001b[0m in \u001b[0;36m<cell line: 14>\u001b[0;34m()\u001b[0m\n\u001b[1;32m     <a href='vscode-notebook-cell:/Users/oisinbrannock/Documents/masters_thesis_ob2814/masters_thesis_ob2814/notebooks/old/model_grid_search.ipynb#X21sZmlsZQ%3D%3D?line=12'>13</a>\u001b[0m roc_auc \u001b[39m=\u001b[39m \u001b[39mdict\u001b[39m()\n\u001b[1;32m     <a href='vscode-notebook-cell:/Users/oisinbrannock/Documents/masters_thesis_ob2814/masters_thesis_ob2814/notebooks/old/model_grid_search.ipynb#X21sZmlsZQ%3D%3D?line=13'>14</a>\u001b[0m \u001b[39mfor\u001b[39;00m i \u001b[39min\u001b[39;00m \u001b[39mrange\u001b[39m(\u001b[39m15\u001b[39m):\n\u001b[0;32m---> <a href='vscode-notebook-cell:/Users/oisinbrannock/Documents/masters_thesis_ob2814/masters_thesis_ob2814/notebooks/old/model_grid_search.ipynb#X21sZmlsZQ%3D%3D?line=14'>15</a>\u001b[0m     fpr[i], tpr[i], _ \u001b[39m=\u001b[39m roc_curve(y_test[:, i], y_pred_knn_optimal[:, i])\n\u001b[1;32m     <a href='vscode-notebook-cell:/Users/oisinbrannock/Documents/masters_thesis_ob2814/masters_thesis_ob2814/notebooks/old/model_grid_search.ipynb#X21sZmlsZQ%3D%3D?line=15'>16</a>\u001b[0m     roc_auc[i] \u001b[39m=\u001b[39m auc(fpr[i], tpr[i])\n\u001b[1;32m     <a href='vscode-notebook-cell:/Users/oisinbrannock/Documents/masters_thesis_ob2814/masters_thesis_ob2814/notebooks/old/model_grid_search.ipynb#X21sZmlsZQ%3D%3D?line=17'>18</a>\u001b[0m \u001b[39m# Compute micro-average ROC curve and ROC area\u001b[39;00m\n",
      "\u001b[0;31mNameError\u001b[0m: name 'y_test' is not defined"
     ]
    }
   ],
   "source": [
    "import numpy as np\n",
    "from scipy import interp\n",
    "import matplotlib.pyplot as plt\n",
    "from itertools import cycle\n",
    "from sklearn.metrics import roc_curve, auc\n",
    "\n",
    "# Plot linewidth.\n",
    "lw = 2\n",
    "\n",
    "# Compute ROC curve and ROC area for each class\n",
    "fpr = dict()\n",
    "tpr = dict()\n",
    "roc_auc = dict()\n",
    "for i in range(15):\n",
    "    fpr[i], tpr[i], _ = roc_curve(y_test[:, i], y_pred_knn_optimal[:, i])\n",
    "    roc_auc[i] = auc(fpr[i], tpr[i])\n",
    "\n",
    "# Compute micro-average ROC curve and ROC area\n",
    "fpr[\"micro\"], tpr[\"micro\"], _ = roc_curve(y_test.ravel(), y_pred_knn_optimal.ravel())\n",
    "roc_auc[\"micro\"] = auc(fpr[\"micro\"], tpr[\"micro\"])\n",
    "\n",
    "# Compute macro-average ROC curve and ROC area\n",
    "\n",
    "# First aggregate all false positive rates\n",
    "all_fpr = np.unique(np.concatenate([fpr[i] for i in range(15)]))\n",
    "\n",
    "# Then interpolate all ROC curves at this points\n",
    "mean_tpr = np.zeros_like(all_fpr)\n",
    "for i in range(15):\n",
    "    mean_tpr += interp(all_fpr, fpr[i], tpr[i])\n",
    "\n",
    "# Finally average it and compute AUC\n",
    "mean_tpr /= 15\n",
    "\n",
    "fpr[\"macro\"] = all_fpr\n",
    "tpr[\"macro\"] = mean_tpr\n",
    "roc_auc[\"macro\"] = auc(fpr[\"macro\"], tpr[\"macro\"])\n",
    "\n",
    "# Plot all ROC curves\n",
    "fig, ax = plt.subplots(figsize=(12,10))\n",
    "plt.grid(False)\n",
    "plt.figure(1)\n",
    "\n",
    "\n",
    "plt.plot(fpr[\"micro\"], tpr[\"micro\"],\n",
    "         label='micro-average ROC curve (area = {0:0.2f})'\n",
    "               ''.format(roc_auc[\"micro\"]),\n",
    "         color='red', linestyle=':', linewidth=4)\n",
    "\n",
    "\n",
    "\n",
    "plt.plot([0, 1], [0, 1], 'k--', lw=lw)\n",
    "plt.xlim([0.0, 1.0])\n",
    "plt.ylim([0.0, 1.05])\n",
    "plt.xlabel('False Positive Rate')\n",
    "plt.ylabel('True Positive Rate')\n",
    "plt.title('kNN ROC')\n",
    "plt.legend(loc='lower right')\n",
    "plt.show()\n",
    "\n",
    "\n",
    "# Zoom in view of the upper left corner.\n",
    "plt.figure(2)\n",
    "plt.xlim(0, 0.2)\n",
    "plt.ylim(0.8, 1)\n",
    "plt.plot(fpr[\"micro\"], tpr[\"micro\"],\n",
    "         label='micro-average ROC curve (area = {0:0.2f})'\n",
    "               ''.format(roc_auc[\"micro\"]),\n",
    "         color='deeppink', linestyle=':', linewidth=4)\n",
    "\n",
    "plt.plot(fpr[\"macro\"], tpr[\"macro\"],\n",
    "         label='macro-average ROC curve (area = {0:0.2f})'\n",
    "               ''.format(roc_auc[\"macro\"]),\n",
    "         color='navy', linestyle=':', linewidth=4)\n",
    "\n",
    "colors = cycle(['aqua', 'darkorange', 'cornflowerblue'])\n",
    "for i, color in zip(range(15), colors):\n",
    "    plt.plot(fpr[i], tpr[i], color=color, lw=lw,\n",
    "             label='ROC curve of class {0} (area = {1:0.2f})'\n",
    "             ''.format(i, roc_auc[i]))\n",
    "\n",
    "plt.plot([0, 1], [0, 1], 'k--', lw=lw)\n",
    "plt.xlabel('False Positive Rate')\n",
    "plt.ylabel('True Positive Rate')\n",
    "plt.title('')\n",
    "plt.legend(loc='lower right')\n",
    "plt.show()"
   ]
  },
  {
   "cell_type": "code",
   "execution_count": 141,
   "metadata": {},
   "outputs": [],
   "source": [
    "plt.figure(figsize=(12,8))\n",
    "plt.title(\"Precision-Recall Curve\", fontsize=18)\n",
    "plt.xlabel(\"Recall\", fontsize=16)\n",
    "plt.ylabel(\"Precision\", fontsize=16)\n",
    "viz = PrecisionRecallCurve(knn_optimal, classes=classes)\n",
    "viz.fit(X_train, y_train)\n",
    "viz.score(X_test, y_test)\n",
    "plt.legend(loc='center', fontsize=12)\n",
    "plt.grid(False)"
   ]
  },
  {
   "cell_type": "code",
   "execution_count": 120,
   "metadata": {},
   "outputs": [
    {
     "ename": "ValueError",
     "evalue": "y should be a 1d array, got an array of shape (15, 2) instead.",
     "output_type": "error",
     "traceback": [
      "\u001b[0;31m---------------------------------------------------------------------------\u001b[0m",
      "\u001b[0;31mValueError\u001b[0m                                Traceback (most recent call last)",
      "\u001b[1;32m/Users/oisinbrannock/Documents/masters_thesis_ob2814/masters_thesis_ob2814/notebooks/old/model_grid_search.ipynb Cell 17\u001b[0m in \u001b[0;36m<cell line: 18>\u001b[0;34m()\u001b[0m\n\u001b[1;32m      <a href='vscode-notebook-cell:/Users/oisinbrannock/Documents/masters_thesis_ob2814/masters_thesis_ob2814/notebooks/old/model_grid_search.ipynb#Y135sZmlsZQ%3D%3D?line=7'>8</a>\u001b[0m \u001b[39mfrom\u001b[39;00m \u001b[39myellowbrick\u001b[39;00m\u001b[39m.\u001b[39;00m\u001b[39mclassifier\u001b[39;00m \u001b[39mimport\u001b[39;00m ConfusionMatrix\n\u001b[1;32m      <a href='vscode-notebook-cell:/Users/oisinbrannock/Documents/masters_thesis_ob2814/masters_thesis_ob2814/notebooks/old/model_grid_search.ipynb#Y135sZmlsZQ%3D%3D?line=8'>9</a>\u001b[0m cm \u001b[39m=\u001b[39m ConfusionMatrix(\n\u001b[1;32m     <a href='vscode-notebook-cell:/Users/oisinbrannock/Documents/masters_thesis_ob2814/masters_thesis_ob2814/notebooks/old/model_grid_search.ipynb#Y135sZmlsZQ%3D%3D?line=9'>10</a>\u001b[0m     knn_optimal, classes\u001b[39m=\u001b[39mclasses,\n\u001b[1;32m     <a href='vscode-notebook-cell:/Users/oisinbrannock/Documents/masters_thesis_ob2814/masters_thesis_ob2814/notebooks/old/model_grid_search.ipynb#Y135sZmlsZQ%3D%3D?line=10'>11</a>\u001b[0m     percent\u001b[39m=\u001b[39m\u001b[39mTrue\u001b[39;00m,\n\u001b[0;32m   (...)\u001b[0m\n\u001b[1;32m     <a href='vscode-notebook-cell:/Users/oisinbrannock/Documents/masters_thesis_ob2814/masters_thesis_ob2814/notebooks/old/model_grid_search.ipynb#Y135sZmlsZQ%3D%3D?line=15'>16</a>\u001b[0m     \u001b[39m#label_encoder={0: 'Adelie', 1: 'Chinstrap', 2: 'Gentoo'}\u001b[39;00m\n\u001b[1;32m     <a href='vscode-notebook-cell:/Users/oisinbrannock/Documents/masters_thesis_ob2814/masters_thesis_ob2814/notebooks/old/model_grid_search.ipynb#Y135sZmlsZQ%3D%3D?line=16'>17</a>\u001b[0m )\n\u001b[0;32m---> <a href='vscode-notebook-cell:/Users/oisinbrannock/Documents/masters_thesis_ob2814/masters_thesis_ob2814/notebooks/old/model_grid_search.ipynb#Y135sZmlsZQ%3D%3D?line=17'>18</a>\u001b[0m cm\u001b[39m.\u001b[39;49mfit(X_train, y_train)\n\u001b[1;32m     <a href='vscode-notebook-cell:/Users/oisinbrannock/Documents/masters_thesis_ob2814/masters_thesis_ob2814/notebooks/old/model_grid_search.ipynb#Y135sZmlsZQ%3D%3D?line=18'>19</a>\u001b[0m cm\u001b[39m.\u001b[39mscore(X_test, y_test)\n\u001b[1;32m     <a href='vscode-notebook-cell:/Users/oisinbrannock/Documents/masters_thesis_ob2814/masters_thesis_ob2814/notebooks/old/model_grid_search.ipynb#Y135sZmlsZQ%3D%3D?line=19'>20</a>\u001b[0m cm\u001b[39m.\u001b[39mshow()\n",
      "File \u001b[0;32m~/.pyenv/versions/3.9.2/envs/NN/lib/python3.9/site-packages/yellowbrick/classifier/base.py:189\u001b[0m, in \u001b[0;36mClassificationScoreVisualizer.fit\u001b[0;34m(self, X, y, **kwargs)\u001b[0m\n\u001b[1;32m    186\u001b[0m         \u001b[39mself\u001b[39m\u001b[39m.\u001b[39mclass_counts_ \u001b[39m=\u001b[39m \u001b[39mNone\u001b[39;00m\n\u001b[1;32m    188\u001b[0m \u001b[39m# Decode classes to human readable labels specified by the user\u001b[39;00m\n\u001b[0;32m--> 189\u001b[0m \u001b[39mself\u001b[39m\u001b[39m.\u001b[39mclasses_ \u001b[39m=\u001b[39m \u001b[39mself\u001b[39;49m\u001b[39m.\u001b[39;49m_decode_labels(\u001b[39mself\u001b[39;49m\u001b[39m.\u001b[39;49mclasses_)\n\u001b[1;32m    191\u001b[0m \u001b[39m# Always return self from fit\u001b[39;00m\n\u001b[1;32m    192\u001b[0m \u001b[39mreturn\u001b[39;00m \u001b[39mself\u001b[39m\n",
      "File \u001b[0;32m~/.pyenv/versions/3.9.2/envs/NN/lib/python3.9/site-packages/yellowbrick/classifier/base.py:286\u001b[0m, in \u001b[0;36mClassificationScoreVisualizer._decode_labels\u001b[0;34m(self, y)\u001b[0m\n\u001b[1;32m    283\u001b[0m     idx \u001b[39m=\u001b[39m yp\n\u001b[1;32m    284\u001b[0m \u001b[39melse\u001b[39;00m:\n\u001b[1;32m    285\u001b[0m     \u001b[39m# Use label encoder to get indices by sorted class names\u001b[39;00m\n\u001b[0;32m--> 286\u001b[0m     idx \u001b[39m=\u001b[39m LabelEncoder()\u001b[39m.\u001b[39;49mfit_transform(yp)\n\u001b[1;32m    288\u001b[0m \u001b[39m# Use index mapping for classes\u001b[39;00m\n\u001b[1;32m    289\u001b[0m \u001b[39mtry\u001b[39;00m:\n",
      "File \u001b[0;32m~/.pyenv/versions/3.9.2/envs/NN/lib/python3.9/site-packages/sklearn/preprocessing/_label.py:115\u001b[0m, in \u001b[0;36mLabelEncoder.fit_transform\u001b[0;34m(self, y)\u001b[0m\n\u001b[1;32m    102\u001b[0m \u001b[39mdef\u001b[39;00m \u001b[39mfit_transform\u001b[39m(\u001b[39mself\u001b[39m, y):\n\u001b[1;32m    103\u001b[0m     \u001b[39m\"\"\"Fit label encoder and return encoded labels.\u001b[39;00m\n\u001b[1;32m    104\u001b[0m \n\u001b[1;32m    105\u001b[0m \u001b[39m    Parameters\u001b[39;00m\n\u001b[0;32m   (...)\u001b[0m\n\u001b[1;32m    113\u001b[0m \u001b[39m        Encoded labels.\u001b[39;00m\n\u001b[1;32m    114\u001b[0m \u001b[39m    \"\"\"\u001b[39;00m\n\u001b[0;32m--> 115\u001b[0m     y \u001b[39m=\u001b[39m column_or_1d(y, warn\u001b[39m=\u001b[39;49m\u001b[39mTrue\u001b[39;49;00m)\n\u001b[1;32m    116\u001b[0m     \u001b[39mself\u001b[39m\u001b[39m.\u001b[39mclasses_, y \u001b[39m=\u001b[39m _unique(y, return_inverse\u001b[39m=\u001b[39m\u001b[39mTrue\u001b[39;00m)\n\u001b[1;32m    117\u001b[0m     \u001b[39mreturn\u001b[39;00m y\n",
      "File \u001b[0;32m~/.pyenv/versions/3.9.2/envs/NN/lib/python3.9/site-packages/sklearn/utils/validation.py:1156\u001b[0m, in \u001b[0;36mcolumn_or_1d\u001b[0;34m(y, warn)\u001b[0m\n\u001b[1;32m   1147\u001b[0m         warnings\u001b[39m.\u001b[39mwarn(\n\u001b[1;32m   1148\u001b[0m             \u001b[39m\"\u001b[39m\u001b[39mA column-vector y was passed when a 1d array was\u001b[39m\u001b[39m\"\u001b[39m\n\u001b[1;32m   1149\u001b[0m             \u001b[39m\"\u001b[39m\u001b[39m expected. Please change the shape of y to \u001b[39m\u001b[39m\"\u001b[39m\n\u001b[0;32m   (...)\u001b[0m\n\u001b[1;32m   1152\u001b[0m             stacklevel\u001b[39m=\u001b[39m\u001b[39m2\u001b[39m,\n\u001b[1;32m   1153\u001b[0m         )\n\u001b[1;32m   1154\u001b[0m     \u001b[39mreturn\u001b[39;00m np\u001b[39m.\u001b[39mravel(y)\n\u001b[0;32m-> 1156\u001b[0m \u001b[39mraise\u001b[39;00m \u001b[39mValueError\u001b[39;00m(\n\u001b[1;32m   1157\u001b[0m     \u001b[39m\"\u001b[39m\u001b[39my should be a 1d array, got an array of shape \u001b[39m\u001b[39m{}\u001b[39;00m\u001b[39m instead.\u001b[39m\u001b[39m\"\u001b[39m\u001b[39m.\u001b[39mformat(shape)\n\u001b[1;32m   1158\u001b[0m )\n",
      "\u001b[0;31mValueError\u001b[0m: y should be a 1d array, got an array of shape (15, 2) instead."
     ]
    },
    {
     "data": {
      "image/png": "[encoded data removed]",
      "text/plain": [
       "<Figure size 864x720 with 1 Axes>"
      ]
     },
     "metadata": {
      "needs_background": "light"
     },
     "output_type": "display_data"
    }
   ],
   "source": [
    "from matplotlib import cm as col\n",
    "import matplotlib\n",
    "matplotlib.rcParams['axes.titlesize'] = 20\n",
    "matplotlib.rcParams['axes.labelsize'] = 16\n",
    "plt.figure(figsize=(12,10))\n",
    "plt.title('Confusion Matrix')\n",
    "viridis = col.get_cmap('viridis', 15)\n",
    "from yellowbrick.classifier import ConfusionMatrix\n",
    "cm = ConfusionMatrix(\n",
    "    knn_optimal, classes=classes,\n",
    "    percent=True,\n",
    "    cmap='Greens',\n",
    "    fontsize=16,\n",
    "    title='Optimal Model Confusion Matrix of BER'\n",
    "    ,\n",
    "    #label_encoder={0: 'Adelie', 1: 'Chinstrap', 2: 'Gentoo'}\n",
    ")\n",
    "cm.fit(X_train, y_train)\n",
    "cm.score(X_test, y_test)\n",
    "cm.show();"
   ]
  },
  {
   "cell_type": "code",
   "execution_count": 123,
   "metadata": {},
   "outputs": [
    {
     "data": {
      "text/plain": [
       "(1309775, 13)"
      ]
     },
     "execution_count": 123,
     "metadata": {},
     "output_type": "execute_result"
    }
   ],
   "source": [
    "X_train.shape"
   ]
  },
  {
   "cell_type": "markdown",
   "metadata": {},
   "source": [
    "---"
   ]
  },
  {
   "cell_type": "markdown",
   "metadata": {},
   "source": [
    "## 2. Decision Tree"
   ]
  },
  {
   "cell_type": "code",
   "execution_count": 15,
   "metadata": {},
   "outputs": [],
   "source": [
    "from sklearn.tree import DecisionTreeClassifier\n",
    "parameters_dt = {\n",
    "    'criterion' : (\"gini\", \"entropy\", \"log_loss\"),\n",
    "    'splitter' : (\"best\", \"random\"),\n",
    "    'max_depth': range(10,100,10),\n",
    "    'min_samples_split': range(2,10,2),\n",
    "    'min_samples_leaf': range(2,10,2)\n",
    "}\n",
    "\n",
    "scoring = 'f1_macro'\n",
    "\n",
    "dt = DecisionTreeClassifier()\n",
    "\n",
    "from sklearn.model_selection import StratifiedKFold, GridSearchCV\n",
    "grid_dt = GridSearchCV(dt, parameters_dt, cv=StratifiedKFold(10), scoring=scoring)"
   ]
  },
  {
   "cell_type": "code",
   "execution_count": 19,
   "metadata": {},
   "outputs": [
    {
     "data": {
      "text/html": [
       "<style>#sk-container-id-2 {color: black;background-color: white;}#sk-container-id-2 pre{padding: 0;}#sk-container-id-2 div.sk-toggleable {background-color: white;}#sk-container-id-2 label.sk-toggleable__label {cursor: pointer;display: block;width: 100%;margin-bottom: 0;padding: 0.3em;box-sizing: border-box;text-align: center;}#sk-container-id-2 label.sk-toggleable__label-arrow:before {content: \"▸\";float: left;margin-right: 0.25em;color: #696969;}#sk-container-id-2 label.sk-toggleable__label-arrow:hover:before {color: black;}#sk-container-id-2 div.sk-estimator:hover label.sk-toggleable__label-arrow:before {color: black;}#sk-container-id-2 div.sk-toggleable__content {max-height: 0;max-width: 0;overflow: hidden;text-align: left;background-color: #f0f8ff;}#sk-container-id-2 div.sk-toggleable__content pre {margin: 0.2em;color: black;border-radius: 0.25em;background-color: #f0f8ff;}#sk-container-id-2 input.sk-toggleable__control:checked~div.sk-toggleable__content {max-height: 200px;max-width: 100%;overflow: auto;}#sk-container-id-2 input.sk-toggleable__control:checked~label.sk-toggleable__label-arrow:before {content: \"▾\";}#sk-container-id-2 div.sk-estimator input.sk-toggleable__control:checked~label.sk-toggleable__label {background-color: #d4ebff;}#sk-container-id-2 div.sk-label input.sk-toggleable__control:checked~label.sk-toggleable__label {background-color: #d4ebff;}#sk-container-id-2 input.sk-hidden--visually {border: 0;clip: rect(1px 1px 1px 1px);clip: rect(1px, 1px, 1px, 1px);height: 1px;margin: -1px;overflow: hidden;padding: 0;position: absolute;width: 1px;}#sk-container-id-2 div.sk-estimator {font-family: monospace;background-color: #f0f8ff;border: 1px dotted black;border-radius: 0.25em;box-sizing: border-box;margin-bottom: 0.5em;}#sk-container-id-2 div.sk-estimator:hover {background-color: #d4ebff;}#sk-container-id-2 div.sk-parallel-item::after {content: \"\";width: 100%;border-bottom: 1px solid gray;flex-grow: 1;}#sk-container-id-2 div.sk-label:hover label.sk-toggleable__label {background-color: #d4ebff;}#sk-container-id-2 div.sk-serial::before {content: \"\";position: absolute;border-left: 1px solid gray;box-sizing: border-box;top: 0;bottom: 0;left: 50%;z-index: 0;}#sk-container-id-2 div.sk-serial {display: flex;flex-direction: column;align-items: center;background-color: white;padding-right: 0.2em;padding-left: 0.2em;position: relative;}#sk-container-id-2 div.sk-item {position: relative;z-index: 1;}#sk-container-id-2 div.sk-parallel {display: flex;align-items: stretch;justify-content: center;background-color: white;position: relative;}#sk-container-id-2 div.sk-item::before, #sk-container-id-2 div.sk-parallel-item::before {content: \"\";position: absolute;border-left: 1px solid gray;box-sizing: border-box;top: 0;bottom: 0;left: 50%;z-index: -1;}#sk-container-id-2 div.sk-parallel-item {display: flex;flex-direction: column;z-index: 1;position: relative;background-color: white;}#sk-container-id-2 div.sk-parallel-item:first-child::after {align-self: flex-end;width: 50%;}#sk-container-id-2 div.sk-parallel-item:last-child::after {align-self: flex-start;width: 50%;}#sk-container-id-2 div.sk-parallel-item:only-child::after {width: 0;}#sk-container-id-2 div.sk-dashed-wrapped {border: 1px dashed gray;margin: 0 0.4em 0.5em 0.4em;box-sizing: border-box;padding-bottom: 0.4em;background-color: white;}#sk-container-id-2 div.sk-label label {font-family: monospace;font-weight: bold;display: inline-block;line-height: 1.2em;}#sk-container-id-2 div.sk-label-container {text-align: center;}#sk-container-id-2 div.sk-container {/* jupyter's `normalize.less` sets `[hidden] { display: none; }` but bootstrap.min.css set `[hidden] { display: none !important; }` so we also need the `!important` here to be able to override the default hidden behavior on the sphinx rendered scikit-learn.org. See: https://github.com/scikit-learn/scikit-learn/issues/21755 */display: inline-block !important;position: relative;}#sk-container-id-2 div.sk-text-repr-fallback {display: none;}</style><div id=\"sk-container-id-2\" class=\"sk-top-container\"><div class=\"sk-text-repr-fallback\"><pre>GridSearchCV(cv=StratifiedKFold(n_splits=10, random_state=None, shuffle=False),\n",
       "             estimator=DecisionTreeClassifier(),\n",
       "             param_grid={&#x27;criterion&#x27;: (&#x27;gini&#x27;, &#x27;entropy&#x27;, &#x27;log_loss&#x27;),\n",
       "                         &#x27;max_depth&#x27;: range(10, 100, 10),\n",
       "                         &#x27;min_samples_leaf&#x27;: range(2, 10, 2),\n",
       "                         &#x27;min_samples_split&#x27;: range(2, 10, 2),\n",
       "                         &#x27;splitter&#x27;: (&#x27;best&#x27;, &#x27;random&#x27;)},\n",
       "             scoring=&#x27;f1_macro&#x27;)</pre><b>In a Jupyter environment, please rerun this cell to show the HTML representation or trust the notebook. <br />On GitHub, the HTML representation is unable to render, please try loading this page with nbviewer.org.</b></div><div class=\"sk-container\" hidden><div class=\"sk-item sk-dashed-wrapped\"><div class=\"sk-label-container\"><div class=\"sk-label sk-toggleable\"><input class=\"sk-toggleable__control sk-hidden--visually\" id=\"sk-estimator-id-4\" type=\"checkbox\" ><label for=\"sk-estimator-id-4\" class=\"sk-toggleable__label sk-toggleable__label-arrow\">GridSearchCV</label><div class=\"sk-toggleable__content\"><pre>GridSearchCV(cv=StratifiedKFold(n_splits=10, random_state=None, shuffle=False),\n",
       "             estimator=DecisionTreeClassifier(),\n",
       "             param_grid={&#x27;criterion&#x27;: (&#x27;gini&#x27;, &#x27;entropy&#x27;, &#x27;log_loss&#x27;),\n",
       "                         &#x27;max_depth&#x27;: range(10, 100, 10),\n",
       "                         &#x27;min_samples_leaf&#x27;: range(2, 10, 2),\n",
       "                         &#x27;min_samples_split&#x27;: range(2, 10, 2),\n",
       "                         &#x27;splitter&#x27;: (&#x27;best&#x27;, &#x27;random&#x27;)},\n",
       "             scoring=&#x27;f1_macro&#x27;)</pre></div></div></div><div class=\"sk-parallel\"><div class=\"sk-parallel-item\"><div class=\"sk-item\"><div class=\"sk-label-container\"><div class=\"sk-label sk-toggleable\"><input class=\"sk-toggleable__control sk-hidden--visually\" id=\"sk-estimator-id-5\" type=\"checkbox\" ><label for=\"sk-estimator-id-5\" class=\"sk-toggleable__label sk-toggleable__label-arrow\">estimator: DecisionTreeClassifier</label><div class=\"sk-toggleable__content\"><pre>DecisionTreeClassifier()</pre></div></div></div><div class=\"sk-serial\"><div class=\"sk-item\"><div class=\"sk-estimator sk-toggleable\"><input class=\"sk-toggleable__control sk-hidden--visually\" id=\"sk-estimator-id-6\" type=\"checkbox\" ><label for=\"sk-estimator-id-6\" class=\"sk-toggleable__label sk-toggleable__label-arrow\">DecisionTreeClassifier</label><div class=\"sk-toggleable__content\"><pre>DecisionTreeClassifier()</pre></div></div></div></div></div></div></div></div></div></div>"
      ],
      "text/plain": [
       "GridSearchCV(cv=StratifiedKFold(n_splits=10, random_state=None, shuffle=False),\n",
       "             estimator=DecisionTreeClassifier(),\n",
       "             param_grid={'criterion': ('gini', 'entropy', 'log_loss'),\n",
       "                         'max_depth': range(10, 100, 10),\n",
       "                         'min_samples_leaf': range(2, 10, 2),\n",
       "                         'min_samples_split': range(2, 10, 2),\n",
       "                         'splitter': ('best', 'random')},\n",
       "             scoring='f1_macro')"
      ]
     },
     "execution_count": 19,
     "metadata": {},
     "output_type": "execute_result"
    }
   ],
   "source": [
    "grid_dt.fit(X_strat, y_strat)"
   ]
  },
  {
   "cell_type": "code",
   "execution_count": 20,
   "metadata": {},
   "outputs": [
    {
     "data": {
      "text/plain": [
       "{'criterion': 'entropy',\n",
       " 'max_depth': 80,\n",
       " 'min_samples_leaf': 6,\n",
       " 'min_samples_split': 4,\n",
       " 'splitter': 'best'}"
      ]
     },
     "execution_count": 20,
     "metadata": {},
     "output_type": "execute_result"
    }
   ],
   "source": [
    "grid_dt.best_params_"
   ]
  },
  {
   "cell_type": "code",
   "execution_count": 21,
   "metadata": {},
   "outputs": [
    {
     "data": {
      "text/plain": [
       "0.6713513050006431"
      ]
     },
     "execution_count": 21,
     "metadata": {},
     "output_type": "execute_result"
    }
   ],
   "source": [
    "grid_dt.best_score_"
   ]
  },
  {
   "cell_type": "code",
   "execution_count": 22,
   "metadata": {},
   "outputs": [],
   "source": [
    "y_pred_grid_dt = grid_dt.predict(X_test)"
   ]
  },
  {
   "cell_type": "code",
   "execution_count": 23,
   "metadata": {},
   "outputs": [
    {
     "name": "stdout",
     "output_type": "stream",
     "text": [
      "              precision    recall  f1-score   support\n",
      "\n",
      "           0       0.07      0.69      0.13       196\n",
      "           1       0.76      0.70      0.73      5195\n",
      "           2       0.77      0.65      0.70      6857\n",
      "           3       0.33      0.61      0.42      2773\n",
      "           4       0.39      0.59      0.47      6231\n",
      "           5       0.65      0.57      0.61     15040\n",
      "           6       0.67      0.62      0.64     22077\n",
      "           7       0.63      0.62      0.62     24325\n",
      "           8       0.64      0.62      0.63     23215\n",
      "           9       0.67      0.61      0.64     22520\n",
      "          10       0.68      0.61      0.64     19384\n",
      "          11       0.56      0.65      0.60     11198\n",
      "          12       0.51      0.64      0.57      8873\n",
      "          13       0.65      0.70      0.67      9191\n",
      "          14       0.93      0.83      0.88     13290\n",
      "\n",
      "    accuracy                           0.64    190365\n",
      "   macro avg       0.59      0.65      0.60    190365\n",
      "weighted avg       0.66      0.64      0.64    190365\n",
      "\n"
     ]
    }
   ],
   "source": [
    "from sklearn.metrics import classification_report\n",
    "print(classification_report(y_test, y_pred_grid_dt))"
   ]
  },
  {
   "cell_type": "code",
   "execution_count": 100,
   "metadata": {},
   "outputs": [
    {
     "name": "stdout",
     "output_type": "stream",
     "text": [
      "              precision    recall  f1-score   support\n",
      "\n",
      "           0       0.25      0.38      0.30       196\n",
      "           1       0.85      0.82      0.84      5195\n",
      "           2       0.85      0.79      0.82      6857\n",
      "           3       0.57      0.67      0.62      2773\n",
      "           4       0.67      0.71      0.69      6231\n",
      "           5       0.80      0.73      0.76     15040\n",
      "           6       0.82      0.73      0.77     22077\n",
      "           7       0.81      0.72      0.76     24325\n",
      "           8       0.78      0.69      0.73     23215\n",
      "           9       0.78      0.69      0.73     22520\n",
      "          10       0.79      0.70      0.74     19384\n",
      "          11       0.71      0.68      0.70     11198\n",
      "          12       0.72      0.71      0.72      8873\n",
      "          13       0.79      0.78      0.78      9191\n",
      "          14       0.94      0.91      0.93     13290\n",
      "\n",
      "   micro avg       0.79      0.73      0.76    190365\n",
      "   macro avg       0.74      0.71      0.73    190365\n",
      "weighted avg       0.79      0.73      0.76    190365\n",
      " samples avg       0.73      0.73      0.73    190365\n",
      "\n"
     ]
    }
   ],
   "source": [
    "dt_optimal = DecisionTreeClassifier(\n",
    "    criterion = 'log_loss',\n",
    "    max_depth = 30,\n",
    "    min_samples_leaf = 6,\n",
    "    min_samples_split = 8,\n",
    "    splitter = 'best'\n",
    ")\n",
    "\n",
    "dt_optimal.fit(X_train, y_train)\n",
    "y_pred_dt_optimal = dt_optimal.predict(X_test)\n",
    "\n",
    "print(classification_report(y_test, y_pred_dt_optimal))"
   ]
  },
  {
   "cell_type": "code",
   "execution_count": 102,
   "metadata": {},
   "outputs": [
    {
     "data": {
      "image/png": "[encoded data removed]",
      "text/plain": [
       "<Figure size 864x720 with 1 Axes>"
      ]
     },
     "metadata": {
      "needs_background": "light"
     },
     "output_type": "display_data"
    },
    {
     "data": {
      "image/png": "[encoded data removed]",
      "text/plain": [
       "<Figure size 432x288 with 1 Axes>"
      ]
     },
     "metadata": {
      "needs_background": "light"
     },
     "output_type": "display_data"
    }
   ],
   "source": [
    "import numpy as np\n",
    "from scipy import interp\n",
    "import matplotlib.pyplot as plt\n",
    "from itertools import cycle\n",
    "from sklearn.metrics import roc_curve, auc\n",
    "\n",
    "# Plot linewidth.\n",
    "lw = 2\n",
    "\n",
    "# Compute ROC curve and ROC area for each class\n",
    "fpr = dict()\n",
    "tpr = dict()\n",
    "roc_auc = dict()\n",
    "for i in range(15):\n",
    "    fpr[i], tpr[i], _ = roc_curve(y_test[:, i], y_pred_dt_optimal[:, i])\n",
    "    roc_auc[i] = auc(fpr[i], tpr[i])\n",
    "\n",
    "# Compute micro-average ROC curve and ROC area\n",
    "fpr[\"micro\"], tpr[\"micro\"], _ = roc_curve(y_test.ravel(), y_pred_dt_optimal.ravel())\n",
    "roc_auc[\"micro\"] = auc(fpr[\"micro\"], tpr[\"micro\"])\n",
    "\n",
    "# Compute macro-average ROC curve and ROC area\n",
    "\n",
    "# First aggregate all false positive rates\n",
    "all_fpr = np.unique(np.concatenate([fpr[i] for i in range(15)]))\n",
    "\n",
    "# Then interpolate all ROC curves at this points\n",
    "mean_tpr = np.zeros_like(all_fpr)\n",
    "for i in range(15):\n",
    "    mean_tpr += interp(all_fpr, fpr[i], tpr[i])\n",
    "\n",
    "# Finally average it and compute AUC\n",
    "mean_tpr /= 15\n",
    "\n",
    "fpr[\"macro\"] = all_fpr\n",
    "tpr[\"macro\"] = mean_tpr\n",
    "roc_auc[\"macro\"] = auc(fpr[\"macro\"], tpr[\"macro\"])\n",
    "\n",
    "# Plot all ROC curves\n",
    "fig, ax = plt.subplots(figsize=(12,10))\n",
    "plt.grid(False)\n",
    "plt.figure(1)\n",
    "\n",
    "\n",
    "plt.plot(fpr[\"micro\"], tpr[\"micro\"],\n",
    "         label='micro-average ROC curve (area = {0:0.2f})'\n",
    "               ''.format(roc_auc[\"micro\"]),\n",
    "         color='red', linestyle=':', linewidth=4)\n",
    "\n",
    "\n",
    "\n",
    "plt.plot([0, 1], [0, 1], 'k--', lw=lw)\n",
    "plt.xlim([0.0, 1.0])\n",
    "plt.ylim([0.0, 1.05])\n",
    "plt.xlabel('False Positive Rate')\n",
    "plt.ylabel('True Positive Rate')\n",
    "plt.title('Decision Tree ROC')\n",
    "plt.legend(loc='lower right')\n",
    "plt.show()\n",
    "\n",
    "\n",
    "# Zoom in view of the upper left corner.\n",
    "plt.figure(2)\n",
    "plt.xlim(0, 0.2)\n",
    "plt.ylim(0.8, 1)\n",
    "plt.plot(fpr[\"micro\"], tpr[\"micro\"],\n",
    "         label='micro-average ROC curve (area = {0:0.2f})'\n",
    "               ''.format(roc_auc[\"micro\"]),\n",
    "         color='deeppink', linestyle=':', linewidth=4)\n",
    "\n",
    "plt.plot(fpr[\"macro\"], tpr[\"macro\"],\n",
    "         label='macro-average ROC curve (area = {0:0.2f})'\n",
    "               ''.format(roc_auc[\"macro\"]),\n",
    "         color='navy', linestyle=':', linewidth=4)\n",
    "\n",
    "colors = cycle(['aqua', 'darkorange', 'cornflowerblue'])\n",
    "for i, color in zip(range(15), colors):\n",
    "    plt.plot(fpr[i], tpr[i], color=color, lw=lw,\n",
    "             label='ROC curve of class {0} (area = {1:0.2f})'\n",
    "             ''.format(i, roc_auc[i]))\n",
    "\n",
    "plt.plot([0, 1], [0, 1], 'k--', lw=lw)\n",
    "plt.xlabel('False Positive Rate')\n",
    "plt.ylabel('True Positive Rate')\n",
    "plt.title('')\n",
    "plt.legend(loc='lower right')\n",
    "plt.show()"
   ]
  },
  {
   "cell_type": "markdown",
   "metadata": {},
   "source": [
    "---"
   ]
  },
  {
   "cell_type": "markdown",
   "metadata": {},
   "source": [
    "## 3. Random Forest"
   ]
  },
  {
   "cell_type": "code",
   "execution_count": 25,
   "metadata": {},
   "outputs": [],
   "source": [
    "from sklearn.ensemble import RandomForestClassifier\n",
    "from sklearn.metrics import make_scorer\n",
    "import sklearn\n",
    "parameters_rf = {\n",
    "    'criterion' : (\"entropy\", \"log_loss\"),\n",
    "    'n_estimators': (100,200,500,1000),\n",
    "    'max_depth': [40,50],\n",
    "    'min_samples_split': [2,3,4],\n",
    "    'min_samples_leaf': [2,3,4]\n",
    "}\n",
    "\n",
    "from sklearn.metrics import make_scorer\n",
    "scoring = {'accuracy': make_scorer(sklearn.metrics.accuracy_score),\n",
    "           'precision': make_scorer(sklearn.metrics.precision_score, average = 'macro'),\n",
    "           'recall': make_scorer(sklearn.metrics.recall_score, average = 'macro'),\n",
    "           'f1_macro': make_scorer(sklearn.metrics.f1_score, average = 'macro'),\n",
    "           'f1_weighted': make_scorer(sklearn.metrics.f1_score, average = 'weighted')}\n",
    "\n",
    "rf = RandomForestClassifier()\n",
    "\n",
    "from sklearn.experimental import enable_halving_search_cv\n",
    "from sklearn.model_selection import StratifiedKFold, HalvingGridSearchCV\n",
    "grid_rf = HalvingGridSearchCV(rf, parameters_rf, cv=StratifiedKFold(10), scoring='f1_macro', factor = 3, verbose=1)"
   ]
  },
  {
   "cell_type": "code",
   "execution_count": 26,
   "metadata": {},
   "outputs": [
    {
     "name": "stdout",
     "output_type": "stream",
     "text": [
      "n_iterations: 4\n",
      "n_required_iterations: 5\n",
      "n_possible_iterations: 4\n",
      "min_resources_: 300\n",
      "max_resources_: 17028\n",
      "aggressive_elimination: False\n",
      "factor: 3\n",
      "----------\n",
      "iter: 0\n",
      "n_candidates: 144\n",
      "n_resources: 300\n",
      "Fitting 10 folds for each of 144 candidates, totalling 1440 fits\n",
      "----------\n",
      "iter: 1\n",
      "n_candidates: 48\n",
      "n_resources: 900\n",
      "Fitting 10 folds for each of 48 candidates, totalling 480 fits\n",
      "----------\n",
      "iter: 2\n",
      "n_candidates: 16\n",
      "n_resources: 2700\n",
      "Fitting 10 folds for each of 16 candidates, totalling 160 fits\n",
      "----------\n",
      "iter: 3\n",
      "n_candidates: 6\n",
      "n_resources: 8100\n",
      "Fitting 10 folds for each of 6 candidates, totalling 60 fits\n"
     ]
    },
    {
     "data": {
      "text/html": [
       "<style>#sk-container-id-3 {color: black;background-color: white;}#sk-container-id-3 pre{padding: 0;}#sk-container-id-3 div.sk-toggleable {background-color: white;}#sk-container-id-3 label.sk-toggleable__label {cursor: pointer;display: block;width: 100%;margin-bottom: 0;padding: 0.3em;box-sizing: border-box;text-align: center;}#sk-container-id-3 label.sk-toggleable__label-arrow:before {content: \"▸\";float: left;margin-right: 0.25em;color: #696969;}#sk-container-id-3 label.sk-toggleable__label-arrow:hover:before {color: black;}#sk-container-id-3 div.sk-estimator:hover label.sk-toggleable__label-arrow:before {color: black;}#sk-container-id-3 div.sk-toggleable__content {max-height: 0;max-width: 0;overflow: hidden;text-align: left;background-color: #f0f8ff;}#sk-container-id-3 div.sk-toggleable__content pre {margin: 0.2em;color: black;border-radius: 0.25em;background-color: #f0f8ff;}#sk-container-id-3 input.sk-toggleable__control:checked~div.sk-toggleable__content {max-height: 200px;max-width: 100%;overflow: auto;}#sk-container-id-3 input.sk-toggleable__control:checked~label.sk-toggleable__label-arrow:before {content: \"▾\";}#sk-container-id-3 div.sk-estimator input.sk-toggleable__control:checked~label.sk-toggleable__label {background-color: #d4ebff;}#sk-container-id-3 div.sk-label input.sk-toggleable__control:checked~label.sk-toggleable__label {background-color: #d4ebff;}#sk-container-id-3 input.sk-hidden--visually {border: 0;clip: rect(1px 1px 1px 1px);clip: rect(1px, 1px, 1px, 1px);height: 1px;margin: -1px;overflow: hidden;padding: 0;position: absolute;width: 1px;}#sk-container-id-3 div.sk-estimator {font-family: monospace;background-color: #f0f8ff;border: 1px dotted black;border-radius: 0.25em;box-sizing: border-box;margin-bottom: 0.5em;}#sk-container-id-3 div.sk-estimator:hover {background-color: #d4ebff;}#sk-container-id-3 div.sk-parallel-item::after {content: \"\";width: 100%;border-bottom: 1px solid gray;flex-grow: 1;}#sk-container-id-3 div.sk-label:hover label.sk-toggleable__label {background-color: #d4ebff;}#sk-container-id-3 div.sk-serial::before {content: \"\";position: absolute;border-left: 1px solid gray;box-sizing: border-box;top: 0;bottom: 0;left: 50%;z-index: 0;}#sk-container-id-3 div.sk-serial {display: flex;flex-direction: column;align-items: center;background-color: white;padding-right: 0.2em;padding-left: 0.2em;position: relative;}#sk-container-id-3 div.sk-item {position: relative;z-index: 1;}#sk-container-id-3 div.sk-parallel {display: flex;align-items: stretch;justify-content: center;background-color: white;position: relative;}#sk-container-id-3 div.sk-item::before, #sk-container-id-3 div.sk-parallel-item::before {content: \"\";position: absolute;border-left: 1px solid gray;box-sizing: border-box;top: 0;bottom: 0;left: 50%;z-index: -1;}#sk-container-id-3 div.sk-parallel-item {display: flex;flex-direction: column;z-index: 1;position: relative;background-color: white;}#sk-container-id-3 div.sk-parallel-item:first-child::after {align-self: flex-end;width: 50%;}#sk-container-id-3 div.sk-parallel-item:last-child::after {align-self: flex-start;width: 50%;}#sk-container-id-3 div.sk-parallel-item:only-child::after {width: 0;}#sk-container-id-3 div.sk-dashed-wrapped {border: 1px dashed gray;margin: 0 0.4em 0.5em 0.4em;box-sizing: border-box;padding-bottom: 0.4em;background-color: white;}#sk-container-id-3 div.sk-label label {font-family: monospace;font-weight: bold;display: inline-block;line-height: 1.2em;}#sk-container-id-3 div.sk-label-container {text-align: center;}#sk-container-id-3 div.sk-container {/* jupyter's `normalize.less` sets `[hidden] { display: none; }` but bootstrap.min.css set `[hidden] { display: none !important; }` so we also need the `!important` here to be able to override the default hidden behavior on the sphinx rendered scikit-learn.org. See: https://github.com/scikit-learn/scikit-learn/issues/21755 */display: inline-block !important;position: relative;}#sk-container-id-3 div.sk-text-repr-fallback {display: none;}</style><div id=\"sk-container-id-3\" class=\"sk-top-container\"><div class=\"sk-text-repr-fallback\"><pre>HalvingGridSearchCV(cv=StratifiedKFold(n_splits=10, random_state=None, shuffle=False),\n",
       "                    estimator=RandomForestClassifier(),\n",
       "                    param_grid={&#x27;criterion&#x27;: (&#x27;entropy&#x27;, &#x27;log_loss&#x27;),\n",
       "                                &#x27;max_depth&#x27;: [40, 50],\n",
       "                                &#x27;min_samples_leaf&#x27;: [2, 3, 4],\n",
       "                                &#x27;min_samples_split&#x27;: [2, 3, 4],\n",
       "                                &#x27;n_estimators&#x27;: (100, 200, 500, 1000)},\n",
       "                    scoring=&#x27;f1_macro&#x27;, verbose=1)</pre><b>In a Jupyter environment, please rerun this cell to show the HTML representation or trust the notebook. <br />On GitHub, the HTML representation is unable to render, please try loading this page with nbviewer.org.</b></div><div class=\"sk-container\" hidden><div class=\"sk-item sk-dashed-wrapped\"><div class=\"sk-label-container\"><div class=\"sk-label sk-toggleable\"><input class=\"sk-toggleable__control sk-hidden--visually\" id=\"sk-estimator-id-7\" type=\"checkbox\" ><label for=\"sk-estimator-id-7\" class=\"sk-toggleable__label sk-toggleable__label-arrow\">HalvingGridSearchCV</label><div class=\"sk-toggleable__content\"><pre>HalvingGridSearchCV(cv=StratifiedKFold(n_splits=10, random_state=None, shuffle=False),\n",
       "                    estimator=RandomForestClassifier(),\n",
       "                    param_grid={&#x27;criterion&#x27;: (&#x27;entropy&#x27;, &#x27;log_loss&#x27;),\n",
       "                                &#x27;max_depth&#x27;: [40, 50],\n",
       "                                &#x27;min_samples_leaf&#x27;: [2, 3, 4],\n",
       "                                &#x27;min_samples_split&#x27;: [2, 3, 4],\n",
       "                                &#x27;n_estimators&#x27;: (100, 200, 500, 1000)},\n",
       "                    scoring=&#x27;f1_macro&#x27;, verbose=1)</pre></div></div></div><div class=\"sk-parallel\"><div class=\"sk-parallel-item\"><div class=\"sk-item\"><div class=\"sk-label-container\"><div class=\"sk-label sk-toggleable\"><input class=\"sk-toggleable__control sk-hidden--visually\" id=\"sk-estimator-id-8\" type=\"checkbox\" ><label for=\"sk-estimator-id-8\" class=\"sk-toggleable__label sk-toggleable__label-arrow\">estimator: RandomForestClassifier</label><div class=\"sk-toggleable__content\"><pre>RandomForestClassifier()</pre></div></div></div><div class=\"sk-serial\"><div class=\"sk-item\"><div class=\"sk-estimator sk-toggleable\"><input class=\"sk-toggleable__control sk-hidden--visually\" id=\"sk-estimator-id-9\" type=\"checkbox\" ><label for=\"sk-estimator-id-9\" class=\"sk-toggleable__label sk-toggleable__label-arrow\">RandomForestClassifier</label><div class=\"sk-toggleable__content\"><pre>RandomForestClassifier()</pre></div></div></div></div></div></div></div></div></div></div>"
      ],
      "text/plain": [
       "HalvingGridSearchCV(cv=StratifiedKFold(n_splits=10, random_state=None, shuffle=False),\n",
       "                    estimator=RandomForestClassifier(),\n",
       "                    param_grid={'criterion': ('entropy', 'log_loss'),\n",
       "                                'max_depth': [40, 50],\n",
       "                                'min_samples_leaf': [2, 3, 4],\n",
       "                                'min_samples_split': [2, 3, 4],\n",
       "                                'n_estimators': (100, 200, 500, 1000)},\n",
       "                    scoring='f1_macro', verbose=1)"
      ]
     },
     "execution_count": 26,
     "metadata": {},
     "output_type": "execute_result"
    }
   ],
   "source": [
    "grid_rf.fit(X_strat, y_strat)"
   ]
  },
  {
   "cell_type": "code",
   "execution_count": 27,
   "metadata": {},
   "outputs": [
    {
     "data": {
      "text/plain": [
       "{'criterion': 'log_loss',\n",
       " 'max_depth': 50,\n",
       " 'min_samples_leaf': 2,\n",
       " 'min_samples_split': 4,\n",
       " 'n_estimators': 1000}"
      ]
     },
     "execution_count": 27,
     "metadata": {},
     "output_type": "execute_result"
    }
   ],
   "source": [
    "grid_rf.best_params_"
   ]
  },
  {
   "cell_type": "code",
   "execution_count": 28,
   "metadata": {},
   "outputs": [
    {
     "data": {
      "text/plain": [
       "0.6113277949656102"
      ]
     },
     "execution_count": 28,
     "metadata": {},
     "output_type": "execute_result"
    }
   ],
   "source": [
    "grid_rf.best_score_"
   ]
  },
  {
   "cell_type": "code",
   "execution_count": 29,
   "metadata": {},
   "outputs": [],
   "source": [
    "y_pred_grid_rf = grid_rf.predict(X_test)"
   ]
  },
  {
   "cell_type": "code",
   "execution_count": 30,
   "metadata": {},
   "outputs": [
    {
     "name": "stdout",
     "output_type": "stream",
     "text": [
      "              precision    recall  f1-score   support\n",
      "\n",
      "           0       0.10      0.65      0.17       196\n",
      "           1       0.79      0.76      0.78      5195\n",
      "           2       0.80      0.70      0.75      6857\n",
      "           3       0.44      0.66      0.53      2773\n",
      "           4       0.53      0.65      0.59      6231\n",
      "           5       0.70      0.69      0.69     15040\n",
      "           6       0.70      0.67      0.69     22077\n",
      "           7       0.68      0.60      0.64     24325\n",
      "           8       0.61      0.59      0.60     23215\n",
      "           9       0.66      0.55      0.60     22520\n",
      "          10       0.62      0.59      0.60     19384\n",
      "          11       0.43      0.58      0.50     11198\n",
      "          12       0.53      0.61      0.56      8873\n",
      "          13       0.60      0.67      0.64      9191\n",
      "          14       0.85      0.86      0.86     13290\n",
      "\n",
      "    accuracy                           0.64    190365\n",
      "   macro avg       0.60      0.66      0.61    190365\n",
      "weighted avg       0.65      0.64      0.64    190365\n",
      "\n"
     ]
    }
   ],
   "source": [
    "from sklearn.metrics import classification_report\n",
    "print(classification_report(y_test, y_pred_grid_rf))"
   ]
  },
  {
   "cell_type": "code",
   "execution_count": 6,
   "metadata": {},
   "outputs": [
    {
     "name": "stdout",
     "output_type": "stream",
     "text": [
      "              precision    recall  f1-score   support\n",
      "\n",
      "           0       0.50      0.36      0.42       196\n",
      "           1       0.89      0.88      0.88      5195\n",
      "           2       0.87      0.87      0.87      6857\n",
      "           3       0.64      0.75      0.69      2773\n",
      "           4       0.75      0.78      0.77      6231\n",
      "           5       0.82      0.84      0.83     15040\n",
      "           6       0.85      0.82      0.83     22077\n",
      "           7       0.84      0.80      0.82     24325\n",
      "           8       0.81      0.77      0.79     23215\n",
      "           9       0.80      0.77      0.78     22520\n",
      "          10       0.78      0.79      0.79     19384\n",
      "          11       0.70      0.77      0.73     11198\n",
      "          12       0.72      0.77      0.75      8873\n",
      "          13       0.77      0.84      0.80      9191\n",
      "          14       0.95      0.93      0.94     13290\n",
      "\n",
      "    accuracy                           0.81    190365\n",
      "   macro avg       0.78      0.78      0.78    190365\n",
      "weighted avg       0.81      0.81      0.81    190365\n",
      "\n"
     ]
    }
   ],
   "source": [
    "from sklearn.ensemble import RandomForestClassifier\n",
    "from sklearn.metrics import classification_report\n",
    "rf_optimal = RandomForestClassifier(\n",
    "    criterion = 'log_loss',\n",
    "    n_estimators=250,\n",
    "    random_state=2814,\n",
    "    min_samples_leaf=2,\n",
    "    min_samples_split=4,\n",
    "    max_depth=50\n",
    ")\n",
    "\n",
    "rf_optimal.fit(X_train, y_train)\n",
    "y_pred_rf_optimal = rf_optimal.predict(X_test)\n",
    "\n",
    "print(classification_report(y_test, y_pred_rf_optimal))"
   ]
  },
  {
   "cell_type": "code",
   "execution_count": 8,
   "metadata": {},
   "outputs": [],
   "source": [
    "# Save our final model\n",
    "import pickle\n",
    "filename = '../../models/final_model.pkl'\n",
    "pickle.dump(rf_optimal, open(filename, 'wb'))"
   ]
  },
  {
   "cell_type": "code",
   "execution_count": 17,
   "metadata": {},
   "outputs": [],
   "source": [
    "filename = '../../models/dt_optimal.pkl'\n",
    "pickle.dump(dt_optimal, open(filename, 'wb'))"
   ]
  },
  {
   "cell_type": "code",
   "execution_count": 21,
   "metadata": {},
   "outputs": [],
   "source": [
    "# Save our final model\n",
    "import pickle\n",
    "filename = '../../models/knn_optimal.pkl'\n",
    "pickle.dump(knn_optimal, open(filename, 'wb'))"
   ]
  },
  {
   "cell_type": "code",
   "execution_count": 11,
   "metadata": {},
   "outputs": [
    {
     "ename": "AttributeError",
     "evalue": "'KerasClassifier' object has no attribute 'save'",
     "output_type": "error",
     "traceback": [
      "\u001b[0;31m---------------------------------------------------------------------------\u001b[0m",
      "\u001b[0;31mAttributeError\u001b[0m                            Traceback (most recent call last)",
      "\u001b[1;32m/Users/oisinbrannock/Documents/masters_thesis_ob2814/masters_thesis_ob2814/notebooks/old/model_grid_search.ipynb Cell 35\u001b[0m in \u001b[0;36m<cell line: 1>\u001b[0;34m()\u001b[0m\n\u001b[0;32m----> <a href='vscode-notebook-cell:/Users/oisinbrannock/Documents/masters_thesis_ob2814/masters_thesis_ob2814/notebooks/old/model_grid_search.ipynb#Y104sZmlsZQ%3D%3D?line=0'>1</a>\u001b[0m estimator\u001b[39m.\u001b[39;49msave(\u001b[39m'\u001b[39m\u001b[39mmodel.h5\u001b[39m\u001b[39m'\u001b[39m)\n",
      "\u001b[0;31mAttributeError\u001b[0m: 'KerasClassifier' object has no attribute 'save'"
     ]
    }
   ],
   "source": [
    "estimator.save('model.h5')"
   ]
  },
  {
   "cell_type": "code",
   "execution_count": 7,
   "metadata": {},
   "outputs": [
    {
     "data": {
      "text/plain": [
       "array([0.02653906, 0.03998235, 0.14743023, 0.25361107, 0.04874801,\n",
       "       0.04657835, 0.04826114, 0.01704156, 0.01908529, 0.03727708,\n",
       "       0.03058866, 0.15934807, 0.12550915])"
      ]
     },
     "execution_count": 7,
     "metadata": {},
     "output_type": "execute_result"
    }
   ],
   "source": [
    "rf_optimal.feature_importances_"
   ]
  },
  {
   "cell_type": "markdown",
   "metadata": {},
   "source": [
    "---"
   ]
  },
  {
   "cell_type": "markdown",
   "metadata": {},
   "source": [
    "## 4. Neural Network"
   ]
  },
  {
   "cell_type": "code",
   "execution_count": 37,
   "metadata": {},
   "outputs": [],
   "source": [
    "from tensorflow import keras\n",
    "from tensorflow.keras.layers import Dense\n",
    "from keras.models import Sequential\n",
    "from scikeras.wrappers import KerasClassifier\n",
    "import tensorflow as tf"
   ]
  },
  {
   "cell_type": "code",
   "execution_count": 38,
   "metadata": {},
   "outputs": [],
   "source": [
    "from sklearn.preprocessing import LabelEncoder\n",
    "yle = LabelEncoder()\n",
    "y_strat = yle.fit_transform(y_strat)\n",
    "y_test = yle.transform(y_test)\n",
    "from tensorflow.keras.utils import to_categorical\n",
    "y_strat = to_categorical(y_strat, 15)\n",
    "y_test = to_categorical(y_test, 15)"
   ]
  },
  {
   "cell_type": "code",
   "execution_count": 41,
   "metadata": {},
   "outputs": [],
   "source": [
    "def create_model():\n",
    "# create model\n",
    "    model = Sequential()\n",
    "    model.add(Dense(32, input_dim = 13, activation = 'relu')) # Rectified Linear Unit Activation Function\n",
    "    model.add(Dense(16, activation = 'relu'))\n",
    "    model.add(Dense(15, activation = 'softmax')) # Softmax for multi-class classification\n",
    "    # Compile model here\n",
    "    model.compile(loss='categorical_crossentropy', optimizer='adam', metrics=['accuracy', keras.metrics.Precision(), keras.metrics.Recall()])\n",
    "    return model\n"
   ]
  },
  {
   "cell_type": "code",
   "execution_count": 42,
   "metadata": {},
   "outputs": [
    {
     "name": "stdout",
     "output_type": "stream",
     "text": [
      "Metal device set to: Apple M1\n",
      "\n",
      "systemMemory: 8.00 GB\n",
      "maxCacheSize: 2.67 GB\n",
      "\n",
      "Metal device set to: Apple M1\n",
      "\n",
      "systemMemory: 8.00 GB\n",
      "maxCacheSize: 2.67 GB\n",
      "\n",
      "Metal device set to: Apple M1\n",
      "\n",
      "systemMemory: 8.00 GB\n",
      "maxCacheSize: 2.67 GB\n",
      "\n",
      "Metal device set to: Apple M1\n",
      "\n",
      "systemMemory: 8.00 GB\n",
      "maxCacheSize: 2.67 GB\n",
      "\n",
      "Metal device set to: Apple M1\n",
      "\n",
      "systemMemory: 8.00 GB\n",
      "maxCacheSize: 2.67 GB\n",
      "\n",
      "Metal device set to: Apple M1\n",
      "\n",
      "systemMemory: 8.00 GB\n",
      "maxCacheSize: 2.67 GB\n",
      "\n",
      "Metal device set to: Apple M1\n",
      "\n",
      "systemMemory: 8.00 GB\n",
      "maxCacheSize: 2.67 GB\n",
      "\n",
      "Metal device set to: Apple M1\n",
      "\n",
      "systemMemory: 8.00 GB\n",
      "maxCacheSize: 2.67 GB\n",
      "\n"
     ]
    },
    {
     "name": "stderr",
     "output_type": "stream",
     "text": [
      "2022-08-14 17:24:09.091932: I tensorflow/core/common_runtime/pluggable_device/pluggable_device_factory.cc:305] Could not identify NUMA node of platform GPU ID 0, defaulting to 0. Your kernel may not have been built with NUMA support.\n",
      "2022-08-14 17:24:09.092361: I tensorflow/core/common_runtime/pluggable_device/pluggable_device_factory.cc:271] Created TensorFlow device (/job:localhost/replica:0/task:0/device:GPU:0 with 0 MB memory) -> physical PluggableDevice (device: 0, name: METAL, pci bus id: <undefined>)\n",
      "2022-08-14 17:24:09.111918: I tensorflow/core/common_runtime/pluggable_device/pluggable_device_factory.cc:305] Could not identify NUMA node of platform GPU ID 0, defaulting to 0. Your kernel may not have been built with NUMA support.\n",
      "2022-08-14 17:24:09.112647: I tensorflow/core/common_runtime/pluggable_device/pluggable_device_factory.cc:271] Created TensorFlow device (/job:localhost/replica:0/task:0/device:GPU:0 with 0 MB memory) -> physical PluggableDevice (device: 0, name: METAL, pci bus id: <undefined>)\n",
      "2022-08-14 17:24:09.119705: I tensorflow/core/common_runtime/pluggable_device/pluggable_device_factory.cc:305] Could not identify NUMA node of platform GPU ID 0, defaulting to 0. Your kernel may not have been built with NUMA support.\n",
      "2022-08-14 17:24:09.121678: I tensorflow/core/common_runtime/pluggable_device/pluggable_device_factory.cc:271] Created TensorFlow device (/job:localhost/replica:0/task:0/device:GPU:0 with 0 MB memory) -> physical PluggableDevice (device: 0, name: METAL, pci bus id: <undefined>)\n",
      "2022-08-14 17:24:09.128755: I tensorflow/core/common_runtime/pluggable_device/pluggable_device_factory.cc:305] Could not identify NUMA node of platform GPU ID 0, defaulting to 0. Your kernel may not have been built with NUMA support.\n",
      "2022-08-14 17:24:09.129016: I tensorflow/core/common_runtime/pluggable_device/pluggable_device_factory.cc:271] Created TensorFlow device (/job:localhost/replica:0/task:0/device:GPU:0 with 0 MB memory) -> physical PluggableDevice (device: 0, name: METAL, pci bus id: <undefined>)\n",
      "2022-08-14 17:24:09.148476: I tensorflow/core/common_runtime/pluggable_device/pluggable_device_factory.cc:305] Could not identify NUMA node of platform GPU ID 0, defaulting to 0. Your kernel may not have been built with NUMA support.\n",
      "2022-08-14 17:24:09.148725: I tensorflow/core/common_runtime/pluggable_device/pluggable_device_factory.cc:271] Created TensorFlow device (/job:localhost/replica:0/task:0/device:GPU:0 with 0 MB memory) -> physical PluggableDevice (device: 0, name: METAL, pci bus id: <undefined>)\n",
      "2022-08-14 17:24:09.153481: I tensorflow/core/common_runtime/pluggable_device/pluggable_device_factory.cc:305] Could not identify NUMA node of platform GPU ID 0, defaulting to 0. Your kernel may not have been built with NUMA support.\n",
      "2022-08-14 17:24:09.153648: I tensorflow/core/common_runtime/pluggable_device/pluggable_device_factory.cc:271] Created TensorFlow device (/job:localhost/replica:0/task:0/device:GPU:0 with 0 MB memory) -> physical PluggableDevice (device: 0, name: METAL, pci bus id: <undefined>)\n",
      "2022-08-14 17:24:09.185806: I tensorflow/core/common_runtime/pluggable_device/pluggable_device_factory.cc:305] Could not identify NUMA node of platform GPU ID 0, defaulting to 0. Your kernel may not have been built with NUMA support.\n",
      "2022-08-14 17:24:09.186643: I tensorflow/core/common_runtime/pluggable_device/pluggable_device_factory.cc:271] Created TensorFlow device (/job:localhost/replica:0/task:0/device:GPU:0 with 0 MB memory) -> physical PluggableDevice (device: 0, name: METAL, pci bus id: <undefined>)\n",
      "2022-08-14 17:24:09.212519: I tensorflow/core/common_runtime/pluggable_device/pluggable_device_factory.cc:305] Could not identify NUMA node of platform GPU ID 0, defaulting to 0. Your kernel may not have been built with NUMA support.\n",
      "2022-08-14 17:24:09.212683: I tensorflow/core/common_runtime/pluggable_device/pluggable_device_factory.cc:271] Created TensorFlow device (/job:localhost/replica:0/task:0/device:GPU:0 with 0 MB memory) -> physical PluggableDevice (device: 0, name: METAL, pci bus id: <undefined>)\n",
      "2022-08-14 17:24:09.498200: W tensorflow/core/platform/profile_utils/cpu_utils.cc:128] Failed to get CPU frequency: 0 Hz\n",
      "2022-08-14 17:24:09.502795: W tensorflow/core/platform/profile_utils/cpu_utils.cc:128] Failed to get CPU frequency: 0 Hz\n",
      "2022-08-14 17:24:09.505672: W tensorflow/core/platform/profile_utils/cpu_utils.cc:128] Failed to get CPU frequency: 0 Hz\n",
      "2022-08-14 17:24:09.523818: W tensorflow/core/platform/profile_utils/cpu_utils.cc:128] Failed to get CPU frequency: 0 Hz\n",
      "2022-08-14 17:24:09.540762: W tensorflow/core/platform/profile_utils/cpu_utils.cc:128] Failed to get CPU frequency: 0 Hz\n",
      "2022-08-14 17:24:09.581487: W tensorflow/core/platform/profile_utils/cpu_utils.cc:128] Failed to get CPU frequency: 0 Hz\n",
      "2022-08-14 17:24:09.583517: W tensorflow/core/platform/profile_utils/cpu_utils.cc:128] Failed to get CPU frequency: 0 Hz\n",
      "2022-08-14 17:24:09.606591: W tensorflow/core/platform/profile_utils/cpu_utils.cc:128] Failed to get CPU frequency: 0 Hz\n"
     ]
    },
    {
     "name": "stdout",
     "output_type": "stream",
     "text": [
      "Epoch 1/2\n",
      "Epoch 1/3\n",
      "Epoch 1/3\n",
      "Epoch 1/2\n",
      "Epoch 1/4\n",
      "Epoch 1/4\n",
      "Epoch 1/2\n",
      "Epoch 1/3\n"
     ]
    },
    {
     "name": "stderr",
     "output_type": "stream",
     "text": [
      "2022-08-14 17:24:10.355106: I tensorflow/core/grappler/optimizers/custom_graph_optimizer_registry.cc:113] Plugin optimizer for device_type GPU is enabled.\n",
      "2022-08-14 17:24:10.436428: I tensorflow/core/grappler/optimizers/custom_graph_optimizer_registry.cc:113] Plugin optimizer for device_type GPU is enabled.\n",
      "2022-08-14 17:24:10.438018: I tensorflow/core/grappler/optimizers/custom_graph_optimizer_registry.cc:113] Plugin optimizer for device_type GPU is enabled.\n",
      "2022-08-14 17:24:10.471946: I tensorflow/core/grappler/optimizers/custom_graph_optimizer_registry.cc:113] Plugin optimizer for device_type GPU is enabled.\n",
      "2022-08-14 17:24:10.486769: I tensorflow/core/grappler/optimizers/custom_graph_optimizer_registry.cc:113] Plugin optimizer for device_type GPU is enabled.\n",
      "2022-08-14 17:24:10.502167: I tensorflow/core/grappler/optimizers/custom_graph_optimizer_registry.cc:113] Plugin optimizer for device_type GPU is enabled.\n",
      "2022-08-14 17:24:10.522902: I tensorflow/core/grappler/optimizers/custom_graph_optimizer_registry.cc:113] Plugin optimizer for device_type GPU is enabled.\n",
      "2022-08-14 17:24:10.540960: I tensorflow/core/grappler/optimizers/custom_graph_optimizer_registry.cc:113] Plugin optimizer for device_type GPU is enabled.\n"
     ]
    },
    {
     "name": "stdout",
     "output_type": "stream",
     "text": [
      "45/45 [==============================] - 5s 56ms/step - loss: 2.6905 - accuracy: 0.1044 - precision: 0.0000e+00 - recall: 0.0000e+00\n",
      "45/45 [==============================] - 5s 58ms/step - loss: 2.6787 - accuracy: 0.1041 - precision: 0.0000e+00 - recall: 0.0000e+00\n",
      "45/45 [==============================] - 5s 54ms/step - loss: 2.6962 - accuracy: 0.0973 - precision: 0.0000e+00 - recall: 0.0000e+00\n",
      "45/45 [==============================] - ETA: 0s - loss: 2.6969 - accuracy: 0.1000 - precision: 0.0000e+00 - recall: 0.0000e+00Epoch 2/3\n",
      "Epoch 2/4\n",
      "45/45 [==============================] - 5s 56ms/step - loss: 2.6969 - accuracy: 0.1000 - precision: 0.0000e+00 - recall: 0.0000e+00\n",
      "Epoch 2/2\n",
      "Epoch 2/2\n",
      "45/45 [==============================] - 5s 56ms/step - loss: 2.6890 - accuracy: 0.1011 - precision: 0.0000e+00 - recall: 0.0000e+00\n",
      "Epoch 2/3\n",
      "45/45 [==============================] - 6s 62ms/step - loss: 2.7307 - accuracy: 0.1115 - precision: 0.0000e+00 - recall: 0.0000e+00\n",
      "Epoch 2/2\n",
      "45/45 [==============================] - 6s 79ms/step - loss: 2.6772 - accuracy: 0.1135 - precision: 0.0000e+00 - recall: 0.0000e+00\n",
      "31/45 [===================>..........] - ETA: 0s - loss: 2.6507 - accuracy: 0.1682 - precision: 0.0000e+00 - recall: 0.0000e+00Epoch 2/4\n",
      "45/45 [==============================] - 1s 29ms/step - loss: 2.6261 - accuracy: 0.1654 - precision: 0.0000e+00 - recall: 0.0000e+00\n",
      "Epoch 3/3\n",
      "45/45 [==============================] - 1s 32ms/step - loss: 2.6488 - accuracy: 0.1514 - precision: 0.0000e+00 - recall: 0.0000e+00\n",
      "45/45 [==============================] - 1s 32ms/step - loss: 2.5782 - accuracy: 0.1517 - precision: 0.0000e+00 - recall: 0.0000e+00\n",
      "Epoch 3/4\n",
      "45/45 [==============================] - 1s 33ms/step - loss: 2.6418 - accuracy: 0.1730 - precision: 0.0000e+00 - recall: 0.0000e+00\n",
      "45/45 [==============================] - 1s 33ms/step - loss: 2.6220 - accuracy: 0.1384 - precision: 0.0000e+00 - recall: 0.0000e+00\n",
      "Epoch 3/3\n",
      "45/45 [==============================] - 1s 28ms/step - loss: 2.6424 - accuracy: 0.1535 - precision: 0.0000e+00 - recall: 0.0000e+00\n",
      "45/45 [==============================] - 7s 75ms/step - loss: 2.7244 - accuracy: 0.0721 - precision: 0.0000e+00 - recall: 0.0000e+00\n",
      " 7/45 [===>..........................] - ETA: 1s - loss: 2.5751 - accuracy: 0.1931 - precision: 0.0000e+00 - recall: 0.0000e+00Epoch 2/3\n",
      "15/45 [=========>....................] - ETA: 0s - loss: 2.4999 - accuracy: 0.1503 - precision: 0.0000e+00 - recall: 0.0000e+00"
     ]
    },
    {
     "name": "stderr",
     "output_type": "stream",
     "text": [
      "2022-08-14 17:24:16.792078: I tensorflow/core/grappler/optimizers/custom_graph_optimizer_registry.cc:113] Plugin optimizer for device_type GPU is enabled.\n"
     ]
    },
    {
     "name": "stdout",
     "output_type": "stream",
     "text": [
      "23/23 [==============================] - 1s 3ms/steposs: 2.5511 - accuracy: 0.1594 - precision: 0.0000e+00 - recall: 0.0000e+00\n",
      "45/45 [==============================] - 1s 28ms/step - loss: 2.6042 - accuracy: 0.1549 - precision: 0.0000e+00 - recall: 0.0000e+00\n",
      "Epoch 3/4\n",
      "40/45 [=========================>....] - ETA: 0s - loss: 2.5261 - accuracy: 0.1779 - precision: 0.0000e+00 - recall: 0.0000e+00"
     ]
    },
    {
     "name": "stderr",
     "output_type": "stream",
     "text": [
      "2022-08-14 17:24:17.523748: I tensorflow/core/grappler/optimizers/custom_graph_optimizer_registry.cc:113] Plugin optimizer for device_type GPU is enabled.\n",
      "2022-08-14 17:24:17.556526: I tensorflow/core/grappler/optimizers/custom_graph_optimizer_registry.cc:113] Plugin optimizer for device_type GPU is enabled.\n"
     ]
    },
    {
     "name": "stdout",
     "output_type": "stream",
     "text": [
      "45/45 [==============================] - 1s 31ms/step - loss: 2.5183 - accuracy: 0.1766 - precision: 0.0000e+00 - recall: 0.0000e+00\n",
      "45/45 [==============================] - 1s 29ms/step - loss: 2.5199 - accuracy: 0.1622 - precision: 0.0000e+00 - recall: 0.0000e+00\n",
      "45/45 [==============================] - 1s 30ms/step - loss: 2.4525 - accuracy: 0.1596 - precision: 0.0000e+00 - recall: 0.0000e+00\n",
      "20/45 [============>.................] - ETA: 0s - loss: 2.5228 - accuracy: 0.1643 - precision: 0.0000e+00 - recall: 0.0000e+00Epoch 4/4\n",
      "23/23 [==============================] - 1s 15ms/stepss: 2.5228 - accuracy: 0.1626 - precision: 0.0000e+00 - recall: 0.0000e+0\n",
      "23/23 [==============================] - 1s 13ms/step\n",
      "Epoch 1/4\n",
      "45/45 [==============================] - 1s 30ms/step - loss: 2.6299 - accuracy: 0.1245 - precision: 0.0000e+00 - recall: 0.0000e+00\n",
      "Epoch 3/3\n",
      "35/45 [======================>.......] - ETA: 0s - loss: 2.5057 - accuracy: 0.1613 - precision: 0.0000e+00 - recall: 0.0000e+00"
     ]
    },
    {
     "name": "stderr",
     "output_type": "stream",
     "text": [
      "2022-08-14 17:24:18.139872: I tensorflow/core/grappler/optimizers/custom_graph_optimizer_registry.cc:113] Plugin optimizer for device_type GPU is enabled.\n",
      "2022-08-14 17:24:18.145175: I tensorflow/core/grappler/optimizers/custom_graph_optimizer_registry.cc:113] Plugin optimizer for device_type GPU is enabled.\n"
     ]
    },
    {
     "name": "stdout",
     "output_type": "stream",
     "text": [
      "45/45 [==============================] - 1s 26ms/step - loss: 2.4948 - accuracy: 0.1609 - precision: 0.0000e+00 - recall: 0.0000e+00\n",
      "Epoch 4/4\n",
      "23/23 [==============================] - 1s 11ms/step\n",
      "23/23 [==============================] - 1s 9ms/steposs: 2.4194 - accuracy: 0.1611 - precision: 0.0000e+00 - recall: 0.0000e+00\n",
      "45/45 [==============================] - 1s 22ms/step - loss: 2.3485 - accuracy: 0.1908 - precision: 0.0000e+00 - recall: 0.0000e+00\n",
      "39/45 [=========================>....] - ETA: 0s - loss: 2.5296 - accuracy: 0.1295 - precision: 0.0000e+00 - recall: 0.0000e+00Epoch 1/2\n",
      "45/45 [==============================] - 1s 20ms/step - loss: 2.5224 - accuracy: 0.1295 - precision: 0.0000e+00 - recall: 0.0000e+00\n",
      "Epoch 1/2\n",
      "28/45 [=================>............] - ETA: 0s - loss: 2.3976 - accuracy: 0.1631 - precision: 0.0000e+00 - recall: 0.0000e+00Epoch 1/2\n",
      "31/45 [===================>..........] - ETA: 0s - loss: 2.3886 - accuracy: 0.1683 - precision: 0.0000e+00 - recall: 0.0000e+00Epoch 1/3\n"
     ]
    },
    {
     "name": "stderr",
     "output_type": "stream",
     "text": [
      "2022-08-14 17:24:19.052220: I tensorflow/core/grappler/optimizers/custom_graph_optimizer_registry.cc:113] Plugin optimizer for device_type GPU is enabled.\n",
      "2022-08-14 17:24:19.070110: I tensorflow/core/grappler/optimizers/custom_graph_optimizer_registry.cc:113] Plugin optimizer for device_type GPU is enabled.\n"
     ]
    },
    {
     "name": "stdout",
     "output_type": "stream",
     "text": [
      "23/23 [==============================] - 0s 4ms/steposs: 2.3841 - accuracy: 0.1692 - precision: 0.0000e+00 - recall: 0.0000e+00\n",
      "23/23 [==============================] - 0s 5ms/steposs: 2.3828 - accuracy: 0.1705 - precision: 0.0000e+00 - recall: 0.0000e+\n",
      "45/45 [==============================] - 1s 21ms/step - loss: 2.3775 - accuracy: 0.1732 - precision: 0.0000e+00 - recall: 0.0000e+00\n",
      "Epoch 1/3\n"
     ]
    },
    {
     "name": "stderr",
     "output_type": "stream",
     "text": [
      "2022-08-14 17:24:19.553895: I tensorflow/core/grappler/optimizers/custom_graph_optimizer_registry.cc:113] Plugin optimizer for device_type GPU is enabled.\n"
     ]
    },
    {
     "name": "stdout",
     "output_type": "stream",
     "text": [
      " 1/23 [>.............................] - ETA: 2sEpoch 1/3\n",
      "23/23 [==============================] - 0s 7ms/step\n",
      "Epoch 1/4\n"
     ]
    },
    {
     "name": "stderr",
     "output_type": "stream",
     "text": [
      "2022-08-14 17:24:20.207922: I tensorflow/core/grappler/optimizers/custom_graph_optimizer_registry.cc:113] Plugin optimizer for device_type GPU is enabled.\n",
      "2022-08-14 17:24:20.400259: I tensorflow/core/grappler/optimizers/custom_graph_optimizer_registry.cc:113] Plugin optimizer for device_type GPU is enabled.\n",
      "2022-08-14 17:24:20.498125: I tensorflow/core/grappler/optimizers/custom_graph_optimizer_registry.cc:113] Plugin optimizer for device_type GPU is enabled.\n",
      "2022-08-14 17:24:20.498907: I tensorflow/core/grappler/optimizers/custom_graph_optimizer_registry.cc:113] Plugin optimizer for device_type GPU is enabled.\n",
      "2022-08-14 17:24:20.573548: I tensorflow/core/grappler/optimizers/custom_graph_optimizer_registry.cc:113] Plugin optimizer for device_type GPU is enabled.\n"
     ]
    },
    {
     "name": "stdout",
     "output_type": "stream",
     "text": [
      " 8/45 [====>.........................] - ETA: 2s - loss: 2.6897 - accuracy: 0.1099 - precision_1: 0.0000e+00 - recall_1: 0.0000e+00 "
     ]
    },
    {
     "name": "stderr",
     "output_type": "stream",
     "text": [
      "2022-08-14 17:24:20.991302: I tensorflow/core/grappler/optimizers/custom_graph_optimizer_registry.cc:113] Plugin optimizer for device_type GPU is enabled.\n"
     ]
    },
    {
     "name": "stdout",
     "output_type": "stream",
     "text": [
      " 4/23 [====>.........................] - ETA: 0s - loss: 2.6930 - accuracy: 0.1138 - precision_1: 0.0000e+00 - recall_1: 0.0000e+00"
     ]
    },
    {
     "name": "stderr",
     "output_type": "stream",
     "text": [
      "2022-08-14 17:24:21.404472: I tensorflow/core/grappler/optimizers/custom_graph_optimizer_registry.cc:113] Plugin optimizer for device_type GPU is enabled.\n"
     ]
    },
    {
     "name": "stdout",
     "output_type": "stream",
     "text": [
      "23/23 [==============================] - 3s 35ms/step - loss: 2.6721 - accuracy: 0.1169 - precision_1: 0.0000e+00 - recall_1: 0.0000e+00\n",
      "Epoch 2/2\n",
      "23/23 [==============================] - 3s 26ms/step - loss: 2.6710 - accuracy: 0.1150 - precision_1: 0.0000e+00 - recall_1: 0.0000e+00\n",
      " 1/23 [>.............................] - ETA: 0s - loss: 2.6484 - accuracy: 0.1328 - precision_1: 0.0000e+00 - recall_1: 0.0000e+00Epoch 2/2\n",
      "23/23 [==============================] - 3s 39ms/step - loss: 2.6714 - accuracy: 0.1182 - precision_1: 0.0000e+00 - recall_1: 0.0000e+00\n",
      "Epoch 2/2\n",
      "45/45 [==============================] - 5s 43ms/step - loss: 2.6492 - accuracy: 0.1305 - precision_1: 0.0000e+00 - recall_1: 0.0000e+00\n",
      "Epoch 2/4\n",
      "23/23 [==============================] - 4s 30ms/step - loss: 2.6717 - accuracy: 0.1143 - precision_1: 0.0000e+00 - recall_1: 0.0000e+00\n",
      "Epoch 2/3\n",
      "23/23 [==============================] - 1s 32ms/step - loss: 2.6218 - accuracy: 0.1445 - precision_1: 0.0000e+00 - recall_1: 0.0000e+00\n",
      "23/23 [==============================] - 1s 34ms/step - loss: 2.6225 - accuracy: 0.1455 - precision_1: 0.0000e+00 - recall_1: 0.0000e+00\n",
      "23/23 [==============================] - 1s 29ms/step - loss: 2.6216 - accuracy: 0.1459 - precision_1: 0.0000e+00 - recall_1: 0.0000e+00\n",
      " 8/23 [=========>....................] - ETA: 0s - loss: 2.6364 - accuracy: 0.1274 - precision_1: 0.0000e+00 - recall_1: 0.0000e+00"
     ]
    },
    {
     "name": "stderr",
     "output_type": "stream",
     "text": [
      "2022-08-14 17:24:22.769139: I tensorflow/core/grappler/optimizers/custom_graph_optimizer_registry.cc:113] Plugin optimizer for device_type GPU is enabled.\n"
     ]
    },
    {
     "name": "stdout",
     "output_type": "stream",
     "text": [
      "12/12 [==============================] - 0s 7ms/steposs: 2.6231 - accuracy: 0.1396 - precision_1: 0.0000e+00 - recall_1: 0.0000e+00\n"
     ]
    },
    {
     "name": "stderr",
     "output_type": "stream",
     "text": [
      "2022-08-14 17:24:23.002528: I tensorflow/core/grappler/optimizers/custom_graph_optimizer_registry.cc:113] Plugin optimizer for device_type GPU is enabled.\n",
      "2022-08-14 17:24:23.004947: I tensorflow/core/grappler/optimizers/custom_graph_optimizer_registry.cc:113] Plugin optimizer for device_type GPU is enabled.\n"
     ]
    },
    {
     "name": "stdout",
     "output_type": "stream",
     "text": [
      "23/23 [==============================] - 1s 22ms/step - loss: 2.6226 - accuracy: 0.1400 - precision_1: 0.0000e+00 - recall_1: 0.0000e+00\n",
      "Epoch 3/3\n",
      "12/12 [==============================] - 0s 19ms/stepss: 2.5644 - accuracy: 0.1472 - precision_1: 0.0000e+00 - recall_1: 0.0000e+00 0\n",
      "31/45 [===================>..........] - ETA: 0s - loss: 2.5608 - accuracy: 0.1464 - precision_1: 0.0000e+00 - recall_1: 0.0000e+00"
     ]
    },
    {
     "name": "stderr",
     "output_type": "stream",
     "text": [
      "2022-08-14 17:24:23.341420: I tensorflow/core/grappler/optimizers/custom_graph_optimizer_registry.cc:113] Plugin optimizer for device_type GPU is enabled.\n"
     ]
    },
    {
     "name": "stdout",
     "output_type": "stream",
     "text": [
      "12/12 [==============================] - 0s 16ms/stepss: 2.5774 - accuracy: 0.1430 - precision_1: 0.0000e+00 - recall_1: 0.0000e+\n",
      "19/23 [=======================>......] - ETA: 0s - loss: 2.5691 - accuracy: 0.1448 - precision_1: 0.0000e+00 - recall_1: 0.0000e+00Epoch 1/4\n",
      "44/45 [============================>.] - ETA: 0s - loss: 2.5462 - accuracy: 0.1454 - precision_1: 0.0000e+00 - recall_1: 0.0000e+00Epoch 1/4\n",
      "45/45 [==============================] - 1s 27ms/step - loss: 2.5460 - accuracy: 0.1456 - precision_1: 0.0000e+00 - recall_1: 0.0000e+00\n",
      "Epoch 3/4\n",
      "23/23 [==============================] - 4s 28ms/step - loss: 2.6720 - accuracy: 0.1216 - precision_1: 0.0000e+00 - recall_1: 0.0000e+00\n",
      "Epoch 2/3\n",
      "23/23 [==============================] - 1s 31ms/step - loss: 2.5646 - accuracy: 0.1468 - precision_1: 0.0000e+00 - recall_1: 0.0000e+00\n",
      " 5/45 [==>...........................] - ETA: 1s - loss: 2.4797 - accuracy: 0.1477 - precision_1: 0.0000e+00 - recall_1: 0.0000e+0000"
     ]
    },
    {
     "name": "stderr",
     "output_type": "stream",
     "text": [
      "2022-08-14 17:24:23.951200: I tensorflow/core/grappler/optimizers/custom_graph_optimizer_registry.cc:113] Plugin optimizer for device_type GPU is enabled.\n"
     ]
    },
    {
     "name": "stdout",
     "output_type": "stream",
     "text": [
      "12/12 [==============================] - 0s 15ms/stepss: 2.6939 - accuracy: 0.1138 - precision_1: 0.0000e+00 - recall_1: 0.0000e+000\n",
      "23/23 [==============================] - 1s 29ms/step - loss: 2.6218 - accuracy: 0.1438 - precision_1: 0.0000e+00 - recall_1: 0.0000e+00\n",
      "Epoch 3/3\n",
      "23/23 [==============================] - 5s 29ms/step - loss: 2.6706 - accuracy: 0.1122 - precision_1: 0.0000e+00 - recall_1: 0.0000e+00\n",
      "23/23 [==============================] - 5s 24ms/step - loss: 2.6716 - accuracy: 0.1204 - precision_1: 0.0000e+00 - recall_1: 0.0000e+00\n",
      "Epoch 2/3\n",
      "Epoch 2/4\n",
      "45/45 [==============================] - 1s 27ms/step - loss: 2.4244 - accuracy: 0.1569 - precision_1: 0.0000e+00 - recall_1: 0.0000e+00\n",
      "Epoch 4/4\n",
      "23/23 [==============================] - 1s 26ms/step - loss: 2.5621 - accuracy: 0.1505 - precision_1: 0.0000e+00 - recall_1: 0.0000e+00\n",
      "23/23 [==============================] - 1s 23ms/step - loss: 2.6217 - accuracy: 0.1443 - precision_1: 0.0000e+00 - recall_1: 0.0000e+00\n",
      "Epoch 3/3\n",
      "23/23 [==============================] - 1s 25ms/step - loss: 2.6226 - accuracy: 0.1428 - precision_1: 0.0000e+00 - recall_1: 0.0000e+00\n",
      "Epoch 3/4\n",
      "12/12 [==============================] - 0s 5ms/steposs: 2.5792 - accuracy: 0.1477 - precision_1: 0.0000e+00 - recall_1: 0.0000e+00\n",
      "17/23 [=====================>........] - ETA: 0s - loss: 2.5724 - accuracy: 0.1455 - precision_1: 0.0000e+00 - recall_1: 0.0000e+00"
     ]
    },
    {
     "name": "stderr",
     "output_type": "stream",
     "text": [
      "2022-08-14 17:24:25.348389: I tensorflow/core/grappler/optimizers/custom_graph_optimizer_registry.cc:113] Plugin optimizer for device_type GPU is enabled.\n"
     ]
    },
    {
     "name": "stdout",
     "output_type": "stream",
     "text": [
      "23/23 [==============================] - 0s 19ms/step - loss: 2.5662 - accuracy: 0.1507 - precision_1: 0.0000e+00 - recall_1: 0.0000e+00\n",
      "23/23 [==============================] - 0s 19ms/step - loss: 2.5638 - accuracy: 0.1468 - precision_1: 0.0000e+00 - recall_1: 0.0000e+00\n",
      "Epoch 4/4\n",
      " 5/23 [=====>........................] - ETA: 0s - loss: 2.5174 - accuracy: 0.1531 - precision_1: 0.0000e+00 - recall_1: 0.0000e+00"
     ]
    },
    {
     "name": "stderr",
     "output_type": "stream",
     "text": [
      "2022-08-14 17:24:25.702399: I tensorflow/core/grappler/optimizers/custom_graph_optimizer_registry.cc:113] Plugin optimizer for device_type GPU is enabled.\n"
     ]
    },
    {
     "name": "stdout",
     "output_type": "stream",
     "text": [
      "12/12 [==============================] - 0s 7ms/steposs: 2.3304 - accuracy: 0.1906 - precision_1: 0.0000e+00 - recall_1: 0.0000e+0\n",
      "45/45 [==============================] - 1s 19ms/step - loss: 2.3252 - accuracy: 0.1895 - precision_1: 0.0000e+00 - recall_1: 0.0000e+00\n",
      "17/23 [=====================>........] - ETA: 0s - loss: 2.5082 - accuracy: 0.1472 - precision_1: 0.0000e+00 - recall_1: 0.0000e+00"
     ]
    },
    {
     "name": "stderr",
     "output_type": "stream",
     "text": [
      "2022-08-14 17:24:25.961781: I tensorflow/core/grappler/optimizers/custom_graph_optimizer_registry.cc:113] Plugin optimizer for device_type GPU is enabled.\n",
      "2022-08-14 17:24:25.968367: I tensorflow/core/grappler/optimizers/custom_graph_optimizer_registry.cc:113] Plugin optimizer for device_type GPU is enabled.\n",
      "2022-08-14 17:24:26.004203: I tensorflow/core/grappler/optimizers/custom_graph_optimizer_registry.cc:113] Plugin optimizer for device_type GPU is enabled.\n",
      "2022-08-14 17:24:26.159691: I tensorflow/core/grappler/optimizers/custom_graph_optimizer_registry.cc:113] Plugin optimizer for device_type GPU is enabled.\n"
     ]
    },
    {
     "name": "stdout",
     "output_type": "stream",
     "text": [
      "23/23 [==============================] - 0s 19ms/step - loss: 2.4996 - accuracy: 0.1476 - precision_1: 0.0000e+00 - recall_1: 0.0000e+00\n",
      "23/23 [==============================] - 0s 5ms/step\n",
      "12/12 [==============================] - 0s 5ms/steploss: 2.7043 - accuracy: 0.0820 - precision_2: 0.0000e+00 - recall_2: 0.0000e+00\n",
      "23/23 [==============================] - 3s 18ms/step - loss: 2.6715 - accuracy: 0.1223 - precision_2: 0.0000e+00 - recall_2: 0.0000e+00\n",
      "Epoch 2/4\n",
      "23/23 [==============================] - 3s 19ms/step - loss: 2.6708 - accuracy: 0.1151 - precision_2: 0.0000e+00 - recall_2: 0.0000e+00\n",
      "Epoch 2/4\n",
      "23/23 [==============================] - 0s 13ms/step - loss: 2.6219 - accuracy: 0.1447 - precision_2: 0.0000e+00 - recall_2: 0.0000e+00\n",
      "Epoch 3/4\n",
      "23/23 [==============================] - 0s 13ms/step - loss: 2.6221 - accuracy: 0.1446 - precision_2: 0.0000e+00 - recall_2: 0.0000e+00\n",
      " 1/23 [>.............................] - ETA: 0s - loss: 2.5951 - accuracy: 0.1348 - precision_2: 0.0000e+00 - recall_2: 0.0000e+00Epoch 3/4\n",
      "23/23 [==============================] - 0s 13ms/step - loss: 2.5640 - accuracy: 0.1503 - precision_2: 0.0000e+00 - recall_2: 0.0000e+00\n",
      "Epoch 4/4\n",
      "23/23 [==============================] - 0s 13ms/step - loss: 2.5654 - accuracy: 0.1466 - precision_2: 0.0000e+00 - recall_2: 0.0000e+00\n",
      " 1/23 [>.............................] - ETA: 0s - loss: 2.5277 - accuracy: 0.1543 - precision_2: 0.0000e+00 - recall_2: 0.0000e+00Epoch 4/4\n",
      "23/23 [==============================] - 0s 13ms/step - loss: 2.4974 - accuracy: 0.1510 - precision_2: 0.0000e+00 - recall_2: 0.0000e+00\n",
      "23/23 [==============================] - 0s 13ms/step - loss: 2.5011 - accuracy: 0.1455 - precision_2: 0.0000e+00 - recall_2: 0.0000e+00\n",
      "12/12 [==============================] - 0s 3ms/step\n",
      "12/12 [==============================] - 0s 3ms/step\n"
     ]
    },
    {
     "name": "stderr",
     "output_type": "stream",
     "text": [
      "2022-08-14 17:24:27.586116: I tensorflow/core/grappler/optimizers/custom_graph_optimizer_registry.cc:113] Plugin optimizer for device_type GPU is enabled.\n",
      "2022-08-14 17:24:27.596842: I tensorflow/core/grappler/optimizers/custom_graph_optimizer_registry.cc:113] Plugin optimizer for device_type GPU is enabled.\n",
      "2022-08-14 17:24:27.883823: I tensorflow/core/common_runtime/pluggable_device/pluggable_device_factory.cc:305] Could not identify NUMA node of platform GPU ID 0, defaulting to 0. Your kernel may not have been built with NUMA support.\n",
      "2022-08-14 17:24:27.884775: I tensorflow/core/common_runtime/pluggable_device/pluggable_device_factory.cc:271] Created TensorFlow device (/job:localhost/replica:0/task:0/device:GPU:0 with 0 MB memory) -> physical PluggableDevice (device: 0, name: METAL, pci bus id: <undefined>)\n"
     ]
    },
    {
     "name": "stdout",
     "output_type": "stream",
     "text": [
      "Metal device set to: Apple M1\n",
      "\n",
      "systemMemory: 8.00 GB\n",
      "maxCacheSize: 2.67 GB\n",
      "\n",
      "Epoch 1/4\n"
     ]
    },
    {
     "name": "stderr",
     "output_type": "stream",
     "text": [
      "2022-08-14 17:24:28.537098: W tensorflow/core/platform/profile_utils/cpu_utils.cc:128] Failed to get CPU frequency: 0 Hz\n",
      "2022-08-14 17:24:29.208470: I tensorflow/core/grappler/optimizers/custom_graph_optimizer_registry.cc:113] Plugin optimizer for device_type GPU is enabled.\n"
     ]
    },
    {
     "name": "stdout",
     "output_type": "stream",
     "text": [
      "67/67 [==============================] - 4s 17ms/step - loss: 2.6811 - accuracy: 0.0883 - precision: 0.0000e+00 - recall: 0.0000e+00\n",
      "Epoch 2/4\n",
      "67/67 [==============================] - 1s 12ms/step - loss: 2.6198 - accuracy: 0.1310 - precision: 0.0000e+00 - recall: 0.0000e+00\n",
      "Epoch 3/4\n",
      "67/67 [==============================] - 1s 13ms/step - loss: 2.5153 - accuracy: 0.1462 - precision: 0.0000e+00 - recall: 0.0000e+00\n",
      "Epoch 4/4\n",
      "67/67 [==============================] - 1s 12ms/step - loss: 2.3688 - accuracy: 0.1700 - precision: 0.0000e+00 - recall: 0.0000e+00\n",
      "Best: 0.203312 using {'batch_size': 256, 'epochs': 4}\n",
      "0.162732 (0.011508) with: {'batch_size': 256, 'epochs': 2}\n",
      "0.153336 (0.016937) with: {'batch_size': 256, 'epochs': 3}\n",
      "0.203312 (0.007487) with: {'batch_size': 256, 'epochs': 4}\n",
      "0.146465 (0.003752) with: {'batch_size': 512, 'epochs': 2}\n",
      "0.147522 (0.004554) with: {'batch_size': 512, 'epochs': 3}\n",
      "0.147580 (0.004697) with: {'batch_size': 512, 'epochs': 4}\n"
     ]
    }
   ],
   "source": [
    "# fix random seed for reproducibility\n",
    "seed = 7\n",
    "tf.random.set_seed(seed)\n",
    "\n",
    "model = KerasClassifier(model=create_model)\n",
    "# define the grid search parameters\n",
    "batch_size = [256, 512]\n",
    "epochs = [2, 3, 4]\n",
    "param_grid = dict(batch_size=batch_size, epochs=epochs)\n",
    "grid = GridSearchCV(estimator=model, param_grid=param_grid, n_jobs=-1, cv=3, verbose = 0)\n",
    "grid_result = grid.fit(X_strat, y_strat)\n",
    "# summarize results\n",
    "print(\"Best: %f using %s\" % (grid_result.best_score_, grid_result.best_params_))\n",
    "means = grid_result.cv_results_['mean_test_score']\n",
    "stds = grid_result.cv_results_['std_test_score']\n",
    "params = grid_result.cv_results_['params']\n",
    "for mean, stdev, param in zip(means, stds, params):\n",
    "    print(\"%f (%f) with: %r\" % (mean, stdev, param))"
   ]
  },
  {
   "cell_type": "code",
   "execution_count": 43,
   "metadata": {},
   "outputs": [
    {
     "name": "stdout",
     "output_type": "stream",
     "text": [
      "Epoch 1/4\n",
      "Epoch 1/4\n",
      "Epoch 1/4\n",
      "Epoch 1/4\n",
      "Epoch 1/4\n",
      "Epoch 1/4\n",
      "Epoch 1/4\n",
      "Epoch 1/4\n"
     ]
    },
    {
     "name": "stderr",
     "output_type": "stream",
     "text": [
      "2022-08-14 17:27:09.499667: I tensorflow/core/grappler/optimizers/custom_graph_optimizer_registry.cc:113] Plugin optimizer for device_type GPU is enabled.\n",
      "2022-08-14 17:27:09.545197: I tensorflow/core/grappler/optimizers/custom_graph_optimizer_registry.cc:113] Plugin optimizer for device_type GPU is enabled.\n",
      "2022-08-14 17:27:09.548420: I tensorflow/core/grappler/optimizers/custom_graph_optimizer_registry.cc:113] Plugin optimizer for device_type GPU is enabled.\n",
      "2022-08-14 17:27:09.559018: I tensorflow/core/grappler/optimizers/custom_graph_optimizer_registry.cc:113] Plugin optimizer for device_type GPU is enabled.\n",
      "2022-08-14 17:27:09.616688: I tensorflow/core/grappler/optimizers/custom_graph_optimizer_registry.cc:113] Plugin optimizer for device_type GPU is enabled.\n",
      "2022-08-14 17:27:09.625882: I tensorflow/core/grappler/optimizers/custom_graph_optimizer_registry.cc:113] Plugin optimizer for device_type GPU is enabled.\n",
      "2022-08-14 17:27:09.639736: I tensorflow/core/grappler/optimizers/custom_graph_optimizer_registry.cc:113] Plugin optimizer for device_type GPU is enabled.\n"
     ]
    },
    {
     "name": "stdout",
     "output_type": "stream",
     "text": [
      " 2/45 [>.............................] - ETA: 4s - loss: 2.7132 - accuracy: 0.0977 - precision_3: 0.0000e+00 - recall_3: 0.0000e+00 "
     ]
    },
    {
     "name": "stderr",
     "output_type": "stream",
     "text": [
      "2022-08-14 17:27:09.874448: I tensorflow/core/grappler/optimizers/custom_graph_optimizer_registry.cc:113] Plugin optimizer for device_type GPU is enabled.\n"
     ]
    },
    {
     "name": "stdout",
     "output_type": "stream",
     "text": [
      "45/45 [==============================] - 3s 40ms/step - loss: 2.6530 - accuracy: 0.1278 - precision_3: 0.0000e+00 - recall_3: 0.0000e+00\n",
      "39/45 [=========================>....] - ETA: 0s - loss: 2.6560 - accuracy: 0.1303 - precision_2: 0.0000e+00 - recall_2: 0.0000e+00Epoch 2/4\n",
      "45/45 [==============================] - 3s 46ms/step - loss: 2.6525 - accuracy: 0.1264 - precision_2: 0.0000e+00 - recall_2: 0.0000e+00\n",
      "Epoch 2/4\n",
      "45/45 [==============================] - 3s 47ms/step - loss: 2.6515 - accuracy: 0.1298 - precision_3: 0.0000e+00 - recall_3: 0.0000e+00\n",
      "45/45 [==============================] - ETA: 0s - loss: 2.6498 - accuracy: 0.1328 - precision_2: 0.0000e+00 - recall_2: 0.0000e+00Epoch 2/4\n",
      "45/45 [==============================] - 3s 46ms/step - loss: 2.6498 - accuracy: 0.1328 - precision_2: 0.0000e+00 - recall_2: 0.0000e+00\n",
      "Epoch 2/4\n",
      "45/45 [==============================] - 3s 42ms/step - loss: 2.6496 - accuracy: 0.1339 - precision_2: 0.0000e+00 - recall_2: 0.0000e+00\n",
      "Epoch 2/4\n",
      "45/45 [==============================] - 3s 51ms/step - loss: 2.6513 - accuracy: 0.1261 - precision_2: 0.0000e+00 - recall_2: 0.0000e+00\n",
      " 7/45 [===>..........................] - ETA: 1s - loss: 2.6059 - accuracy: 0.1451 - precision_3: 0.0000e+00 - recall_3: 0.0000e+00Epoch 2/4\n",
      "45/45 [==============================] - 3s 45ms/step - loss: 2.6515 - accuracy: 0.1326 - precision_2: 0.0000e+00 - recall_2: 0.0000e+00\n",
      "Epoch 2/4\n",
      "45/45 [==============================] - 5s 48ms/step - loss: 2.6503 - accuracy: 0.1306 - precision_2: 0.0000e+00 - recall_2: 0.0000e+00\n",
      "Epoch 2/4\n",
      "45/45 [==============================] - 2s 44ms/step - loss: 2.5472 - accuracy: 0.1462 - precision_3: 0.0000e+00 - recall_3: 0.0000e+00\n",
      "Epoch 3/4\n",
      "45/45 [==============================] - 2s 44ms/step - loss: 2.5493 - accuracy: 0.1461 - precision_2: 0.0000e+00 - recall_2: 0.0000e+00\n",
      "Epoch 3/4\n",
      "45/45 [==============================] - 2s 43ms/step - loss: 2.5486 - accuracy: 0.1510 - precision_3: 0.0000e+00 - recall_3: 0.0000e+00\n",
      "40/45 [=========================>....] - ETA: 0s - loss: 2.5578 - accuracy: 0.1462 - precision_2: 0.0000e+00 - recall_2: 0.0000e+00Epoch 3/4\n",
      "45/45 [==============================] - 2s 41ms/step - loss: 2.5447 - accuracy: 0.1495 - precision_2: 0.0000e+00 - recall_2: 0.0000e+00\n",
      "Epoch 3/4\n",
      "45/45 [==============================] - 2s 45ms/step - loss: 2.5480 - accuracy: 0.1474 - precision_2: 0.0000e+00 - recall_2: 0.0000e+00\n",
      "Epoch 3/4\n",
      "45/45 [==============================] - 2s 40ms/step - loss: 2.5458 - accuracy: 0.1496 - precision_2: 0.0000e+00 - recall_2: 0.0000e+00\n",
      "42/45 [===========================>..] - ETA: 0s - loss: 2.5553 - accuracy: 0.1465 - precision_2: 0.0000e+00 - recall_2: 0.0000e+00Epoch 3/4\n",
      "45/45 [==============================] - 2s 44ms/step - loss: 2.5516 - accuracy: 0.1466 - precision_2: 0.0000e+00 - recall_2: 0.0000e+00\n",
      "16/45 [=========>....................] - ETA: 1s - loss: 2.4658 - accuracy: 0.1475 - precision_3: 0.0000e+00 - recall_3: 0.0000e+00Epoch 3/4\n",
      "45/45 [==============================] - 2s 38ms/step - loss: 2.5428 - accuracy: 0.1493 - precision_2: 0.0000e+00 - recall_2: 0.0000e+00\n",
      "Epoch 3/4\n",
      "45/45 [==============================] - 2s 41ms/step - loss: 2.4279 - accuracy: 0.1546 - precision_3: 0.0000e+00 - recall_3: 0.0000e+00\n",
      "Epoch 4/4\n",
      "45/45 [==============================] - 2s 45ms/step - loss: 2.4264 - accuracy: 0.1554 - precision_2: 0.0000e+00 - recall_2: 0.0000e+00\n",
      "11/45 [======>.......................] - ETA: 1s - loss: 2.4656 - accuracy: 0.1619 - precision_2: 0.0000e+00 - recall_2: 0.0000e+00Epoch 4/4\n",
      "45/45 [==============================] - 2s 40ms/step - loss: 2.4246 - accuracy: 0.1618 - precision_3: 0.0000e+00 - recall_3: 0.0000e+00\n",
      "Epoch 4/4\n",
      "45/45 [==============================] - 2s 41ms/step - loss: 2.4322 - accuracy: 0.1483 - precision_2: 0.0000e+00 - recall_2: 0.0000e+00\n",
      "Epoch 4/4\n",
      "45/45 [==============================] - 2s 40ms/step - loss: 2.4220 - accuracy: 0.1590 - precision_2: 0.0000e+00 - recall_2: 0.0000e+00\n",
      "Epoch 4/4\n",
      "45/45 [==============================] - 2s 43ms/step - loss: 2.4251 - accuracy: 0.1549 - precision_2: 0.0000e+00 - recall_2: 0.0000e+00\n",
      "Epoch 4/4\n",
      "45/45 [==============================] - 2s 44ms/step - loss: 2.4331 - accuracy: 0.1510 - precision_2: 0.0000e+00 - recall_2: 0.0000e+00\n",
      "Epoch 4/4\n",
      "45/45 [==============================] - 2s 44ms/step - loss: 2.4231 - accuracy: 0.1558 - precision_2: 0.0000e+00 - recall_2: 0.0000e+00\n",
      "Epoch 4/4\n",
      "45/45 [==============================] - 2s 41ms/step - loss: 2.3287 - accuracy: 0.1964 - precision_3: 0.0000e+00 - recall_3: 0.0000e+00\n",
      "45/45 [==============================] - 2s 38ms/step - loss: 2.3343 - accuracy: 0.1861 - precision_2: 0.0000e+00 - recall_2: 0.0000e+00\n",
      "14/45 [========>.....................] - ETA: 1s - loss: 2.3621 - accuracy: 0.1786 - precision_2: 0.0000e+00 - recall_2: 0.0000e+00"
     ]
    },
    {
     "name": "stderr",
     "output_type": "stream",
     "text": [
      "2022-08-14 17:27:17.875424: I tensorflow/core/grappler/optimizers/custom_graph_optimizer_registry.cc:113] Plugin optimizer for device_type GPU is enabled.\n"
     ]
    },
    {
     "name": "stdout",
     "output_type": "stream",
     "text": [
      "45/45 [==============================] - 2s 46ms/step - loss: 2.3260 - accuracy: 0.1995 - precision_2: 0.0000e+00 - recall_2: 0.0000e+00\n",
      "45/45 [==============================] - 2s 42ms/step - loss: 2.3212 - accuracy: 0.2001 - precision_2: 0.0000e+00 - recall_2: 0.0000e+00\n",
      "45/45 [==============================] - 2s 47ms/step - loss: 2.3213 - accuracy: 0.2018 - precision_3: 0.0000e+00 - recall_3: 0.0000e+00\n",
      "45/45 [==============================] - 2s 41ms/step - loss: 2.3312 - accuracy: 0.1919 - precision_2: 0.0000e+00 - recall_2: 0.0000e+00\n",
      "45/45 [==============================] - 2s 42ms/step - loss: 2.3260 - accuracy: 0.1979 - precision_2: 0.0000e+00 - recall_2: 0.0000e+00\n",
      "23/23 [==============================] - 1s 15ms/stepss: 2.3536 - accuracy: 0.1888 - precision_2: 0.0000e+00 - recall_2: 0.0000e+0\n",
      " 1/23 [>.............................] - ETA: 3s - loss: 2.3481 - accuracy: 0.1904 - precision_2: 0.0000e+00 - recall_2: 0.0000e+"
     ]
    },
    {
     "name": "stderr",
     "output_type": "stream",
     "text": [
      "2022-08-14 17:27:18.205434: I tensorflow/core/grappler/optimizers/custom_graph_optimizer_registry.cc:113] Plugin optimizer for device_type GPU is enabled.\n",
      "2022-08-14 17:27:18.230117: I tensorflow/core/grappler/optimizers/custom_graph_optimizer_registry.cc:113] Plugin optimizer for device_type GPU is enabled.\n",
      "2022-08-14 17:27:18.288971: I tensorflow/core/grappler/optimizers/custom_graph_optimizer_registry.cc:113] Plugin optimizer for device_type GPU is enabled.\n",
      "2022-08-14 17:27:18.330363: I tensorflow/core/grappler/optimizers/custom_graph_optimizer_registry.cc:113] Plugin optimizer for device_type GPU is enabled.\n",
      "2022-08-14 17:27:18.364130: I tensorflow/core/grappler/optimizers/custom_graph_optimizer_registry.cc:113] Plugin optimizer for device_type GPU is enabled.\n",
      "2022-08-14 17:27:18.390911: I tensorflow/core/grappler/optimizers/custom_graph_optimizer_registry.cc:113] Plugin optimizer for device_type GPU is enabled.\n"
     ]
    },
    {
     "name": "stdout",
     "output_type": "stream",
     "text": [
      "23/23 [==============================] - 0s 7ms/steposs: 2.3433 - accuracy: 0.1935 - precision_2: 0.0000e+00 - recall_2: 0.0000e+\n",
      "23/23 [==============================] - 0s 8ms/steposs: 2.3409 - accuracy: 0.1954 - precision_2: 0.0000e+00 - recall_2: 0.0000e+\n",
      "23/23 [==============================] - 0s 9ms/steposs: 2.3372 - accuracy: 0.1981 - precision_2: 0.0000e+00 - recall_2: 0.0000e+\n",
      "23/23 [==============================] - 0s 6ms/step\n",
      " 7/23 [========>.....................] - ETA: 0sEpoch 1/42.3339 - accuracy: 0.1989 - precision_2: 0.0000e+00 - recall_2: 0.0000e+\n",
      "23/23 [==============================] - 0s 12ms/stepss: 2.3298 - accuracy: 0.2012 - precision_2: 0.0000e+00 - recall_2: 0.0000e+\n",
      "23/23 [==============================] - 0s 9ms/steposs: 2.3284 - accuracy: 0.2009 - precision_2: 0.0000e+00 - recall_2: 0.0000e+\n",
      "43/45 [===========================>..] - ETA: 0s - loss: 2.3273 - accuracy: 0.1999 - precision_2: 0.0000e+00 - recall_2: 0.0000e+00Epoch 1/4\n",
      "45/45 [==============================] - 2s 34ms/step - loss: 2.3247 - accuracy: 0.2000 - precision_2: 0.0000e+00 - recall_2: 0.0000e+00\n",
      "Epoch 1/4\n",
      "Epoch 1/4\n",
      "Epoch 1/4\n",
      "Epoch 1/4\n",
      "Epoch 1/4\n"
     ]
    },
    {
     "name": "stderr",
     "output_type": "stream",
     "text": [
      "2022-08-14 17:27:19.426922: I tensorflow/core/grappler/optimizers/custom_graph_optimizer_registry.cc:113] Plugin optimizer for device_type GPU is enabled.\n",
      "2022-08-14 17:27:19.613071: I tensorflow/core/grappler/optimizers/custom_graph_optimizer_registry.cc:113] Plugin optimizer for device_type GPU is enabled.\n",
      "2022-08-14 17:27:19.786334: I tensorflow/core/grappler/optimizers/custom_graph_optimizer_registry.cc:113] Plugin optimizer for device_type GPU is enabled.\n",
      "2022-08-14 17:27:19.824279: I tensorflow/core/grappler/optimizers/custom_graph_optimizer_registry.cc:113] Plugin optimizer for device_type GPU is enabled.\n",
      "2022-08-14 17:27:19.908631: I tensorflow/core/grappler/optimizers/custom_graph_optimizer_registry.cc:113] Plugin optimizer for device_type GPU is enabled.\n"
     ]
    },
    {
     "name": "stdout",
     "output_type": "stream",
     "text": [
      " 6/45 [===>..........................] - ETA: 2s - loss: 2.6932 - accuracy: 0.0990 - precision_3: 0.0000e+00 - recall_3: 0.0000e+000"
     ]
    },
    {
     "name": "stderr",
     "output_type": "stream",
     "text": [
      "2022-08-14 17:27:20.996111: I tensorflow/core/grappler/optimizers/custom_graph_optimizer_registry.cc:113] Plugin optimizer for device_type GPU is enabled.\n"
     ]
    },
    {
     "name": "stdout",
     "output_type": "stream",
     "text": [
      "14/45 [========>.....................] - ETA: 1s - loss: 2.6827 - accuracy: 0.1071 - precision_3: 0.0000e+00 - recall_3: 0.0000e+00"
     ]
    },
    {
     "name": "stderr",
     "output_type": "stream",
     "text": [
      "2022-08-14 17:27:21.482340: I tensorflow/core/grappler/optimizers/custom_graph_optimizer_registry.cc:113] Plugin optimizer for device_type GPU is enabled.\n"
     ]
    },
    {
     "name": "stdout",
     "output_type": "stream",
     "text": [
      "23/23 [==============================] - 1s 23ms/stepss: 2.6593 - accuracy: 0.1214 - precision_3: 0.0000e+00 - recall_3: 0.0000e+0\n",
      "45/45 [==============================] - 3s 53ms/step - loss: 2.6515 - accuracy: 0.1242 - precision_3: 0.0000e+00 - recall_3: 0.0000e+00\n",
      "Epoch 2/4\n",
      " 1/45 [..............................] - ETA: 2s - loss: 2.6352 - accuracy: 0.1211 - precision_3: 0.0000e+00 - recall_3: 0.0000e+0000"
     ]
    },
    {
     "name": "stderr",
     "output_type": "stream",
     "text": [
      "2022-08-14 17:27:22.344051: I tensorflow/core/grappler/optimizers/custom_graph_optimizer_registry.cc:113] Plugin optimizer for device_type GPU is enabled.\n"
     ]
    },
    {
     "name": "stdout",
     "output_type": "stream",
     "text": [
      "45/45 [==============================] - 4s 54ms/step - loss: 2.6518 - accuracy: 0.1244 - precision_3: 0.0000e+00 - recall_3: 0.0000e+00\n",
      "41/45 [==========================>...] - ETA: 0s - loss: 2.6547 - accuracy: 0.1244 - precision_3: 0.0000e+00 - recall_3: 0.0000e+00Epoch 2/4\n",
      "45/45 [==============================] - 4s 46ms/step - loss: 2.6511 - accuracy: 0.1275 - precision_3: 0.0000e+00 - recall_3: 0.0000e+00\n",
      "Epoch 2/4\n",
      " 9/45 [=====>........................] - ETA: 2s - loss: 2.6886 - accuracy: 0.1128 - precision_4: 0.0000e+00 - recall_4: 0.0000e+00Epoch 1/4\n",
      "45/45 [==============================] - 4s 48ms/step - loss: 2.6493 - accuracy: 0.1276 - precision_3: 0.0000e+00 - recall_3: 0.0000e+00\n",
      " 5/45 [==>...........................] - ETA: 2s - loss: 2.6156 - accuracy: 0.1375 - precision_3: 0.0000e+00 - recall_3: 0.0000e+00Epoch 2/4\n",
      "45/45 [==============================] - 4s 52ms/step - loss: 2.6519 - accuracy: 0.1298 - precision_3: 0.0000e+00 - recall_3: 0.0000e+00\n",
      " 3/45 [=>............................] - ETA: 1s - loss: 2.6023 - accuracy: 0.1380 - precision_3: 0.0000e+00 - recall_3: 0.0000e+00Epoch 2/4\n",
      "45/45 [==============================] - 2s 40ms/step - loss: 2.5455 - accuracy: 0.1448 - precision_3: 0.0000e+00 - recall_3: 0.0000e+00\n",
      "Epoch 3/4\n",
      "45/45 [==============================] - 2s 42ms/step - loss: 2.5490 - accuracy: 0.1500 - precision_3: 0.0000e+00 - recall_3: 0.0000e+00\n",
      " 6/45 [===>..........................] - ETA: 0s - loss: 2.6919 - accuracy: 0.1100 - precision_4: 0.0000e+00 - recall_4: 0.0000e+00Epoch 3/4\n",
      "45/45 [==============================] - 6s 52ms/step - loss: 2.6511 - accuracy: 0.1276 - precision_4: 0.0000e+00 - recall_4: 0.0000e+00\n",
      "Epoch 2/4\n",
      "45/45 [==============================] - 2s 43ms/step - loss: 2.5499 - accuracy: 0.1467 - precision_3: 0.0000e+00 - recall_3: 0.0000e+00\n",
      " 3/45 [=>............................] - ETA: 4s - loss: 2.4810 - accuracy: 0.1693 - precision_3: 0.0000e+00 - recall_3: 0.0000e+00Epoch 3/4\n",
      "45/45 [==============================] - 2s 37ms/step - loss: 2.5499 - accuracy: 0.1449 - precision_3: 0.0000e+00 - recall_3: 0.0000e+00\n",
      "Epoch 3/4\n",
      "45/45 [==============================] - 2s 41ms/step - loss: 2.5444 - accuracy: 0.1499 - precision_3: 0.0000e+00 - recall_3: 0.0000e+00\n",
      "Epoch 3/4\n",
      "45/45 [==============================] - 2s 37ms/step - loss: 2.4247 - accuracy: 0.1554 - precision_3: 0.0000e+00 - recall_3: 0.0000e+00\n",
      "Epoch 4/4\n",
      "45/45 [==============================] - 7s 37ms/step - loss: 2.6503 - accuracy: 0.1224 - precision_4: 0.0000e+00 - recall_4: 0.0000e+00\n",
      "Epoch 2/4\n",
      "45/45 [==============================] - 2s 34ms/step - loss: 2.5488 - accuracy: 0.1449 - precision_4: 0.0000e+00 - recall_4: 0.0000e+00\n",
      "40/45 [=========================>....] - ETA: 0s - loss: 2.4384 - accuracy: 0.1499 - precision_3: 0.0000e+00 - recall_3: 0.0000e+00Epoch 3/4\n",
      "45/45 [==============================] - 2s 38ms/step - loss: 2.4313 - accuracy: 0.1532 - precision_3: 0.0000e+00 - recall_3: 0.0000e+00\n",
      " 3/45 [=>............................] - ETA: 1s - loss: 2.4783 - accuracy: 0.1536 - precision_4: 0.0000e+00 - recall_4: 0.0000e+00Epoch 4/4\n",
      "45/45 [==============================] - 2s 44ms/step - loss: 2.4220 - accuracy: 0.1612 - precision_3: 0.0000e+00 - recall_3: 0.0000e+00\n",
      "Epoch 4/4\n",
      "45/45 [==============================] - 2s 36ms/step - loss: 2.4303 - accuracy: 0.1527 - precision_3: 0.0000e+00 - recall_3: 0.0000e+00\n",
      " 1/45 [..............................] - ETA: 2s - loss: 2.3455 - accuracy: 0.1875 - precision_3: 0.0000e+00 - recall_3: 0.0000e+00Epoch 4/4\n",
      "45/45 [==============================] - 2s 39ms/step - loss: 2.4185 - accuracy: 0.1616 - precision_3: 0.0000e+00 - recall_3: 0.0000e+00\n",
      "Epoch 4/4\n",
      "45/45 [==============================] - 2s 36ms/step - loss: 2.3274 - accuracy: 0.1979 - precision_3: 0.0000e+00 - recall_3: 0.0000e+00\n",
      "45/45 [==============================] - 2s 39ms/step - loss: 2.5495 - accuracy: 0.1461 - precision_4: 0.0000e+00 - recall_4: 0.0000e+00\n",
      "Epoch 3/4\n",
      "45/45 [==============================] - 2s 34ms/step - loss: 2.4276 - accuracy: 0.1534 - precision_4: 0.0000e+00 - recall_4: 0.0000e+00\n",
      " 3/45 [=>............................] - ETA: 1s - loss: 2.4848 - accuracy: 0.1589 - precision_4: 0.0000e+00 - recall_4: 0.0000e+00Epoch 4/4\n",
      "45/45 [==============================] - 2s 35ms/step - loss: 2.3308 - accuracy: 0.1905 - precision_3: 0.0000e+00 - recall_3: 0.0000e+00\n",
      "45/45 [==============================] - 2s 35ms/step - loss: 2.3329 - accuracy: 0.1908 - precision_3: 0.0000e+00 - recall_3: 0.0000e+00\n",
      "45/45 [==============================] - 2s 36ms/step - loss: 2.3200 - accuracy: 0.2016 - precision_3: 0.0000e+00 - recall_3: 0.0000e+00\n",
      "45/45 [==============================] - 2s 36ms/step - loss: 2.3186 - accuracy: 0.1994 - precision_3: 0.0000e+00 - recall_3: 0.0000e+00\n",
      "19/45 [===========>..................] - ETA: 0s - loss: 2.4680 - accuracy: 0.1493 - precision_4: 0.0000e+00 - recall_4: 0.0000e+00"
     ]
    },
    {
     "name": "stderr",
     "output_type": "stream",
     "text": [
      "2022-08-14 17:27:28.217647: I tensorflow/core/grappler/optimizers/custom_graph_optimizer_registry.cc:113] Plugin optimizer for device_type GPU is enabled.\n",
      "2022-08-14 17:27:28.287311: I tensorflow/core/grappler/optimizers/custom_graph_optimizer_registry.cc:113] Plugin optimizer for device_type GPU is enabled.\n",
      "2022-08-14 17:27:28.293355: I tensorflow/core/grappler/optimizers/custom_graph_optimizer_registry.cc:113] Plugin optimizer for device_type GPU is enabled.\n",
      "2022-08-14 17:27:28.322520: I tensorflow/core/grappler/optimizers/custom_graph_optimizer_registry.cc:113] Plugin optimizer for device_type GPU is enabled.\n"
     ]
    },
    {
     "name": "stdout",
     "output_type": "stream",
     "text": [
      "23/23 [==============================] - 0s 3ms/steposs: 2.3518 - accuracy: 0.1873 - precision_4: 0.0000e+00 - recall_4: 0.0000e+\n",
      "23/23 [==============================] - 0s 5ms/steposs: 2.4610 - accuracy: 0.1502 - precision_4: 0.0000e+00 - recall_4: 0.0000e+\n",
      "23/23 [==============================] - 0s 12ms/stepss: 2.4569 - accuracy: 0.1516 - precision_4: 0.0000e+00 - recall_4: 0.0000\n",
      "23/23 [==============================] - 0s 13ms/stepss: 2.4544 - accuracy: 0.1501 - precision_4: 0.0000e+00 - recall_4: 0.0000e+\n",
      "32/45 [====================>.........] - ETA: 0s - loss: 2.4512 - accuracy: 0.1504 - precision_4: 0.0000e+00 - recall_4: 0.0000e+00Epoch 1/4\n",
      "34/45 [=====================>........] - ETA: 0s - loss: 2.3392 - accuracy: 0.1931 - precision_4: 0.0000e+00 - recall_4: 0.0000e+00Epoch 1/4\n",
      "40/45 [=========================>....] - ETA: 0s - loss: 2.4369 - accuracy: 0.1537 - precision_4: 0.0000e+00 - recall_4: 0.0000e+00Epoch 1/4\n",
      "Epoch 1/4\n",
      "45/45 [==============================] - 1s 27ms/step - loss: 2.4311 - accuracy: 0.1550 - precision_4: 0.0000e+00 - recall_4: 0.0000e+00\n",
      "Epoch 4/4\n",
      "45/45 [==============================] - 1s 25ms/step - loss: 2.3272 - accuracy: 0.1969 - precision_4: 0.0000e+00 - recall_4: 0.0000e+00\n",
      " 9/45 [=====>........................] - ETA: 1s - loss: 2.3727 - accuracy: 0.1784 - precision_4: 0.0000e+00 - recall_4: 0.0000e+00"
     ]
    },
    {
     "name": "stderr",
     "output_type": "stream",
     "text": [
      "2022-08-14 17:27:29.048302: I tensorflow/core/grappler/optimizers/custom_graph_optimizer_registry.cc:113] Plugin optimizer for device_type GPU is enabled.\n",
      "2022-08-14 17:27:29.085859: I tensorflow/core/grappler/optimizers/custom_graph_optimizer_registry.cc:113] Plugin optimizer for device_type GPU is enabled.\n"
     ]
    },
    {
     "name": "stdout",
     "output_type": "stream",
     "text": [
      "23/23 [==============================] - 0s 8ms/steposs: 2.3611 - accuracy: 0.1861 - precision_4: 0.0000e+00 - recall_4: 0.0000e+\n",
      "15/45 [=========>....................] - ETA: 0s - loss: 2.3593 - accuracy: 0.1862 - precision_4: 0.0000e+00 - recall_4: 0.0000e+00Epoch 1/4\n",
      "36/45 [=======================>......] - ETA: 0s - loss: 2.3367 - accuracy: 0.1924 - precision_4: 0.0000e+00 - recall_4: 0.0000e+00"
     ]
    },
    {
     "name": "stderr",
     "output_type": "stream",
     "text": [
      "2022-08-14 17:27:30.281280: I tensorflow/core/grappler/optimizers/custom_graph_optimizer_registry.cc:113] Plugin optimizer for device_type GPU is enabled.\n"
     ]
    },
    {
     "name": "stdout",
     "output_type": "stream",
     "text": [
      "45/45 [==============================] - 2s 39ms/step - loss: 2.3308 - accuracy: 0.1902 - precision_4: 0.0000e+00 - recall_4: 0.0000e+00\n",
      "23/23 [==============================] - 1s 19ms/stepss: 2.6653 - accuracy: 0.1145 - precision_3: 0.0000e+00 - recall_3: 0.0000e+\n",
      "32/45 [====================>.........] - ETA: 0s - loss: 2.6627 - accuracy: 0.1161 - precision_3: 0.0000e+00 - recall_3: 0.0000e+00"
     ]
    },
    {
     "name": "stderr",
     "output_type": "stream",
     "text": [
      "2022-08-14 17:27:30.982165: I tensorflow/core/grappler/optimizers/custom_graph_optimizer_registry.cc:113] Plugin optimizer for device_type GPU is enabled.\n",
      "2022-08-14 17:27:31.017050: I tensorflow/core/grappler/optimizers/custom_graph_optimizer_registry.cc:113] Plugin optimizer for device_type GPU is enabled.\n",
      "2022-08-14 17:27:31.050825: I tensorflow/core/grappler/optimizers/custom_graph_optimizer_registry.cc:113] Plugin optimizer for device_type GPU is enabled.\n",
      "2022-08-14 17:27:31.067972: I tensorflow/core/grappler/optimizers/custom_graph_optimizer_registry.cc:113] Plugin optimizer for device_type GPU is enabled.\n",
      "2022-08-14 17:27:31.182711: I tensorflow/core/grappler/optimizers/custom_graph_optimizer_registry.cc:113] Plugin optimizer for device_type GPU is enabled.\n"
     ]
    },
    {
     "name": "stdout",
     "output_type": "stream",
     "text": [
      " 1/23 [>.............................] - ETA: 2sEpoch 1/42.6613 - accuracy: 0.1168 - precision_3: 0.0000e+00 - recall_3: 0.0000e+00\n",
      "23/23 [==============================] - 0s 12ms/stepss: 2.6551 - accuracy: 0.1222 - precision_3: 0.0000e+00 - recall_3: 0.0000e+\n",
      "40/45 [=========================>....] - ETA: 0s - loss: 2.6539 - accuracy: 0.1234 - precision_3: 0.0000e+00 - recall_3: 0.0000e+00"
     ]
    },
    {
     "name": "stderr",
     "output_type": "stream",
     "text": [
      "2022-08-14 17:27:31.231424: I tensorflow/core/grappler/optimizers/custom_graph_optimizer_registry.cc:113] Plugin optimizer for device_type GPU is enabled.\n"
     ]
    },
    {
     "name": "stdout",
     "output_type": "stream",
     "text": [
      " 3/45 [=>............................] - ETA: 1s - loss: 2.7100 - accuracy: 0.1094 - precision_4: 0.0000e+00 - recall_4: 0.0000e+00  Epoch 1/4\n",
      "45/45 [==============================] - 9s 50ms/step - loss: 2.6502 - accuracy: 0.1250 - precision_3: 0.0000e+00 - recall_3: 0.0000e+00\n",
      " 4/45 [=>............................] - ETA: 1s - loss: 2.6953 - accuracy: 0.1152 - precision_4: 0.0000e+00 - recall_4: 0.0000e+00Epoch 2/4\n",
      "45/45 [==============================] - 4s 35ms/step - loss: 2.6506 - accuracy: 0.1306 - precision_4: 0.0000e+00 - recall_4: 0.0000e+00\n",
      "Epoch 2/4\n",
      "45/45 [==============================] - 4s 33ms/step - loss: 2.6501 - accuracy: 0.1280 - precision_5: 0.0000e+00 - recall_5: 0.0000e+00\n",
      "Epoch 2/4\n",
      "45/45 [==============================] - 2s 34ms/step - loss: 2.5443 - accuracy: 0.1466 - precision_3: 0.0000e+00 - recall_3: 0.0000e+00\n",
      "Epoch 3/4\n",
      "45/45 [==============================] - 4s 36ms/step - loss: 2.6501 - accuracy: 0.1327 - precision_4: 0.0000e+00 - recall_4: 0.0000e+00\n",
      "23/45 [==============>...............] - ETA: 0s - loss: 2.6712 - accuracy: 0.1216 - precision_4: 0.0000e+00 - recall_4: 0.0000e+00Epoch 2/4\n",
      "45/45 [==============================] - 4s 38ms/step - loss: 2.6515 - accuracy: 0.1240 - precision_4: 0.0000e+00 - recall_4: 0.0000e+00\n",
      " 3/45 [=>............................] - ETA: 2s - loss: 2.5983 - accuracy: 0.1458 - precision_4: 0.0000e+00 - recall_4: 0.0000e+00Epoch 2/4\n",
      "45/45 [==============================] - 5s 35ms/step - loss: 2.6511 - accuracy: 0.1293 - precision_4: 0.0000e+00 - recall_4: 0.0000e+00\n",
      "Epoch 2/4\n",
      "45/45 [==============================] - 1s 31ms/step - loss: 2.5499 - accuracy: 0.1472 - precision_5: 0.0000e+00 - recall_5: 0.0000e+00\n",
      "Epoch 3/4\n",
      "45/45 [==============================] - 1s 31ms/step - loss: 2.5441 - accuracy: 0.1491 - precision_4: 0.0000e+00 - recall_4: 0.0000e+00\n",
      "45/45 [==============================] - 2s 33ms/step - loss: 2.5461 - accuracy: 0.1498 - precision_4: 0.0000e+00 - recall_4: 0.0000e+00\n",
      "Epoch 3/4\n",
      "Epoch 3/4\n",
      "45/45 [==============================] - 1s 31ms/step - loss: 2.5505 - accuracy: 0.1449 - precision_4: 0.0000e+00 - recall_4: 0.0000e+00\n",
      " 3/45 [=>............................] - ETA: 1s - loss: 2.4827 - accuracy: 0.1445 - precision_5: 0.0000e+00 - recall_5: 0.0000e+00Epoch 3/4\n",
      "45/45 [==============================] - 2s 35ms/step - loss: 2.4261 - accuracy: 0.1551 - precision_3: 0.0000e+00 - recall_3: 0.0000e+00\n",
      " 5/45 [==>...........................] - ETA: 1s - loss: 2.4442 - accuracy: 0.1586 - precision_4: 0.0000e+00 - recall_4: 0.0000e+00Epoch 4/4\n",
      "45/45 [==============================] - 1s 32ms/step - loss: 2.5464 - accuracy: 0.1468 - precision_4: 0.0000e+00 - recall_4: 0.0000e+00\n",
      "30/45 [===================>..........] - ETA: 0s - loss: 2.4451 - accuracy: 0.1521 - precision_4: 0.0000e+00 - recall_4: 0.0000e+00Epoch 3/4\n",
      "45/45 [==============================] - 1s 31ms/step - loss: 2.4267 - accuracy: 0.1576 - precision_4: 0.0000e+00 - recall_4: 0.0000e+00\n",
      "45/45 [==============================] - ETA: 0s - loss: 2.4329 - accuracy: 0.1536 - precision_4: 0.0000e+00 - recall_4: 0.0000e+00Epoch 4/4\n",
      "45/45 [==============================] - 1s 33ms/step - loss: 2.4315 - accuracy: 0.1520 - precision_5: 0.0000e+00 - recall_5: 0.0000e+00\n",
      "45/45 [==============================] - 1s 29ms/step - loss: 2.4329 - accuracy: 0.1536 - precision_4: 0.0000e+00 - recall_4: 0.0000e+00\n",
      " 1/45 [..............................] - ETA: 0s - loss: 2.3187 - accuracy: 0.1992 - precision_4: 0.0000e+00 - recall_4: 0.0000e+00Epoch 4/4\n",
      "Epoch 4/4\n",
      "45/45 [==============================] - 1s 31ms/step - loss: 2.4172 - accuracy: 0.1631 - precision_4: 0.0000e+00 - recall_4: 0.0000e+00\n",
      "19/45 [===========>..................] - ETA: 0s - loss: 2.4640 - accuracy: 0.1392 - precision_4: 0.0000e+00 - recall_4: 0.0000e+00Epoch 4/4\n",
      "45/45 [==============================] - 1s 33ms/step - loss: 2.3273 - accuracy: 0.2016 - precision_3: 0.0000e+00 - recall_3: 0.0000e+00\n",
      "45/45 [==============================] - 1s 32ms/step - loss: 2.4284 - accuracy: 0.1543 - precision_4: 0.0000e+00 - recall_4: 0.0000e+00\n",
      "Epoch 4/4\n",
      " 1/23 [>.............................] - ETA: 10s- loss: 2.3418 - accuracy: 0.1879 - precision_4: 0.0000e+00 - recall_4: 0.0000e+00"
     ]
    },
    {
     "name": "stderr",
     "output_type": "stream",
     "text": [
      "2022-08-14 17:27:36.779845: I tensorflow/core/grappler/optimizers/custom_graph_optimizer_registry.cc:113] Plugin optimizer for device_type GPU is enabled.\n"
     ]
    },
    {
     "name": "stdout",
     "output_type": "stream",
     "text": [
      "23/23 [==============================] - 1s 13ms/stepss: 2.3294 - accuracy: 0.1927 - precision_4: 0.0000e+00 - recall_4: 0.0000e+0\n",
      "45/45 [==============================] - 1s 30ms/step - loss: 2.3260 - accuracy: 0.1949 - precision_4: 0.0000e+00 - recall_4: 0.0000e+00\n",
      "45/45 [==============================] - 1s 30ms/step - loss: 2.3181 - accuracy: 0.1986 - precision_4: 0.0000e+00 - recall_4: 0.0000e+00\n",
      "45/45 [==============================] - 1s 32ms/step - loss: 2.3316 - accuracy: 0.1900 - precision_5: 0.0000e+00 - recall_5: 0.0000e+00\n",
      "45/45 [==============================] - 1s 33ms/step - loss: 2.3320 - accuracy: 0.1886 - precision_4: 0.0000e+00 - recall_4: 0.0000e+00\n",
      "20/45 [============>.................] - ETA: 0s - loss: 2.3511 - accuracy: 0.1859 - precision_4: 0.0000e+00 - recall_4: 0.0000e+00"
     ]
    },
    {
     "name": "stderr",
     "output_type": "stream",
     "text": [
      "2022-08-14 17:27:37.574072: I tensorflow/core/grappler/optimizers/custom_graph_optimizer_registry.cc:113] Plugin optimizer for device_type GPU is enabled.\n",
      "2022-08-14 17:27:37.693313: I tensorflow/core/grappler/optimizers/custom_graph_optimizer_registry.cc:113] Plugin optimizer for device_type GPU is enabled.\n",
      "2022-08-14 17:27:37.715998: I tensorflow/core/grappler/optimizers/custom_graph_optimizer_registry.cc:113] Plugin optimizer for device_type GPU is enabled.\n",
      "2022-08-14 17:27:37.767481: I tensorflow/core/grappler/optimizers/custom_graph_optimizer_registry.cc:113] Plugin optimizer for device_type GPU is enabled.\n"
     ]
    },
    {
     "name": "stdout",
     "output_type": "stream",
     "text": [
      "26/45 [================>.............] - ETA: 0s - loss: 2.3463 - accuracy: 0.1901 - precision_4: 0.0000e+00 - recall_4: 0.0000e+00Epoch 1/4\n",
      "23/23 [==============================] - 0s 8ms/step\n",
      "23/23 [==============================] - 0s 7ms/steposs: 2.3426 - accuracy: 0.1914 - precision_4: 0.0000e+00 - recall_4: 0.0000e+\n",
      "23/23 [==============================] - 0s 10ms/stepss: 2.3395 - accuracy: 0.1923 - precision_4: 0.0000e+00 - recall_4: 0.0000\n",
      " 3/45 [=>............................] - ETA: 1s - loss: 2.6965 - accuracy: 0.1146 - precision_5: 0.0000e+00 - recall_5: 0.0000e+00  "
     ]
    },
    {
     "name": "stderr",
     "output_type": "stream",
     "text": [
      "2022-08-14 17:27:38.057623: I tensorflow/core/grappler/optimizers/custom_graph_optimizer_registry.cc:113] Plugin optimizer for device_type GPU is enabled.\n"
     ]
    },
    {
     "name": "stdout",
     "output_type": "stream",
     "text": [
      "45/45 [==============================] - 1s 33ms/step - loss: 2.3283 - accuracy: 0.1949 - precision_4: 0.0000e+00 - recall_4: 0.0000e+00\n",
      "13/45 [=======>......................] - ETA: 0s - loss: 2.6829 - accuracy: 0.1196 - precision_5: 0.0000e+00 - recall_5: 0.0000e+00 "
     ]
    },
    {
     "name": "stderr",
     "output_type": "stream",
     "text": [
      "2022-08-14 17:27:38.460801: I tensorflow/core/grappler/optimizers/custom_graph_optimizer_registry.cc:113] Plugin optimizer for device_type GPU is enabled.\n"
     ]
    },
    {
     "name": "stdout",
     "output_type": "stream",
     "text": [
      "23/23 [==============================] - 0s 5ms/steposs: 2.6898 - accuracy: 0.1076 - precision_4: 0.0000e+00 - recall_4: 0.0000e+00\n",
      "35/45 [======================>.......] - ETA: 0s - loss: 2.6617 - accuracy: 0.1180 - precision_4: 0.0000e+00 - recall_4: 0.0000e+00"
     ]
    },
    {
     "name": "stderr",
     "output_type": "stream",
     "text": [
      "2022-08-14 17:27:39.111147: I tensorflow/core/grappler/optimizers/custom_graph_optimizer_registry.cc:113] Plugin optimizer for device_type GPU is enabled.\n"
     ]
    },
    {
     "name": "stdout",
     "output_type": "stream",
     "text": [
      "45/45 [==============================] - 8s 23ms/step - loss: 2.6506 - accuracy: 0.1350 - precision_5: 0.0000e+00 - recall_5: 0.0000e+00\n",
      "38/45 [========================>.....] - ETA: 0s - loss: 2.6583 - accuracy: 0.1219 - precision_4: 0.0000e+00 - recall_4: 0.0000e+00Epoch 2/4\n",
      "45/45 [==============================] - 8s 22ms/step - loss: 2.6514 - accuracy: 0.1263 - precision_4: 0.0000e+00 - recall_4: 0.0000e+00\n",
      "Epoch 2/4\n",
      "45/45 [==============================] - 1s 17ms/step - loss: 2.5460 - accuracy: 0.1503 - precision_5: 0.0000e+00 - recall_5: 0.0000e+00\n",
      "Epoch 3/4\n",
      "45/45 [==============================] - 1s 17ms/step - loss: 2.5455 - accuracy: 0.1468 - precision_4: 0.0000e+00 - recall_4: 0.0000e+00\n",
      "Epoch 3/4\n",
      "45/45 [==============================] - 2s 19ms/step - loss: 2.6508 - accuracy: 0.1291 - precision_4: 0.0000e+00 - recall_4: 0.0000e+00\n",
      "Epoch 2/4\n",
      "45/45 [==============================] - 1s 17ms/step - loss: 2.4191 - accuracy: 0.1594 - precision_5: 0.0000e+00 - recall_5: 0.0000e+00\n",
      "Epoch 4/4\n",
      "45/45 [==============================] - 1s 16ms/step - loss: 2.4263 - accuracy: 0.1552 - precision_4: 0.0000e+00 - recall_4: 0.0000e+00\n",
      "Epoch 4/4\n",
      "45/45 [==============================] - 1s 18ms/step - loss: 2.5478 - accuracy: 0.1465 - precision_4: 0.0000e+00 - recall_4: 0.0000e+00\n",
      "Epoch 3/4\n",
      "45/45 [==============================] - 1s 16ms/step - loss: 2.3175 - accuracy: 0.2015 - precision_5: 0.0000e+00 - recall_5: 0.0000e+00\n",
      "39/45 [=========================>....] - ETA: 0s - loss: 2.3350 - accuracy: 0.2021 - precision_4: 0.0000e+00 - recall_4: 0.0000e+00"
     ]
    },
    {
     "name": "stderr",
     "output_type": "stream",
     "text": [
      "2022-08-14 17:27:41.522550: I tensorflow/core/grappler/optimizers/custom_graph_optimizer_registry.cc:113] Plugin optimizer for device_type GPU is enabled.\n",
      "2022-08-14 17:27:41.560498: I tensorflow/core/grappler/optimizers/custom_graph_optimizer_registry.cc:113] Plugin optimizer for device_type GPU is enabled.\n",
      "2022-08-14 17:27:41.685478: I tensorflow/core/grappler/optimizers/custom_graph_optimizer_registry.cc:113] Plugin optimizer for device_type GPU is enabled.\n"
     ]
    },
    {
     "name": "stdout",
     "output_type": "stream",
     "text": [
      "45/45 [==============================] - 1s 17ms/step - loss: 2.3277 - accuracy: 0.2039 - precision_4: 0.0000e+00 - recall_4: 0.0000e+00\n",
      "23/23 [==============================] - 0s 5ms/step\n",
      "23/23 [==============================] - 0s 4ms/steposs: 2.4277 - accuracy: 0.1553 - precision_4: 0.0000e+00 - recall_4: 0.0000e+\n",
      "45/45 [==============================] - 1s 17ms/step - loss: 2.4261 - accuracy: 0.1564 - precision_4: 0.0000e+00 - recall_4: 0.0000e+00\n",
      "Epoch 4/4\n",
      "23/23 [==============================] - 0s 3ms/steposs: 2.3612 - accuracy: 0.1846 - precision_4: 0.0000e+00 - recall_4: 0.0000e+\n",
      "45/45 [==============================] - 1s 12ms/step - loss: 2.3264 - accuracy: 0.1925 - precision_4: 0.0000e+00 - recall_4: 0.0000e+00\n",
      "23/23 [==============================] - 0s 2ms/step\n"
     ]
    },
    {
     "name": "stderr",
     "output_type": "stream",
     "text": [
      "2022-08-14 17:27:42.295477: I tensorflow/core/grappler/optimizers/custom_graph_optimizer_registry.cc:113] Plugin optimizer for device_type GPU is enabled.\n"
     ]
    },
    {
     "name": "stdout",
     "output_type": "stream",
     "text": [
      "Epoch 1/4\n",
      " 1/67 [..............................] - ETA: 30s - loss: 2.7185 - accuracy: 0.0859 - precision_1: 0.0000e+00 - recall_1: 0.0000e+00"
     ]
    },
    {
     "name": "stderr",
     "output_type": "stream",
     "text": [
      "2022-08-14 17:27:42.883358: I tensorflow/core/grappler/optimizers/custom_graph_optimizer_registry.cc:113] Plugin optimizer for device_type GPU is enabled.\n"
     ]
    },
    {
     "name": "stdout",
     "output_type": "stream",
     "text": [
      "67/67 [==============================] - 1s 12ms/step - loss: 2.6811 - accuracy: 0.0883 - precision_1: 0.0000e+00 - recall_1: 0.0000e+00\n",
      "Epoch 2/4\n",
      "67/67 [==============================] - 1s 12ms/step - loss: 2.6198 - accuracy: 0.1310 - precision_1: 0.0000e+00 - recall_1: 0.0000e+00\n",
      "Epoch 3/4\n",
      "67/67 [==============================] - 1s 12ms/step - loss: 2.5153 - accuracy: 0.1462 - precision_1: 0.0000e+00 - recall_1: 0.0000e+00\n",
      "Epoch 4/4\n",
      "67/67 [==============================] - 1s 13ms/step - loss: 2.3688 - accuracy: 0.1700 - precision_1: 0.0000e+00 - recall_1: 0.0000e+00\n",
      "Best: 0.204017 using {'model__init_mode': 'he_normal'}\n",
      "0.201727 (0.004567) with: {'model__init_mode': 'uniform'}\n",
      "0.200611 (0.005052) with: {'model__init_mode': 'lecun_uniform'}\n",
      "0.201785 (0.002991) with: {'model__init_mode': 'normal'}\n",
      "0.202079 (0.002039) with: {'model__init_mode': 'zero'}\n",
      "0.201903 (0.003112) with: {'model__init_mode': 'glorot_normal'}\n",
      "0.201315 (0.001297) with: {'model__init_mode': 'glorot_uniform'}\n",
      "0.204017 (0.002261) with: {'model__init_mode': 'he_normal'}\n",
      "0.200846 (0.003213) with: {'model__init_mode': 'he_uniform'}\n"
     ]
    }
   ],
   "source": [
    "def create_model(init_mode='uniform'):\n",
    "\t# create model\n",
    "\tmodel = Sequential()\n",
    "\tmodel.add(Dense(32, input_dim = 13, activation = 'relu')) # Rectified Linear Unit Activation Function\n",
    "\tmodel.add(Dense(16, activation = 'relu'))\n",
    "\tmodel.add(Dense(15, activation = 'softmax')) # Softmax for multi-class classification\n",
    "\t# Compile model here\n",
    "\tmodel.compile(loss='categorical_crossentropy', optimizer='adam', metrics=['accuracy', keras.metrics.Precision(), keras.metrics.Recall()])\n",
    "\treturn model\n",
    "# fix random seed for reproducibility\n",
    "seed = 7\n",
    "tf.random.set_seed(seed)\n",
    "# load dataset\n",
    "# create model\n",
    "model = KerasClassifier(model=create_model, epochs=4, batch_size=256)\n",
    "# define the grid search parameters\n",
    "init_mode = ['uniform', 'lecun_uniform', 'normal', 'zero', 'glorot_normal', 'glorot_uniform', 'he_normal', 'he_uniform']\n",
    "param_grid = dict(model__init_mode=init_mode)\n",
    "grid = GridSearchCV(estimator=model, param_grid=param_grid, n_jobs=-1, cv=3, verbose = 0)\n",
    "grid_result = grid.fit(X_strat, y_strat)\n",
    "# summarize results\n",
    "print(\"Best: %f using %s\" % (grid_result.best_score_, grid_result.best_params_))\n",
    "means = grid_result.cv_results_['mean_test_score']\n",
    "stds = grid_result.cv_results_['std_test_score']\n",
    "params = grid_result.cv_results_['params']\n",
    "for mean, stdev, param in zip(means, stds, params):\n",
    "    print(\"%f (%f) with: %r\" % (mean, stdev, param))"
   ]
  },
  {
   "cell_type": "code",
   "execution_count": 45,
   "metadata": {},
   "outputs": [
    {
     "name": "stdout",
     "output_type": "stream",
     "text": [
      "Metal device set to: Apple M1\n",
      "\n",
      "systemMemory: 8.00 GB\n",
      "maxCacheSize: 2.67 GB\n",
      "\n",
      "Metal device set to: Apple M1\n",
      "\n",
      "systemMemory: 8.00 GB\n",
      "maxCacheSize: 2.67 GB\n",
      "\n",
      "Metal device set to: Apple M1\n",
      "\n",
      "systemMemory: 8.00 GB\n",
      "maxCacheSize: 2.67 GB\n",
      "\n",
      "Metal device set to: Apple M1\n",
      "\n",
      "systemMemory: 8.00 GB\n",
      "maxCacheSize: 2.67 GB\n",
      "\n",
      "Metal device set to: Apple M1\n",
      "\n",
      "systemMemory: 8.00 GB\n",
      "maxCacheSize: 2.67 GB\n",
      "\n",
      "Metal device set to: Apple M1\n",
      "\n",
      "systemMemory: 8.00 GB\n",
      "maxCacheSize: 2.67 GB\n",
      "\n",
      "Metal device set to: Apple M1\n",
      "\n",
      "systemMemory: 8.00 GB\n",
      "maxCacheSize: 2.67 GB\n",
      "\n",
      "Metal device set to: Apple M1\n",
      "\n",
      "systemMemory: 8.00 GB\n",
      "maxCacheSize: 2.67 GB\n",
      "\n"
     ]
    },
    {
     "name": "stderr",
     "output_type": "stream",
     "text": [
      "2022-08-14 17:30:48.936615: I tensorflow/core/common_runtime/pluggable_device/pluggable_device_factory.cc:305] Could not identify NUMA node of platform GPU ID 0, defaulting to 0. Your kernel may not have been built with NUMA support.\n",
      "2022-08-14 17:30:48.936715: I tensorflow/core/common_runtime/pluggable_device/pluggable_device_factory.cc:271] Created TensorFlow device (/job:localhost/replica:0/task:0/device:GPU:0 with 0 MB memory) -> physical PluggableDevice (device: 0, name: METAL, pci bus id: <undefined>)\n",
      "2022-08-14 17:30:48.941985: I tensorflow/core/common_runtime/pluggable_device/pluggable_device_factory.cc:305] Could not identify NUMA node of platform GPU ID 0, defaulting to 0. Your kernel may not have been built with NUMA support.\n",
      "2022-08-14 17:30:48.942079: I tensorflow/core/common_runtime/pluggable_device/pluggable_device_factory.cc:271] Created TensorFlow device (/job:localhost/replica:0/task:0/device:GPU:0 with 0 MB memory) -> physical PluggableDevice (device: 0, name: METAL, pci bus id: <undefined>)\n",
      "2022-08-14 17:30:48.950644: I tensorflow/core/common_runtime/pluggable_device/pluggable_device_factory.cc:305] Could not identify NUMA node of platform GPU ID 0, defaulting to 0. Your kernel may not have been built with NUMA support.\n",
      "2022-08-14 17:30:48.950766: I tensorflow/core/common_runtime/pluggable_device/pluggable_device_factory.cc:271] Created TensorFlow device (/job:localhost/replica:0/task:0/device:GPU:0 with 0 MB memory) -> physical PluggableDevice (device: 0, name: METAL, pci bus id: <undefined>)\n",
      "2022-08-14 17:30:48.950839: I tensorflow/core/common_runtime/pluggable_device/pluggable_device_factory.cc:305] Could not identify NUMA node of platform GPU ID 0, defaulting to 0. Your kernel may not have been built with NUMA support.\n",
      "2022-08-14 17:30:48.951081: I tensorflow/core/common_runtime/pluggable_device/pluggable_device_factory.cc:271] Created TensorFlow device (/job:localhost/replica:0/task:0/device:GPU:0 with 0 MB memory) -> physical PluggableDevice (device: 0, name: METAL, pci bus id: <undefined>)\n",
      "2022-08-14 17:30:48.956894: I tensorflow/core/common_runtime/pluggable_device/pluggable_device_factory.cc:305] Could not identify NUMA node of platform GPU ID 0, defaulting to 0. Your kernel may not have been built with NUMA support.\n",
      "2022-08-14 17:30:48.956992: I tensorflow/core/common_runtime/pluggable_device/pluggable_device_factory.cc:271] Created TensorFlow device (/job:localhost/replica:0/task:0/device:GPU:0 with 0 MB memory) -> physical PluggableDevice (device: 0, name: METAL, pci bus id: <undefined>)\n",
      "2022-08-14 17:30:48.961224: I tensorflow/core/common_runtime/pluggable_device/pluggable_device_factory.cc:305] Could not identify NUMA node of platform GPU ID 0, defaulting to 0. Your kernel may not have been built with NUMA support.\n",
      "2022-08-14 17:30:48.961332: I tensorflow/core/common_runtime/pluggable_device/pluggable_device_factory.cc:271] Created TensorFlow device (/job:localhost/replica:0/task:0/device:GPU:0 with 0 MB memory) -> physical PluggableDevice (device: 0, name: METAL, pci bus id: <undefined>)\n",
      "2022-08-14 17:30:48.973728: I tensorflow/core/common_runtime/pluggable_device/pluggable_device_factory.cc:305] Could not identify NUMA node of platform GPU ID 0, defaulting to 0. Your kernel may not have been built with NUMA support.\n",
      "2022-08-14 17:30:48.974268: I tensorflow/core/common_runtime/pluggable_device/pluggable_device_factory.cc:271] Created TensorFlow device (/job:localhost/replica:0/task:0/device:GPU:0 with 0 MB memory) -> physical PluggableDevice (device: 0, name: METAL, pci bus id: <undefined>)\n",
      "2022-08-14 17:30:49.004624: I tensorflow/core/common_runtime/pluggable_device/pluggable_device_factory.cc:305] Could not identify NUMA node of platform GPU ID 0, defaulting to 0. Your kernel may not have been built with NUMA support.\n",
      "2022-08-14 17:30:49.004720: I tensorflow/core/common_runtime/pluggable_device/pluggable_device_factory.cc:271] Created TensorFlow device (/job:localhost/replica:0/task:0/device:GPU:0 with 0 MB memory) -> physical PluggableDevice (device: 0, name: METAL, pci bus id: <undefined>)\n",
      "2022-08-14 17:30:49.249544: W tensorflow/core/platform/profile_utils/cpu_utils.cc:128] Failed to get CPU frequency: 0 Hz\n",
      "2022-08-14 17:30:49.254598: W tensorflow/core/platform/profile_utils/cpu_utils.cc:128] Failed to get CPU frequency: 0 Hz\n",
      "2022-08-14 17:30:49.264509: W tensorflow/core/platform/profile_utils/cpu_utils.cc:128] Failed to get CPU frequency: 0 Hz\n",
      "2022-08-14 17:30:49.267347: W tensorflow/core/platform/profile_utils/cpu_utils.cc:128] Failed to get CPU frequency: 0 Hz\n",
      "2022-08-14 17:30:49.271181: W tensorflow/core/platform/profile_utils/cpu_utils.cc:128] Failed to get CPU frequency: 0 Hz\n",
      "2022-08-14 17:30:49.272085: W tensorflow/core/platform/profile_utils/cpu_utils.cc:128] Failed to get CPU frequency: 0 Hz\n",
      "2022-08-14 17:30:49.295197: W tensorflow/core/platform/profile_utils/cpu_utils.cc:128] Failed to get CPU frequency: 0 Hz\n",
      "2022-08-14 17:30:49.297616: W tensorflow/core/platform/profile_utils/cpu_utils.cc:128] Failed to get CPU frequency: 0 Hz\n"
     ]
    },
    {
     "name": "stdout",
     "output_type": "stream",
     "text": [
      "Epoch 1/4\n",
      "Epoch 1/4\n",
      "Epoch 1/4\n",
      "Epoch 1/4\n",
      "Epoch 1/4\n",
      "Epoch 1/4\n",
      "Epoch 1/4\n",
      "Epoch 1/4\n"
     ]
    },
    {
     "name": "stderr",
     "output_type": "stream",
     "text": [
      "2022-08-14 17:30:49.737702: I tensorflow/core/grappler/optimizers/custom_graph_optimizer_registry.cc:113] Plugin optimizer for device_type GPU is enabled.\n",
      "2022-08-14 17:30:49.794062: I tensorflow/core/grappler/optimizers/custom_graph_optimizer_registry.cc:113] Plugin optimizer for device_type GPU is enabled.\n",
      "2022-08-14 17:30:49.835925: I tensorflow/core/grappler/optimizers/custom_graph_optimizer_registry.cc:113] Plugin optimizer for device_type GPU is enabled.\n",
      "2022-08-14 17:30:49.852881: I tensorflow/core/grappler/optimizers/custom_graph_optimizer_registry.cc:113] Plugin optimizer for device_type GPU is enabled.\n",
      "2022-08-14 17:30:49.880827: I tensorflow/core/grappler/optimizers/custom_graph_optimizer_registry.cc:113] Plugin optimizer for device_type GPU is enabled.\n",
      "2022-08-14 17:30:49.890015: I tensorflow/core/grappler/optimizers/custom_graph_optimizer_registry.cc:113] Plugin optimizer for device_type GPU is enabled.\n",
      "2022-08-14 17:30:49.921049: I tensorflow/core/grappler/optimizers/custom_graph_optimizer_registry.cc:113] Plugin optimizer for device_type GPU is enabled.\n",
      "2022-08-14 17:30:50.007958: I tensorflow/core/grappler/optimizers/custom_graph_optimizer_registry.cc:113] Plugin optimizer for device_type GPU is enabled.\n"
     ]
    },
    {
     "name": "stdout",
     "output_type": "stream",
     "text": [
      "45/45 [==============================] - 3s 41ms/step - loss: 2.7070 - accuracy: 0.0732 - precision: 0.0000e+00 - recall: 0.0000e+00\n",
      "39/45 [=========================>....] - ETA: 0s - loss: 2.9639 - accuracy: 0.0512 - precision: 0.0000e+00 - recall: 0.0000e+00Epoch 2/4\n",
      "45/45 [==============================] - 3s 46ms/step - loss: 2.6959 - accuracy: 0.1101 - precision: 0.0000e+00 - recall: 0.0000e+00\n",
      "Epoch 2/4\n",
      "45/45 [==============================] - 3s 39ms/step - loss: 3.3218 - accuracy: 0.0736 - precision: 0.0876 - recall: 0.0114+0\n",
      " 5/45 [==>...........................] - ETA: 1s - loss: 2.7047 - accuracy: 0.0727 - precision: 0.0000e+00 - recall: 0.0000e+00Epoch 2/4\n",
      "45/45 [==============================] - 3s 46ms/step - loss: 2.7087 - accuracy: 0.0815 - precision: 0.0000e+00 - recall: 0.0000e+00\n",
      "43/45 [===========================>..] - ETA: 0s - loss: 2.7722 - accuracy: 0.0578 - precision: 0.0000e+00 - recall: 0.0000e+00Epoch 2/4\n",
      "45/45 [==============================] - 3s 50ms/step - loss: 2.9385 - accuracy: 0.0521 - precision: 0.0000e+00 - recall: 0.0000e+00\n",
      "Epoch 2/4\n",
      "45/45 [==============================] - 3s 52ms/step - loss: 2.7053 - accuracy: 0.0737 - precision: 0.0000e+00 - recall: 0.0000e+00\n",
      "45/45 [==============================] - ETA: 0s - loss: 2.7086 - accuracy: 0.0741 - precision: 0.0000e+00 - recall: 0.0000e+00Epoch 2/4\n",
      "45/45 [==============================] - 3s 48ms/step - loss: 2.7086 - accuracy: 0.0741 - precision: 0.0000e+00 - recall: 0.0000e+00\n",
      "Epoch 2/4\n",
      "45/45 [==============================] - 3s 41ms/step - loss: 2.7707 - accuracy: 0.0574 - precision: 0.0000e+00 - recall: 0.0000e+00\n",
      " 7/45 [===>..........................] - ETA: 1s - loss: 2.7526 - accuracy: 0.0904 - precision: 0.0000e+00 - recall: 0.0000e+00Epoch 2/4\n",
      "45/45 [==============================] - 2s 40ms/step - loss: 2.7035 - accuracy: 0.0732 - precision: 0.0000e+00 - recall: 0.0000e+00\n",
      "45/45 [==============================] - 2s 38ms/step - loss: 2.6051 - accuracy: 0.1652 - precision: 0.0000e+00 - recall: 0.0000e+00\n",
      "37/45 [=======================>......] - ETA: 0s - loss: 2.6145 - accuracy: 0.1342 - precision: 0.0000e+00 - recall: 0.0000e+00Epoch 3/4\n",
      "42/45 [===========================>..] - ETA: 0s - loss: 2.7045 - accuracy: 0.0743 - precision: 0.0000e+00 - recall: 0.0000e+00Epoch 3/4\n",
      "45/45 [==============================] - 2s 37ms/step - loss: 2.7028 - accuracy: 0.0737 - precision: 0.0000e+00 - recall: 0.0000e+00\n",
      "37/45 [=======================>......] - ETA: 0s - loss: 2.7209 - accuracy: 0.0638 - precision: 0.0000e+00 - recall: 0.0000e+00Epoch 3/4\n",
      "45/45 [==============================] - 2s 39ms/step - loss: 2.7045 - accuracy: 0.0741 - precision: 0.0000e+00 - recall: 0.0000e+00\n",
      "45/45 [==============================] - 2s 43ms/step - loss: 2.7123 - accuracy: 0.1221 - precision: 0.0000e+00 - recall: 0.0000e+00\n",
      "39/45 [=========================>....] - ETA: 0s - loss: 2.7193 - accuracy: 0.0680 - precision: 0.0000e+00 - recall: 0.0000e+00Epoch 3/4\n",
      " 3/45 [=>............................] - ETA: 1s - loss: 2.7088 - accuracy: 0.0651 - precision: 0.0000e+00 - recall: 0.0000e+00Epoch 3/4\n",
      "45/45 [==============================] - 2s 47ms/step - loss: 2.6026 - accuracy: 0.1381 - precision: 0.0000e+00 - recall: 0.0000e+00\n",
      "43/45 [===========================>..] - ETA: 0s - loss: 2.7167 - accuracy: 0.0761 - precision: 0.0000e+00 - recall: 0.0000e+00Epoch 3/4\n",
      "45/45 [==============================] - 2s 43ms/step - loss: 2.6969 - accuracy: 0.0550 - precision: 0.0000e+00 - recall: 0.0000e+00\n",
      "Epoch 3/4\n",
      "45/45 [==============================] - 2s 41ms/step - loss: 2.7163 - accuracy: 0.0785 - precision: 0.0000e+00 - recall: 0.0000e+00\n",
      "Epoch 3/4\n",
      "45/45 [==============================] - 2s 38ms/step - loss: 2.7017 - accuracy: 0.0732 - precision: 0.0000e+00 - recall: 0.0000e+00\n",
      "30/45 [===================>..........] - ETA: 0s - loss: 2.6801 - accuracy: 0.0895 - precision: 0.0000e+00 - recall: 0.0000e+00Epoch 4/4\n",
      "45/45 [==============================] - 2s 38ms/step - loss: 2.7014 - accuracy: 0.1140 - precision: 0.0000e+00 - recall: 0.0000e+00\n",
      "Epoch 4/4\n",
      "45/45 [==============================] - 2s 39ms/step - loss: 2.7023 - accuracy: 0.0741 - precision: 0.0000e+00 - recall: 0.0000e+00\n",
      " 6/45 [===>..........................] - ETA: 1s - loss: 2.6967 - accuracy: 0.0840 - precision: 0.0000e+00 - recall: 0.0000e+00Epoch 4/4\n",
      "45/45 [==============================] - 2s 40ms/step - loss: 2.6766 - accuracy: 0.1243 - precision: 0.0000e+00 - recall: 0.0000e+00\n",
      "Epoch 4/4\n",
      "45/45 [==============================] - 2s 48ms/step - loss: 2.5024 - accuracy: 0.1779 - precision: 0.0000e+00 - recall: 0.0000e+00\n",
      "Epoch 4/4\n",
      "45/45 [==============================] - 2s 43ms/step - loss: 2.6789 - accuracy: 0.0939 - precision: 0.0000e+00 - recall: 0.0000e+00\n",
      "Epoch 4/4\n",
      "45/45 [==============================] - 2s 43ms/step - loss: 2.6814 - accuracy: 0.1304 - precision: 0.0000e+00 - recall: 0.0000e+00\n",
      "45/45 [==============================] - 2s 44ms/step - loss: 2.4762 - accuracy: 0.1737 - precision: 0.0000e+00 - recall: 0.0000e+00\n",
      "Epoch 4/4\n",
      "Epoch 4/4\n",
      "45/45 [==============================] - 2s 39ms/step - loss: 2.7006 - accuracy: 0.0738 - precision: 0.0000e+00 - recall: 0.0000e+00\n",
      "45/45 [==============================] - 2s 40ms/step - loss: 2.7005 - accuracy: 0.0811 - precision: 0.0000e+00 - recall: 0.0000e+00\n",
      "45/45 [==============================] - 2s 40ms/step - loss: 2.7010 - accuracy: 0.0727 - precision: 0.0000e+00 - recall: 0.0000e+00\n",
      "45/45 [==============================] - 2s 37ms/step - loss: 2.3926 - accuracy: 0.1956 - precision: 0.0000e+00 - recall: 0.0000e+00\n",
      "44/45 [============================>.] - ETA: 0s - loss: 2.6549 - accuracy: 0.1296 - precision: 0.0000e+00 - recall: 0.0000e+00"
     ]
    },
    {
     "name": "stderr",
     "output_type": "stream",
     "text": [
      "2022-08-14 17:30:57.872968: I tensorflow/core/grappler/optimizers/custom_graph_optimizer_registry.cc:113] Plugin optimizer for device_type GPU is enabled.\n"
     ]
    },
    {
     "name": "stdout",
     "output_type": "stream",
     "text": [
      "45/45 [==============================] - 2s 40ms/step - loss: 2.6548 - accuracy: 0.1299 - precision: 0.0000e+00 - recall: 0.0000e+00\n",
      "45/45 [==============================] - 2s 34ms/step - loss: 2.6582 - accuracy: 0.1226 - precision: 0.0000e+00 - recall: 0.0000e+00\n",
      "45/45 [==============================] - 2s 36ms/step - loss: 2.6584 - accuracy: 0.1309 - precision: 0.0000e+00 - recall: 0.0000e+00\n",
      "45/45 [==============================] - 2s 37ms/step - loss: 2.3584 - accuracy: 0.1888 - precision: 0.0000e+00 - recall: 0.0000e+00\n",
      "23/23 [==============================] - 1s 9ms/step\n",
      "20/23 [=========================>....] - ETA: 0s"
     ]
    },
    {
     "name": "stderr",
     "output_type": "stream",
     "text": [
      "2022-08-14 17:30:58.224360: I tensorflow/core/grappler/optimizers/custom_graph_optimizer_registry.cc:113] Plugin optimizer for device_type GPU is enabled.\n",
      "2022-08-14 17:30:58.243134: I tensorflow/core/grappler/optimizers/custom_graph_optimizer_registry.cc:113] Plugin optimizer for device_type GPU is enabled.\n",
      "2022-08-14 17:30:58.290555: I tensorflow/core/grappler/optimizers/custom_graph_optimizer_registry.cc:113] Plugin optimizer for device_type GPU is enabled.\n",
      "2022-08-14 17:30:58.291013: I tensorflow/core/grappler/optimizers/custom_graph_optimizer_registry.cc:113] Plugin optimizer for device_type GPU is enabled.\n",
      "2022-08-14 17:30:58.335772: I tensorflow/core/grappler/optimizers/custom_graph_optimizer_registry.cc:113] Plugin optimizer for device_type GPU is enabled.\n",
      "2022-08-14 17:30:58.349384: I tensorflow/core/grappler/optimizers/custom_graph_optimizer_registry.cc:113] Plugin optimizer for device_type GPU is enabled.\n",
      "2022-08-14 17:30:58.413974: I tensorflow/core/grappler/optimizers/custom_graph_optimizer_registry.cc:113] Plugin optimizer for device_type GPU is enabled.\n"
     ]
    },
    {
     "name": "stdout",
     "output_type": "stream",
     "text": [
      "23/23 [==============================] - 0s 6ms/step\n",
      "23/23 [==============================] - 1s 7ms/step\n",
      "23/23 [==============================] - 1s 8ms/step\n",
      "23/23 [==============================] - 1s 9ms/step\n",
      "23/23 [==============================] - 0s 9ms/step\n",
      "23/23 [==============================] - 0s 11ms/step\n",
      "23/23 [==============================] - 0s 11ms/step\n",
      "Epoch 1/4\n",
      "Epoch 1/4\n",
      "Epoch 1/4\n",
      "Epoch 1/4\n",
      "Epoch 1/4\n",
      "Epoch 1/4\n",
      "Epoch 1/4\n",
      "Epoch 1/4\n"
     ]
    },
    {
     "name": "stderr",
     "output_type": "stream",
     "text": [
      "2022-08-14 17:30:59.775773: I tensorflow/core/grappler/optimizers/custom_graph_optimizer_registry.cc:113] Plugin optimizer for device_type GPU is enabled.\n",
      "2022-08-14 17:30:59.805547: I tensorflow/core/grappler/optimizers/custom_graph_optimizer_registry.cc:113] Plugin optimizer for device_type GPU is enabled.\n",
      "2022-08-14 17:30:59.865449: I tensorflow/core/grappler/optimizers/custom_graph_optimizer_registry.cc:113] Plugin optimizer for device_type GPU is enabled.\n",
      "2022-08-14 17:30:59.886563: I tensorflow/core/grappler/optimizers/custom_graph_optimizer_registry.cc:113] Plugin optimizer for device_type GPU is enabled.\n",
      "2022-08-14 17:30:59.897261: I tensorflow/core/grappler/optimizers/custom_graph_optimizer_registry.cc:113] Plugin optimizer for device_type GPU is enabled.\n",
      "2022-08-14 17:30:59.906732: I tensorflow/core/grappler/optimizers/custom_graph_optimizer_registry.cc:113] Plugin optimizer for device_type GPU is enabled.\n",
      "2022-08-14 17:30:59.927080: I tensorflow/core/grappler/optimizers/custom_graph_optimizer_registry.cc:113] Plugin optimizer for device_type GPU is enabled.\n",
      "2022-08-14 17:30:59.932987: I tensorflow/core/grappler/optimizers/custom_graph_optimizer_registry.cc:113] Plugin optimizer for device_type GPU is enabled.\n"
     ]
    },
    {
     "name": "stdout",
     "output_type": "stream",
     "text": [
      "45/45 [==============================] - 3s 40ms/step - loss: 2.6523 - accuracy: 0.0868 - precision_1: 0.0000e+00 - recall_1: 0.0000e+00\n",
      "Epoch 2/4\n",
      "45/45 [==============================] - 3s 39ms/step - loss: 2.6794 - accuracy: 0.1113 - precision_1: 0.0000e+00 - recall_1: 0.0000e+00\n",
      "45/45 [==============================] - 3s 45ms/step - loss: 2.7226 - accuracy: 0.0817 - precision_1: 0.0000e+00 - recall_1: 0.0000e+00\n",
      "Epoch 2/4\n",
      "Epoch 2/4\n",
      "45/45 [==============================] - 3s 48ms/step - loss: 2.7232 - accuracy: 0.0948 - precision_1: 0.0000e+00 - recall_1: 0.0000e+00\n",
      "Epoch 2/4\n",
      "45/45 [==============================] - 3s 48ms/step - loss: 2.8253 - accuracy: 0.0975 - precision_1: 0.0000e+00 - recall_1: 0.0000e+00\n",
      "Epoch 2/4\n",
      "45/45 [==============================] - 3s 52ms/step - loss: 2.7097 - accuracy: 0.1044 - precision_1: 0.0000e+00 - recall_1: 0.0000e+00\n",
      "Epoch 2/4\n",
      "45/45 [==============================] - 3s 54ms/step - loss: 2.6597 - accuracy: 0.1124 - precision_1: 0.0000e+00 - recall_1: 0.0000e+00\n",
      "Epoch 2/4\n",
      "45/45 [==============================] - 3s 45ms/step - loss: 2.7523 - accuracy: 0.0556 - precision_1: 0.0000e+00 - recall_1: 0.0000e+00\n",
      "Epoch 2/4\n",
      "45/45 [==============================] - 2s 36ms/step - loss: 2.4874 - accuracy: 0.1510 - precision_1: 0.0000e+00 - recall_1: 0.0000e+00\n",
      "Epoch 3/4\n",
      "45/45 [==============================] - 2s 40ms/step - loss: 2.6014 - accuracy: 0.1569 - precision_1: 0.0000e+00 - recall_1: 0.0000e+00\n",
      "Epoch 3/4\n",
      "45/45 [==============================] - 2s 40ms/step - loss: 2.5288 - accuracy: 0.1519 - precision_1: 0.0000e+00 - recall_1: 0.0000e+00\n",
      " 5/45 [==>...........................] - ETA: 1s - loss: 2.4290 - accuracy: 0.1852 - precision_1: 0.0000e+00 - recall_1: 0.0000e+00Epoch 3/4\n",
      "45/45 [==============================] - 2s 40ms/step - loss: 2.6736 - accuracy: 0.1202 - precision_1: 0.0000e+00 - recall_1: 0.0000e+00\n",
      " 6/45 [===>..........................] - ETA: 1s - loss: 2.4642 - accuracy: 0.1686 - precision_1: 0.0000e+00 - recall_1: 0.0000e+00Epoch 3/4\n",
      "45/45 [==============================] - 2s 39ms/step - loss: 2.5607 - accuracy: 0.1624 - precision_1: 0.0000e+00 - recall_1: 0.0000e+00\n",
      "44/45 [============================>.] - ETA: 0s - loss: 2.5359 - accuracy: 0.1550 - precision_1: 0.0000e+00 - recall_1: 0.0000e+00Epoch 3/4\n",
      "45/45 [==============================] - 2s 46ms/step - loss: 2.6436 - accuracy: 0.1255 - precision_1: 0.0000e+00 - recall_1: 0.0000e+00\n",
      "Epoch 3/4\n",
      "45/45 [==============================] - 2s 38ms/step - loss: 2.5358 - accuracy: 0.1555 - precision_1: 0.0000e+00 - recall_1: 0.0000e+00\n",
      "Epoch 3/4\n",
      "45/45 [==============================] - 2s 36ms/step - loss: 2.7079 - accuracy: 0.0563 - precision_1: 0.0000e+00 - recall_1: 0.0000e+00\n",
      " 6/45 [===>..........................] - ETA: 1s - loss: 2.6372 - accuracy: 0.1276 - precision_1: 0.0000e+00 - recall_1: 0.0000e+00Epoch 3/4\n",
      "45/45 [==============================] - 2s 39ms/step - loss: 2.3753 - accuracy: 0.1910 - precision_1: 0.0000e+00 - recall_1: 0.0000e+00\n",
      "35/45 [======================>.......] - ETA: 0s - loss: 2.4213 - accuracy: 0.1704 - precision_1: 0.0000e+00 - recall_1: 0.0000e+00Epoch 4/4\n",
      "45/45 [==============================] - 2s 43ms/step - loss: 2.5025 - accuracy: 0.1548 - precision_1: 0.0000e+00 - recall_1: 0.0000e+00\n",
      "Epoch 4/4\n",
      "45/45 [==============================] - 2s 43ms/step - loss: 2.4093 - accuracy: 0.1741 - precision_1: 0.0000e+00 - recall_1: 0.0000e+00\n",
      "Epoch 4/4\n",
      "45/45 [==============================] - 2s 40ms/step - loss: 2.4395 - accuracy: 0.1880 - precision_1: 0.0000e+00 - recall_1: 0.0000e+00\n",
      "Epoch 4/4\n",
      "45/45 [==============================] - 2s 44ms/step - loss: 2.6221 - accuracy: 0.1276 - precision_1: 0.0000e+00 - recall_1: 0.0000e+00\n",
      "Epoch 4/4\n",
      "45/45 [==============================] - 2s 43ms/step - loss: 2.4168 - accuracy: 0.1934 - precision_1: 0.0000e+00 - recall_1: 0.0000e+00\n",
      "Epoch 4/4\n",
      "45/45 [==============================] - 2s 47ms/step - loss: 2.5642 - accuracy: 0.1498 - precision_1: 0.0000e+00 - recall_1: 0.0000e+00\n",
      " 5/45 [==>...........................] - ETA: 1s - loss: 2.4001 - accuracy: 0.1891 - precision_1: 0.0000e+00 - recall_1: 0.0000e+00Epoch 4/4\n",
      "45/45 [==============================] - 2s 43ms/step - loss: 2.6983 - accuracy: 0.0861 - precision_1: 0.0000e+00 - recall_1: 0.0000e+00\n",
      "11/45 [======>.......................] - ETA: 1s - loss: 2.4407 - accuracy: 0.1566 - precision_1: 0.0000e+00 - recall_1: 0.0000e+00Epoch 4/4\n",
      "45/45 [==============================] - 2s 41ms/step - loss: 2.2937 - accuracy: 0.2013 - precision_1: 0.0000e+00 - recall_1: 0.0000e+00\n",
      "45/45 [==============================] - 2s 42ms/step - loss: 2.4026 - accuracy: 0.1636 - precision_1: 0.0000e+00 - recall_1: 0.0000e+00\n",
      "45/45 [==============================] - 2s 43ms/step - loss: 2.3189 - accuracy: 0.1988 - precision_1: 0.0000e+00 - recall_1: 0.0000e+00\n",
      "45/45 [==============================] - 2s 40ms/step - loss: 2.5668 - accuracy: 0.1335 - precision_1: 0.0000e+00 - recall_1: 0.0000e+00\n",
      "45/45 [==============================] - 2s 39ms/step - loss: 2.3413 - accuracy: 0.1984 - precision_1: 0.0000e+00 - recall_1: 0.0000e+00\n",
      "45/45 [==============================] - 2s 38ms/step - loss: 2.3278 - accuracy: 0.2018 - precision_1: 0.0000e+00 - recall_1: 0.0000e+00\n",
      "45/45 [==============================] - 2s 40ms/step - loss: 2.6938 - accuracy: 0.1242 - precision_1: 0.0000e+00 - recall_1: 0.0000e+00\n",
      "45/45 [==============================] - 2s 41ms/step - loss: 2.4769 - accuracy: 0.2060 - precision_1: 0.0000e+00 - recall_1: 0.0000e+00\n",
      "17/23 [=====================>........] - ETA: 0s"
     ]
    },
    {
     "name": "stderr",
     "output_type": "stream",
     "text": [
      "2022-08-14 17:31:08.129963: I tensorflow/core/grappler/optimizers/custom_graph_optimizer_registry.cc:113] Plugin optimizer for device_type GPU is enabled.\n",
      "2022-08-14 17:31:08.137588: I tensorflow/core/grappler/optimizers/custom_graph_optimizer_registry.cc:113] Plugin optimizer for device_type GPU is enabled.\n",
      "2022-08-14 17:31:08.141500: I tensorflow/core/grappler/optimizers/custom_graph_optimizer_registry.cc:113] Plugin optimizer for device_type GPU is enabled.\n",
      "2022-08-14 17:31:08.142394: I tensorflow/core/grappler/optimizers/custom_graph_optimizer_registry.cc:113] Plugin optimizer for device_type GPU is enabled.\n",
      "2022-08-14 17:31:08.183990: I tensorflow/core/grappler/optimizers/custom_graph_optimizer_registry.cc:113] Plugin optimizer for device_type GPU is enabled.\n",
      "2022-08-14 17:31:08.281013: I tensorflow/core/grappler/optimizers/custom_graph_optimizer_registry.cc:113] Plugin optimizer for device_type GPU is enabled.\n",
      "2022-08-14 17:31:08.307972: I tensorflow/core/grappler/optimizers/custom_graph_optimizer_registry.cc:113] Plugin optimizer for device_type GPU is enabled.\n"
     ]
    },
    {
     "name": "stdout",
     "output_type": "stream",
     "text": [
      "23/23 [==============================] - 0s 4ms/step\n",
      "23/23 [==============================] - 0s 5ms/step\n",
      "23/23 [==============================] - 0s 6ms/step\n",
      "23/23 [==============================] - 0s 7ms/step\n",
      "23/23 [==============================] - 0s 6ms/step\n",
      " 7/23 [========>.....................] - ETA: 0sEpoch 1/4\n",
      "Epoch 1/4\n",
      "15/23 [==================>...........] - ETA: 0sEpoch 1/4\n",
      "16/23 [===================>..........] - ETA: 0sEpoch 1/4\n",
      "23/23 [==============================] - 0s 10ms/step\n",
      "23/23 [==============================] - 0s 8ms/step\n",
      "Epoch 1/4\n",
      "Epoch 1/4\n",
      "Epoch 1/4\n"
     ]
    },
    {
     "name": "stderr",
     "output_type": "stream",
     "text": [
      "2022-08-14 17:31:09.148258: I tensorflow/core/grappler/optimizers/custom_graph_optimizer_registry.cc:113] Plugin optimizer for device_type GPU is enabled.\n",
      "2022-08-14 17:31:09.154557: I tensorflow/core/grappler/optimizers/custom_graph_optimizer_registry.cc:113] Plugin optimizer for device_type GPU is enabled.\n",
      "2022-08-14 17:31:09.160348: I tensorflow/core/grappler/optimizers/custom_graph_optimizer_registry.cc:113] Plugin optimizer for device_type GPU is enabled.\n",
      "2022-08-14 17:31:09.226384: I tensorflow/core/grappler/optimizers/custom_graph_optimizer_registry.cc:113] Plugin optimizer for device_type GPU is enabled.\n",
      "2022-08-14 17:31:09.319569: I tensorflow/core/grappler/optimizers/custom_graph_optimizer_registry.cc:113] Plugin optimizer for device_type GPU is enabled.\n",
      "2022-08-14 17:31:09.445820: I tensorflow/core/grappler/optimizers/custom_graph_optimizer_registry.cc:113] Plugin optimizer for device_type GPU is enabled.\n",
      "2022-08-14 17:31:09.515296: I tensorflow/core/grappler/optimizers/custom_graph_optimizer_registry.cc:113] Plugin optimizer for device_type GPU is enabled.\n"
     ]
    },
    {
     "name": "stdout",
     "output_type": "stream",
     "text": [
      "17/45 [==========>...................] - ETA: 1s - loss: 2.9753 - accuracy: 0.0453 - precision_2: 0.0000e+00 - recall_2: 0.0000e+00"
     ]
    },
    {
     "name": "stderr",
     "output_type": "stream",
     "text": [
      "2022-08-14 17:31:10.637621: I tensorflow/core/grappler/optimizers/custom_graph_optimizer_registry.cc:113] Plugin optimizer for device_type GPU is enabled.\n"
     ]
    },
    {
     "name": "stdout",
     "output_type": "stream",
     "text": [
      "23/23 [==============================] - 1s 9ms/steposs: 2.7640 - accuracy: 0.0745 - precision_2: 0.0000e+00 - recall_2: 0.0000e+0\n",
      "45/45 [==============================] - 3s 38ms/step - loss: 2.7393 - accuracy: 0.0811 - precision_2: 0.0000e+00 - recall_2: 0.0000e+00\n",
      "Epoch 2/4\n",
      "45/45 [==============================] - 3s 44ms/step - loss: 2.7242 - accuracy: 0.0749 - precision_2: 0.0000e+00 - recall_2: 0.0000e+00\n",
      "44/45 [============================>.] - ETA: 0s - loss: 2.7446 - accuracy: 0.0873 - precision_2: 0.0000e+00 - recall_2: 0.0000e+00Epoch 2/4\n",
      "45/45 [==============================] - 3s 42ms/step - loss: 2.7439 - accuracy: 0.0877 - precision_2: 0.0000e+00 - recall_2: 0.0000e+00\n",
      "Epoch 2/4\n",
      " 9/45 [=====>........................] - ETA: 0s - loss: 2.7027 - accuracy: 0.0703 - precision_2: 0.0000e+00 - recall_2: 0.0000e+00Epoch 1/4\n",
      "45/45 [==============================] - 3s 44ms/step - loss: 2.7814 - accuracy: 0.0769 - precision_2: 0.0000e+00 - recall_2: 0.0000e+00\n",
      "25/45 [===============>..............] - ETA: 0s - loss: 2.7608 - accuracy: 0.0731 - precision_2: 0.0000e+00 - recall_2: 0.0000e+00Epoch 2/4\n",
      "45/45 [==============================] - 3s 47ms/step - loss: 2.7492 - accuracy: 0.0742 - precision_2: 0.0000e+00 - recall_2: 0.0000e+00\n",
      "18/45 [===========>..................] - ETA: 0s - loss: 2.7061 - accuracy: 0.1276 - precision_2: 0.0000e+00 - recall_2: 0.0000e+00Epoch 2/4\n",
      "45/45 [==============================] - 3s 47ms/step - loss: 2.7463 - accuracy: 0.0722 - precision_2: 0.0000e+00 - recall_2: 0.0000e+00\n",
      " 3/45 [=>............................] - ETA: 3s - loss: 2.5951 - accuracy: 0.1471 - precision_2: 0.0000e+00 - recall_2: 0.0000e+00Epoch 2/4\n",
      "45/45 [==============================] - 5s 44ms/step - loss: 2.7442 - accuracy: 0.0737 - precision_2: 0.0000e+00 - recall_2: 0.0000e+00\n",
      "Epoch 2/4\n",
      "45/45 [==============================] - 2s 40ms/step - loss: 2.7024 - accuracy: 0.1303 - precision_2: 0.0000e+00 - recall_2: 0.0000e+00\n",
      " 7/45 [===>..........................] - ETA: 0s - loss: 2.7090 - accuracy: 0.0770 - precision_2: 0.0000e+00 - recall_2: 0.0000e+00Epoch 3/4\n",
      "45/45 [==============================] - 2s 40ms/step - loss: 2.6943 - accuracy: 0.0968 - precision_2: 0.0000e+00 - recall_2: 0.0000e+00\n",
      "37/45 [=======================>......] - ETA: 0s - loss: 2.5242 - accuracy: 0.1604 - precision_2: 0.0000e+00 - recall_2: 0.0000e+00Epoch 3/4\n",
      "45/45 [==============================] - 2s 40ms/step - loss: 2.5574 - accuracy: 0.1366 - precision_2: 0.0000e+00 - recall_2: 0.0000e+00\n",
      "Epoch 3/4\n",
      "45/45 [==============================] - 2s 34ms/step - loss: 2.7087 - accuracy: 0.0784 - precision_2: 0.0000e+00 - recall_2: 0.0000e+00\n",
      " 4/45 [=>............................] - ETA: 1s - loss: 2.4884 - accuracy: 0.1455 - precision_2: 0.0000e+00 - recall_2: 0.0000e+00Epoch 3/4\n",
      "45/45 [==============================] - 2s 35ms/step - loss: 2.7031 - accuracy: 0.1010 - precision_2: 0.0000e+00 - recall_2: 0.0000e+00\n",
      "Epoch 3/4\n",
      "45/45 [==============================] - 2s 39ms/step - loss: 2.5162 - accuracy: 0.1609 - precision_2: 0.0000e+00 - recall_2: 0.0000e+00\n",
      "Epoch 3/4\n",
      "45/45 [==============================] - 2s 38ms/step - loss: 2.7039 - accuracy: 0.0817 - precision_2: 0.0000e+00 - recall_2: 0.0000e+00\n",
      "Epoch 3/4\n",
      "45/45 [==============================] - 2s 39ms/step - loss: 2.6916 - accuracy: 0.0965 - precision_2: 0.0000e+00 - recall_2: 0.0000e+00\n",
      "41/45 [==========================>...] - ETA: 0s - loss: 2.6829 - accuracy: 0.1375 - precision_2: 0.0000e+00 - recall_2: 0.0000e+00Epoch 4/4\n",
      "45/45 [==============================] - 2s 40ms/step - loss: 2.6828 - accuracy: 0.1347 - precision_2: 0.0000e+00 - recall_2: 0.0000e+00\n",
      "Epoch 4/4\n",
      "45/45 [==============================] - 2s 40ms/step - loss: 2.4273 - accuracy: 0.1811 - precision_2: 0.0000e+00 - recall_2: 0.0000e+00\n",
      "Epoch 4/4\n",
      "45/45 [==============================] - 2s 39ms/step - loss: 2.6923 - accuracy: 0.1097 - precision_2: 0.0000e+00 - recall_2: 0.0000e+00\n",
      "Epoch 4/4\n",
      "45/45 [==============================] - 2s 40ms/step - loss: 2.4032 - accuracy: 0.1779 - precision_2: 0.0000e+00 - recall_2: 0.0000e+00\n",
      "Epoch 4/4\n",
      "45/45 [==============================] - 2s 45ms/step - loss: 2.6990 - accuracy: 0.0973 - precision_2: 0.0000e+00 - recall_2: 0.0000e+00\n",
      "Epoch 4/4\n",
      "45/45 [==============================] - 2s 43ms/step - loss: 2.6937 - accuracy: 0.1092 - precision_2: 0.0000e+00 - recall_2: 0.0000e+00\n",
      "Epoch 4/4\n",
      "45/45 [==============================] - 2s 40ms/step - loss: 2.6845 - accuracy: 0.0971 - precision_2: 0.0000e+00 - recall_2: 0.0000e+00\n",
      "45/45 [==============================] - 2s 40ms/step - loss: 2.6721 - accuracy: 0.1532 - precision_2: 0.0000e+00 - recall_2: 0.0000e+00\n",
      "45/45 [==============================] - 2s 36ms/step - loss: 2.3152 - accuracy: 0.1983 - precision_2: 0.0000e+00 - recall_2: 0.0000e+00\n",
      "45/45 [==============================] - 2s 40ms/step - loss: 2.3206 - accuracy: 0.2080 - precision_2: 0.0000e+00 - recall_2: 0.0000e+00\n",
      "45/45 [==============================] - 2s 40ms/step - loss: 2.6867 - accuracy: 0.1463 - precision_2: 0.0000e+00 - recall_2: 0.0000e+00\n",
      "13/45 [=======>......................] - ETA: 1s - loss: 2.6877 - accuracy: 0.1145 - precision_2: 0.0000e+00 - recall_2: 0.0000e+00"
     ]
    },
    {
     "name": "stderr",
     "output_type": "stream",
     "text": [
      "2022-08-14 17:31:17.124499: I tensorflow/core/grappler/optimizers/custom_graph_optimizer_registry.cc:113] Plugin optimizer for device_type GPU is enabled.\n",
      "2022-08-14 17:31:17.244575: I tensorflow/core/grappler/optimizers/custom_graph_optimizer_registry.cc:113] Plugin optimizer for device_type GPU is enabled.\n",
      "2022-08-14 17:31:17.247735: I tensorflow/core/grappler/optimizers/custom_graph_optimizer_registry.cc:113] Plugin optimizer for device_type GPU is enabled.\n",
      "2022-08-14 17:31:17.273275: I tensorflow/core/grappler/optimizers/custom_graph_optimizer_registry.cc:113] Plugin optimizer for device_type GPU is enabled.\n"
     ]
    },
    {
     "name": "stdout",
     "output_type": "stream",
     "text": [
      "45/45 [==============================] - 2s 40ms/step - loss: 2.6940 - accuracy: 0.1036 - precision_2: 0.0000e+00 - recall_2: 0.0000e+00\n",
      "23/23 [==============================] - 0s 9ms/step\n",
      "16/23 [===================>..........] - ETA: 0s - loss: 2.6879 - accuracy: 0.1131 - precision_2: 0.0000e+00 - recall_2: 0.0000e+00"
     ]
    },
    {
     "name": "stderr",
     "output_type": "stream",
     "text": [
      "2022-08-14 17:31:17.440607: I tensorflow/core/grappler/optimizers/custom_graph_optimizer_registry.cc:113] Plugin optimizer for device_type GPU is enabled.\n",
      "2022-08-14 17:31:17.446623: I tensorflow/core/grappler/optimizers/custom_graph_optimizer_registry.cc:113] Plugin optimizer for device_type GPU is enabled.\n"
     ]
    },
    {
     "name": "stdout",
     "output_type": "stream",
     "text": [
      "23/23 [==============================] - 0s 8ms/step\n",
      "23/23 [==============================] - 0s 9ms/steposs: 2.6885 - accuracy: 0.1118 - precision_2: 0.0000e+00 - recall_2: 0.0000e+\n",
      "23/23 [==============================] - 0s 4ms/step\n",
      "23/23 [==============================] - 0s 7ms/steposs: 2.6890 - accuracy: 0.1115 - precision_2: 0.0000e+00 - recall_2: 0.0000e+\n",
      "23/23 [==============================] - 0s 9ms/steposs: 2.6886 - accuracy: 0.1113 - precision_2: 0.0000e+00 - recall_2: 0.0000e+\n",
      "34/45 [=====================>........] - ETA: 0s - loss: 2.6892 - accuracy: 0.1099 - precision_2: 0.0000e+00 - recall_2: 0.0000e+00"
     ]
    },
    {
     "name": "stderr",
     "output_type": "stream",
     "text": [
      "2022-08-14 17:31:17.752482: I tensorflow/core/grappler/optimizers/custom_graph_optimizer_registry.cc:113] Plugin optimizer for device_type GPU is enabled.\n"
     ]
    },
    {
     "name": "stdout",
     "output_type": "stream",
     "text": [
      "45/45 [==============================] - 1s 31ms/step - loss: 2.6882 - accuracy: 0.1049 - precision_2: 0.0000e+00 - recall_2: 0.0000e+00\n",
      " 9/45 [=====>........................] - ETA: 1s - loss: 2.9377 - accuracy: 0.0334 - precision_2: 0.0000e+00 - recall_2: 0.0000e+00"
     ]
    },
    {
     "name": "stderr",
     "output_type": "stream",
     "text": [
      "2022-08-14 17:31:18.267931: I tensorflow/core/grappler/optimizers/custom_graph_optimizer_registry.cc:113] Plugin optimizer for device_type GPU is enabled.\n"
     ]
    },
    {
     "name": "stdout",
     "output_type": "stream",
     "text": [
      "23/23 [==============================] - 0s 5ms/steposs: 2.8786 - accuracy: 0.0283 - precision_2: 0.0000e+00 - recall_2: 0.0000e+\n",
      "45/45 [==============================] - 7s 19ms/step - loss: 2.7408 - accuracy: 0.0507 - precision_2: 0.0000e+00 - recall_2: 0.0000e+00\n",
      "Epoch 2/4\n",
      "45/45 [==============================] - 1s 11ms/step - loss: 2.5461 - accuracy: 0.1254 - precision_2: 0.0000e+00 - recall_2: 0.0000e+00\n",
      "Epoch 3/4\n",
      "45/45 [==============================] - 0s 11ms/step - loss: 2.4345 - accuracy: 0.1934 - precision_2: 0.0000e+00 - recall_2: 0.0000e+00\n",
      "Epoch 4/4\n",
      "45/45 [==============================] - 0s 11ms/step - loss: 2.3405 - accuracy: 0.2040 - precision_2: 0.0000e+00 - recall_2: 0.0000e+00\n"
     ]
    },
    {
     "name": "stderr",
     "output_type": "stream",
     "text": [
      "2022-08-14 17:31:20.366204: I tensorflow/core/grappler/optimizers/custom_graph_optimizer_registry.cc:113] Plugin optimizer for device_type GPU is enabled.\n"
     ]
    },
    {
     "name": "stdout",
     "output_type": "stream",
     "text": [
      "23/23 [==============================] - 0s 2ms/step\n",
      "Epoch 1/4\n",
      " 1/67 [..............................] - ETA: 29s - loss: 3.4184 - accuracy: 0.0469 - precision_2: 0.0000e+00 - recall_2: 0.0000e+00"
     ]
    },
    {
     "name": "stderr",
     "output_type": "stream",
     "text": [
      "2022-08-14 17:31:20.946515: I tensorflow/core/grappler/optimizers/custom_graph_optimizer_registry.cc:113] Plugin optimizer for device_type GPU is enabled.\n"
     ]
    },
    {
     "name": "stdout",
     "output_type": "stream",
     "text": [
      "67/67 [==============================] - 1s 14ms/step - loss: 2.8538 - accuracy: 0.0768 - precision_2: 0.0000e+00 - recall_2: 0.0000e+00\n",
      "Epoch 2/4\n",
      "67/67 [==============================] - 1s 12ms/step - loss: 2.5228 - accuracy: 0.1408 - precision_2: 0.0000e+00 - recall_2: 0.0000e+00\n",
      "Epoch 3/4\n",
      "67/67 [==============================] - 1s 12ms/step - loss: 2.3562 - accuracy: 0.1716 - precision_2: 0.0000e+00 - recall_2: 0.0000e+00\n",
      "Epoch 4/4\n",
      "67/67 [==============================] - 1s 12ms/step - loss: 2.2526 - accuracy: 0.1895 - precision_2: 0.0000e+00 - recall_2: 0.0000e+00\n",
      "Best: 0.210888 using {'model__activation': 'linear'}\n",
      "0.076815 (0.004275) with: {'model__activation': 'softmax'}\n",
      "0.150693 (0.021424) with: {'model__activation': 'softplus'}\n",
      "0.198320 (0.010757) with: {'model__activation': 'softsign'}\n",
      "0.167841 (0.024897) with: {'model__activation': 'relu'}\n",
      "0.204076 (0.005657) with: {'model__activation': 'tanh'}\n",
      "0.138654 (0.011666) with: {'model__activation': 'sigmoid'}\n",
      "0.110230 (0.040181) with: {'model__activation': 'hard_sigmoid'}\n",
      "0.210888 (0.002593) with: {'model__activation': 'linear'}\n"
     ]
    }
   ],
   "source": [
    "def create_model(activation='relu'):\n",
    "\t# create model\n",
    "\tmodel = Sequential()\n",
    "\tmodel.add(Dense(32, input_dim = 13, activation = activation, kernel_initializer='he_normal')) # Rectified Linear Unit Activation Function\n",
    "\tmodel.add(Dense(16, activation = activation, kernel_initializer='he_normal'))\n",
    "\tmodel.add(Dense(15, activation = 'softmax')) # Softmax for multi-class classification\n",
    "\t# Compile model here\n",
    "\tmodel.compile(loss='categorical_crossentropy', optimizer='adam', metrics=['accuracy', keras.metrics.Precision(), keras.metrics.Recall()])\n",
    "\treturn model\n",
    "# fix random seed for reproducibility\n",
    "seed = 7\n",
    "tf.random.set_seed(seed)\n",
    "# load dataset\n",
    "# create model\n",
    "model = KerasClassifier(model=create_model, epochs=4, batch_size=256)\n",
    "# define the grid search parameters\n",
    "activation = ['softmax', 'softplus', 'softsign', 'relu', 'tanh', 'sigmoid', 'hard_sigmoid', 'linear']\n",
    "param_grid = dict(model__activation=activation)\n",
    "grid = GridSearchCV(estimator=model, param_grid=param_grid, n_jobs=-1, cv=3)\n",
    "grid_result = grid.fit(X_strat, y_strat)\n",
    "# summarize results\n",
    "print(\"Best: %f using %s\" % (grid_result.best_score_, grid_result.best_params_))\n",
    "means = grid_result.cv_results_['mean_test_score']\n",
    "stds = grid_result.cv_results_['std_test_score']\n",
    "params = grid_result.cv_results_['params']\n",
    "for mean, stdev, param in zip(means, stds, params):\n",
    "    print(\"%f (%f) with: %r\" % (mean, stdev, param))"
   ]
  },
  {
   "cell_type": "code",
   "execution_count": 47,
   "metadata": {},
   "outputs": [
    {
     "name": "stderr",
     "output_type": "stream",
     "text": [
      "2022-08-14 17:34:30.492518: I tensorflow/core/grappler/optimizers/custom_graph_optimizer_registry.cc:113] Plugin optimizer for device_type GPU is enabled.\n",
      "2022-08-14 17:34:30.497786: I tensorflow/core/grappler/optimizers/custom_graph_optimizer_registry.cc:113] Plugin optimizer for device_type GPU is enabled.\n",
      "2022-08-14 17:34:30.519819: I tensorflow/core/grappler/optimizers/custom_graph_optimizer_registry.cc:113] Plugin optimizer for device_type GPU is enabled.\n",
      "2022-08-14 17:34:30.648014: I tensorflow/core/grappler/optimizers/custom_graph_optimizer_registry.cc:113] Plugin optimizer for device_type GPU is enabled.\n",
      "2022-08-14 17:34:30.653696: I tensorflow/core/grappler/optimizers/custom_graph_optimizer_registry.cc:113] Plugin optimizer for device_type GPU is enabled.\n",
      "2022-08-14 17:34:31.496925: I tensorflow/core/grappler/optimizers/custom_graph_optimizer_registry.cc:113] Plugin optimizer for device_type GPU is enabled.\n",
      "2022-08-14 17:34:31.575259: I tensorflow/core/grappler/optimizers/custom_graph_optimizer_registry.cc:113] Plugin optimizer for device_type GPU is enabled.\n",
      "2022-08-14 17:34:31.750728: I tensorflow/core/grappler/optimizers/custom_graph_optimizer_registry.cc:113] Plugin optimizer for device_type GPU is enabled.\n",
      "2022-08-14 17:34:37.214208: I tensorflow/core/grappler/optimizers/custom_graph_optimizer_registry.cc:113] Plugin optimizer for device_type GPU is enabled.\n",
      "2022-08-14 17:34:38.505827: I tensorflow/core/grappler/optimizers/custom_graph_optimizer_registry.cc:113] Plugin optimizer for device_type GPU is enabled.\n",
      "2022-08-14 17:34:39.468536: I tensorflow/core/grappler/optimizers/custom_graph_optimizer_registry.cc:113] Plugin optimizer for device_type GPU is enabled.\n",
      "2022-08-14 17:34:39.539898: I tensorflow/core/grappler/optimizers/custom_graph_optimizer_registry.cc:113] Plugin optimizer for device_type GPU is enabled.\n",
      "2022-08-14 17:34:40.757130: I tensorflow/core/grappler/optimizers/custom_graph_optimizer_registry.cc:113] Plugin optimizer for device_type GPU is enabled.\n",
      "2022-08-14 17:34:41.177260: I tensorflow/core/grappler/optimizers/custom_graph_optimizer_registry.cc:113] Plugin optimizer for device_type GPU is enabled.\n",
      "2022-08-14 17:34:41.673442: I tensorflow/core/grappler/optimizers/custom_graph_optimizer_registry.cc:113] Plugin optimizer for device_type GPU is enabled.\n",
      "2022-08-14 17:34:41.713237: I tensorflow/core/grappler/optimizers/custom_graph_optimizer_registry.cc:113] Plugin optimizer for device_type GPU is enabled.\n",
      "2022-08-14 17:34:41.800848: I tensorflow/core/grappler/optimizers/custom_graph_optimizer_registry.cc:113] Plugin optimizer for device_type GPU is enabled.\n",
      "2022-08-14 17:34:41.812245: I tensorflow/core/grappler/optimizers/custom_graph_optimizer_registry.cc:113] Plugin optimizer for device_type GPU is enabled.\n",
      "2022-08-14 17:34:41.943418: I tensorflow/core/grappler/optimizers/custom_graph_optimizer_registry.cc:113] Plugin optimizer for device_type GPU is enabled.\n",
      "2022-08-14 17:34:42.482834: I tensorflow/core/grappler/optimizers/custom_graph_optimizer_registry.cc:113] Plugin optimizer for device_type GPU is enabled.\n",
      "2022-08-14 17:34:44.260702: I tensorflow/core/grappler/optimizers/custom_graph_optimizer_registry.cc:113] Plugin optimizer for device_type GPU is enabled.\n",
      "2022-08-14 17:34:44.453713: I tensorflow/core/grappler/optimizers/custom_graph_optimizer_registry.cc:113] Plugin optimizer for device_type GPU is enabled.\n",
      "2022-08-14 17:34:44.463754: I tensorflow/core/grappler/optimizers/custom_graph_optimizer_registry.cc:113] Plugin optimizer for device_type GPU is enabled.\n",
      "2022-08-14 17:34:48.270691: I tensorflow/core/grappler/optimizers/custom_graph_optimizer_registry.cc:113] Plugin optimizer for device_type GPU is enabled.\n",
      "2022-08-14 17:34:48.510071: I tensorflow/core/grappler/optimizers/custom_graph_optimizer_registry.cc:113] Plugin optimizer for device_type GPU is enabled.\n",
      "2022-08-14 17:34:48.558966: I tensorflow/core/grappler/optimizers/custom_graph_optimizer_registry.cc:113] Plugin optimizer for device_type GPU is enabled.\n",
      "2022-08-14 17:34:49.698194: I tensorflow/core/grappler/optimizers/custom_graph_optimizer_registry.cc:113] Plugin optimizer for device_type GPU is enabled.\n",
      "2022-08-14 17:34:49.969978: I tensorflow/core/grappler/optimizers/custom_graph_optimizer_registry.cc:113] Plugin optimizer for device_type GPU is enabled.\n",
      "2022-08-14 17:34:50.368732: I tensorflow/core/grappler/optimizers/custom_graph_optimizer_registry.cc:113] Plugin optimizer for device_type GPU is enabled.\n",
      "2022-08-14 17:34:50.389888: I tensorflow/core/grappler/optimizers/custom_graph_optimizer_registry.cc:113] Plugin optimizer for device_type GPU is enabled.\n",
      "2022-08-14 17:34:50.405216: I tensorflow/core/grappler/optimizers/custom_graph_optimizer_registry.cc:113] Plugin optimizer for device_type GPU is enabled.\n",
      "2022-08-14 17:34:50.414372: I tensorflow/core/grappler/optimizers/custom_graph_optimizer_registry.cc:113] Plugin optimizer for device_type GPU is enabled.\n",
      "2022-08-14 17:34:51.387665: I tensorflow/core/grappler/optimizers/custom_graph_optimizer_registry.cc:113] Plugin optimizer for device_type GPU is enabled.\n",
      "2022-08-14 17:34:51.490956: I tensorflow/core/grappler/optimizers/custom_graph_optimizer_registry.cc:113] Plugin optimizer for device_type GPU is enabled.\n",
      "2022-08-14 17:34:52.336887: I tensorflow/core/grappler/optimizers/custom_graph_optimizer_registry.cc:113] Plugin optimizer for device_type GPU is enabled.\n",
      "2022-08-14 17:34:55.160480: I tensorflow/core/grappler/optimizers/custom_graph_optimizer_registry.cc:113] Plugin optimizer for device_type GPU is enabled.\n",
      "2022-08-14 17:34:55.476975: I tensorflow/core/grappler/optimizers/custom_graph_optimizer_registry.cc:113] Plugin optimizer for device_type GPU is enabled.\n",
      "2022-08-14 17:34:55.502140: I tensorflow/core/grappler/optimizers/custom_graph_optimizer_registry.cc:113] Plugin optimizer for device_type GPU is enabled.\n",
      "2022-08-14 17:34:55.557612: I tensorflow/core/grappler/optimizers/custom_graph_optimizer_registry.cc:113] Plugin optimizer for device_type GPU is enabled.\n",
      "2022-08-14 17:34:55.654568: I tensorflow/core/grappler/optimizers/custom_graph_optimizer_registry.cc:113] Plugin optimizer for device_type GPU is enabled.\n",
      "2022-08-14 17:34:56.358752: I tensorflow/core/grappler/optimizers/custom_graph_optimizer_registry.cc:113] Plugin optimizer for device_type GPU is enabled.\n",
      "2022-08-14 17:34:57.951158: I tensorflow/core/grappler/optimizers/custom_graph_optimizer_registry.cc:113] Plugin optimizer for device_type GPU is enabled.\n",
      "2022-08-14 17:34:58.595711: I tensorflow/core/grappler/optimizers/custom_graph_optimizer_registry.cc:113] Plugin optimizer for device_type GPU is enabled.\n"
     ]
    },
    {
     "name": "stdout",
     "output_type": "stream",
     "text": [
      "Best: 0.197322 using {'model__neurons': 15}\n",
      "0.101774 (0.028882) with: {'model__neurons': 1}\n",
      "0.168076 (0.027085) with: {'model__neurons': 5}\n",
      "0.174301 (0.027143) with: {'model__neurons': 10}\n",
      "0.197322 (0.011232) with: {'model__neurons': 15}\n",
      "0.191978 (0.008536) with: {'model__neurons': 20}\n",
      "0.187456 (0.010504) with: {'model__neurons': 25}\n",
      "0.185753 (0.007202) with: {'model__neurons': 30}\n"
     ]
    }
   ],
   "source": [
    "def create_model(neurons):\n",
    "\t# create model\n",
    "\tmodel = Sequential()\n",
    "\tmodel.add(Dense(neurons, input_dim = 13, activation = 'linear', kernel_initializer='he_normal')) # Rectified Linear Unit Activation Function\n",
    "\tmodel.add(Dense(16, activation = 'linear', kernel_initializer='he_normal'))\n",
    "\tmodel.add(Dense(15, activation = 'softmax')) # Softmax for multi-class classification\n",
    "\t# Compile model here\n",
    "\tmodel.compile(loss='categorical_crossentropy', optimizer='adam', metrics=['accuracy', keras.metrics.Precision(), keras.metrics.Recall()])\n",
    "\treturn model\n",
    "# fix random seed for reproducibility\n",
    "seed = 7\n",
    "tf.random.set_seed(seed)\n",
    "# load dataset\n",
    "model = KerasClassifier(model=create_model, epochs=4, batch_size=256, verbose=0)\n",
    "# define the grid search parameters\n",
    "neurons = [1, 5, 10, 15, 20, 25, 30]\n",
    "param_grid = dict(model__neurons=neurons)\n",
    "grid = GridSearchCV(estimator=model, param_grid=param_grid, n_jobs=-1, cv=3)\n",
    "grid_result = grid.fit(X_strat, y_strat)\n",
    "# summarize results\n",
    "print(\"Best: %f using %s\" % (grid_result.best_score_, grid_result.best_params_))\n",
    "means = grid_result.cv_results_['mean_test_score']\n",
    "stds = grid_result.cv_results_['std_test_score']\n",
    "params = grid_result.cv_results_['params']\n",
    "for mean, stdev, param in zip(means, stds, params):\n",
    "    print(\"%f (%f) with: %r\" % (mean, stdev, param))"
   ]
  },
  {
   "cell_type": "code",
   "execution_count": 50,
   "metadata": {},
   "outputs": [
    {
     "name": "stderr",
     "output_type": "stream",
     "text": [
      "2022-08-14 17:37:15.887625: I tensorflow/core/grappler/optimizers/custom_graph_optimizer_registry.cc:113] Plugin optimizer for device_type GPU is enabled.\n",
      "2022-08-14 17:37:15.967949: I tensorflow/core/grappler/optimizers/custom_graph_optimizer_registry.cc:113] Plugin optimizer for device_type GPU is enabled.\n",
      "2022-08-14 17:37:15.978163: I tensorflow/core/grappler/optimizers/custom_graph_optimizer_registry.cc:113] Plugin optimizer for device_type GPU is enabled.\n",
      "2022-08-14 17:37:16.254784: I tensorflow/core/grappler/optimizers/custom_graph_optimizer_registry.cc:113] Plugin optimizer for device_type GPU is enabled.\n",
      "2022-08-14 17:37:17.464988: I tensorflow/core/grappler/optimizers/custom_graph_optimizer_registry.cc:113] Plugin optimizer for device_type GPU is enabled.\n",
      "2022-08-14 17:37:17.466015: I tensorflow/core/grappler/optimizers/custom_graph_optimizer_registry.cc:113] Plugin optimizer for device_type GPU is enabled.\n",
      "2022-08-14 17:37:17.560570: I tensorflow/core/grappler/optimizers/custom_graph_optimizer_registry.cc:113] Plugin optimizer for device_type GPU is enabled.\n",
      "2022-08-14 17:37:17.628340: I tensorflow/core/grappler/optimizers/custom_graph_optimizer_registry.cc:113] Plugin optimizer for device_type GPU is enabled.\n",
      "2022-08-14 17:37:24.018001: I tensorflow/core/grappler/optimizers/custom_graph_optimizer_registry.cc:113] Plugin optimizer for device_type GPU is enabled.\n",
      "2022-08-14 17:37:24.192124: I tensorflow/core/grappler/optimizers/custom_graph_optimizer_registry.cc:113] Plugin optimizer for device_type GPU is enabled.\n",
      "2022-08-14 17:37:24.504702: I tensorflow/core/grappler/optimizers/custom_graph_optimizer_registry.cc:113] Plugin optimizer for device_type GPU is enabled.\n",
      "2022-08-14 17:37:24.660991: I tensorflow/core/grappler/optimizers/custom_graph_optimizer_registry.cc:113] Plugin optimizer for device_type GPU is enabled.\n",
      "2022-08-14 17:37:26.037668: I tensorflow/core/grappler/optimizers/custom_graph_optimizer_registry.cc:113] Plugin optimizer for device_type GPU is enabled.\n",
      "2022-08-14 17:37:27.065735: I tensorflow/core/grappler/optimizers/custom_graph_optimizer_registry.cc:113] Plugin optimizer for device_type GPU is enabled.\n",
      "2022-08-14 17:37:27.692177: I tensorflow/core/grappler/optimizers/custom_graph_optimizer_registry.cc:113] Plugin optimizer for device_type GPU is enabled.\n",
      "2022-08-14 17:37:27.749257: I tensorflow/core/grappler/optimizers/custom_graph_optimizer_registry.cc:113] Plugin optimizer for device_type GPU is enabled.\n",
      "2022-08-14 17:37:27.749386: I tensorflow/core/grappler/optimizers/custom_graph_optimizer_registry.cc:113] Plugin optimizer for device_type GPU is enabled.\n",
      "2022-08-14 17:37:27.807923: I tensorflow/core/grappler/optimizers/custom_graph_optimizer_registry.cc:113] Plugin optimizer for device_type GPU is enabled.\n",
      "2022-08-14 17:37:27.847084: I tensorflow/core/grappler/optimizers/custom_graph_optimizer_registry.cc:113] Plugin optimizer for device_type GPU is enabled.\n",
      "2022-08-14 17:37:28.011425: I tensorflow/core/grappler/optimizers/custom_graph_optimizer_registry.cc:113] Plugin optimizer for device_type GPU is enabled.\n",
      "2022-08-14 17:37:29.672392: I tensorflow/core/grappler/optimizers/custom_graph_optimizer_registry.cc:113] Plugin optimizer for device_type GPU is enabled.\n",
      "2022-08-14 17:37:33.251263: I tensorflow/core/grappler/optimizers/custom_graph_optimizer_registry.cc:113] Plugin optimizer for device_type GPU is enabled.\n",
      "2022-08-14 17:37:33.353848: I tensorflow/core/grappler/optimizers/custom_graph_optimizer_registry.cc:113] Plugin optimizer for device_type GPU is enabled.\n",
      "2022-08-14 17:37:33.664845: I tensorflow/core/grappler/optimizers/custom_graph_optimizer_registry.cc:113] Plugin optimizer for device_type GPU is enabled.\n",
      "2022-08-14 17:37:33.678701: I tensorflow/core/grappler/optimizers/custom_graph_optimizer_registry.cc:113] Plugin optimizer for device_type GPU is enabled.\n",
      "2022-08-14 17:37:33.771297: I tensorflow/core/grappler/optimizers/custom_graph_optimizer_registry.cc:113] Plugin optimizer for device_type GPU is enabled.\n",
      "2022-08-14 17:37:33.810817: I tensorflow/core/grappler/optimizers/custom_graph_optimizer_registry.cc:113] Plugin optimizer for device_type GPU is enabled.\n",
      "2022-08-14 17:37:34.282090: I tensorflow/core/grappler/optimizers/custom_graph_optimizer_registry.cc:113] Plugin optimizer for device_type GPU is enabled.\n",
      "2022-08-14 17:37:34.868364: I tensorflow/core/grappler/optimizers/custom_graph_optimizer_registry.cc:113] Plugin optimizer for device_type GPU is enabled.\n",
      "2022-08-14 17:37:35.592606: I tensorflow/core/grappler/optimizers/custom_graph_optimizer_registry.cc:113] Plugin optimizer for device_type GPU is enabled.\n",
      "2022-08-14 17:37:35.998133: I tensorflow/core/grappler/optimizers/custom_graph_optimizer_registry.cc:113] Plugin optimizer for device_type GPU is enabled.\n",
      "2022-08-14 17:37:36.643089: I tensorflow/core/grappler/optimizers/custom_graph_optimizer_registry.cc:113] Plugin optimizer for device_type GPU is enabled.\n",
      "2022-08-14 17:37:39.441991: I tensorflow/core/grappler/optimizers/custom_graph_optimizer_registry.cc:113] Plugin optimizer for device_type GPU is enabled.\n",
      "2022-08-14 17:37:40.661270: I tensorflow/core/grappler/optimizers/custom_graph_optimizer_registry.cc:113] Plugin optimizer for device_type GPU is enabled.\n",
      "2022-08-14 17:37:41.189302: I tensorflow/core/grappler/optimizers/custom_graph_optimizer_registry.cc:113] Plugin optimizer for device_type GPU is enabled.\n",
      "2022-08-14 17:37:41.551399: I tensorflow/core/grappler/optimizers/custom_graph_optimizer_registry.cc:113] Plugin optimizer for device_type GPU is enabled.\n",
      "2022-08-14 17:37:42.234682: I tensorflow/core/grappler/optimizers/custom_graph_optimizer_registry.cc:113] Plugin optimizer for device_type GPU is enabled.\n",
      "2022-08-14 17:37:43.182644: I tensorflow/core/grappler/optimizers/custom_graph_optimizer_registry.cc:113] Plugin optimizer for device_type GPU is enabled.\n",
      "2022-08-14 17:37:43.305896: I tensorflow/core/grappler/optimizers/custom_graph_optimizer_registry.cc:113] Plugin optimizer for device_type GPU is enabled.\n",
      "2022-08-14 17:37:43.320952: I tensorflow/core/grappler/optimizers/custom_graph_optimizer_registry.cc:113] Plugin optimizer for device_type GPU is enabled.\n",
      "2022-08-14 17:37:43.533776: I tensorflow/core/grappler/optimizers/custom_graph_optimizer_registry.cc:113] Plugin optimizer for device_type GPU is enabled.\n",
      "2022-08-14 17:37:43.779200: I tensorflow/core/grappler/optimizers/custom_graph_optimizer_registry.cc:113] Plugin optimizer for device_type GPU is enabled.\n",
      "2022-08-14 17:37:43.955251: I tensorflow/core/grappler/optimizers/custom_graph_optimizer_registry.cc:113] Plugin optimizer for device_type GPU is enabled.\n",
      "2022-08-14 17:37:45.211085: I tensorflow/core/grappler/optimizers/custom_graph_optimizer_registry.cc:113] Plugin optimizer for device_type GPU is enabled.\n",
      "2022-08-14 17:37:45.982486: I tensorflow/core/grappler/optimizers/custom_graph_optimizer_registry.cc:113] Plugin optimizer for device_type GPU is enabled.\n",
      "2022-08-14 17:37:46.581614: I tensorflow/core/grappler/optimizers/custom_graph_optimizer_registry.cc:113] Plugin optimizer for device_type GPU is enabled.\n",
      "2022-08-14 17:37:46.963829: I tensorflow/core/grappler/optimizers/custom_graph_optimizer_registry.cc:113] Plugin optimizer for device_type GPU is enabled.\n",
      "2022-08-14 17:37:50.816255: I tensorflow/core/grappler/optimizers/custom_graph_optimizer_registry.cc:113] Plugin optimizer for device_type GPU is enabled.\n",
      "2022-08-14 17:37:50.880648: I tensorflow/core/grappler/optimizers/custom_graph_optimizer_registry.cc:113] Plugin optimizer for device_type GPU is enabled.\n",
      "2022-08-14 17:37:50.982567: I tensorflow/core/grappler/optimizers/custom_graph_optimizer_registry.cc:113] Plugin optimizer for device_type GPU is enabled.\n",
      "2022-08-14 17:37:51.004743: I tensorflow/core/grappler/optimizers/custom_graph_optimizer_registry.cc:113] Plugin optimizer for device_type GPU is enabled.\n",
      "2022-08-14 17:37:52.054476: I tensorflow/core/grappler/optimizers/custom_graph_optimizer_registry.cc:113] Plugin optimizer for device_type GPU is enabled.\n",
      "2022-08-14 17:37:53.699405: I tensorflow/core/grappler/optimizers/custom_graph_optimizer_registry.cc:113] Plugin optimizer for device_type GPU is enabled.\n",
      "2022-08-14 17:37:54.063193: I tensorflow/core/grappler/optimizers/custom_graph_optimizer_registry.cc:113] Plugin optimizer for device_type GPU is enabled.\n",
      "2022-08-14 17:37:54.834605: I tensorflow/core/grappler/optimizers/custom_graph_optimizer_registry.cc:113] Plugin optimizer for device_type GPU is enabled.\n",
      "2022-08-14 17:37:55.047523: I tensorflow/core/grappler/optimizers/custom_graph_optimizer_registry.cc:113] Plugin optimizer for device_type GPU is enabled.\n",
      "2022-08-14 17:37:55.140889: I tensorflow/core/grappler/optimizers/custom_graph_optimizer_registry.cc:113] Plugin optimizer for device_type GPU is enabled.\n",
      "2022-08-14 17:37:55.223088: I tensorflow/core/grappler/optimizers/custom_graph_optimizer_registry.cc:113] Plugin optimizer for device_type GPU is enabled.\n",
      "2022-08-14 17:37:55.288287: I tensorflow/core/grappler/optimizers/custom_graph_optimizer_registry.cc:113] Plugin optimizer for device_type GPU is enabled.\n",
      "2022-08-14 17:37:56.109412: I tensorflow/core/grappler/optimizers/custom_graph_optimizer_registry.cc:113] Plugin optimizer for device_type GPU is enabled.\n",
      "2022-08-14 17:37:58.977925: I tensorflow/core/grappler/optimizers/custom_graph_optimizer_registry.cc:113] Plugin optimizer for device_type GPU is enabled.\n",
      "2022-08-14 17:38:01.322352: I tensorflow/core/grappler/optimizers/custom_graph_optimizer_registry.cc:113] Plugin optimizer for device_type GPU is enabled.\n",
      "2022-08-14 17:38:01.685057: I tensorflow/core/grappler/optimizers/custom_graph_optimizer_registry.cc:113] Plugin optimizer for device_type GPU is enabled.\n",
      "2022-08-14 17:38:01.946611: I tensorflow/core/grappler/optimizers/custom_graph_optimizer_registry.cc:113] Plugin optimizer for device_type GPU is enabled.\n",
      "2022-08-14 17:38:02.364414: I tensorflow/core/grappler/optimizers/custom_graph_optimizer_registry.cc:113] Plugin optimizer for device_type GPU is enabled.\n",
      "2022-08-14 17:38:02.421194: I tensorflow/core/grappler/optimizers/custom_graph_optimizer_registry.cc:113] Plugin optimizer for device_type GPU is enabled.\n",
      "2022-08-14 17:38:02.761391: I tensorflow/core/grappler/optimizers/custom_graph_optimizer_registry.cc:113] Plugin optimizer for device_type GPU is enabled.\n",
      "2022-08-14 17:38:03.317187: I tensorflow/core/grappler/optimizers/custom_graph_optimizer_registry.cc:113] Plugin optimizer for device_type GPU is enabled.\n",
      "2022-08-14 17:38:04.336251: I tensorflow/core/grappler/optimizers/custom_graph_optimizer_registry.cc:113] Plugin optimizer for device_type GPU is enabled.\n",
      "2022-08-14 17:38:04.880191: I tensorflow/core/grappler/optimizers/custom_graph_optimizer_registry.cc:113] Plugin optimizer for device_type GPU is enabled.\n",
      "2022-08-14 17:38:04.958908: I tensorflow/core/grappler/optimizers/custom_graph_optimizer_registry.cc:113] Plugin optimizer for device_type GPU is enabled.\n",
      "2022-08-14 17:38:05.045179: I tensorflow/core/grappler/optimizers/custom_graph_optimizer_registry.cc:113] Plugin optimizer for device_type GPU is enabled.\n",
      "2022-08-14 17:38:05.143849: I tensorflow/core/grappler/optimizers/custom_graph_optimizer_registry.cc:113] Plugin optimizer for device_type GPU is enabled.\n",
      "2022-08-14 17:38:10.115861: I tensorflow/core/grappler/optimizers/custom_graph_optimizer_registry.cc:113] Plugin optimizer for device_type GPU is enabled.\n",
      "2022-08-14 17:38:10.285996: I tensorflow/core/grappler/optimizers/custom_graph_optimizer_registry.cc:113] Plugin optimizer for device_type GPU is enabled.\n",
      "2022-08-14 17:38:11.252490: I tensorflow/core/grappler/optimizers/custom_graph_optimizer_registry.cc:113] Plugin optimizer for device_type GPU is enabled.\n",
      "2022-08-14 17:38:11.928689: I tensorflow/core/grappler/optimizers/custom_graph_optimizer_registry.cc:113] Plugin optimizer for device_type GPU is enabled.\n",
      "2022-08-14 17:38:12.977644: I tensorflow/core/grappler/optimizers/custom_graph_optimizer_registry.cc:113] Plugin optimizer for device_type GPU is enabled.\n",
      "2022-08-14 17:38:13.136679: I tensorflow/core/grappler/optimizers/custom_graph_optimizer_registry.cc:113] Plugin optimizer for device_type GPU is enabled.\n",
      "2022-08-14 17:38:13.391629: I tensorflow/core/grappler/optimizers/custom_graph_optimizer_registry.cc:113] Plugin optimizer for device_type GPU is enabled.\n",
      "2022-08-14 17:38:13.577364: I tensorflow/core/grappler/optimizers/custom_graph_optimizer_registry.cc:113] Plugin optimizer for device_type GPU is enabled.\n",
      "2022-08-14 17:38:13.599304: I tensorflow/core/grappler/optimizers/custom_graph_optimizer_registry.cc:113] Plugin optimizer for device_type GPU is enabled.\n",
      "2022-08-14 17:38:13.833712: I tensorflow/core/grappler/optimizers/custom_graph_optimizer_registry.cc:113] Plugin optimizer for device_type GPU is enabled.\n",
      "2022-08-14 17:38:13.970823: I tensorflow/core/grappler/optimizers/custom_graph_optimizer_registry.cc:113] Plugin optimizer for device_type GPU is enabled.\n",
      "2022-08-14 17:38:15.065009: I tensorflow/core/grappler/optimizers/custom_graph_optimizer_registry.cc:113] Plugin optimizer for device_type GPU is enabled.\n",
      "2022-08-14 17:38:15.127651: I tensorflow/core/grappler/optimizers/custom_graph_optimizer_registry.cc:113] Plugin optimizer for device_type GPU is enabled.\n",
      "2022-08-14 17:38:15.232864: I tensorflow/core/grappler/optimizers/custom_graph_optimizer_registry.cc:113] Plugin optimizer for device_type GPU is enabled.\n",
      "2022-08-14 17:38:19.250539: I tensorflow/core/grappler/optimizers/custom_graph_optimizer_registry.cc:113] Plugin optimizer for device_type GPU is enabled.\n",
      "2022-08-14 17:38:21.050624: I tensorflow/core/grappler/optimizers/custom_graph_optimizer_registry.cc:113] Plugin optimizer for device_type GPU is enabled.\n",
      "2022-08-14 17:38:22.788819: I tensorflow/core/grappler/optimizers/custom_graph_optimizer_registry.cc:113] Plugin optimizer for device_type GPU is enabled.\n",
      "2022-08-14 17:38:23.488468: I tensorflow/core/grappler/optimizers/custom_graph_optimizer_registry.cc:113] Plugin optimizer for device_type GPU is enabled.\n",
      "2022-08-14 17:38:24.036462: I tensorflow/core/grappler/optimizers/custom_graph_optimizer_registry.cc:113] Plugin optimizer for device_type GPU is enabled.\n",
      "2022-08-14 17:38:25.072189: I tensorflow/core/grappler/optimizers/custom_graph_optimizer_registry.cc:113] Plugin optimizer for device_type GPU is enabled.\n",
      "2022-08-14 17:38:25.256835: I tensorflow/core/grappler/optimizers/custom_graph_optimizer_registry.cc:113] Plugin optimizer for device_type GPU is enabled.\n",
      "2022-08-14 17:38:25.814617: I tensorflow/core/grappler/optimizers/custom_graph_optimizer_registry.cc:113] Plugin optimizer for device_type GPU is enabled.\n",
      "2022-08-14 17:38:26.967384: I tensorflow/core/grappler/optimizers/custom_graph_optimizer_registry.cc:113] Plugin optimizer for device_type GPU is enabled.\n",
      "2022-08-14 17:38:27.044098: I tensorflow/core/grappler/optimizers/custom_graph_optimizer_registry.cc:113] Plugin optimizer for device_type GPU is enabled.\n",
      "2022-08-14 17:38:28.087067: I tensorflow/core/grappler/optimizers/custom_graph_optimizer_registry.cc:113] Plugin optimizer for device_type GPU is enabled.\n",
      "2022-08-14 17:38:29.918329: I tensorflow/core/grappler/optimizers/custom_graph_optimizer_registry.cc:113] Plugin optimizer for device_type GPU is enabled.\n",
      "2022-08-14 17:38:31.136972: I tensorflow/core/grappler/optimizers/custom_graph_optimizer_registry.cc:113] Plugin optimizer for device_type GPU is enabled.\n",
      "2022-08-14 17:38:31.179034: I tensorflow/core/grappler/optimizers/custom_graph_optimizer_registry.cc:113] Plugin optimizer for device_type GPU is enabled.\n",
      "2022-08-14 17:38:31.519991: I tensorflow/core/grappler/optimizers/custom_graph_optimizer_registry.cc:113] Plugin optimizer for device_type GPU is enabled.\n",
      "2022-08-14 17:38:31.617213: I tensorflow/core/grappler/optimizers/custom_graph_optimizer_registry.cc:113] Plugin optimizer for device_type GPU is enabled.\n",
      "2022-08-14 17:38:35.361264: I tensorflow/core/grappler/optimizers/custom_graph_optimizer_registry.cc:113] Plugin optimizer for device_type GPU is enabled.\n",
      "2022-08-14 17:38:36.290774: I tensorflow/core/grappler/optimizers/custom_graph_optimizer_registry.cc:113] Plugin optimizer for device_type GPU is enabled.\n",
      "2022-08-14 17:38:37.141077: I tensorflow/core/grappler/optimizers/custom_graph_optimizer_registry.cc:113] Plugin optimizer for device_type GPU is enabled.\n",
      "2022-08-14 17:38:37.852809: I tensorflow/core/grappler/optimizers/custom_graph_optimizer_registry.cc:113] Plugin optimizer for device_type GPU is enabled.\n",
      "2022-08-14 17:38:40.497127: I tensorflow/core/grappler/optimizers/custom_graph_optimizer_registry.cc:113] Plugin optimizer for device_type GPU is enabled.\n",
      "2022-08-14 17:38:41.362063: I tensorflow/core/grappler/optimizers/custom_graph_optimizer_registry.cc:113] Plugin optimizer for device_type GPU is enabled.\n",
      "2022-08-14 17:38:41.509617: I tensorflow/core/grappler/optimizers/custom_graph_optimizer_registry.cc:113] Plugin optimizer for device_type GPU is enabled.\n",
      "2022-08-14 17:38:42.135123: I tensorflow/core/grappler/optimizers/custom_graph_optimizer_registry.cc:113] Plugin optimizer for device_type GPU is enabled.\n",
      "2022-08-14 17:38:42.281049: I tensorflow/core/grappler/optimizers/custom_graph_optimizer_registry.cc:113] Plugin optimizer for device_type GPU is enabled.\n",
      "2022-08-14 17:38:42.302129: I tensorflow/core/grappler/optimizers/custom_graph_optimizer_registry.cc:113] Plugin optimizer for device_type GPU is enabled.\n",
      "2022-08-14 17:38:43.140634: I tensorflow/core/grappler/optimizers/custom_graph_optimizer_registry.cc:113] Plugin optimizer for device_type GPU is enabled.\n",
      "2022-08-14 17:38:45.503329: I tensorflow/core/grappler/optimizers/custom_graph_optimizer_registry.cc:113] Plugin optimizer for device_type GPU is enabled.\n",
      "2022-08-14 17:38:46.287796: I tensorflow/core/grappler/optimizers/custom_graph_optimizer_registry.cc:113] Plugin optimizer for device_type GPU is enabled.\n",
      "2022-08-14 17:38:46.445263: I tensorflow/core/grappler/optimizers/custom_graph_optimizer_registry.cc:113] Plugin optimizer for device_type GPU is enabled.\n",
      "2022-08-14 17:38:46.717556: I tensorflow/core/grappler/optimizers/custom_graph_optimizer_registry.cc:113] Plugin optimizer for device_type GPU is enabled.\n",
      "2022-08-14 17:38:47.844483: I tensorflow/core/grappler/optimizers/custom_graph_optimizer_registry.cc:113] Plugin optimizer for device_type GPU is enabled.\n",
      "2022-08-14 17:38:52.056680: I tensorflow/core/grappler/optimizers/custom_graph_optimizer_registry.cc:113] Plugin optimizer for device_type GPU is enabled.\n",
      "2022-08-14 17:38:53.237182: I tensorflow/core/grappler/optimizers/custom_graph_optimizer_registry.cc:113] Plugin optimizer for device_type GPU is enabled.\n",
      "2022-08-14 17:38:53.648393: I tensorflow/core/grappler/optimizers/custom_graph_optimizer_registry.cc:113] Plugin optimizer for device_type GPU is enabled.\n",
      "2022-08-14 17:38:55.326045: I tensorflow/core/grappler/optimizers/custom_graph_optimizer_registry.cc:113] Plugin optimizer for device_type GPU is enabled.\n",
      "2022-08-14 17:38:58.281838: I tensorflow/core/grappler/optimizers/custom_graph_optimizer_registry.cc:113] Plugin optimizer for device_type GPU is enabled.\n",
      "2022-08-14 17:38:58.377962: I tensorflow/core/grappler/optimizers/custom_graph_optimizer_registry.cc:113] Plugin optimizer for device_type GPU is enabled.\n",
      "2022-08-14 17:38:58.387633: I tensorflow/core/grappler/optimizers/custom_graph_optimizer_registry.cc:113] Plugin optimizer for device_type GPU is enabled.\n",
      "2022-08-14 17:38:59.416887: I tensorflow/core/grappler/optimizers/custom_graph_optimizer_registry.cc:113] Plugin optimizer for device_type GPU is enabled.\n",
      "2022-08-14 17:38:59.529762: I tensorflow/core/grappler/optimizers/custom_graph_optimizer_registry.cc:113] Plugin optimizer for device_type GPU is enabled.\n",
      "2022-08-14 17:39:00.110034: I tensorflow/core/grappler/optimizers/custom_graph_optimizer_registry.cc:113] Plugin optimizer for device_type GPU is enabled.\n",
      "2022-08-14 17:39:00.118778: I tensorflow/core/grappler/optimizers/custom_graph_optimizer_registry.cc:113] Plugin optimizer for device_type GPU is enabled.\n",
      "2022-08-14 17:39:01.625676: I tensorflow/core/grappler/optimizers/custom_graph_optimizer_registry.cc:113] Plugin optimizer for device_type GPU is enabled.\n",
      "2022-08-14 17:39:03.772710: I tensorflow/core/grappler/optimizers/custom_graph_optimizer_registry.cc:113] Plugin optimizer for device_type GPU is enabled.\n",
      "2022-08-14 17:39:06.545654: I tensorflow/core/grappler/optimizers/custom_graph_optimizer_registry.cc:113] Plugin optimizer for device_type GPU is enabled.\n",
      "2022-08-14 17:39:06.877521: I tensorflow/core/grappler/optimizers/custom_graph_optimizer_registry.cc:113] Plugin optimizer for device_type GPU is enabled.\n",
      "2022-08-14 17:39:07.274869: I tensorflow/core/grappler/optimizers/custom_graph_optimizer_registry.cc:113] Plugin optimizer for device_type GPU is enabled.\n",
      "2022-08-14 17:39:11.105514: I tensorflow/core/grappler/optimizers/custom_graph_optimizer_registry.cc:113] Plugin optimizer for device_type GPU is enabled.\n",
      "2022-08-14 17:39:11.979642: I tensorflow/core/grappler/optimizers/custom_graph_optimizer_registry.cc:113] Plugin optimizer for device_type GPU is enabled.\n",
      "2022-08-14 17:39:12.962909: I tensorflow/core/grappler/optimizers/custom_graph_optimizer_registry.cc:113] Plugin optimizer for device_type GPU is enabled.\n",
      "2022-08-14 17:39:14.121583: I tensorflow/core/grappler/optimizers/custom_graph_optimizer_registry.cc:113] Plugin optimizer for device_type GPU is enabled.\n",
      "2022-08-14 17:39:14.478533: I tensorflow/core/grappler/optimizers/custom_graph_optimizer_registry.cc:113] Plugin optimizer for device_type GPU is enabled.\n",
      "2022-08-14 17:39:17.028374: I tensorflow/core/grappler/optimizers/custom_graph_optimizer_registry.cc:113] Plugin optimizer for device_type GPU is enabled.\n",
      "2022-08-14 17:39:17.180834: I tensorflow/core/grappler/optimizers/custom_graph_optimizer_registry.cc:113] Plugin optimizer for device_type GPU is enabled.\n",
      "2022-08-14 17:39:17.812650: I tensorflow/core/grappler/optimizers/custom_graph_optimizer_registry.cc:113] Plugin optimizer for device_type GPU is enabled.\n",
      "2022-08-14 17:39:17.853724: I tensorflow/core/grappler/optimizers/custom_graph_optimizer_registry.cc:113] Plugin optimizer for device_type GPU is enabled.\n",
      "2022-08-14 17:39:18.783108: I tensorflow/core/grappler/optimizers/custom_graph_optimizer_registry.cc:113] Plugin optimizer for device_type GPU is enabled.\n",
      "2022-08-14 17:39:19.375175: I tensorflow/core/grappler/optimizers/custom_graph_optimizer_registry.cc:113] Plugin optimizer for device_type GPU is enabled.\n",
      "2022-08-14 17:39:19.414309: I tensorflow/core/grappler/optimizers/custom_graph_optimizer_registry.cc:113] Plugin optimizer for device_type GPU is enabled.\n",
      "2022-08-14 17:39:20.666013: I tensorflow/core/grappler/optimizers/custom_graph_optimizer_registry.cc:113] Plugin optimizer for device_type GPU is enabled.\n",
      "2022-08-14 17:39:23.919243: I tensorflow/core/grappler/optimizers/custom_graph_optimizer_registry.cc:113] Plugin optimizer for device_type GPU is enabled.\n",
      "2022-08-14 17:39:23.985700: I tensorflow/core/grappler/optimizers/custom_graph_optimizer_registry.cc:113] Plugin optimizer for device_type GPU is enabled.\n",
      "2022-08-14 17:39:24.537028: I tensorflow/core/grappler/optimizers/custom_graph_optimizer_registry.cc:113] Plugin optimizer for device_type GPU is enabled.\n",
      "2022-08-14 17:39:26.292027: I tensorflow/core/grappler/optimizers/custom_graph_optimizer_registry.cc:113] Plugin optimizer for device_type GPU is enabled.\n",
      "2022-08-14 17:39:27.084766: I tensorflow/core/grappler/optimizers/custom_graph_optimizer_registry.cc:113] Plugin optimizer for device_type GPU is enabled.\n",
      "2022-08-14 17:39:28.112241: I tensorflow/core/grappler/optimizers/custom_graph_optimizer_registry.cc:113] Plugin optimizer for device_type GPU is enabled.\n",
      "2022-08-14 17:39:28.902380: I tensorflow/core/grappler/optimizers/custom_graph_optimizer_registry.cc:113] Plugin optimizer for device_type GPU is enabled.\n",
      "2022-08-14 17:39:28.921795: I tensorflow/core/grappler/optimizers/custom_graph_optimizer_registry.cc:113] Plugin optimizer for device_type GPU is enabled.\n",
      "2022-08-14 17:39:29.765172: I tensorflow/core/grappler/optimizers/custom_graph_optimizer_registry.cc:113] Plugin optimizer for device_type GPU is enabled.\n",
      "2022-08-14 17:39:29.919161: I tensorflow/core/grappler/optimizers/custom_graph_optimizer_registry.cc:113] Plugin optimizer for device_type GPU is enabled.\n",
      "2022-08-14 17:39:30.231148: I tensorflow/core/grappler/optimizers/custom_graph_optimizer_registry.cc:113] Plugin optimizer for device_type GPU is enabled.\n",
      "2022-08-14 17:39:30.925918: I tensorflow/core/grappler/optimizers/custom_graph_optimizer_registry.cc:113] Plugin optimizer for device_type GPU is enabled.\n",
      "2022-08-14 17:39:32.217851: I tensorflow/core/grappler/optimizers/custom_graph_optimizer_registry.cc:113] Plugin optimizer for device_type GPU is enabled.\n",
      "2022-08-14 17:39:34.201867: I tensorflow/core/grappler/optimizers/custom_graph_optimizer_registry.cc:113] Plugin optimizer for device_type GPU is enabled.\n",
      "2022-08-14 17:39:35.453195: I tensorflow/core/grappler/optimizers/custom_graph_optimizer_registry.cc:113] Plugin optimizer for device_type GPU is enabled.\n",
      "2022-08-14 17:39:35.661573: I tensorflow/core/grappler/optimizers/custom_graph_optimizer_registry.cc:113] Plugin optimizer for device_type GPU is enabled.\n",
      "2022-08-14 17:39:38.654473: I tensorflow/core/grappler/optimizers/custom_graph_optimizer_registry.cc:113] Plugin optimizer for device_type GPU is enabled.\n",
      "2022-08-14 17:39:39.788715: I tensorflow/core/grappler/optimizers/custom_graph_optimizer_registry.cc:113] Plugin optimizer for device_type GPU is enabled.\n",
      "2022-08-14 17:39:39.794949: I tensorflow/core/grappler/optimizers/custom_graph_optimizer_registry.cc:113] Plugin optimizer for device_type GPU is enabled.\n",
      "2022-08-14 17:39:40.125826: I tensorflow/core/grappler/optimizers/custom_graph_optimizer_registry.cc:113] Plugin optimizer for device_type GPU is enabled.\n",
      "2022-08-14 17:39:40.867607: I tensorflow/core/grappler/optimizers/custom_graph_optimizer_registry.cc:113] Plugin optimizer for device_type GPU is enabled.\n",
      "2022-08-14 17:39:41.268551: I tensorflow/core/grappler/optimizers/custom_graph_optimizer_registry.cc:113] Plugin optimizer for device_type GPU is enabled.\n",
      "2022-08-14 17:39:43.071915: I tensorflow/core/grappler/optimizers/custom_graph_optimizer_registry.cc:113] Plugin optimizer for device_type GPU is enabled.\n",
      "2022-08-14 17:39:43.203511: I tensorflow/core/grappler/optimizers/custom_graph_optimizer_registry.cc:113] Plugin optimizer for device_type GPU is enabled.\n",
      "2022-08-14 17:39:43.912520: I tensorflow/core/grappler/optimizers/custom_graph_optimizer_registry.cc:113] Plugin optimizer for device_type GPU is enabled.\n",
      "2022-08-14 17:39:45.105008: I tensorflow/core/grappler/optimizers/custom_graph_optimizer_registry.cc:113] Plugin optimizer for device_type GPU is enabled.\n",
      "2022-08-14 17:39:45.344123: I tensorflow/core/grappler/optimizers/custom_graph_optimizer_registry.cc:113] Plugin optimizer for device_type GPU is enabled.\n",
      "2022-08-14 17:39:46.479222: I tensorflow/core/grappler/optimizers/custom_graph_optimizer_registry.cc:113] Plugin optimizer for device_type GPU is enabled.\n",
      "2022-08-14 17:39:50.580491: I tensorflow/core/grappler/optimizers/custom_graph_optimizer_registry.cc:113] Plugin optimizer for device_type GPU is enabled.\n",
      "2022-08-14 17:39:54.753773: I tensorflow/core/grappler/optimizers/custom_graph_optimizer_registry.cc:113] Plugin optimizer for device_type GPU is enabled.\n",
      "2022-08-14 17:39:55.916415: I tensorflow/core/grappler/optimizers/custom_graph_optimizer_registry.cc:113] Plugin optimizer for device_type GPU is enabled.\n",
      "2022-08-14 17:39:56.286548: I tensorflow/core/grappler/optimizers/custom_graph_optimizer_registry.cc:113] Plugin optimizer for device_type GPU is enabled.\n",
      "2022-08-14 17:39:59.520076: I tensorflow/core/grappler/optimizers/custom_graph_optimizer_registry.cc:113] Plugin optimizer for device_type GPU is enabled.\n",
      "2022-08-14 17:40:01.420154: I tensorflow/core/grappler/optimizers/custom_graph_optimizer_registry.cc:113] Plugin optimizer for device_type GPU is enabled.\n",
      "2022-08-14 17:40:02.540524: I tensorflow/core/grappler/optimizers/custom_graph_optimizer_registry.cc:113] Plugin optimizer for device_type GPU is enabled.\n",
      "2022-08-14 17:40:02.674340: I tensorflow/core/grappler/optimizers/custom_graph_optimizer_registry.cc:113] Plugin optimizer for device_type GPU is enabled.\n",
      "2022-08-14 17:40:03.259643: I tensorflow/core/grappler/optimizers/custom_graph_optimizer_registry.cc:113] Plugin optimizer for device_type GPU is enabled.\n",
      "2022-08-14 17:40:03.331317: I tensorflow/core/grappler/optimizers/custom_graph_optimizer_registry.cc:113] Plugin optimizer for device_type GPU is enabled.\n",
      "2022-08-14 17:40:04.607486: I tensorflow/core/grappler/optimizers/custom_graph_optimizer_registry.cc:113] Plugin optimizer for device_type GPU is enabled.\n",
      "2022-08-14 17:40:06.165720: I tensorflow/core/grappler/optimizers/custom_graph_optimizer_registry.cc:113] Plugin optimizer for device_type GPU is enabled.\n",
      "2022-08-14 17:40:07.601324: I tensorflow/core/grappler/optimizers/custom_graph_optimizer_registry.cc:113] Plugin optimizer for device_type GPU is enabled.\n",
      "2022-08-14 17:40:08.261463: I tensorflow/core/grappler/optimizers/custom_graph_optimizer_registry.cc:113] Plugin optimizer for device_type GPU is enabled.\n",
      "2022-08-14 17:40:09.458455: I tensorflow/core/grappler/optimizers/custom_graph_optimizer_registry.cc:113] Plugin optimizer for device_type GPU is enabled.\n",
      "2022-08-14 17:40:13.378148: I tensorflow/core/grappler/optimizers/custom_graph_optimizer_registry.cc:113] Plugin optimizer for device_type GPU is enabled.\n",
      "2022-08-14 17:40:13.928322: I tensorflow/core/grappler/optimizers/custom_graph_optimizer_registry.cc:113] Plugin optimizer for device_type GPU is enabled.\n",
      "2022-08-14 17:40:17.632934: I tensorflow/core/grappler/optimizers/custom_graph_optimizer_registry.cc:113] Plugin optimizer for device_type GPU is enabled.\n",
      "2022-08-14 17:40:18.539478: I tensorflow/core/grappler/optimizers/custom_graph_optimizer_registry.cc:113] Plugin optimizer for device_type GPU is enabled.\n",
      "2022-08-14 17:40:19.408317: I tensorflow/core/grappler/optimizers/custom_graph_optimizer_registry.cc:113] Plugin optimizer for device_type GPU is enabled.\n",
      "2022-08-14 17:40:20.867383: I tensorflow/core/grappler/optimizers/custom_graph_optimizer_registry.cc:113] Plugin optimizer for device_type GPU is enabled.\n",
      "2022-08-14 17:40:22.934051: I tensorflow/core/grappler/optimizers/custom_graph_optimizer_registry.cc:113] Plugin optimizer for device_type GPU is enabled.\n",
      "2022-08-14 17:40:23.231013: I tensorflow/core/grappler/optimizers/custom_graph_optimizer_registry.cc:113] Plugin optimizer for device_type GPU is enabled.\n",
      "2022-08-14 17:40:23.494127: I tensorflow/core/grappler/optimizers/custom_graph_optimizer_registry.cc:113] Plugin optimizer for device_type GPU is enabled.\n",
      "2022-08-14 17:40:24.300897: I tensorflow/core/grappler/optimizers/custom_graph_optimizer_registry.cc:113] Plugin optimizer for device_type GPU is enabled.\n",
      "2022-08-14 17:40:24.553734: I tensorflow/core/grappler/optimizers/custom_graph_optimizer_registry.cc:113] Plugin optimizer for device_type GPU is enabled.\n",
      "2022-08-14 17:40:24.891208: I tensorflow/core/grappler/optimizers/custom_graph_optimizer_registry.cc:113] Plugin optimizer for device_type GPU is enabled.\n",
      "2022-08-14 17:40:27.140084: I tensorflow/core/grappler/optimizers/custom_graph_optimizer_registry.cc:113] Plugin optimizer for device_type GPU is enabled.\n",
      "2022-08-14 17:40:27.210881: I tensorflow/core/grappler/optimizers/custom_graph_optimizer_registry.cc:113] Plugin optimizer for device_type GPU is enabled.\n",
      "2022-08-14 17:40:28.578603: I tensorflow/core/grappler/optimizers/custom_graph_optimizer_registry.cc:113] Plugin optimizer for device_type GPU is enabled.\n",
      "2022-08-14 17:40:29.135021: I tensorflow/core/grappler/optimizers/custom_graph_optimizer_registry.cc:113] Plugin optimizer for device_type GPU is enabled.\n",
      "2022-08-14 17:40:29.924773: I tensorflow/core/grappler/optimizers/custom_graph_optimizer_registry.cc:113] Plugin optimizer for device_type GPU is enabled.\n",
      "2022-08-14 17:40:32.252676: I tensorflow/core/grappler/optimizers/custom_graph_optimizer_registry.cc:113] Plugin optimizer for device_type GPU is enabled.\n",
      "2022-08-14 17:40:34.886178: I tensorflow/core/grappler/optimizers/custom_graph_optimizer_registry.cc:113] Plugin optimizer for device_type GPU is enabled.\n",
      "2022-08-14 17:40:36.650211: I tensorflow/core/grappler/optimizers/custom_graph_optimizer_registry.cc:113] Plugin optimizer for device_type GPU is enabled.\n",
      "2022-08-14 17:40:37.422475: I tensorflow/core/grappler/optimizers/custom_graph_optimizer_registry.cc:113] Plugin optimizer for device_type GPU is enabled.\n",
      "2022-08-14 17:40:37.436835: I tensorflow/core/grappler/optimizers/custom_graph_optimizer_registry.cc:113] Plugin optimizer for device_type GPU is enabled.\n",
      "2022-08-14 17:40:40.734355: I tensorflow/core/grappler/optimizers/custom_graph_optimizer_registry.cc:113] Plugin optimizer for device_type GPU is enabled.\n",
      "2022-08-14 17:40:41.789011: I tensorflow/core/grappler/optimizers/custom_graph_optimizer_registry.cc:113] Plugin optimizer for device_type GPU is enabled.\n",
      "2022-08-14 17:40:41.982908: I tensorflow/core/grappler/optimizers/custom_graph_optimizer_registry.cc:113] Plugin optimizer for device_type GPU is enabled.\n",
      "2022-08-14 17:40:43.429078: I tensorflow/core/grappler/optimizers/custom_graph_optimizer_registry.cc:113] Plugin optimizer for device_type GPU is enabled.\n",
      "2022-08-14 17:40:44.195232: I tensorflow/core/grappler/optimizers/custom_graph_optimizer_registry.cc:113] Plugin optimizer for device_type GPU is enabled.\n",
      "2022-08-14 17:40:44.206045: I tensorflow/core/grappler/optimizers/custom_graph_optimizer_registry.cc:113] Plugin optimizer for device_type GPU is enabled.\n",
      "2022-08-14 17:40:47.159825: I tensorflow/core/grappler/optimizers/custom_graph_optimizer_registry.cc:113] Plugin optimizer for device_type GPU is enabled.\n",
      "2022-08-14 17:40:47.489787: I tensorflow/core/grappler/optimizers/custom_graph_optimizer_registry.cc:113] Plugin optimizer for device_type GPU is enabled.\n",
      "2022-08-14 17:40:47.823368: I tensorflow/core/grappler/optimizers/custom_graph_optimizer_registry.cc:113] Plugin optimizer for device_type GPU is enabled.\n",
      "2022-08-14 17:40:49.233081: I tensorflow/core/grappler/optimizers/custom_graph_optimizer_registry.cc:113] Plugin optimizer for device_type GPU is enabled.\n",
      "2022-08-14 17:40:54.081671: I tensorflow/core/grappler/optimizers/custom_graph_optimizer_registry.cc:113] Plugin optimizer for device_type GPU is enabled.\n",
      "2022-08-14 17:40:56.777137: I tensorflow/core/grappler/optimizers/custom_graph_optimizer_registry.cc:113] Plugin optimizer for device_type GPU is enabled.\n",
      "2022-08-14 17:40:59.152173: I tensorflow/core/grappler/optimizers/custom_graph_optimizer_registry.cc:113] Plugin optimizer for device_type GPU is enabled.\n",
      "2022-08-14 17:40:59.781632: I tensorflow/core/grappler/optimizers/custom_graph_optimizer_registry.cc:113] Plugin optimizer for device_type GPU is enabled.\n",
      "2022-08-14 17:41:01.523476: I tensorflow/core/grappler/optimizers/custom_graph_optimizer_registry.cc:113] Plugin optimizer for device_type GPU is enabled.\n",
      "2022-08-14 17:41:01.946683: I tensorflow/core/grappler/optimizers/custom_graph_optimizer_registry.cc:113] Plugin optimizer for device_type GPU is enabled.\n",
      "2022-08-14 17:41:04.079703: I tensorflow/core/grappler/optimizers/custom_graph_optimizer_registry.cc:113] Plugin optimizer for device_type GPU is enabled.\n",
      "2022-08-14 17:41:04.204445: I tensorflow/core/grappler/optimizers/custom_graph_optimizer_registry.cc:113] Plugin optimizer for device_type GPU is enabled.\n",
      "2022-08-14 17:41:04.993018: I tensorflow/core/grappler/optimizers/custom_graph_optimizer_registry.cc:113] Plugin optimizer for device_type GPU is enabled.\n",
      "2022-08-14 17:41:05.139125: I tensorflow/core/grappler/optimizers/custom_graph_optimizer_registry.cc:113] Plugin optimizer for device_type GPU is enabled.\n",
      "2022-08-14 17:41:05.190299: I tensorflow/core/grappler/optimizers/custom_graph_optimizer_registry.cc:113] Plugin optimizer for device_type GPU is enabled.\n",
      "2022-08-14 17:41:05.368311: I tensorflow/core/grappler/optimizers/custom_graph_optimizer_registry.cc:113] Plugin optimizer for device_type GPU is enabled.\n",
      "2022-08-14 17:41:08.242096: I tensorflow/core/grappler/optimizers/custom_graph_optimizer_registry.cc:113] Plugin optimizer for device_type GPU is enabled.\n",
      "2022-08-14 17:41:09.344349: I tensorflow/core/grappler/optimizers/custom_graph_optimizer_registry.cc:113] Plugin optimizer for device_type GPU is enabled.\n",
      "2022-08-14 17:41:09.445159: I tensorflow/core/grappler/optimizers/custom_graph_optimizer_registry.cc:113] Plugin optimizer for device_type GPU is enabled.\n",
      "2022-08-14 17:41:12.130525: I tensorflow/core/grappler/optimizers/custom_graph_optimizer_registry.cc:113] Plugin optimizer for device_type GPU is enabled.\n",
      "2022-08-14 17:41:13.276552: I tensorflow/core/grappler/optimizers/custom_graph_optimizer_registry.cc:113] Plugin optimizer for device_type GPU is enabled.\n",
      "2022-08-14 17:41:16.781885: I tensorflow/core/grappler/optimizers/custom_graph_optimizer_registry.cc:113] Plugin optimizer for device_type GPU is enabled.\n",
      "2022-08-14 17:41:17.194605: I tensorflow/core/grappler/optimizers/custom_graph_optimizer_registry.cc:113] Plugin optimizer for device_type GPU is enabled.\n",
      "2022-08-14 17:41:17.942789: I tensorflow/core/grappler/optimizers/custom_graph_optimizer_registry.cc:113] Plugin optimizer for device_type GPU is enabled.\n",
      "2022-08-14 17:41:18.579802: I tensorflow/core/grappler/optimizers/custom_graph_optimizer_registry.cc:113] Plugin optimizer for device_type GPU is enabled.\n",
      "2022-08-14 17:41:19.638842: I tensorflow/core/grappler/optimizers/custom_graph_optimizer_registry.cc:113] Plugin optimizer for device_type GPU is enabled.\n",
      "2022-08-14 17:41:22.680394: I tensorflow/core/grappler/optimizers/custom_graph_optimizer_registry.cc:113] Plugin optimizer for device_type GPU is enabled.\n",
      "2022-08-14 17:41:23.103086: I tensorflow/core/grappler/optimizers/custom_graph_optimizer_registry.cc:113] Plugin optimizer for device_type GPU is enabled.\n",
      "2022-08-14 17:41:23.484848: I tensorflow/core/grappler/optimizers/custom_graph_optimizer_registry.cc:113] Plugin optimizer for device_type GPU is enabled.\n",
      "2022-08-14 17:41:24.380828: I tensorflow/core/grappler/optimizers/custom_graph_optimizer_registry.cc:113] Plugin optimizer for device_type GPU is enabled.\n",
      "2022-08-14 17:41:24.729357: I tensorflow/core/grappler/optimizers/custom_graph_optimizer_registry.cc:113] Plugin optimizer for device_type GPU is enabled.\n",
      "2022-08-14 17:41:25.375793: I tensorflow/core/grappler/optimizers/custom_graph_optimizer_registry.cc:113] Plugin optimizer for device_type GPU is enabled.\n",
      "2022-08-14 17:41:28.347918: I tensorflow/core/grappler/optimizers/custom_graph_optimizer_registry.cc:113] Plugin optimizer for device_type GPU is enabled.\n",
      "2022-08-14 17:41:29.831505: I tensorflow/core/grappler/optimizers/custom_graph_optimizer_registry.cc:113] Plugin optimizer for device_type GPU is enabled.\n",
      "2022-08-14 17:41:31.241231: I tensorflow/core/grappler/optimizers/custom_graph_optimizer_registry.cc:113] Plugin optimizer for device_type GPU is enabled.\n",
      "2022-08-14 17:41:32.865297: I tensorflow/core/grappler/optimizers/custom_graph_optimizer_registry.cc:113] Plugin optimizer for device_type GPU is enabled.\n",
      "2022-08-14 17:41:33.061192: I tensorflow/core/grappler/optimizers/custom_graph_optimizer_registry.cc:113] Plugin optimizer for device_type GPU is enabled.\n",
      "2022-08-14 17:41:37.736129: I tensorflow/core/grappler/optimizers/custom_graph_optimizer_registry.cc:113] Plugin optimizer for device_type GPU is enabled.\n",
      "2022-08-14 17:41:37.774995: I tensorflow/core/grappler/optimizers/custom_graph_optimizer_registry.cc:113] Plugin optimizer for device_type GPU is enabled.\n",
      "2022-08-14 17:41:39.940605: I tensorflow/core/grappler/optimizers/custom_graph_optimizer_registry.cc:113] Plugin optimizer for device_type GPU is enabled.\n",
      "2022-08-14 17:41:40.227569: I tensorflow/core/grappler/optimizers/custom_graph_optimizer_registry.cc:113] Plugin optimizer for device_type GPU is enabled.\n",
      "2022-08-14 17:41:42.408984: I tensorflow/core/grappler/optimizers/custom_graph_optimizer_registry.cc:113] Plugin optimizer for device_type GPU is enabled.\n",
      "2022-08-14 17:41:47.313441: I tensorflow/core/grappler/optimizers/custom_graph_optimizer_registry.cc:113] Plugin optimizer for device_type GPU is enabled.\n",
      "2022-08-14 17:41:47.410110: I tensorflow/core/grappler/optimizers/custom_graph_optimizer_registry.cc:113] Plugin optimizer for device_type GPU is enabled.\n",
      "2022-08-14 17:41:47.748139: I tensorflow/core/grappler/optimizers/custom_graph_optimizer_registry.cc:113] Plugin optimizer for device_type GPU is enabled.\n",
      "2022-08-14 17:41:48.669216: I tensorflow/core/grappler/optimizers/custom_graph_optimizer_registry.cc:113] Plugin optimizer for device_type GPU is enabled.\n",
      "2022-08-14 17:41:48.789426: I tensorflow/core/grappler/optimizers/custom_graph_optimizer_registry.cc:113] Plugin optimizer for device_type GPU is enabled.\n",
      "2022-08-14 17:41:53.282435: I tensorflow/core/grappler/optimizers/custom_graph_optimizer_registry.cc:113] Plugin optimizer for device_type GPU is enabled.\n",
      "2022-08-14 17:41:56.203265: I tensorflow/core/grappler/optimizers/custom_graph_optimizer_registry.cc:113] Plugin optimizer for device_type GPU is enabled.\n",
      "2022-08-14 17:41:57.390864: I tensorflow/core/grappler/optimizers/custom_graph_optimizer_registry.cc:113] Plugin optimizer for device_type GPU is enabled.\n",
      "2022-08-14 17:41:58.146275: I tensorflow/core/grappler/optimizers/custom_graph_optimizer_registry.cc:113] Plugin optimizer for device_type GPU is enabled.\n",
      "2022-08-14 17:41:58.930878: I tensorflow/core/grappler/optimizers/custom_graph_optimizer_registry.cc:113] Plugin optimizer for device_type GPU is enabled.\n",
      "2022-08-14 17:42:03.156593: I tensorflow/core/grappler/optimizers/custom_graph_optimizer_registry.cc:113] Plugin optimizer for device_type GPU is enabled.\n",
      "2022-08-14 17:42:03.669574: I tensorflow/core/grappler/optimizers/custom_graph_optimizer_registry.cc:113] Plugin optimizer for device_type GPU is enabled.\n",
      "2022-08-14 17:42:07.497252: I tensorflow/core/grappler/optimizers/custom_graph_optimizer_registry.cc:113] Plugin optimizer for device_type GPU is enabled.\n",
      "2022-08-14 17:42:07.618976: I tensorflow/core/grappler/optimizers/custom_graph_optimizer_registry.cc:113] Plugin optimizer for device_type GPU is enabled.\n",
      "2022-08-14 17:42:09.094726: I tensorflow/core/grappler/optimizers/custom_graph_optimizer_registry.cc:113] Plugin optimizer for device_type GPU is enabled.\n",
      "2022-08-14 17:42:09.153238: I tensorflow/core/grappler/optimizers/custom_graph_optimizer_registry.cc:113] Plugin optimizer for device_type GPU is enabled.\n",
      "2022-08-14 17:42:11.563378: I tensorflow/core/grappler/optimizers/custom_graph_optimizer_registry.cc:113] Plugin optimizer for device_type GPU is enabled.\n",
      "2022-08-14 17:42:12.273601: I tensorflow/core/grappler/optimizers/custom_graph_optimizer_registry.cc:113] Plugin optimizer for device_type GPU is enabled.\n",
      "2022-08-14 17:42:13.268610: I tensorflow/core/grappler/optimizers/custom_graph_optimizer_registry.cc:113] Plugin optimizer for device_type GPU is enabled.\n",
      "2022-08-14 17:42:15.887484: I tensorflow/core/grappler/optimizers/custom_graph_optimizer_registry.cc:113] Plugin optimizer for device_type GPU is enabled.\n",
      "2022-08-14 17:42:17.209022: I tensorflow/core/grappler/optimizers/custom_graph_optimizer_registry.cc:113] Plugin optimizer for device_type GPU is enabled.\n",
      "2022-08-14 17:42:18.128692: I tensorflow/core/grappler/optimizers/custom_graph_optimizer_registry.cc:113] Plugin optimizer for device_type GPU is enabled.\n",
      "2022-08-14 17:42:19.987953: I tensorflow/core/grappler/optimizers/custom_graph_optimizer_registry.cc:113] Plugin optimizer for device_type GPU is enabled.\n",
      "2022-08-14 17:42:20.381582: I tensorflow/core/grappler/optimizers/custom_graph_optimizer_registry.cc:113] Plugin optimizer for device_type GPU is enabled.\n",
      "2022-08-14 17:42:22.444762: I tensorflow/core/grappler/optimizers/custom_graph_optimizer_registry.cc:113] Plugin optimizer for device_type GPU is enabled.\n",
      "2022-08-14 17:42:23.623762: I tensorflow/core/grappler/optimizers/custom_graph_optimizer_registry.cc:113] Plugin optimizer for device_type GPU is enabled.\n",
      "2022-08-14 17:42:24.811230: I tensorflow/core/grappler/optimizers/custom_graph_optimizer_registry.cc:113] Plugin optimizer for device_type GPU is enabled.\n",
      "2022-08-14 17:42:25.630302: I tensorflow/core/grappler/optimizers/custom_graph_optimizer_registry.cc:113] Plugin optimizer for device_type GPU is enabled.\n",
      "2022-08-14 17:42:30.440898: I tensorflow/core/grappler/optimizers/custom_graph_optimizer_registry.cc:113] Plugin optimizer for device_type GPU is enabled.\n",
      "2022-08-14 17:42:30.976295: I tensorflow/core/grappler/optimizers/custom_graph_optimizer_registry.cc:113] Plugin optimizer for device_type GPU is enabled.\n",
      "2022-08-14 17:42:31.496473: I tensorflow/core/grappler/optimizers/custom_graph_optimizer_registry.cc:113] Plugin optimizer for device_type GPU is enabled.\n",
      "2022-08-14 17:42:33.142453: I tensorflow/core/grappler/optimizers/custom_graph_optimizer_registry.cc:113] Plugin optimizer for device_type GPU is enabled.\n",
      "2022-08-14 17:42:36.193429: I tensorflow/core/grappler/optimizers/custom_graph_optimizer_registry.cc:113] Plugin optimizer for device_type GPU is enabled.\n",
      "2022-08-14 17:42:36.894976: I tensorflow/core/grappler/optimizers/custom_graph_optimizer_registry.cc:113] Plugin optimizer for device_type GPU is enabled.\n",
      "2022-08-14 17:42:38.117699: I tensorflow/core/grappler/optimizers/custom_graph_optimizer_registry.cc:113] Plugin optimizer for device_type GPU is enabled.\n",
      "2022-08-14 17:42:39.405745: I tensorflow/core/grappler/optimizers/custom_graph_optimizer_registry.cc:113] Plugin optimizer for device_type GPU is enabled.\n",
      "2022-08-14 17:42:39.669085: I tensorflow/core/grappler/optimizers/custom_graph_optimizer_registry.cc:113] Plugin optimizer for device_type GPU is enabled.\n",
      "2022-08-14 17:42:40.820242: I tensorflow/core/grappler/optimizers/custom_graph_optimizer_registry.cc:113] Plugin optimizer for device_type GPU is enabled.\n",
      "2022-08-14 17:42:41.959838: I tensorflow/core/grappler/optimizers/custom_graph_optimizer_registry.cc:113] Plugin optimizer for device_type GPU is enabled.\n",
      "2022-08-14 17:42:43.942038: I tensorflow/core/grappler/optimizers/custom_graph_optimizer_registry.cc:113] Plugin optimizer for device_type GPU is enabled.\n"
     ]
    },
    {
     "name": "stdout",
     "output_type": "stream",
     "text": [
      "Best: 0.201374 using {'model__dropout_rate': 0.1, 'model__weight_constraint': 2.0}\n",
      "0.178764 (0.020604) with: {'model__dropout_rate': 0.0, 'model__weight_constraint': 1.0}\n",
      "0.184109 (0.010148) with: {'model__dropout_rate': 0.0, 'model__weight_constraint': 2.0}\n",
      "0.178588 (0.014331) with: {'model__dropout_rate': 0.0, 'model__weight_constraint': 3.0}\n",
      "0.182053 (0.005898) with: {'model__dropout_rate': 0.0, 'model__weight_constraint': 4.0}\n",
      "0.190392 (0.017048) with: {'model__dropout_rate': 0.0, 'model__weight_constraint': 5.0}\n",
      "0.172716 (0.015262) with: {'model__dropout_rate': 0.1, 'model__weight_constraint': 1.0}\n",
      "0.201374 (0.016815) with: {'model__dropout_rate': 0.1, 'model__weight_constraint': 2.0}\n",
      "0.181113 (0.022667) with: {'model__dropout_rate': 0.1, 'model__weight_constraint': 3.0}\n",
      "0.188513 (0.011694) with: {'model__dropout_rate': 0.1, 'model__weight_constraint': 4.0}\n",
      "0.188278 (0.019526) with: {'model__dropout_rate': 0.1, 'model__weight_constraint': 5.0}\n",
      "0.168840 (0.016899) with: {'model__dropout_rate': 0.2, 'model__weight_constraint': 1.0}\n",
      "0.165668 (0.016117) with: {'model__dropout_rate': 0.2, 'model__weight_constraint': 2.0}\n",
      "0.161792 (0.000299) with: {'model__dropout_rate': 0.2, 'model__weight_constraint': 3.0}\n",
      "0.180644 (0.011671) with: {'model__dropout_rate': 0.2, 'model__weight_constraint': 4.0}\n",
      "0.172128 (0.005108) with: {'model__dropout_rate': 0.2, 'model__weight_constraint': 5.0}\n",
      "0.189511 (0.008516) with: {'model__dropout_rate': 0.3, 'model__weight_constraint': 1.0}\n",
      "0.180056 (0.007978) with: {'model__dropout_rate': 0.3, 'model__weight_constraint': 2.0}\n",
      "0.175065 (0.004509) with: {'model__dropout_rate': 0.3, 'model__weight_constraint': 3.0}\n",
      "0.188513 (0.007341) with: {'model__dropout_rate': 0.3, 'model__weight_constraint': 4.0}\n",
      "0.171012 (0.020126) with: {'model__dropout_rate': 0.3, 'model__weight_constraint': 5.0}\n",
      "0.175476 (0.013710) with: {'model__dropout_rate': 0.4, 'model__weight_constraint': 1.0}\n",
      "0.176415 (0.013595) with: {'model__dropout_rate': 0.4, 'model__weight_constraint': 2.0}\n",
      "0.178588 (0.024892) with: {'model__dropout_rate': 0.4, 'model__weight_constraint': 3.0}\n",
      "0.176122 (0.009731) with: {'model__dropout_rate': 0.4, 'model__weight_constraint': 4.0}\n",
      "0.171600 (0.013965) with: {'model__dropout_rate': 0.4, 'model__weight_constraint': 5.0}\n",
      "0.174184 (0.008897) with: {'model__dropout_rate': 0.5, 'model__weight_constraint': 1.0}\n",
      "0.171365 (0.003755) with: {'model__dropout_rate': 0.5, 'model__weight_constraint': 2.0}\n",
      "0.171365 (0.003169) with: {'model__dropout_rate': 0.5, 'model__weight_constraint': 3.0}\n",
      "0.169192 (0.005918) with: {'model__dropout_rate': 0.5, 'model__weight_constraint': 4.0}\n",
      "0.181348 (0.008576) with: {'model__dropout_rate': 0.5, 'model__weight_constraint': 5.0}\n",
      "0.178001 (0.006583) with: {'model__dropout_rate': 0.6, 'model__weight_constraint': 1.0}\n",
      "0.177942 (0.012637) with: {'model__dropout_rate': 0.6, 'model__weight_constraint': 2.0}\n",
      "0.168605 (0.016324) with: {'model__dropout_rate': 0.6, 'model__weight_constraint': 3.0}\n",
      "0.173420 (0.019610) with: {'model__dropout_rate': 0.6, 'model__weight_constraint': 4.0}\n",
      "0.160265 (0.024128) with: {'model__dropout_rate': 0.6, 'model__weight_constraint': 5.0}\n",
      "0.176239 (0.001585) with: {'model__dropout_rate': 0.7, 'model__weight_constraint': 1.0}\n",
      "0.160265 (0.004892) with: {'model__dropout_rate': 0.7, 'model__weight_constraint': 2.0}\n",
      "0.175828 (0.023829) with: {'model__dropout_rate': 0.7, 'model__weight_constraint': 3.0}\n",
      "0.178588 (0.023704) with: {'model__dropout_rate': 0.7, 'model__weight_constraint': 4.0}\n",
      "0.166021 (0.014715) with: {'model__dropout_rate': 0.7, 'model__weight_constraint': 5.0}\n",
      "0.158621 (0.013482) with: {'model__dropout_rate': 0.8, 'model__weight_constraint': 1.0}\n",
      "0.148403 (0.001916) with: {'model__dropout_rate': 0.8, 'model__weight_constraint': 2.0}\n",
      "0.145701 (0.024837) with: {'model__dropout_rate': 0.8, 'model__weight_constraint': 3.0}\n",
      "0.160677 (0.019402) with: {'model__dropout_rate': 0.8, 'model__weight_constraint': 4.0}\n",
      "0.169603 (0.008458) with: {'model__dropout_rate': 0.8, 'model__weight_constraint': 5.0}\n",
      "0.159561 (0.014259) with: {'model__dropout_rate': 0.9, 'model__weight_constraint': 1.0}\n",
      "0.131019 (0.022510) with: {'model__dropout_rate': 0.9, 'model__weight_constraint': 2.0}\n",
      "0.163143 (0.022607) with: {'model__dropout_rate': 0.9, 'model__weight_constraint': 3.0}\n",
      "0.142824 (0.022690) with: {'model__dropout_rate': 0.9, 'model__weight_constraint': 4.0}\n",
      "0.126850 (0.010274) with: {'model__dropout_rate': 0.9, 'model__weight_constraint': 5.0}\n"
     ]
    }
   ],
   "source": [
    "from tensorflow.keras.layers import Dropout\n",
    "from tensorflow.keras.constraints import MaxNorm\n",
    "\n",
    "def create_model(dropout_rate, weight_constraint):\n",
    "\t# create model\n",
    "\tmodel = Sequential()\n",
    "\tmodel.add(Dense(15, input_dim = 13, activation = 'linear', kernel_initializer='he_normal')) # Rectified Linear Unit Activation Function\n",
    "\tmodel.add(Dense(15, activation = 'linear', kernel_initializer='he_normal', kernel_constraint=MaxNorm(weight_constraint)))\n",
    "\tmodel.add(Dropout(dropout_rate))\n",
    "\tmodel.add(Dense(15, activation = 'softmax')) # Softmax for multi-class classification\n",
    "\t# Compile model here\n",
    "\tmodel.compile(loss='categorical_crossentropy', optimizer='adam', metrics=['accuracy', keras.metrics.Precision(), keras.metrics.Recall()])\n",
    "\treturn model\n",
    "# fix random seed for reproducibility\n",
    "seed = 7\n",
    "tf.random.set_seed(seed)\n",
    "# load dataset\n",
    "model = KerasClassifier(model=create_model, epochs=4, batch_size=256, verbose=0)\n",
    "weight_constraint = [1.0, 2.0, 3.0, 4.0, 5.0]\n",
    "dropout_rate = [0.0, 0.1, 0.2, 0.3, 0.4, 0.5, 0.6, 0.7, 0.8, 0.9]\n",
    "param_grid = dict(model__dropout_rate=dropout_rate, model__weight_constraint=weight_constraint)\n",
    "#param_grid = dict(model__dropout_rate=dropout_rate)\n",
    "grid = GridSearchCV(estimator=model, param_grid=param_grid, n_jobs=-1, cv=3)\n",
    "grid_result = grid.fit(X_strat, y_strat)\n",
    "# summarize results\n",
    "print(\"Best: %f using %s\" % (grid_result.best_score_, grid_result.best_params_))\n",
    "means = grid_result.cv_results_['mean_test_score']\n",
    "stds = grid_result.cv_results_['std_test_score']\n",
    "params = grid_result.cv_results_['params']\n",
    "for mean, stdev, param in zip(means, stds, params):\n",
    "    print(\"%f (%f) with: %r\" % (mean, stdev, param))"
   ]
  },
  {
   "cell_type": "code",
   "execution_count": 1,
   "metadata": {},
   "outputs": [],
   "source": [
    "from numpy import load\n",
    "import pickle\n",
    "\n",
    "X_train = load('../../data/interim//Design/X_train.npy')\n",
    "X_test = load('../../data/interim/Design/X_test.npy')\n",
    "y_train = load('../../data/interim/Design/y_train.npy')\n",
    "y_test = load('../../data/interim/Design/y_test.npy')"
   ]
  },
  {
   "cell_type": "code",
   "execution_count": 3,
   "metadata": {},
   "outputs": [],
   "source": [
    "from tensorflow import keras\n",
    "from tensorflow.keras.layers import Dense, Dropout\n",
    "from keras.models import Sequential\n",
    "from scikeras.wrappers import KerasClassifier\n",
    "import tensorflow as tf\n",
    "from sklearn.preprocessing import LabelEncoder\n",
    "from tensorflow.keras.constraints import MaxNorm\n",
    "\n",
    "def create_model():\n",
    "\t# create model\n",
    "\tmodel = Sequential()\n",
    "\tmodel.add(Dense(15, input_dim = 13, activation = 'linear', kernel_initializer='he_normal')) # Rectified Linear Unit Activation Function\n",
    "\tmodel.add(Dense(15, activation = 'linear', kernel_initializer='he_normal', kernel_constraint=MaxNorm(2.0)))\n",
    "\tmodel.add(Dropout(0.1))\n",
    "\tmodel.add(Dense(15, activation = 'softmax')) # Softmax for multi-class classification\n",
    "\t# Compile model here\n",
    "\tmodel.compile(loss='categorical_crossentropy', optimizer='adam', metrics=['accuracy', keras.metrics.Precision(), keras.metrics.Recall()])\n",
    "\treturn model"
   ]
  },
  {
   "cell_type": "code",
   "execution_count": 4,
   "metadata": {},
   "outputs": [],
   "source": [
    "from sklearn.preprocessing import LabelEncoder\n",
    "yle = LabelEncoder()\n",
    "y_train = yle.fit_transform(y_train)\n",
    "from tensorflow.keras.utils import to_categorical\n",
    "y_train = to_categorical(y_train, 15)"
   ]
  },
  {
   "cell_type": "code",
   "execution_count": 5,
   "metadata": {},
   "outputs": [],
   "source": [
    "y_test = yle.transform(y_test)\n",
    "y_test = to_categorical(y_test, 15)"
   ]
  },
  {
   "cell_type": "code",
   "execution_count": 6,
   "metadata": {},
   "outputs": [
    {
     "name": "stdout",
     "output_type": "stream",
     "text": [
      "Metal device set to: Apple M1\n",
      "\n",
      "systemMemory: 8.00 GB\n",
      "maxCacheSize: 2.67 GB\n",
      "\n",
      "Epoch 1/10\n"
     ]
    },
    {
     "name": "stderr",
     "output_type": "stream",
     "text": [
      "2022-08-15 22:05:49.828964: I tensorflow/core/common_runtime/pluggable_device/pluggable_device_factory.cc:305] Could not identify NUMA node of platform GPU ID 0, defaulting to 0. Your kernel may not have been built with NUMA support.\n",
      "2022-08-15 22:05:49.829072: I tensorflow/core/common_runtime/pluggable_device/pluggable_device_factory.cc:271] Created TensorFlow device (/job:localhost/replica:0/task:0/device:GPU:0 with 0 MB memory) -> physical PluggableDevice (device: 0, name: METAL, pci bus id: <undefined>)\n",
      "2022-08-15 22:05:49.983584: W tensorflow/core/platform/profile_utils/cpu_utils.cc:128] Failed to get CPU frequency: 0 Hz\n",
      "2022-08-15 22:05:50.337908: I tensorflow/core/grappler/optimizers/custom_graph_optimizer_registry.cc:113] Plugin optimizer for device_type GPU is enabled.\n"
     ]
    },
    {
     "name": "stdout",
     "output_type": "stream",
     "text": [
      "5117/5117 [==============================] - 69s 13ms/step - loss: 1.9504 - accuracy: 0.2711 - precision: 0.6150 - recall: 0.0323\n",
      "Epoch 2/10\n",
      "5117/5117 [==============================] - 69s 13ms/step - loss: 1.7128 - accuracy: 0.3367 - precision: 0.7066 - recall: 0.0509\n",
      "Epoch 3/10\n",
      "5117/5117 [==============================] - 69s 14ms/step - loss: 1.5892 - accuracy: 0.3939 - precision: 0.7513 - recall: 0.0650\n",
      "Epoch 4/10\n",
      "5117/5117 [==============================] - 70s 14ms/step - loss: 1.5119 - accuracy: 0.4403 - precision: 0.7682 - recall: 0.0820\n",
      "Epoch 5/10\n",
      "5117/5117 [==============================] - 69s 13ms/step - loss: 1.4684 - accuracy: 0.4709 - precision: 0.7751 - recall: 0.0986\n",
      "Epoch 6/10\n",
      "5117/5117 [==============================] - 69s 14ms/step - loss: 1.4395 - accuracy: 0.4938 - precision: 0.7804 - recall: 0.1115\n",
      "Epoch 7/10\n",
      "5117/5117 [==============================] - 70s 14ms/step - loss: 1.4212 - accuracy: 0.5143 - precision: 0.7830 - recall: 0.1224\n",
      "Epoch 8/10\n",
      "5117/5117 [==============================] - 71s 14ms/step - loss: 1.4089 - accuracy: 0.5269 - precision: 0.7853 - recall: 0.1309\n",
      "Epoch 9/10\n",
      "5117/5117 [==============================] - 70s 14ms/step - loss: 1.3963 - accuracy: 0.5385 - precision: 0.7854 - recall: 0.1382\n",
      "Epoch 10/10\n",
      "5117/5117 [==============================] - 71s 14ms/step - loss: 1.3897 - accuracy: 0.5466 - precision: 0.7849 - recall: 0.1439\n"
     ]
    },
    {
     "data": {
      "text/html": [
       "<style>#sk-container-id-1 {color: black;background-color: white;}#sk-container-id-1 pre{padding: 0;}#sk-container-id-1 div.sk-toggleable {background-color: white;}#sk-container-id-1 label.sk-toggleable__label {cursor: pointer;display: block;width: 100%;margin-bottom: 0;padding: 0.3em;box-sizing: border-box;text-align: center;}#sk-container-id-1 label.sk-toggleable__label-arrow:before {content: \"▸\";float: left;margin-right: 0.25em;color: #696969;}#sk-container-id-1 label.sk-toggleable__label-arrow:hover:before {color: black;}#sk-container-id-1 div.sk-estimator:hover label.sk-toggleable__label-arrow:before {color: black;}#sk-container-id-1 div.sk-toggleable__content {max-height: 0;max-width: 0;overflow: hidden;text-align: left;background-color: #f0f8ff;}#sk-container-id-1 div.sk-toggleable__content pre {margin: 0.2em;color: black;border-radius: 0.25em;background-color: #f0f8ff;}#sk-container-id-1 input.sk-toggleable__control:checked~div.sk-toggleable__content {max-height: 200px;max-width: 100%;overflow: auto;}#sk-container-id-1 input.sk-toggleable__control:checked~label.sk-toggleable__label-arrow:before {content: \"▾\";}#sk-container-id-1 div.sk-estimator input.sk-toggleable__control:checked~label.sk-toggleable__label {background-color: #d4ebff;}#sk-container-id-1 div.sk-label input.sk-toggleable__control:checked~label.sk-toggleable__label {background-color: #d4ebff;}#sk-container-id-1 input.sk-hidden--visually {border: 0;clip: rect(1px 1px 1px 1px);clip: rect(1px, 1px, 1px, 1px);height: 1px;margin: -1px;overflow: hidden;padding: 0;position: absolute;width: 1px;}#sk-container-id-1 div.sk-estimator {font-family: monospace;background-color: #f0f8ff;border: 1px dotted black;border-radius: 0.25em;box-sizing: border-box;margin-bottom: 0.5em;}#sk-container-id-1 div.sk-estimator:hover {background-color: #d4ebff;}#sk-container-id-1 div.sk-parallel-item::after {content: \"\";width: 100%;border-bottom: 1px solid gray;flex-grow: 1;}#sk-container-id-1 div.sk-label:hover label.sk-toggleable__label {background-color: #d4ebff;}#sk-container-id-1 div.sk-serial::before {content: \"\";position: absolute;border-left: 1px solid gray;box-sizing: border-box;top: 0;bottom: 0;left: 50%;z-index: 0;}#sk-container-id-1 div.sk-serial {display: flex;flex-direction: column;align-items: center;background-color: white;padding-right: 0.2em;padding-left: 0.2em;position: relative;}#sk-container-id-1 div.sk-item {position: relative;z-index: 1;}#sk-container-id-1 div.sk-parallel {display: flex;align-items: stretch;justify-content: center;background-color: white;position: relative;}#sk-container-id-1 div.sk-item::before, #sk-container-id-1 div.sk-parallel-item::before {content: \"\";position: absolute;border-left: 1px solid gray;box-sizing: border-box;top: 0;bottom: 0;left: 50%;z-index: -1;}#sk-container-id-1 div.sk-parallel-item {display: flex;flex-direction: column;z-index: 1;position: relative;background-color: white;}#sk-container-id-1 div.sk-parallel-item:first-child::after {align-self: flex-end;width: 50%;}#sk-container-id-1 div.sk-parallel-item:last-child::after {align-self: flex-start;width: 50%;}#sk-container-id-1 div.sk-parallel-item:only-child::after {width: 0;}#sk-container-id-1 div.sk-dashed-wrapped {border: 1px dashed gray;margin: 0 0.4em 0.5em 0.4em;box-sizing: border-box;padding-bottom: 0.4em;background-color: white;}#sk-container-id-1 div.sk-label label {font-family: monospace;font-weight: bold;display: inline-block;line-height: 1.2em;}#sk-container-id-1 div.sk-label-container {text-align: center;}#sk-container-id-1 div.sk-container {/* jupyter's `normalize.less` sets `[hidden] { display: none; }` but bootstrap.min.css set `[hidden] { display: none !important; }` so we also need the `!important` here to be able to override the default hidden behavior on the sphinx rendered scikit-learn.org. See: https://github.com/scikit-learn/scikit-learn/issues/21755 */display: inline-block !important;position: relative;}#sk-container-id-1 div.sk-text-repr-fallback {display: none;}</style><div id=\"sk-container-id-1\" class=\"sk-top-container\"><div class=\"sk-text-repr-fallback\"><pre>KerasClassifier(\n",
       "\tmodel=&lt;function create_model at 0x280d52790&gt;\n",
       "\tbuild_fn=None\n",
       "\twarm_start=False\n",
       "\trandom_state=None\n",
       "\toptimizer=rmsprop\n",
       "\tloss=None\n",
       "\tmetrics=None\n",
       "\tbatch_size=256\n",
       "\tvalidation_batch_size=None\n",
       "\tverbose=1\n",
       "\tcallbacks=None\n",
       "\tvalidation_split=0.0\n",
       "\tshuffle=True\n",
       "\trun_eagerly=False\n",
       "\tepochs=10\n",
       "\tclass_weight=None\n",
       ")</pre><b>In a Jupyter environment, please rerun this cell to show the HTML representation or trust the notebook. <br />On GitHub, the HTML representation is unable to render, please try loading this page with nbviewer.org.</b></div><div class=\"sk-container\" hidden><div class=\"sk-item\"><div class=\"sk-estimator sk-toggleable\"><input class=\"sk-toggleable__control sk-hidden--visually\" id=\"sk-estimator-id-1\" type=\"checkbox\" checked><label for=\"sk-estimator-id-1\" class=\"sk-toggleable__label sk-toggleable__label-arrow\">KerasClassifier</label><div class=\"sk-toggleable__content\"><pre>KerasClassifier(\n",
       "\tmodel=&lt;function create_model at 0x280d52790&gt;\n",
       "\tbuild_fn=None\n",
       "\twarm_start=False\n",
       "\trandom_state=None\n",
       "\toptimizer=rmsprop\n",
       "\tloss=None\n",
       "\tmetrics=None\n",
       "\tbatch_size=256\n",
       "\tvalidation_batch_size=None\n",
       "\tverbose=1\n",
       "\tcallbacks=None\n",
       "\tvalidation_split=0.0\n",
       "\tshuffle=True\n",
       "\trun_eagerly=False\n",
       "\tepochs=10\n",
       "\tclass_weight=None\n",
       ")</pre></div></div></div></div></div>"
      ],
      "text/plain": [
       "KerasClassifier(\n",
       "\tmodel=<function create_model at 0x280d52790>\n",
       "\tbuild_fn=None\n",
       "\twarm_start=False\n",
       "\trandom_state=None\n",
       "\toptimizer=rmsprop\n",
       "\tloss=None\n",
       "\tmetrics=None\n",
       "\tbatch_size=256\n",
       "\tvalidation_batch_size=None\n",
       "\tverbose=1\n",
       "\tcallbacks=None\n",
       "\tvalidation_split=0.0\n",
       "\tshuffle=True\n",
       "\trun_eagerly=False\n",
       "\tepochs=10\n",
       "\tclass_weight=None\n",
       ")"
      ]
     },
     "execution_count": 6,
     "metadata": {},
     "output_type": "execute_result"
    }
   ],
   "source": [
    "estimator = KerasClassifier(model=create_model, epochs=10, batch_size=256)\n",
    "estimator.fit(X_train, y_train)"
   ]
  },
  {
   "cell_type": "code",
   "execution_count": 7,
   "metadata": {},
   "outputs": [
    {
     "name": "stdout",
     "output_type": "stream",
     "text": [
      " 56/744 [=>............................] - ETA: 1s"
     ]
    },
    {
     "name": "stderr",
     "output_type": "stream",
     "text": [
      "2022-08-15 22:17:30.731477: I tensorflow/core/grappler/optimizers/custom_graph_optimizer_registry.cc:113] Plugin optimizer for device_type GPU is enabled.\n"
     ]
    },
    {
     "name": "stdout",
     "output_type": "stream",
     "text": [
      "744/744 [==============================] - 2s 3ms/step\n",
      "              precision    recall  f1-score   support\n",
      "\n",
      "           0       0.04      0.45      0.07       196\n",
      "           1       0.68      0.56      0.61      5195\n",
      "           2       0.71      0.61      0.65      6857\n",
      "           3       0.38      0.57      0.46      2773\n",
      "           4       0.40      0.68      0.50      6231\n",
      "           5       0.58      0.57      0.58     15040\n",
      "           6       0.52      0.57      0.54     22077\n",
      "           7       0.49      0.38      0.42     24325\n",
      "           8       0.48      0.33      0.39     23215\n",
      "           9       0.46      0.40      0.43     22520\n",
      "          10       0.44      0.43      0.44     19384\n",
      "          11       0.35      0.54      0.42     11198\n",
      "          12       0.52      0.62      0.57      8873\n",
      "          13       0.70      0.72      0.71      9191\n",
      "          14       0.92      0.89      0.90     13290\n",
      "\n",
      "   micro avg       0.52      0.52      0.52    190365\n",
      "   macro avg       0.51      0.55      0.51    190365\n",
      "weighted avg       0.53      0.52      0.52    190365\n",
      " samples avg       0.52      0.52      0.52    190365\n",
      "\n"
     ]
    }
   ],
   "source": [
    "y_pred_nn_optimal = estimator.predict(X_test)\n",
    "from sklearn.metrics import classification_report\n",
    "print(classification_report(y_test, y_pred_nn_optimal))"
   ]
  },
  {
   "cell_type": "markdown",
   "metadata": {},
   "source": []
  },
  {
   "cell_type": "code",
   "execution_count": 8,
   "metadata": {},
   "outputs": [
    {
     "name": "stdout",
     "output_type": "stream",
     "text": [
      "5117/5117 [==============================] - 14s 3ms/step\n",
      "              precision    recall  f1-score   support\n",
      "\n",
      "           0       0.57      0.52      0.54     97294\n",
      "           1       0.51      0.55      0.53     96900\n",
      "           2       0.61      0.62      0.62     96627\n",
      "           3       0.62      0.58      0.60     96464\n",
      "           4       0.58      0.69      0.63     94818\n",
      "           5       0.61      0.59      0.60     86912\n",
      "           6       0.51      0.58      0.54     75265\n",
      "           7       0.45      0.38      0.41     68420\n",
      "           8       0.45      0.33      0.38     69375\n",
      "           9       0.44      0.41      0.43     73321\n",
      "          10       0.47      0.44      0.45     81233\n",
      "          11       0.48      0.57      0.52     90512\n",
      "          12       0.62      0.65      0.64     93190\n",
      "          13       0.75      0.76      0.75     94137\n",
      "          14       0.91      0.90      0.90     95307\n",
      "\n",
      "   micro avg       0.58      0.58      0.58   1309775\n",
      "   macro avg       0.57      0.57      0.57   1309775\n",
      "weighted avg       0.58      0.58      0.58   1309775\n",
      " samples avg       0.58      0.58      0.58   1309775\n",
      "\n"
     ]
    }
   ],
   "source": [
    "y_pred_nn_optimal = estimator.predict(X_train)\n",
    "from sklearn.metrics import classification_report\n",
    "print(classification_report(y_train, y_pred_nn_optimal))"
   ]
  },
  {
   "cell_type": "code",
   "execution_count": 9,
   "metadata": {},
   "outputs": [
    {
     "name": "stdout",
     "output_type": "stream",
     "text": [
      "744/744 [==============================] - 2s 3ms/step\n"
     ]
    },
    {
     "data": {
      "text/plain": [
       "0.5168544637932393"
      ]
     },
     "execution_count": 9,
     "metadata": {},
     "output_type": "execute_result"
    }
   ],
   "source": [
    "estimator.score(X_test, y_test)"
   ]
  },
  {
   "cell_type": "code",
   "execution_count": 10,
   "metadata": {},
   "outputs": [
    {
     "name": "stdout",
     "output_type": "stream",
     "text": [
      "5117/5117 [==============================] - 14s 3ms/step\n"
     ]
    },
    {
     "data": {
      "text/plain": [
       "0.5829757019335382"
      ]
     },
     "execution_count": 10,
     "metadata": {},
     "output_type": "execute_result"
    }
   ],
   "source": [
    "estimator.score(X_train, y_train)"
   ]
  },
  {
   "cell_type": "code",
   "execution_count": 16,
   "metadata": {},
   "outputs": [],
   "source": [
    "import numpy as np # linear algebra\n",
    "import pandas as pd # data processing, CSV file I/O (e.g. pd.read_csv)\n",
    "from keras.models import Sequential\n",
    "from keras.layers import Dense\n",
    "from keras.layers import Dropout\n",
    "from sklearn.preprocessing import LabelEncoder\n",
    "from tensorflow import keras\n",
    "from scikeras.wrappers import KerasClassifier\n",
    "import warnings\n",
    "import matplotlib.pyplot as plt\n",
    "warnings.filterwarnings(\"ignore\")\n",
    "import pandas as pd\n",
    "import numpy as np\n",
    "import pandas as pd\n",
    "from sklearn.ensemble import RandomForestClassifier\n",
    "from sklearn.tree import DecisionTreeClassifier\n",
    "from sklearn.model_selection import RepeatedStratifiedKFold\n",
    "from sklearn.svm import LinearSVC\n",
    "from sklearn.naive_bayes import GaussianNB\n",
    "from sklearn.neighbors import KNeighborsClassifier\n",
    "from sklearn.model_selection import GridSearchCV\n",
    "from sklearn.linear_model import LogisticRegression\n",
    "from sklearn.linear_model import LogisticRegressionCV\n",
    "from sklearn.svm import SVC\n",
    "from sklearn.model_selection import train_test_split, cross_validate\n",
    "from sklearn.metrics import classification_report\n",
    "from sklearn.model_selection import cross_val_score\n",
    "from sklearn.metrics import roc_curve, auc\n",
    "from sklearn.neighbors import KNeighborsClassifier\n",
    "from tensorflow.keras.layers import LeakyReLU, Dense, BatchNormalization\n",
    "import random"
   ]
  },
  {
   "cell_type": "code",
   "execution_count": 66,
   "metadata": {},
   "outputs": [],
   "source": [
    "X_train = load('../../data/interim//Design/X_train.npy')\n",
    "X_test = load('../../data/interim/Design/X_test.npy')\n",
    "y_train = load('../../data/interim/Design/y_train.npy')\n",
    "y_test = load('../../data/interim/Design/y_test.npy')"
   ]
  },
  {
   "cell_type": "code",
   "execution_count": 17,
   "metadata": {},
   "outputs": [],
   "source": [
    "classes=['A1','A2','A3','B1','B2','B3','C1','C2','C3','D1','D2','E1','E2','F','G']\n",
    "features = [\n",
    "    'CountyName',\n",
    "\t'DwellingTypeDescr',\n",
    "    'YearofConstruction',\n",
    "    'GroundFloorArea(sq m)',\n",
    "    'MainSpaceHeatingFuel',\t\n",
    "    'MainWaterHeatingFuel',\t\n",
    "    'VentilationMethod',\n",
    "    'StructureType',\n",
    "    'NoOfSidesSheltered',\n",
    "    'InsulationType',\n",
    "    'InsulationThickness',\n",
    "    'TotalDeliveredEnergy',\n",
    "    'EnergyCost']"
   ]
  },
  {
   "cell_type": "code",
   "execution_count": 85,
   "metadata": {},
   "outputs": [
    {
     "ename": "ValueError",
     "evalue": "y should be a 1d array, got an array of shape (1309775, 15) instead.",
     "output_type": "error",
     "traceback": [
      "\u001b[0;31m---------------------------------------------------------------------------\u001b[0m",
      "\u001b[0;31mValueError\u001b[0m                                Traceback (most recent call last)",
      "\u001b[1;32m/Users/oisinbrannock/Documents/masters_thesis_ob2814/masters_thesis_ob2814/notebooks/old/model_grid_search.ipynb Cell 55\u001b[0m in \u001b[0;36m<cell line: 3>\u001b[0;34m()\u001b[0m\n\u001b[1;32m      <a href='vscode-notebook-cell:/Users/oisinbrannock/Documents/masters_thesis_ob2814/masters_thesis_ob2814/notebooks/old/model_grid_search.ipynb#Y122sZmlsZQ%3D%3D?line=0'>1</a>\u001b[0m \u001b[39mfrom\u001b[39;00m \u001b[39msklearn\u001b[39;00m\u001b[39m.\u001b[39;00m\u001b[39mpreprocessing\u001b[39;00m \u001b[39mimport\u001b[39;00m LabelEncoder\n\u001b[1;32m      <a href='vscode-notebook-cell:/Users/oisinbrannock/Documents/masters_thesis_ob2814/masters_thesis_ob2814/notebooks/old/model_grid_search.ipynb#Y122sZmlsZQ%3D%3D?line=1'>2</a>\u001b[0m yle \u001b[39m=\u001b[39m LabelEncoder()\n\u001b[0;32m----> <a href='vscode-notebook-cell:/Users/oisinbrannock/Documents/masters_thesis_ob2814/masters_thesis_ob2814/notebooks/old/model_grid_search.ipynb#Y122sZmlsZQ%3D%3D?line=2'>3</a>\u001b[0m y_train \u001b[39m=\u001b[39m yle\u001b[39m.\u001b[39;49mfit_transform(y_train)\n\u001b[1;32m      <a href='vscode-notebook-cell:/Users/oisinbrannock/Documents/masters_thesis_ob2814/masters_thesis_ob2814/notebooks/old/model_grid_search.ipynb#Y122sZmlsZQ%3D%3D?line=3'>4</a>\u001b[0m \u001b[39mfrom\u001b[39;00m \u001b[39mtensorflow\u001b[39;00m\u001b[39m.\u001b[39;00m\u001b[39mkeras\u001b[39;00m\u001b[39m.\u001b[39;00m\u001b[39mutils\u001b[39;00m \u001b[39mimport\u001b[39;00m to_categorical\n\u001b[1;32m      <a href='vscode-notebook-cell:/Users/oisinbrannock/Documents/masters_thesis_ob2814/masters_thesis_ob2814/notebooks/old/model_grid_search.ipynb#Y122sZmlsZQ%3D%3D?line=4'>5</a>\u001b[0m y_train \u001b[39m=\u001b[39m to_categorical(y_train, \u001b[39m15\u001b[39m)\n",
      "File \u001b[0;32m~/.pyenv/versions/3.9.2/envs/NN/lib/python3.9/site-packages/sklearn/preprocessing/_label.py:115\u001b[0m, in \u001b[0;36mLabelEncoder.fit_transform\u001b[0;34m(self, y)\u001b[0m\n\u001b[1;32m    102\u001b[0m \u001b[39mdef\u001b[39;00m \u001b[39mfit_transform\u001b[39m(\u001b[39mself\u001b[39m, y):\n\u001b[1;32m    103\u001b[0m     \u001b[39m\"\"\"Fit label encoder and return encoded labels.\u001b[39;00m\n\u001b[1;32m    104\u001b[0m \n\u001b[1;32m    105\u001b[0m \u001b[39m    Parameters\u001b[39;00m\n\u001b[0;32m   (...)\u001b[0m\n\u001b[1;32m    113\u001b[0m \u001b[39m        Encoded labels.\u001b[39;00m\n\u001b[1;32m    114\u001b[0m \u001b[39m    \"\"\"\u001b[39;00m\n\u001b[0;32m--> 115\u001b[0m     y \u001b[39m=\u001b[39m column_or_1d(y, warn\u001b[39m=\u001b[39;49m\u001b[39mTrue\u001b[39;49;00m)\n\u001b[1;32m    116\u001b[0m     \u001b[39mself\u001b[39m\u001b[39m.\u001b[39mclasses_, y \u001b[39m=\u001b[39m _unique(y, return_inverse\u001b[39m=\u001b[39m\u001b[39mTrue\u001b[39;00m)\n\u001b[1;32m    117\u001b[0m     \u001b[39mreturn\u001b[39;00m y\n",
      "File \u001b[0;32m~/.pyenv/versions/3.9.2/envs/NN/lib/python3.9/site-packages/sklearn/utils/validation.py:1156\u001b[0m, in \u001b[0;36mcolumn_or_1d\u001b[0;34m(y, warn)\u001b[0m\n\u001b[1;32m   1147\u001b[0m         warnings\u001b[39m.\u001b[39mwarn(\n\u001b[1;32m   1148\u001b[0m             \u001b[39m\"\u001b[39m\u001b[39mA column-vector y was passed when a 1d array was\u001b[39m\u001b[39m\"\u001b[39m\n\u001b[1;32m   1149\u001b[0m             \u001b[39m\"\u001b[39m\u001b[39m expected. Please change the shape of y to \u001b[39m\u001b[39m\"\u001b[39m\n\u001b[0;32m   (...)\u001b[0m\n\u001b[1;32m   1152\u001b[0m             stacklevel\u001b[39m=\u001b[39m\u001b[39m2\u001b[39m,\n\u001b[1;32m   1153\u001b[0m         )\n\u001b[1;32m   1154\u001b[0m     \u001b[39mreturn\u001b[39;00m np\u001b[39m.\u001b[39mravel(y)\n\u001b[0;32m-> 1156\u001b[0m \u001b[39mraise\u001b[39;00m \u001b[39mValueError\u001b[39;00m(\n\u001b[1;32m   1157\u001b[0m     \u001b[39m\"\u001b[39m\u001b[39my should be a 1d array, got an array of shape \u001b[39m\u001b[39m{}\u001b[39;00m\u001b[39m instead.\u001b[39m\u001b[39m\"\u001b[39m\u001b[39m.\u001b[39mformat(shape)\n\u001b[1;32m   1158\u001b[0m )\n",
      "\u001b[0;31mValueError\u001b[0m: y should be a 1d array, got an array of shape (1309775, 15) instead."
     ]
    }
   ],
   "source": [
    "from sklearn.preprocessing import LabelEncoder\n",
    "yle = LabelEncoder()\n",
    "y_train = yle.fit_transform(y_train)\n",
    "from tensorflow.keras.utils import to_categorical\n",
    "y_train = to_categorical(y_train, 15)\n",
    "y_test = yle.transform(y_test)\n",
    "y_test = to_categorical(y_test, 15)"
   ]
  },
  {
   "cell_type": "code",
   "execution_count": 81,
   "metadata": {},
   "outputs": [
    {
     "ename": "YellowbrickValueError",
     "evalue": "PrecisionRecallCurve does not support target type 'multilabel-indicator', please provide a binary or multiclass single-output target",
     "output_type": "error",
     "traceback": [
      "\u001b[0;31m---------------------------------------------------------------------------\u001b[0m",
      "\u001b[0;31mYellowbrickValueError\u001b[0m                     Traceback (most recent call last)",
      "\u001b[1;32m/Users/oisinbrannock/Documents/masters_thesis_ob2814/masters_thesis_ob2814/notebooks/old/model_grid_search.ipynb Cell 56\u001b[0m in \u001b[0;36m<cell line: 7>\u001b[0;34m()\u001b[0m\n\u001b[1;32m      <a href='vscode-notebook-cell:/Users/oisinbrannock/Documents/masters_thesis_ob2814/masters_thesis_ob2814/notebooks/old/model_grid_search.ipynb#Y113sZmlsZQ%3D%3D?line=4'>5</a>\u001b[0m plt\u001b[39m.\u001b[39mylabel(\u001b[39m\"\u001b[39m\u001b[39mPrecision\u001b[39m\u001b[39m\"\u001b[39m, fontsize\u001b[39m=\u001b[39m\u001b[39m16\u001b[39m)\n\u001b[1;32m      <a href='vscode-notebook-cell:/Users/oisinbrannock/Documents/masters_thesis_ob2814/masters_thesis_ob2814/notebooks/old/model_grid_search.ipynb#Y113sZmlsZQ%3D%3D?line=5'>6</a>\u001b[0m viz \u001b[39m=\u001b[39m PrecisionRecallCurve(estimator, classes\u001b[39m=\u001b[39mclasses)\n\u001b[0;32m----> <a href='vscode-notebook-cell:/Users/oisinbrannock/Documents/masters_thesis_ob2814/masters_thesis_ob2814/notebooks/old/model_grid_search.ipynb#Y113sZmlsZQ%3D%3D?line=6'>7</a>\u001b[0m viz\u001b[39m.\u001b[39;49mfit(X_train, y_train)\n\u001b[1;32m      <a href='vscode-notebook-cell:/Users/oisinbrannock/Documents/masters_thesis_ob2814/masters_thesis_ob2814/notebooks/old/model_grid_search.ipynb#Y113sZmlsZQ%3D%3D?line=7'>8</a>\u001b[0m viz\u001b[39m.\u001b[39mscore(X_test, y_test)\n\u001b[1;32m      <a href='vscode-notebook-cell:/Users/oisinbrannock/Documents/masters_thesis_ob2814/masters_thesis_ob2814/notebooks/old/model_grid_search.ipynb#Y113sZmlsZQ%3D%3D?line=8'>9</a>\u001b[0m plt\u001b[39m.\u001b[39mlegend(loc\u001b[39m=\u001b[39m\u001b[39m'\u001b[39m\u001b[39mcenter\u001b[39m\u001b[39m'\u001b[39m, fontsize\u001b[39m=\u001b[39m\u001b[39m12\u001b[39m)\n",
      "File \u001b[0;32m~/.pyenv/versions/3.9.2/envs/NN/lib/python3.9/site-packages/yellowbrick/classifier/prcurve.py:280\u001b[0m, in \u001b[0;36mPrecisionRecallCurve.fit\u001b[0;34m(self, X, y)\u001b[0m\n\u001b[1;32m    278\u001b[0m     \u001b[39mself\u001b[39m\u001b[39m.\u001b[39mtarget_type_ \u001b[39m=\u001b[39m BINARY\n\u001b[1;32m    279\u001b[0m \u001b[39melse\u001b[39;00m:\n\u001b[0;32m--> 280\u001b[0m     \u001b[39mraise\u001b[39;00m YellowbrickValueError(\n\u001b[1;32m    281\u001b[0m         (\n\u001b[1;32m    282\u001b[0m             \u001b[39m\"\u001b[39m\u001b[39m{}\u001b[39;00m\u001b[39m does not support target type \u001b[39m\u001b[39m'\u001b[39m\u001b[39m{}\u001b[39;00m\u001b[39m'\u001b[39m\u001b[39m, \u001b[39m\u001b[39m\"\u001b[39m\n\u001b[1;32m    283\u001b[0m             \u001b[39m\"\u001b[39m\u001b[39mplease provide a binary or multiclass single-output target\u001b[39m\u001b[39m\"\u001b[39m\n\u001b[1;32m    284\u001b[0m         )\u001b[39m.\u001b[39mformat(\u001b[39mself\u001b[39m\u001b[39m.\u001b[39m\u001b[39m__class__\u001b[39m\u001b[39m.\u001b[39m\u001b[39m__name__\u001b[39m, ttype)\n\u001b[1;32m    285\u001b[0m     )\n\u001b[1;32m    287\u001b[0m \u001b[39m# Fit the model and return self\u001b[39;00m\n\u001b[1;32m    288\u001b[0m \u001b[39mreturn\u001b[39;00m \u001b[39msuper\u001b[39m(PrecisionRecallCurve, \u001b[39mself\u001b[39m)\u001b[39m.\u001b[39mfit(X, Y)\n",
      "\u001b[0;31mYellowbrickValueError\u001b[0m: PrecisionRecallCurve does not support target type 'multilabel-indicator', please provide a binary or multiclass single-output target"
     ]
    },
    {
     "data": {
      "image/png": "[encoded data removed]",
      "text/plain": [
       "<Figure size 864x576 with 1 Axes>"
      ]
     },
     "metadata": {
      "needs_background": "light"
     },
     "output_type": "display_data"
    }
   ],
   "source": [
    "from yellowbrick.classifier import PrecisionRecallCurve\n",
    "plt.figure(figsize=(12,8))\n",
    "plt.title(\"Precision-Recall Curve\", fontsize=18)\n",
    "plt.xlabel(\"Recall\", fontsize=16)\n",
    "plt.ylabel(\"Precision\", fontsize=16)\n",
    "viz = PrecisionRecallCurve(estimator, classes=classes)\n",
    "viz.fit(X_train, y_train)\n",
    "viz.score(X_test, y_test)\n",
    "plt.legend(loc='center', fontsize=12)\n",
    "plt.grid(False)"
   ]
  },
  {
   "cell_type": "code",
   "execution_count": 12,
   "metadata": {},
   "outputs": [
    {
     "name": "stderr",
     "output_type": "stream",
     "text": [
      "/var/folders/f2/h4nbcthd4cld5t6fzd1x3jg40000gn/T/ipykernel_6041/3651695446.py:30: DeprecationWarning: scipy.interp is deprecated and will be removed in SciPy 2.0.0, use numpy.interp instead\n",
      "  mean_tpr += interp(all_fpr, fpr[i], tpr[i])\n"
     ]
    },
    {
     "data": {
      "image/png": "[encoded data removed]",
      "text/plain": [
       "<Figure size 864x720 with 1 Axes>"
      ]
     },
     "metadata": {
      "needs_background": "light"
     },
     "output_type": "display_data"
    },
    {
     "data": {
      "image/png": "[encoded data removed]",
      "text/plain": [
       "<Figure size 432x288 with 1 Axes>"
      ]
     },
     "metadata": {
      "needs_background": "light"
     },
     "output_type": "display_data"
    }
   ],
   "source": [
    "import numpy as np\n",
    "from scipy import interp\n",
    "import matplotlib.pyplot as plt\n",
    "from itertools import cycle\n",
    "from sklearn.metrics import roc_curve, auc\n",
    "\n",
    "# Plot linewidth.\n",
    "lw = 2\n",
    "\n",
    "# Compute ROC curve and ROC area for each class\n",
    "fpr = dict()\n",
    "tpr = dict()\n",
    "roc_auc = dict()\n",
    "for i in range(15):\n",
    "    fpr[i], tpr[i], _ = roc_curve(y_train[:, i], y_pred_nn_optimal[:, i])\n",
    "    roc_auc[i] = auc(fpr[i], tpr[i])\n",
    "\n",
    "# Compute micro-average ROC curve and ROC area\n",
    "fpr[\"micro\"], tpr[\"micro\"], _ = roc_curve(y_train.ravel(), y_pred_nn_optimal.ravel())\n",
    "roc_auc[\"micro\"] = auc(fpr[\"micro\"], tpr[\"micro\"])\n",
    "\n",
    "# Compute macro-average ROC curve and ROC area\n",
    "\n",
    "# First aggregate all false positive rates\n",
    "all_fpr = np.unique(np.concatenate([fpr[i] for i in range(15)]))\n",
    "\n",
    "# Then interpolate all ROC curves at this points\n",
    "mean_tpr = np.zeros_like(all_fpr)\n",
    "for i in range(15):\n",
    "    mean_tpr += interp(all_fpr, fpr[i], tpr[i])\n",
    "\n",
    "# Finally average it and compute AUC\n",
    "mean_tpr /= 15\n",
    "\n",
    "fpr[\"macro\"] = all_fpr\n",
    "tpr[\"macro\"] = mean_tpr\n",
    "roc_auc[\"macro\"] = auc(fpr[\"macro\"], tpr[\"macro\"])\n",
    "\n",
    "# Plot all ROC curves\n",
    "fig, ax = plt.subplots(figsize=(12,10))\n",
    "plt.grid(False)\n",
    "plt.figure(1)\n",
    "\n",
    "\n",
    "plt.plot(fpr[\"micro\"], tpr[\"micro\"],\n",
    "         label='micro-average ROC curve (area = {0:0.2f})'\n",
    "               ''.format(roc_auc[\"micro\"]),\n",
    "         color='red', linestyle=':', linewidth=4)\n",
    "\n",
    "\n",
    "\n",
    "plt.plot([0, 1], [0, 1], 'k--', lw=lw)\n",
    "plt.xlim([0.0, 1.0])\n",
    "plt.ylim([0.0, 1.05])\n",
    "plt.xlabel('False Positive Rate')\n",
    "plt.ylabel('True Positive Rate')\n",
    "plt.title('ANN ROC')\n",
    "plt.legend(loc='lower right')\n",
    "plt.show()\n",
    "\n",
    "\n",
    "# Zoom in view of the upper left corner.\n",
    "plt.figure(2)\n",
    "plt.xlim(0, 0.2)\n",
    "plt.ylim(0.8, 1)\n",
    "plt.plot(fpr[\"micro\"], tpr[\"micro\"],\n",
    "         label='micro-average ROC curve (area = {0:0.2f})'\n",
    "               ''.format(roc_auc[\"micro\"]),\n",
    "         color='red', linestyle=':', linewidth=4)\n",
    "\n",
    "plt.plot(fpr[\"macro\"], tpr[\"macro\"],\n",
    "         label='macro-average ROC curve (area = {0:0.2f})'\n",
    "               ''.format(roc_auc[\"macro\"]),\n",
    "         color='navy', linestyle=':', linewidth=4)\n",
    "\n",
    "colors = cycle(['aqua', 'darkorange', 'cornflowerblue'])\n",
    "for i, color in zip(range(15), colors):\n",
    "    plt.plot(fpr[i], tpr[i], color=color, lw=lw,\n",
    "             label='ROC curve of class {0} (area = {1:0.2f})'\n",
    "             ''.format(i, roc_auc[i]))\n",
    "\n",
    "plt.plot([0, 1], [0, 1], 'k--', lw=lw)\n",
    "plt.xlabel('False Positive Rate')\n",
    "plt.ylabel('True Positive Rate')\n",
    "plt.title('')\n",
    "plt.legend(loc='lower right')\n",
    "plt.show()"
   ]
  },
  {
   "cell_type": "code",
   "execution_count": 50,
   "metadata": {},
   "outputs": [
    {
     "name": "stdout",
     "output_type": "stream",
     "text": [
      "[[  114    50    10    16     1     4     0     0     0     0     1     0\n",
      "      0     0     0]\n",
      " [ 1448  2467  1183    67    13     7     2     2     0     1     0     3\n",
      "      1     1     0]\n",
      " [  820  1234  4151   531    47    37     4     3     3    13     1     8\n",
      "      2     2     1]\n",
      " [  170    17   286  1644   428   121    26    13     9    22     5    20\n",
      "      5     4     3]\n",
      " [   86     1   128  1167  3872   711   118    20    19    20     9    50\n",
      "     15    12     3]\n",
      " [   49     2    55   375  3066  9730  1429   158    52    58    21    32\n",
      "      0     3    10]\n",
      " [   50     0    19   275   595  6046 12058  1981   539   299    55    98\n",
      "      8    32    22]\n",
      " [   58     0    10   265   627   369  9289  7913  3769  1619   170   205\n",
      "      5     9    17]\n",
      " [   68     0     9   213   663   245  1049  5476  7211  6838   731   674\n",
      "     19     9    10]\n",
      " [   57     0     8   191   328   500   623   689  2785 11287  3856  2036\n",
      "     83    64    13]\n",
      " [   54     0     1    27    37   242   694   403   341  3043  6404  7713\n",
      "    298   100    27]\n",
      " [   27     0     0     6     8    12   147   216   205   625   614  7541\n",
      "   1435   331    31]\n",
      " [   21     0     0     1     3     3    13    52    97   370   216  1796\n",
      "   4492  1724    85]\n",
      " [   19     0     0     1     0     4     7     4    15   128   142   703\n",
      "    790  6736   642]\n",
      " [   19     0     0     0     0     5     9     2     0    14    20   217\n",
      "    197  1739 11068]]\n"
     ]
    }
   ],
   "source": [
    "from sklearn.metrics import confusion_matrix\n",
    "y_prediction = np.argmax (y_pred_nn_optimal, axis = 1)\n",
    "y_test_f=np.argmax(y_test, axis=1)\n",
    "#Create confusion matrix and normalizes it over predicted (columns)\n",
    "result = confusion_matrix(y_test_f, y_prediction)\n",
    "print(result)"
   ]
  },
  {
   "cell_type": "code",
   "execution_count": 137,
   "metadata": {},
   "outputs": [
    {
     "data": {
      "image/png": "[encoded data removed]",
      "text/plain": [
       "<Figure size 864x720 with 2 Axes>"
      ]
     },
     "metadata": {
      "needs_background": "light"
     },
     "output_type": "display_data"
    }
   ],
   "source": [
    "from sklearn.metrics import ConfusionMatrixDisplay\n",
    "from sklearn.metrics import confusion_matrix\n",
    "import matplotlib.pyplot as plt\n",
    "import numpy as np\n",
    "\n",
    "cm = confusion_matrix(y_test, y_prediction)\n",
    "\n",
    "disp = ConfusionMatrixDisplay(confusion_matrix=cm, display_labels=classes, )\n",
    "\n",
    "fig, ax = plt.subplots(figsize=(12,10))\n",
    "plt.grid(False)\n",
    "disp.plot(cmap=plt.cm.Greens, ax=ax, values_format='')\n",
    "plt.show()"
   ]
  },
  {
   "cell_type": "code",
   "execution_count": 33,
   "metadata": {},
   "outputs": [
    {
     "ename": "YellowbrickTypeError",
     "evalue": "could not find feature importances param on KerasClassifier",
     "output_type": "error",
     "traceback": [
      "\u001b[0;31m---------------------------------------------------------------------------\u001b[0m",
      "\u001b[0;31mYellowbrickTypeError\u001b[0m                      Traceback (most recent call last)",
      "\u001b[1;32m/Users/oisinbrannock/Documents/masters_thesis_ob2814/masters_thesis_ob2814/notebooks/old/model_grid_search.ipynb Cell 59\u001b[0m in \u001b[0;36m<cell line: 6>\u001b[0;34m()\u001b[0m\n\u001b[1;32m      <a href='vscode-notebook-cell:/Users/oisinbrannock/Documents/masters_thesis_ob2814/masters_thesis_ob2814/notebooks/old/model_grid_search.ipynb#Y116sZmlsZQ%3D%3D?line=3'>4</a>\u001b[0m plt\u001b[39m.\u001b[39mxlabel(\u001b[39m'\u001b[39m\u001b[39mFeature Importance\u001b[39m\u001b[39m'\u001b[39m)\n\u001b[1;32m      <a href='vscode-notebook-cell:/Users/oisinbrannock/Documents/masters_thesis_ob2814/masters_thesis_ob2814/notebooks/old/model_grid_search.ipynb#Y116sZmlsZQ%3D%3D?line=4'>5</a>\u001b[0m visualizer_FI \u001b[39m=\u001b[39m FeatureImportances(estimator, labels\u001b[39m=\u001b[39mfeatures, relative\u001b[39m=\u001b[39m\u001b[39mFalse\u001b[39;00m, colors\u001b[39m=\u001b[39m[\u001b[39m'\u001b[39m\u001b[39m#009E73\u001b[39m\u001b[39m'\u001b[39m], title \u001b[39m=\u001b[39m \u001b[39m'\u001b[39m\u001b[39mFeature Importances in Optimal Model\u001b[39m\u001b[39m'\u001b[39m, xlabel\u001b[39m=\u001b[39m\u001b[39m'\u001b[39m\u001b[39mFeature Importance\u001b[39m\u001b[39m'\u001b[39m)\n\u001b[0;32m----> <a href='vscode-notebook-cell:/Users/oisinbrannock/Documents/masters_thesis_ob2814/masters_thesis_ob2814/notebooks/old/model_grid_search.ipynb#Y116sZmlsZQ%3D%3D?line=5'>6</a>\u001b[0m visualizer_FI\u001b[39m.\u001b[39;49mfit(X_train, y_train)\n\u001b[1;32m      <a href='vscode-notebook-cell:/Users/oisinbrannock/Documents/masters_thesis_ob2814/masters_thesis_ob2814/notebooks/old/model_grid_search.ipynb#Y116sZmlsZQ%3D%3D?line=6'>7</a>\u001b[0m visualizer_FI\u001b[39m.\u001b[39mshow()\n",
      "File \u001b[0;32m~/.pyenv/versions/3.9.2/envs/NN/lib/python3.9/site-packages/yellowbrick/model_selection/importances.py:179\u001b[0m, in \u001b[0;36mFeatureImportances.fit\u001b[0;34m(self, X, y, **kwargs)\u001b[0m\n\u001b[1;32m    176\u001b[0m \u001b[39msuper\u001b[39m(FeatureImportances, \u001b[39mself\u001b[39m)\u001b[39m.\u001b[39mfit(X, y, \u001b[39m*\u001b[39m\u001b[39m*\u001b[39mkwargs)\n\u001b[1;32m    178\u001b[0m \u001b[39m# Get the feature importances from the model\u001b[39;00m\n\u001b[0;32m--> 179\u001b[0m \u001b[39mself\u001b[39m\u001b[39m.\u001b[39mfeature_importances_ \u001b[39m=\u001b[39m \u001b[39mself\u001b[39;49m\u001b[39m.\u001b[39;49m_find_importances_param()\n\u001b[1;32m    181\u001b[0m \u001b[39m# Get the classes from the model\u001b[39;00m\n\u001b[1;32m    182\u001b[0m \u001b[39mif\u001b[39;00m is_classifier(\u001b[39mself\u001b[39m):\n",
      "File \u001b[0;32m~/.pyenv/versions/3.9.2/envs/NN/lib/python3.9/site-packages/yellowbrick/model_selection/importances.py:352\u001b[0m, in \u001b[0;36mFeatureImportances._find_importances_param\u001b[0;34m(self)\u001b[0m\n\u001b[1;32m    349\u001b[0m     \u001b[39mexcept\u001b[39;00m \u001b[39mAttributeError\u001b[39;00m:\n\u001b[1;32m    350\u001b[0m         \u001b[39mcontinue\u001b[39;00m\n\u001b[0;32m--> 352\u001b[0m \u001b[39mraise\u001b[39;00m YellowbrickTypeError(\n\u001b[1;32m    353\u001b[0m     \u001b[39m\"\u001b[39m\u001b[39mcould not find feature importances param on \u001b[39m\u001b[39m{}\u001b[39;00m\u001b[39m\"\u001b[39m\u001b[39m.\u001b[39mformat(\n\u001b[1;32m    354\u001b[0m         \u001b[39mself\u001b[39m\u001b[39m.\u001b[39mestimator\u001b[39m.\u001b[39m\u001b[39m__class__\u001b[39m\u001b[39m.\u001b[39m\u001b[39m__name__\u001b[39m\n\u001b[1;32m    355\u001b[0m     )\n\u001b[1;32m    356\u001b[0m )\n",
      "\u001b[0;31mYellowbrickTypeError\u001b[0m: could not find feature importances param on KerasClassifier"
     ]
    },
    {
     "data": {
      "image/png": "[encoded data removed]",
      "text/plain": [
       "<Figure size 720x576 with 1 Axes>"
      ]
     },
     "metadata": {
      "needs_background": "light"
     },
     "output_type": "display_data"
    }
   ],
   "source": [
    "from yellowbrick.model_selection import FeatureImportances\n",
    "plt.figure(figsize=(10,8))\n",
    "plt.title('Feature Importances')\n",
    "plt.xlabel('Feature Importance')\n",
    "visualizer_FI = FeatureImportances(estimator, labels=features, relative=False, colors=['#009E73'], title = 'Feature Importances in Optimal Model', xlabel='Feature Importance')\n",
    "visualizer_FI.fit(X_train, y_train)\n",
    "visualizer_FI.show();"
   ]
  },
  {
   "cell_type": "code",
   "execution_count": null,
   "metadata": {},
   "outputs": [
    {
     "data": {
      "text/plain": [
       "array([49.48979592, 88.45043311, 87.47265568, 73.99927876, 78.18969668,\n",
       "       84.20212766, 82.63803959, 79.95477903, 77.93237131, 76.70515098,\n",
       "       78.35328106, 76.83514913, 77.053984  , 83.29887934, 92.75395034])"
      ]
     },
     "metadata": {},
     "output_type": "display_data"
    }
   ],
   "source": [
    "from sklearn.metrics import confusion_matrix\n",
    "y_pred = model.predict(X_test)\n",
    "matrix = confusion_matrix(y_test, y_pred)\n",
    "matrix.diagonal()/matrix.sum(axis=1) * 100"
   ]
  },
  {
   "cell_type": "code",
   "execution_count": null,
   "metadata": {},
   "outputs": [
    {
     "name": "stdout",
     "output_type": "stream",
     "text": [
      "              precision    recall  f1-score   support\n",
      "\n",
      "           0       0.50      0.49      0.50       196\n",
      "           1       0.89      0.88      0.89      5195\n",
      "           2       0.88      0.87      0.88      6857\n",
      "           3       0.65      0.74      0.69      2773\n",
      "           4       0.75      0.78      0.77      6231\n",
      "           5       0.82      0.84      0.83     15040\n",
      "           6       0.85      0.83      0.84     22077\n",
      "           7       0.84      0.80      0.82     24325\n",
      "           8       0.81      0.78      0.79     23215\n",
      "           9       0.80      0.77      0.79     22520\n",
      "          10       0.79      0.78      0.79     19384\n",
      "          11       0.68      0.77      0.72     11198\n",
      "          12       0.71      0.77      0.74      8873\n",
      "          13       0.77      0.83      0.80      9191\n",
      "          14       0.94      0.93      0.94     13290\n",
      "\n",
      "    accuracy                           0.81    190365\n",
      "   macro avg       0.78      0.79      0.78    190365\n",
      "weighted avg       0.81      0.81      0.81    190365\n",
      "\n"
     ]
    }
   ],
   "source": [
    "from sklearn.metrics import classification_report\n",
    "print(classification_report(y_test, y_pred))"
   ]
  },
  {
   "cell_type": "code",
   "execution_count": 124,
   "metadata": {},
   "outputs": [
    {
     "data": {
      "text/html": [
       "<style>#sk-container-id-2 {color: black;background-color: white;}#sk-container-id-2 pre{padding: 0;}#sk-container-id-2 div.sk-toggleable {background-color: white;}#sk-container-id-2 label.sk-toggleable__label {cursor: pointer;display: block;width: 100%;margin-bottom: 0;padding: 0.3em;box-sizing: border-box;text-align: center;}#sk-container-id-2 label.sk-toggleable__label-arrow:before {content: \"▸\";float: left;margin-right: 0.25em;color: #696969;}#sk-container-id-2 label.sk-toggleable__label-arrow:hover:before {color: black;}#sk-container-id-2 div.sk-estimator:hover label.sk-toggleable__label-arrow:before {color: black;}#sk-container-id-2 div.sk-toggleable__content {max-height: 0;max-width: 0;overflow: hidden;text-align: left;background-color: #f0f8ff;}#sk-container-id-2 div.sk-toggleable__content pre {margin: 0.2em;color: black;border-radius: 0.25em;background-color: #f0f8ff;}#sk-container-id-2 input.sk-toggleable__control:checked~div.sk-toggleable__content {max-height: 200px;max-width: 100%;overflow: auto;}#sk-container-id-2 input.sk-toggleable__control:checked~label.sk-toggleable__label-arrow:before {content: \"▾\";}#sk-container-id-2 div.sk-estimator input.sk-toggleable__control:checked~label.sk-toggleable__label {background-color: #d4ebff;}#sk-container-id-2 div.sk-label input.sk-toggleable__control:checked~label.sk-toggleable__label {background-color: #d4ebff;}#sk-container-id-2 input.sk-hidden--visually {border: 0;clip: rect(1px 1px 1px 1px);clip: rect(1px, 1px, 1px, 1px);height: 1px;margin: -1px;overflow: hidden;padding: 0;position: absolute;width: 1px;}#sk-container-id-2 div.sk-estimator {font-family: monospace;background-color: #f0f8ff;border: 1px dotted black;border-radius: 0.25em;box-sizing: border-box;margin-bottom: 0.5em;}#sk-container-id-2 div.sk-estimator:hover {background-color: #d4ebff;}#sk-container-id-2 div.sk-parallel-item::after {content: \"\";width: 100%;border-bottom: 1px solid gray;flex-grow: 1;}#sk-container-id-2 div.sk-label:hover label.sk-toggleable__label {background-color: #d4ebff;}#sk-container-id-2 div.sk-serial::before {content: \"\";position: absolute;border-left: 1px solid gray;box-sizing: border-box;top: 0;bottom: 0;left: 50%;z-index: 0;}#sk-container-id-2 div.sk-serial {display: flex;flex-direction: column;align-items: center;background-color: white;padding-right: 0.2em;padding-left: 0.2em;position: relative;}#sk-container-id-2 div.sk-item {position: relative;z-index: 1;}#sk-container-id-2 div.sk-parallel {display: flex;align-items: stretch;justify-content: center;background-color: white;position: relative;}#sk-container-id-2 div.sk-item::before, #sk-container-id-2 div.sk-parallel-item::before {content: \"\";position: absolute;border-left: 1px solid gray;box-sizing: border-box;top: 0;bottom: 0;left: 50%;z-index: -1;}#sk-container-id-2 div.sk-parallel-item {display: flex;flex-direction: column;z-index: 1;position: relative;background-color: white;}#sk-container-id-2 div.sk-parallel-item:first-child::after {align-self: flex-end;width: 50%;}#sk-container-id-2 div.sk-parallel-item:last-child::after {align-self: flex-start;width: 50%;}#sk-container-id-2 div.sk-parallel-item:only-child::after {width: 0;}#sk-container-id-2 div.sk-dashed-wrapped {border: 1px dashed gray;margin: 0 0.4em 0.5em 0.4em;box-sizing: border-box;padding-bottom: 0.4em;background-color: white;}#sk-container-id-2 div.sk-label label {font-family: monospace;font-weight: bold;display: inline-block;line-height: 1.2em;}#sk-container-id-2 div.sk-label-container {text-align: center;}#sk-container-id-2 div.sk-container {/* jupyter's `normalize.less` sets `[hidden] { display: none; }` but bootstrap.min.css set `[hidden] { display: none !important; }` so we also need the `!important` here to be able to override the default hidden behavior on the sphinx rendered scikit-learn.org. See: https://github.com/scikit-learn/scikit-learn/issues/21755 */display: inline-block !important;position: relative;}#sk-container-id-2 div.sk-text-repr-fallback {display: none;}</style><div id=\"sk-container-id-2\" class=\"sk-top-container\"><div class=\"sk-text-repr-fallback\"><pre>KerasClassifier(\n",
       "\tmodel=&lt;function create_model at 0x1492e5af0&gt;\n",
       "\tbuild_fn=None\n",
       "\twarm_start=False\n",
       "\trandom_state=None\n",
       "\toptimizer=rmsprop\n",
       "\tloss=None\n",
       "\tmetrics=None\n",
       "\tbatch_size=256\n",
       "\tvalidation_batch_size=None\n",
       "\tverbose=1\n",
       "\tcallbacks=None\n",
       "\tvalidation_split=0.0\n",
       "\tshuffle=True\n",
       "\trun_eagerly=False\n",
       "\tepochs=10\n",
       "\tclass_weight=None\n",
       ")</pre><b>In a Jupyter environment, please rerun this cell to show the HTML representation or trust the notebook. <br />On GitHub, the HTML representation is unable to render, please try loading this page with nbviewer.org.</b></div><div class=\"sk-container\" hidden><div class=\"sk-item\"><div class=\"sk-estimator sk-toggleable\"><input class=\"sk-toggleable__control sk-hidden--visually\" id=\"sk-estimator-id-2\" type=\"checkbox\" checked><label for=\"sk-estimator-id-2\" class=\"sk-toggleable__label sk-toggleable__label-arrow\">KerasClassifier</label><div class=\"sk-toggleable__content\"><pre>KerasClassifier(\n",
       "\tmodel=&lt;function create_model at 0x1492e5af0&gt;\n",
       "\tbuild_fn=None\n",
       "\twarm_start=False\n",
       "\trandom_state=None\n",
       "\toptimizer=rmsprop\n",
       "\tloss=None\n",
       "\tmetrics=None\n",
       "\tbatch_size=256\n",
       "\tvalidation_batch_size=None\n",
       "\tverbose=1\n",
       "\tcallbacks=None\n",
       "\tvalidation_split=0.0\n",
       "\tshuffle=True\n",
       "\trun_eagerly=False\n",
       "\tepochs=10\n",
       "\tclass_weight=None\n",
       ")</pre></div></div></div></div></div>"
      ],
      "text/plain": [
       "KerasClassifier(\n",
       "\tmodel=<function create_model at 0x1492e5af0>\n",
       "\tbuild_fn=None\n",
       "\twarm_start=False\n",
       "\trandom_state=None\n",
       "\toptimizer=rmsprop\n",
       "\tloss=None\n",
       "\tmetrics=None\n",
       "\tbatch_size=256\n",
       "\tvalidation_batch_size=None\n",
       "\tverbose=1\n",
       "\tcallbacks=None\n",
       "\tvalidation_split=0.0\n",
       "\tshuffle=True\n",
       "\trun_eagerly=False\n",
       "\tepochs=10\n",
       "\tclass_weight=None\n",
       ")"
      ]
     },
     "execution_count": 124,
     "metadata": {},
     "output_type": "execute_result"
    }
   ],
   "source": [
    "estimator"
   ]
  },
  {
   "cell_type": "code",
   "execution_count": 135,
   "metadata": {},
   "outputs": [],
   "source": [
    "estimator.model_.save('nn_optimal.h5')"
   ]
  },
  {
   "cell_type": "markdown",
   "metadata": {},
   "source": [
    "---"
   ]
  },
  {
   "cell_type": "markdown",
   "metadata": {},
   "source": [
    "## 5. Boxplot of Outliers"
   ]
  },
  {
   "cell_type": "code",
   "execution_count": null,
   "metadata": {},
   "outputs": [],
   "source": []
  }
 ],
 "metadata": {
  "kernelspec": {
   "display_name": "Python 3.9.2 64-bit ('NN')",
   "language": "python",
   "name": "python3"
  },
  "language_info": {
   "codemirror_mode": {
    "name": "ipython",
    "version": 3
   },
   "file_extension": ".py",
   "mimetype": "text/x-python",
   "name": "python",
   "nbconvert_exporter": "python",
   "pygments_lexer": "ipython3",
   "version": "3.9.2"
  },
  "orig_nbformat": 4,
  "vscode": {
   "interpreter": {
    "hash": "a65ca7f3459d077aa20279ab33dd397a7d6c76a6aca1cdcc25b5a2615eafe111"
   }
  }
 },
 "nbformat": 4,
 "nbformat_minor": 2
}
