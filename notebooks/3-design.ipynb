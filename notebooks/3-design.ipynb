{
 "cells": [
  {
   "cell_type": "code",
   "execution_count": 1,
   "metadata": {},
   "outputs": [],
   "source": [
    "import pandas as pd\n",
    "import numpy as np\n",
    "import pandas as pd\n",
    "from sklearn.experimental import enable_iterative_imputer\n",
    "from sklearn.impute import IterativeImputer\n",
    "from sklearn.ensemble import RandomForestRegressor, RandomForestClassifier\n",
    "import random\n",
    "from sklearn.tree import DecisionTreeClassifier\n",
    "from sklearn.model_selection import RepeatedStratifiedKFold\n",
    "from sklearn.svm import LinearSVC\n",
    "from sklearn.naive_bayes import GaussianNB\n",
    "from imblearn.pipeline import Pipeline\n",
    "from sklearn.neighbors import KNeighborsClassifier\n",
    "from sklearn.model_selection import GridSearchCV\n",
    "from imblearn.over_sampling import SMOTE\n",
    "from sklearn.linear_model import LogisticRegression\n",
    "from sklearn.linear_model import LogisticRegressionCV\n",
    "from sklearn.svm import SVC\n",
    "from sklearn.preprocessing import MinMaxScaler, StandardScaler, QuantileTransformer, RobustScaler\n",
    "from imblearn.combine import SMOTETomek\n",
    "from sklearn.model_selection import train_test_split, cross_validate\n",
    "from imblearn.under_sampling import TomekLinks\n",
    "from sklearn.metrics import classification_report\n",
    "import matplotlib.pyplot as plt\n",
    "from sklearn.model_selection import cross_val_score\n",
    "from yellowbrick.classifier.rocauc import roc_auc\n",
    "from sklearn.preprocessing import OneHotEncoder\n",
    "from sklearn.compose import make_column_transformer\n",
    "from sklearn.compose import make_column_selector as selector\n",
    "from category_encoders import CatBoostEncoder\n",
    "from yellowbrick.classifier import ROCAUC\n",
    "from imblearn.over_sampling import SMOTENC\n",
    "from sklearn.metrics import roc_curve, auc\n",
    "from imblearn.under_sampling import RandomUnderSampler\n",
    "import category_encoders as ce\n",
    "from sklearn.impute import SimpleImputer\n",
    "from imblearn.over_sampling import RandomOverSampler\n",
    "from imblearn.pipeline import Pipeline\n",
    "from sklearn.preprocessing import LabelEncoder\n",
    "import warnings\n",
    "warnings.filterwarnings(\"ignore\")\n",
    "random.seed(2814)"
   ]
  },
  {
   "cell_type": "code",
   "execution_count": 2,
   "metadata": {},
   "outputs": [],
   "source": [
    "# Read in Imputed dataset\n",
    "df = pd.read_csv('../data/processed/Define/seai_missingforest_data_imputed.csv')"
   ]
  },
  {
   "cell_type": "code",
   "execution_count": 3,
   "metadata": {},
   "outputs": [
    {
     "data": {
      "text/html": [
       "<div>\n",
       "<style scoped>\n",
       "    .dataframe tbody tr th:only-of-type {\n",
       "        vertical-align: middle;\n",
       "    }\n",
       "\n",
       "    .dataframe tbody tr th {\n",
       "        vertical-align: top;\n",
       "    }\n",
       "\n",
       "    .dataframe thead th {\n",
       "        text-align: right;\n",
       "    }\n",
       "</style>\n",
       "<table border=\"1\" class=\"dataframe\">\n",
       "  <thead>\n",
       "    <tr style=\"text-align: right;\">\n",
       "      <th></th>\n",
       "      <th>CountyName</th>\n",
       "      <th>DwellingTypeDescr</th>\n",
       "      <th>YearofConstruction</th>\n",
       "      <th>GroundFloorArea(sq m)</th>\n",
       "      <th>MainSpaceHeatingFuel</th>\n",
       "      <th>MainWaterHeatingFuel</th>\n",
       "      <th>VentilationMethod</th>\n",
       "      <th>StructureType</th>\n",
       "      <th>NoOfSidesSheltered</th>\n",
       "      <th>InsulationType</th>\n",
       "      <th>InsulationThickness</th>\n",
       "      <th>TotalDeliveredEnergy</th>\n",
       "      <th>EnergyRating</th>\n",
       "      <th>EnergyCost</th>\n",
       "    </tr>\n",
       "  </thead>\n",
       "  <tbody>\n",
       "    <tr>\n",
       "      <th>0</th>\n",
       "      <td>Donegal</td>\n",
       "      <td>Detached house</td>\n",
       "      <td>1997</td>\n",
       "      <td>171.19</td>\n",
       "      <td>Heating Oil</td>\n",
       "      <td>Heating Oil</td>\n",
       "      <td>Natural vent.</td>\n",
       "      <td>Masonry</td>\n",
       "      <td>one</td>\n",
       "      <td>Factory Insulated</td>\n",
       "      <td>20.00</td>\n",
       "      <td>25474.522</td>\n",
       "      <td>C2</td>\n",
       "      <td>7191.457561</td>\n",
       "    </tr>\n",
       "    <tr>\n",
       "      <th>1</th>\n",
       "      <td>Kildare</td>\n",
       "      <td>Detached house</td>\n",
       "      <td>2010</td>\n",
       "      <td>242.93</td>\n",
       "      <td>Heating Oil</td>\n",
       "      <td>Heating Oil</td>\n",
       "      <td>Natural vent.</td>\n",
       "      <td>Masonry</td>\n",
       "      <td>two</td>\n",
       "      <td>Factory Insulated</td>\n",
       "      <td>50.00</td>\n",
       "      <td>27654.474</td>\n",
       "      <td>B3</td>\n",
       "      <td>7806.858010</td>\n",
       "    </tr>\n",
       "    <tr>\n",
       "      <th>2</th>\n",
       "      <td>Dublin</td>\n",
       "      <td>Semi-detached house</td>\n",
       "      <td>1999</td>\n",
       "      <td>99.38</td>\n",
       "      <td>Mains Gas</td>\n",
       "      <td>Mains Gas</td>\n",
       "      <td>Natural vent.</td>\n",
       "      <td>Masonry</td>\n",
       "      <td>three</td>\n",
       "      <td>Loose Jacket</td>\n",
       "      <td>20.00</td>\n",
       "      <td>17000.038</td>\n",
       "      <td>C3</td>\n",
       "      <td>1348.103013</td>\n",
       "    </tr>\n",
       "    <tr>\n",
       "      <th>3</th>\n",
       "      <td>Dublin</td>\n",
       "      <td>Semi-detached house</td>\n",
       "      <td>1965</td>\n",
       "      <td>138.41</td>\n",
       "      <td>Mains Gas</td>\n",
       "      <td>Mains Gas</td>\n",
       "      <td>Natural vent.</td>\n",
       "      <td>Masonry</td>\n",
       "      <td>two</td>\n",
       "      <td>Factory Insulated</td>\n",
       "      <td>39.35</td>\n",
       "      <td>22708.484</td>\n",
       "      <td>C2</td>\n",
       "      <td>1800.782781</td>\n",
       "    </tr>\n",
       "    <tr>\n",
       "      <th>4</th>\n",
       "      <td>Dublin</td>\n",
       "      <td>Semi-detached house</td>\n",
       "      <td>1985</td>\n",
       "      <td>127.16</td>\n",
       "      <td>Mains Gas</td>\n",
       "      <td>Mains Gas</td>\n",
       "      <td>Natural vent.</td>\n",
       "      <td>Masonry</td>\n",
       "      <td>two</td>\n",
       "      <td>Loose Jacket</td>\n",
       "      <td>100.00</td>\n",
       "      <td>28182.863</td>\n",
       "      <td>D2</td>\n",
       "      <td>2234.901036</td>\n",
       "    </tr>\n",
       "  </tbody>\n",
       "</table>\n",
       "</div>"
      ],
      "text/plain": [
       "  CountyName    DwellingTypeDescr  YearofConstruction  GroundFloorArea(sq m)  \\\n",
       "0    Donegal       Detached house                1997                 171.19   \n",
       "1    Kildare       Detached house                2010                 242.93   \n",
       "2     Dublin  Semi-detached house                1999                  99.38   \n",
       "3     Dublin  Semi-detached house                1965                 138.41   \n",
       "4     Dublin  Semi-detached house                1985                 127.16   \n",
       "\n",
       "  MainSpaceHeatingFuel MainWaterHeatingFuel VentilationMethod StructureType  \\\n",
       "0          Heating Oil          Heating Oil     Natural vent.       Masonry   \n",
       "1          Heating Oil          Heating Oil     Natural vent.       Masonry   \n",
       "2            Mains Gas            Mains Gas     Natural vent.       Masonry   \n",
       "3            Mains Gas            Mains Gas     Natural vent.       Masonry   \n",
       "4            Mains Gas            Mains Gas     Natural vent.       Masonry   \n",
       "\n",
       "  NoOfSidesSheltered     InsulationType  InsulationThickness  \\\n",
       "0                one  Factory Insulated                20.00   \n",
       "1                two  Factory Insulated                50.00   \n",
       "2              three       Loose Jacket                20.00   \n",
       "3                two  Factory Insulated                39.35   \n",
       "4                two       Loose Jacket               100.00   \n",
       "\n",
       "   TotalDeliveredEnergy EnergyRating   EnergyCost  \n",
       "0             25474.522           C2  7191.457561  \n",
       "1             27654.474           B3  7806.858010  \n",
       "2             17000.038           C3  1348.103013  \n",
       "3             22708.484           C2  1800.782781  \n",
       "4             28182.863           D2  2234.901036  "
      ]
     },
     "execution_count": 3,
     "metadata": {},
     "output_type": "execute_result"
    }
   ],
   "source": [
    "# Feature Engineering\n",
    "conditions = [\n",
    "    (df['MainSpaceHeatingFuel'] == 'Heating Oil'),\n",
    "    (df['MainSpaceHeatingFuel'] == 'Electricity') \n",
    "    ]\n",
    "\n",
    "# create a list of the values we want to assign for each condition\n",
    "values = [28.23, 7.93]\n",
    "\n",
    "# create a new column and use np.select to assign values to it using our lists as arguments\n",
    "df['EnergyCost'] = np.select(conditions, values, 7.93)\n",
    "df['EnergyCost'] = (df['TotalDeliveredEnergy'] * df['EnergyCost']) / 100\n",
    "# display updated DataFrame\n",
    "df.head()"
   ]
  },
  {
   "cell_type": "code",
   "execution_count": 4,
   "metadata": {},
   "outputs": [],
   "source": [
    "# Move BER to the very end \n",
    "new_cols = [col for col in df.columns if col != 'EnergyRating'] + ['EnergyRating']\n",
    "df = df[new_cols]\n",
    "del(new_cols)"
   ]
  },
  {
   "cell_type": "code",
   "execution_count": 5,
   "metadata": {},
   "outputs": [],
   "source": [
    "# Make sure year is not counted as a numerical feature\n",
    "df['YearofConstruction'] = df['YearofConstruction'].astype('object')"
   ]
  },
  {
   "cell_type": "markdown",
   "metadata": {},
   "source": [
    "##### Outline of steps for data to go through in a pipe:\n",
    "\n",
    "- Data Ingestion\n",
    "- Data Cleaning\n",
    "- Data Imputation\n",
    "- Data Sampling\n",
    "- Data Splitting of Categorical and Numerical pipes within main pipe\n",
    "- Run MinMaxScaler on Numerical data\n",
    "- Run OneHotEncoding on the "
   ]
  },
  {
   "cell_type": "markdown",
   "metadata": {},
   "source": [
    "Now that impute is complete, we need to sample the dataset"
   ]
  },
  {
   "cell_type": "code",
   "execution_count": 6,
   "metadata": {},
   "outputs": [],
   "source": [
    "# Separate feature and target variables\n",
    "X = df.iloc[:, :-1] # Independent Variables\n",
    "y = df.iloc[:, -1] # Dependent Variables"
   ]
  },
  {
   "cell_type": "code",
   "execution_count": 7,
   "metadata": {},
   "outputs": [],
   "source": [
    "# Randomly distribute the data so CatBoost can work\n",
    "perm = np.random.permutation(len(X))\n",
    "X = X.iloc[perm].reset_index(drop=True) \n",
    "y = y.iloc[perm].reset_index(drop=True)"
   ]
  },
  {
   "cell_type": "code",
   "execution_count": 8,
   "metadata": {},
   "outputs": [],
   "source": [
    "# Train-Test Split\n",
    "X_train, X_test, y_train, y_test = train_test_split(\n",
    "    X, y, test_size=0.2, stratify=y, random_state=2814)"
   ]
  },
  {
   "cell_type": "code",
   "execution_count": 9,
   "metadata": {},
   "outputs": [],
   "source": [
    "# Label Encoding of Target for CatBoost\n",
    "yle = LabelEncoder()\n",
    "y_train = yle.fit_transform(y_train)\n",
    "y_test = yle.transform(y_test)"
   ]
  },
  {
   "cell_type": "code",
   "execution_count": 10,
   "metadata": {},
   "outputs": [],
   "source": [
    "# CatBoost Encoding\n",
    "cbe_encoder = ce.cat_boost.CatBoostEncoder()\n",
    "X_train = cbe_encoder.fit_transform(X_train, y_train)\n",
    "X_test = cbe_encoder.transform(X_test)"
   ]
  },
  {
   "cell_type": "code",
   "execution_count": 11,
   "metadata": {},
   "outputs": [
    {
     "data": {
      "text/html": [
       "<div>\n",
       "<style scoped>\n",
       "    .dataframe tbody tr th:only-of-type {\n",
       "        vertical-align: middle;\n",
       "    }\n",
       "\n",
       "    .dataframe tbody tr th {\n",
       "        vertical-align: top;\n",
       "    }\n",
       "\n",
       "    .dataframe thead th {\n",
       "        text-align: right;\n",
       "    }\n",
       "</style>\n",
       "<table border=\"1\" class=\"dataframe\">\n",
       "  <thead>\n",
       "    <tr style=\"text-align: right;\">\n",
       "      <th></th>\n",
       "      <th>CountyName</th>\n",
       "      <th>DwellingTypeDescr</th>\n",
       "      <th>YearofConstruction</th>\n",
       "      <th>GroundFloorArea(sq m)</th>\n",
       "      <th>MainSpaceHeatingFuel</th>\n",
       "      <th>MainWaterHeatingFuel</th>\n",
       "      <th>VentilationMethod</th>\n",
       "      <th>StructureType</th>\n",
       "      <th>NoOfSidesSheltered</th>\n",
       "      <th>InsulationType</th>\n",
       "      <th>InsulationThickness</th>\n",
       "      <th>TotalDeliveredEnergy</th>\n",
       "      <th>EnergyCost</th>\n",
       "    </tr>\n",
       "  </thead>\n",
       "  <tbody>\n",
       "    <tr>\n",
       "      <th>210580</th>\n",
       "      <td>8.129275</td>\n",
       "      <td>8.129275</td>\n",
       "      <td>8.129275</td>\n",
       "      <td>93.84</td>\n",
       "      <td>8.129275</td>\n",
       "      <td>8.129275</td>\n",
       "      <td>8.129275</td>\n",
       "      <td>8.129275</td>\n",
       "      <td>8.129275</td>\n",
       "      <td>8.129275</td>\n",
       "      <td>35.0</td>\n",
       "      <td>12752.764150</td>\n",
       "      <td>1011.294197</td>\n",
       "    </tr>\n",
       "    <tr>\n",
       "      <th>579533</th>\n",
       "      <td>8.129275</td>\n",
       "      <td>8.129275</td>\n",
       "      <td>8.129275</td>\n",
       "      <td>241.36</td>\n",
       "      <td>8.129275</td>\n",
       "      <td>8.129275</td>\n",
       "      <td>9.064637</td>\n",
       "      <td>9.064637</td>\n",
       "      <td>9.064637</td>\n",
       "      <td>9.064637</td>\n",
       "      <td>31.2</td>\n",
       "      <td>42053.979200</td>\n",
       "      <td>11871.838328</td>\n",
       "    </tr>\n",
       "    <tr>\n",
       "      <th>322228</th>\n",
       "      <td>8.129275</td>\n",
       "      <td>8.129275</td>\n",
       "      <td>8.129275</td>\n",
       "      <td>79.14</td>\n",
       "      <td>9.064637</td>\n",
       "      <td>9.064637</td>\n",
       "      <td>8.709758</td>\n",
       "      <td>8.129275</td>\n",
       "      <td>8.709758</td>\n",
       "      <td>8.709758</td>\n",
       "      <td>50.0</td>\n",
       "      <td>15655.508000</td>\n",
       "      <td>1241.481784</td>\n",
       "    </tr>\n",
       "    <tr>\n",
       "      <th>128628</th>\n",
       "      <td>9.064637</td>\n",
       "      <td>10.064637</td>\n",
       "      <td>8.129275</td>\n",
       "      <td>153.80</td>\n",
       "      <td>8.129275</td>\n",
       "      <td>8.129275</td>\n",
       "      <td>9.532319</td>\n",
       "      <td>8.709758</td>\n",
       "      <td>8.129275</td>\n",
       "      <td>9.532319</td>\n",
       "      <td>25.0</td>\n",
       "      <td>28096.960870</td>\n",
       "      <td>2228.088997</td>\n",
       "    </tr>\n",
       "    <tr>\n",
       "      <th>755892</th>\n",
       "      <td>8.129275</td>\n",
       "      <td>8.064637</td>\n",
       "      <td>8.129275</td>\n",
       "      <td>100.49</td>\n",
       "      <td>8.129275</td>\n",
       "      <td>8.129275</td>\n",
       "      <td>9.225855</td>\n",
       "      <td>8.532319</td>\n",
       "      <td>9.532319</td>\n",
       "      <td>8.129275</td>\n",
       "      <td>80.0</td>\n",
       "      <td>55217.851000</td>\n",
       "      <td>4378.775584</td>\n",
       "    </tr>\n",
       "    <tr>\n",
       "      <th>...</th>\n",
       "      <td>...</td>\n",
       "      <td>...</td>\n",
       "      <td>...</td>\n",
       "      <td>...</td>\n",
       "      <td>...</td>\n",
       "      <td>...</td>\n",
       "      <td>...</td>\n",
       "      <td>...</td>\n",
       "      <td>...</td>\n",
       "      <td>...</td>\n",
       "      <td>...</td>\n",
       "      <td>...</td>\n",
       "      <td>...</td>\n",
       "    </tr>\n",
       "    <tr>\n",
       "      <th>846309</th>\n",
       "      <td>8.020595</td>\n",
       "      <td>8.415057</td>\n",
       "      <td>7.232520</td>\n",
       "      <td>70.63</td>\n",
       "      <td>7.964817</td>\n",
       "      <td>8.158532</td>\n",
       "      <td>8.404363</td>\n",
       "      <td>8.251403</td>\n",
       "      <td>8.476659</td>\n",
       "      <td>7.390521</td>\n",
       "      <td>24.0</td>\n",
       "      <td>11057.941529</td>\n",
       "      <td>876.894763</td>\n",
       "    </tr>\n",
       "    <tr>\n",
       "      <th>725523</th>\n",
       "      <td>7.935856</td>\n",
       "      <td>8.159020</td>\n",
       "      <td>11.562377</td>\n",
       "      <td>73.06</td>\n",
       "      <td>8.481389</td>\n",
       "      <td>8.468606</td>\n",
       "      <td>8.404366</td>\n",
       "      <td>8.251407</td>\n",
       "      <td>8.062357</td>\n",
       "      <td>7.390528</td>\n",
       "      <td>31.7</td>\n",
       "      <td>26340.163410</td>\n",
       "      <td>7435.828131</td>\n",
       "    </tr>\n",
       "    <tr>\n",
       "      <th>466912</th>\n",
       "      <td>8.492679</td>\n",
       "      <td>8.159041</td>\n",
       "      <td>6.594210</td>\n",
       "      <td>157.52</td>\n",
       "      <td>8.481405</td>\n",
       "      <td>8.468622</td>\n",
       "      <td>8.404373</td>\n",
       "      <td>8.251414</td>\n",
       "      <td>8.076472</td>\n",
       "      <td>7.390540</td>\n",
       "      <td>35.0</td>\n",
       "      <td>17516.926000</td>\n",
       "      <td>4945.028210</td>\n",
       "    </tr>\n",
       "    <tr>\n",
       "      <th>211647</th>\n",
       "      <td>7.935915</td>\n",
       "      <td>8.004764</td>\n",
       "      <td>11.238552</td>\n",
       "      <td>77.00</td>\n",
       "      <td>7.430201</td>\n",
       "      <td>7.413606</td>\n",
       "      <td>8.404368</td>\n",
       "      <td>8.251409</td>\n",
       "      <td>8.076457</td>\n",
       "      <td>8.440390</td>\n",
       "      <td>0.0</td>\n",
       "      <td>20458.542550</td>\n",
       "      <td>1622.362424</td>\n",
       "    </tr>\n",
       "    <tr>\n",
       "      <th>704333</th>\n",
       "      <td>7.935950</td>\n",
       "      <td>8.004778</td>\n",
       "      <td>1.574633</td>\n",
       "      <td>109.78</td>\n",
       "      <td>7.430213</td>\n",
       "      <td>7.413618</td>\n",
       "      <td>2.279960</td>\n",
       "      <td>8.251413</td>\n",
       "      <td>8.076471</td>\n",
       "      <td>7.390535</td>\n",
       "      <td>35.0</td>\n",
       "      <td>4598.447108</td>\n",
       "      <td>364.656856</td>\n",
       "    </tr>\n",
       "  </tbody>\n",
       "</table>\n",
       "<p>761456 rows × 13 columns</p>\n",
       "</div>"
      ],
      "text/plain": [
       "        CountyName  DwellingTypeDescr  YearofConstruction  \\\n",
       "210580    8.129275           8.129275            8.129275   \n",
       "579533    8.129275           8.129275            8.129275   \n",
       "322228    8.129275           8.129275            8.129275   \n",
       "128628    9.064637          10.064637            8.129275   \n",
       "755892    8.129275           8.064637            8.129275   \n",
       "...            ...                ...                 ...   \n",
       "846309    8.020595           8.415057            7.232520   \n",
       "725523    7.935856           8.159020           11.562377   \n",
       "466912    8.492679           8.159041            6.594210   \n",
       "211647    7.935915           8.004764           11.238552   \n",
       "704333    7.935950           8.004778            1.574633   \n",
       "\n",
       "        GroundFloorArea(sq m)  MainSpaceHeatingFuel  MainWaterHeatingFuel  \\\n",
       "210580                  93.84              8.129275              8.129275   \n",
       "579533                 241.36              8.129275              8.129275   \n",
       "322228                  79.14              9.064637              9.064637   \n",
       "128628                 153.80              8.129275              8.129275   \n",
       "755892                 100.49              8.129275              8.129275   \n",
       "...                       ...                   ...                   ...   \n",
       "846309                  70.63              7.964817              8.158532   \n",
       "725523                  73.06              8.481389              8.468606   \n",
       "466912                 157.52              8.481405              8.468622   \n",
       "211647                  77.00              7.430201              7.413606   \n",
       "704333                 109.78              7.430213              7.413618   \n",
       "\n",
       "        VentilationMethod  StructureType  NoOfSidesSheltered  InsulationType  \\\n",
       "210580           8.129275       8.129275            8.129275        8.129275   \n",
       "579533           9.064637       9.064637            9.064637        9.064637   \n",
       "322228           8.709758       8.129275            8.709758        8.709758   \n",
       "128628           9.532319       8.709758            8.129275        9.532319   \n",
       "755892           9.225855       8.532319            9.532319        8.129275   \n",
       "...                   ...            ...                 ...             ...   \n",
       "846309           8.404363       8.251403            8.476659        7.390521   \n",
       "725523           8.404366       8.251407            8.062357        7.390528   \n",
       "466912           8.404373       8.251414            8.076472        7.390540   \n",
       "211647           8.404368       8.251409            8.076457        8.440390   \n",
       "704333           2.279960       8.251413            8.076471        7.390535   \n",
       "\n",
       "        InsulationThickness  TotalDeliveredEnergy    EnergyCost  \n",
       "210580                 35.0          12752.764150   1011.294197  \n",
       "579533                 31.2          42053.979200  11871.838328  \n",
       "322228                 50.0          15655.508000   1241.481784  \n",
       "128628                 25.0          28096.960870   2228.088997  \n",
       "755892                 80.0          55217.851000   4378.775584  \n",
       "...                     ...                   ...           ...  \n",
       "846309                 24.0          11057.941529    876.894763  \n",
       "725523                 31.7          26340.163410   7435.828131  \n",
       "466912                 35.0          17516.926000   4945.028210  \n",
       "211647                  0.0          20458.542550   1622.362424  \n",
       "704333                 35.0           4598.447108    364.656856  \n",
       "\n",
       "[761456 rows x 13 columns]"
      ]
     },
     "execution_count": 11,
     "metadata": {},
     "output_type": "execute_result"
    }
   ],
   "source": [
    "# Taking a look at the encoding\n",
    "pd.DataFrame(X_train)"
   ]
  },
  {
   "cell_type": "code",
   "execution_count": 12,
   "metadata": {},
   "outputs": [],
   "source": [
    "# Scaling the dataset. Not required for tree models but good practice.\n",
    "scaler = MinMaxScaler()\n",
    "X_train = scaler.fit_transform(X_train, y_train)\n",
    "X_test = scaler.transform(X_test)"
   ]
  },
  {
   "cell_type": "code",
   "execution_count": 13,
   "metadata": {},
   "outputs": [
    {
     "data": {
      "text/plain": [
       "0       785\n",
       "1     20778\n",
       "2     27427\n",
       "3     11093\n",
       "4     24924\n",
       "5     60160\n",
       "6     88307\n",
       "7     97297\n",
       "8     92860\n",
       "9     90079\n",
       "10    77538\n",
       "11    44791\n",
       "12    35494\n",
       "13    36765\n",
       "14    53158\n",
       "dtype: int64"
      ]
     },
     "execution_count": 13,
     "metadata": {},
     "output_type": "execute_result"
    }
   ],
   "source": [
    "# Use value counts as reference for under sampler\n",
    "pd.DataFrame(y_train).value_counts().sort_index()"
   ]
  },
  {
   "cell_type": "code",
   "execution_count": 14,
   "metadata": {},
   "outputs": [],
   "source": [
    "resample=SMOTETomek(random_state=2814)\n",
    "X_train, y_train = resample.fit_resample(X_train, y_train)"
   ]
  },
  {
   "cell_type": "code",
   "execution_count": 18,
   "metadata": {},
   "outputs": [
    {
     "name": "stdout",
     "output_type": "stream",
     "text": [
      "              precision    recall  f1-score   support\n",
      "\n",
      "           0       0.40      0.44      0.42       196\n",
      "           1       0.90      0.88      0.89      5195\n",
      "           2       0.87      0.88      0.88      6857\n",
      "           3       0.66      0.74      0.70      2773\n",
      "           4       0.76      0.78      0.77      6231\n",
      "           5       0.83      0.84      0.83     15040\n",
      "           6       0.84      0.82      0.83     22077\n",
      "           7       0.83      0.80      0.82     24325\n",
      "           8       0.81      0.78      0.79     23215\n",
      "           9       0.80      0.77      0.78     22520\n",
      "          10       0.79      0.79      0.79     19384\n",
      "          11       0.69      0.76      0.72     11198\n",
      "          12       0.72      0.77      0.74      8873\n",
      "          13       0.76      0.84      0.80      9191\n",
      "          14       0.94      0.92      0.93     13290\n",
      "\n",
      "    accuracy                           0.81    190365\n",
      "   macro avg       0.77      0.79      0.78    190365\n",
      "weighted avg       0.81      0.81      0.81    190365\n",
      "\n"
     ]
    }
   ],
   "source": [
    "model = RandomForestClassifier(random_state=2814, criterion='entropy')\n",
    "model.fit(X_train, y_train)\n",
    "y_pred = model.predict(X_test)\n",
    "print(classification_report(y_test,y_pred))"
   ]
  },
  {
   "cell_type": "code",
   "execution_count": 20,
   "metadata": {},
   "outputs": [
    {
     "data": {
      "text/plain": [
       "array([0.43877551, 0.88046198, 0.87866414, 0.73566534, 0.78189697,\n",
       "       0.84128989, 0.82284731, 0.80073998, 0.77531768, 0.77122558,\n",
       "       0.78606067, 0.7579925 , 0.77335738, 0.83527364, 0.92475546])"
      ]
     },
     "execution_count": 20,
     "metadata": {},
     "output_type": "execute_result"
    }
   ],
   "source": [
    "from sklearn.metrics import confusion_matrix\n",
    "matrix = confusion_matrix(y_test, y_pred)\n",
    "matrix.diagonal()/matrix.sum(axis=1)"
   ]
  },
  {
   "cell_type": "code",
   "execution_count": 31,
   "metadata": {},
   "outputs": [],
   "source": [
    "from numpy import save\n",
    "save('../data/interim/Design/X_train.npy', X_train)\n",
    "save('../data/interim/Design/X_test.npy', X_test)\n",
    "save('../data/interim/Design/y_train.npy', y_train)\n",
    "save('../data/interim/Design/y_test.npy', y_test)"
   ]
  },
  {
   "cell_type": "code",
   "execution_count": 17,
   "metadata": {},
   "outputs": [],
   "source": [
    "# Save our final model\n",
    "import pickle\n",
    "filename = '../models/final_model.pkl'\n",
    "pickle.dump(model, open(filename, 'wb'))"
   ]
  },
  {
   "cell_type": "code",
   "execution_count": 18,
   "metadata": {},
   "outputs": [
    {
     "name": "stdout",
     "output_type": "stream",
     "text": [
      "0.8087043311533108\n"
     ]
    }
   ],
   "source": [
    "# Test model import\n",
    "filename = '../models/final_model.sav'\n",
    "loaded_model = pickle.load(open(filename, 'rb'))\n",
    "result = loaded_model.score(X_test, y_test)\n",
    "print(result)"
   ]
  },
  {
   "cell_type": "code",
   "execution_count": 28,
   "metadata": {},
   "outputs": [
    {
     "data": {
      "image/png": "[encoded data removed]",
      "text/plain": [
       "<Figure size 432x288 with 1 Axes>"
      ]
     },
     "metadata": {
      "needs_background": "light"
     },
     "output_type": "display_data"
    },
    {
     "data": {
      "text/html": [
       "<style>#sk-container-id-2 {color: black;background-color: white;}#sk-container-id-2 pre{padding: 0;}#sk-container-id-2 div.sk-toggleable {background-color: white;}#sk-container-id-2 label.sk-toggleable__label {cursor: pointer;display: block;width: 100%;margin-bottom: 0;padding: 0.3em;box-sizing: border-box;text-align: center;}#sk-container-id-2 label.sk-toggleable__label-arrow:before {content: \"▸\";float: left;margin-right: 0.25em;color: #696969;}#sk-container-id-2 label.sk-toggleable__label-arrow:hover:before {color: black;}#sk-container-id-2 div.sk-estimator:hover label.sk-toggleable__label-arrow:before {color: black;}#sk-container-id-2 div.sk-toggleable__content {max-height: 0;max-width: 0;overflow: hidden;text-align: left;background-color: #f0f8ff;}#sk-container-id-2 div.sk-toggleable__content pre {margin: 0.2em;color: black;border-radius: 0.25em;background-color: #f0f8ff;}#sk-container-id-2 input.sk-toggleable__control:checked~div.sk-toggleable__content {max-height: 200px;max-width: 100%;overflow: auto;}#sk-container-id-2 input.sk-toggleable__control:checked~label.sk-toggleable__label-arrow:before {content: \"▾\";}#sk-container-id-2 div.sk-estimator input.sk-toggleable__control:checked~label.sk-toggleable__label {background-color: #d4ebff;}#sk-container-id-2 div.sk-label input.sk-toggleable__control:checked~label.sk-toggleable__label {background-color: #d4ebff;}#sk-container-id-2 input.sk-hidden--visually {border: 0;clip: rect(1px 1px 1px 1px);clip: rect(1px, 1px, 1px, 1px);height: 1px;margin: -1px;overflow: hidden;padding: 0;position: absolute;width: 1px;}#sk-container-id-2 div.sk-estimator {font-family: monospace;background-color: #f0f8ff;border: 1px dotted black;border-radius: 0.25em;box-sizing: border-box;margin-bottom: 0.5em;}#sk-container-id-2 div.sk-estimator:hover {background-color: #d4ebff;}#sk-container-id-2 div.sk-parallel-item::after {content: \"\";width: 100%;border-bottom: 1px solid gray;flex-grow: 1;}#sk-container-id-2 div.sk-label:hover label.sk-toggleable__label {background-color: #d4ebff;}#sk-container-id-2 div.sk-serial::before {content: \"\";position: absolute;border-left: 1px solid gray;box-sizing: border-box;top: 0;bottom: 0;left: 50%;z-index: 0;}#sk-container-id-2 div.sk-serial {display: flex;flex-direction: column;align-items: center;background-color: white;padding-right: 0.2em;padding-left: 0.2em;position: relative;}#sk-container-id-2 div.sk-item {position: relative;z-index: 1;}#sk-container-id-2 div.sk-parallel {display: flex;align-items: stretch;justify-content: center;background-color: white;position: relative;}#sk-container-id-2 div.sk-item::before, #sk-container-id-2 div.sk-parallel-item::before {content: \"\";position: absolute;border-left: 1px solid gray;box-sizing: border-box;top: 0;bottom: 0;left: 50%;z-index: -1;}#sk-container-id-2 div.sk-parallel-item {display: flex;flex-direction: column;z-index: 1;position: relative;background-color: white;}#sk-container-id-2 div.sk-parallel-item:first-child::after {align-self: flex-end;width: 50%;}#sk-container-id-2 div.sk-parallel-item:last-child::after {align-self: flex-start;width: 50%;}#sk-container-id-2 div.sk-parallel-item:only-child::after {width: 0;}#sk-container-id-2 div.sk-dashed-wrapped {border: 1px dashed gray;margin: 0 0.4em 0.5em 0.4em;box-sizing: border-box;padding-bottom: 0.4em;background-color: white;}#sk-container-id-2 div.sk-label label {font-family: monospace;font-weight: bold;display: inline-block;line-height: 1.2em;}#sk-container-id-2 div.sk-label-container {text-align: center;}#sk-container-id-2 div.sk-container {/* jupyter's `normalize.less` sets `[hidden] { display: none; }` but bootstrap.min.css set `[hidden] { display: none !important; }` so we also need the `!important` here to be able to override the default hidden behavior on the sphinx rendered scikit-learn.org. See: https://github.com/scikit-learn/scikit-learn/issues/21755 */display: inline-block !important;position: relative;}#sk-container-id-2 div.sk-text-repr-fallback {display: none;}</style><div id=\"sk-container-id-2\" class=\"sk-top-container\"><div class=\"sk-text-repr-fallback\"><pre>ROCAUC(ax=&lt;AxesSubplot:title={&#x27;center&#x27;:&#x27;ROC Curves for RandomForestClassifier&#x27;}, xlabel=&#x27;False Positive Rate&#x27;, ylabel=&#x27;True Positive Rate&#x27;&gt;,\n",
       "       classes=[&#x27;A1&#x27;, &#x27;A2&#x27;, &#x27;A3&#x27;, &#x27;B1&#x27;, &#x27;B2&#x27;, &#x27;B3&#x27;, &#x27;C1&#x27;, &#x27;C2&#x27;, &#x27;C3&#x27;, &#x27;D1&#x27;,\n",
       "                &#x27;D2&#x27;, &#x27;E1&#x27;, &#x27;E2&#x27;, &#x27;F&#x27;, &#x27;G&#x27;],\n",
       "       estimator=RandomForestClassifier(criterion=&#x27;entropy&#x27;, random_state=2814))</pre><b>In a Jupyter environment, please rerun this cell to show the HTML representation or trust the notebook. <br />On GitHub, the HTML representation is unable to render, please try loading this page with nbviewer.org.</b></div><div class=\"sk-container\" hidden><div class=\"sk-item sk-dashed-wrapped\"><div class=\"sk-label-container\"><div class=\"sk-label sk-toggleable\"><input class=\"sk-toggleable__control sk-hidden--visually\" id=\"sk-estimator-id-4\" type=\"checkbox\" ><label for=\"sk-estimator-id-4\" class=\"sk-toggleable__label sk-toggleable__label-arrow\">ROCAUC</label><div class=\"sk-toggleable__content\"><pre>ROCAUC(ax=&lt;AxesSubplot:title={&#x27;center&#x27;:&#x27;ROC Curves for RandomForestClassifier&#x27;}, xlabel=&#x27;False Positive Rate&#x27;, ylabel=&#x27;True Positive Rate&#x27;&gt;,\n",
       "       classes=[&#x27;A1&#x27;, &#x27;A2&#x27;, &#x27;A3&#x27;, &#x27;B1&#x27;, &#x27;B2&#x27;, &#x27;B3&#x27;, &#x27;C1&#x27;, &#x27;C2&#x27;, &#x27;C3&#x27;, &#x27;D1&#x27;,\n",
       "                &#x27;D2&#x27;, &#x27;E1&#x27;, &#x27;E2&#x27;, &#x27;F&#x27;, &#x27;G&#x27;],\n",
       "       estimator=RandomForestClassifier(criterion=&#x27;entropy&#x27;, random_state=2814))</pre></div></div></div><div class=\"sk-parallel\"><div class=\"sk-parallel-item\"><div class=\"sk-item\"><div class=\"sk-label-container\"><div class=\"sk-label sk-toggleable\"><input class=\"sk-toggleable__control sk-hidden--visually\" id=\"sk-estimator-id-5\" type=\"checkbox\" ><label for=\"sk-estimator-id-5\" class=\"sk-toggleable__label sk-toggleable__label-arrow\">estimator: RandomForestClassifier</label><div class=\"sk-toggleable__content\"><pre>RandomForestClassifier(criterion=&#x27;entropy&#x27;, random_state=2814)</pre></div></div></div><div class=\"sk-serial\"><div class=\"sk-item\"><div class=\"sk-estimator sk-toggleable\"><input class=\"sk-toggleable__control sk-hidden--visually\" id=\"sk-estimator-id-6\" type=\"checkbox\" ><label for=\"sk-estimator-id-6\" class=\"sk-toggleable__label sk-toggleable__label-arrow\">RandomForestClassifier</label><div class=\"sk-toggleable__content\"><pre>RandomForestClassifier(criterion=&#x27;entropy&#x27;, random_state=2814)</pre></div></div></div></div></div></div></div></div></div></div>"
      ],
      "text/plain": [
       "ROCAUC(ax=<AxesSubplot:title={'center':'ROC Curves for RandomForestClassifier'}, xlabel='False Positive Rate', ylabel='True Positive Rate'>,\n",
       "       classes=['A1', 'A2', 'A3', 'B1', 'B2', 'B3', 'C1', 'C2', 'C3', 'D1',\n",
       "                'D2', 'E1', 'E2', 'F', 'G'],\n",
       "       estimator=RandomForestClassifier(criterion='entropy', random_state=2814))"
      ]
     },
     "execution_count": 28,
     "metadata": {},
     "output_type": "execute_result"
    }
   ],
   "source": [
    "# Develop ROC curve for multi classification\n",
    "roc_auc(model, X_train, y_train, X_test=X_test, y_test=y_test, classes=['A1','A2','A3','B1','B2','B3','C1','C2','C3','D1','D2','E1','E2','F','G'])    "
   ]
  },
  {
   "cell_type": "markdown",
   "metadata": {},
   "source": [
    "---\n",
    "---"
   ]
  },
  {
   "cell_type": "markdown",
   "metadata": {},
   "source": [
    "Testing other models "
   ]
  },
  {
   "cell_type": "code",
   "execution_count": 30,
   "metadata": {},
   "outputs": [
    {
     "name": "stdout",
     "output_type": "stream",
     "text": [
      "              precision    recall  f1-score   support\n",
      "\n",
      "           0       0.27      0.45      0.33       196\n",
      "           1       0.84      0.85      0.84      5195\n",
      "           2       0.84      0.82      0.83      6857\n",
      "           3       0.50      0.69      0.58      2773\n",
      "           4       0.61      0.71      0.65      6231\n",
      "           5       0.75      0.76      0.75     15040\n",
      "           6       0.77      0.75      0.76     22077\n",
      "           7       0.76      0.73      0.74     24325\n",
      "           8       0.72      0.71      0.71     23215\n",
      "           9       0.73      0.71      0.72     22520\n",
      "          10       0.74      0.71      0.72     19384\n",
      "          11       0.64      0.69      0.66     11198\n",
      "          12       0.66      0.71      0.68      8873\n",
      "          13       0.75      0.77      0.76      9191\n",
      "          14       0.93      0.91      0.92     13290\n",
      "\n",
      "    accuracy                           0.74    190365\n",
      "   macro avg       0.70      0.73      0.71    190365\n",
      "weighted avg       0.75      0.74      0.74    190365\n",
      "\n"
     ]
    }
   ],
   "source": [
    "# Modelling\n",
    "dt = DecisionTreeClassifier(random_state=2814, criterion='entropy', min_samples_split=5)\n",
    "dt.fit(X_train, y_train)\n",
    "\n",
    "y_pred = dt.predict(X_test)\n",
    "print(classification_report(y_test,y_pred))"
   ]
  },
  {
   "cell_type": "code",
   "execution_count": 21,
   "metadata": {},
   "outputs": [
    {
     "name": "stdout",
     "output_type": "stream",
     "text": [
      "              precision    recall  f1-score   support\n",
      "\n",
      "           0       0.03      0.47      0.05       196\n",
      "           1       0.62      0.58      0.60      5195\n",
      "           2       0.60      0.48      0.53      6857\n",
      "           3       0.09      0.30      0.14      2773\n",
      "           4       0.11      0.36      0.17      6231\n",
      "           5       0.15      0.30      0.20     15040\n",
      "           6       0.16      0.07      0.10     22077\n",
      "           7       0.29      0.06      0.10     24325\n",
      "           8       0.26      0.11      0.15     23215\n",
      "           9       0.23      0.13      0.16     22520\n",
      "          10       0.20      0.14      0.16     19384\n",
      "          11       0.10      0.19      0.13     11198\n",
      "          12       0.11      0.16      0.13      8873\n",
      "          13       0.20      0.31      0.24      9191\n",
      "          14       0.50      0.75      0.60     13290\n",
      "\n",
      "    accuracy                           0.22    190365\n",
      "   macro avg       0.24      0.29      0.23    190365\n",
      "weighted avg       0.25      0.22      0.20    190365\n",
      "\n"
     ]
    }
   ],
   "source": [
    "lr = LogisticRegression(random_state=2814, solver='sag')\n",
    "lr.fit(X_train, y_train)\n",
    "y_pred = lr.predict(X_test)\n",
    "print(classification_report(y_test, y_pred))"
   ]
  },
  {
   "cell_type": "code",
   "execution_count": 22,
   "metadata": {},
   "outputs": [
    {
     "name": "stdout",
     "output_type": "stream",
     "text": [
      "              precision    recall  f1-score   support\n",
      "\n",
      "           0       0.02      0.50      0.04       196\n",
      "           1       0.51      0.63      0.56      5195\n",
      "           2       0.25      0.37      0.30      6857\n",
      "           3       0.04      0.26      0.07      2773\n",
      "           4       0.08      0.48      0.14      6231\n",
      "           5       0.11      0.17      0.14     15040\n",
      "           6       0.04      0.00      0.00     22077\n",
      "           7       0.21      0.00      0.00     24325\n",
      "           8       0.34      0.00      0.00     23215\n",
      "           9       0.01      0.00      0.00     22520\n",
      "          10       0.04      0.02      0.02     19384\n",
      "          11       0.07      0.10      0.08     11198\n",
      "          12       0.08      0.12      0.09      8873\n",
      "          13       0.10      0.25      0.14      9191\n",
      "          14       0.40      0.89      0.56     13290\n",
      "\n",
      "    accuracy                           0.15    190365\n",
      "   macro avg       0.15      0.25      0.14    190365\n",
      "weighted avg       0.15      0.15      0.10    190365\n",
      "\n"
     ]
    }
   ],
   "source": [
    "svm = LinearSVC(random_state=2814)\n",
    "svm.fit(X_train, y_train)\n",
    "y_pred = svm.predict(X_test)\n",
    "print(classification_report(y_test, y_pred))"
   ]
  },
  {
   "cell_type": "code",
   "execution_count": 23,
   "metadata": {},
   "outputs": [
    {
     "name": "stdout",
     "output_type": "stream",
     "text": [
      "              precision    recall  f1-score   support\n",
      "\n",
      "           0       0.02      0.79      0.04       196\n",
      "           1       0.45      0.45      0.45      5195\n",
      "           2       0.35      0.35      0.35      6857\n",
      "           3       0.09      0.14      0.11      2773\n",
      "           4       0.12      0.21      0.15      6231\n",
      "           5       0.31      0.15      0.20     15040\n",
      "           6       0.22      0.36      0.27     22077\n",
      "           7       0.23      0.08      0.11     24325\n",
      "           8       0.23      0.05      0.08     23215\n",
      "           9       0.21      0.38      0.27     22520\n",
      "          10       0.21      0.16      0.18     19384\n",
      "          11       0.07      0.00      0.00     11198\n",
      "          12       0.05      0.00      0.00      8873\n",
      "          13       0.16      0.51      0.24      9191\n",
      "          14       0.51      0.60      0.55     13290\n",
      "\n",
      "    accuracy                           0.23    190365\n",
      "   macro avg       0.22      0.28      0.20    190365\n",
      "weighted avg       0.23      0.23      0.20    190365\n",
      "\n"
     ]
    }
   ],
   "source": [
    "nb = GaussianNB()\n",
    "nb.fit(X_train, y_train)\n",
    "y_pred = nb.predict(X_test)\n",
    "print(classification_report(y_test, y_pred))"
   ]
  },
  {
   "cell_type": "code",
   "execution_count": 24,
   "metadata": {},
   "outputs": [
    {
     "name": "stdout",
     "output_type": "stream",
     "text": [
      "              precision    recall  f1-score   support\n",
      "\n",
      "           0       0.12      0.35      0.18       196\n",
      "           1       0.73      0.76      0.74      5195\n",
      "           2       0.69      0.69      0.69      6857\n",
      "           3       0.20      0.42      0.27      2773\n",
      "           4       0.21      0.42      0.28      6231\n",
      "           5       0.26      0.36      0.30     15040\n",
      "           6       0.31      0.28      0.29     22077\n",
      "           7       0.31      0.22      0.25     24325\n",
      "           8       0.29      0.22      0.25     23215\n",
      "           9       0.30      0.22      0.25     22520\n",
      "          10       0.28      0.24      0.26     19384\n",
      "          11       0.19      0.26      0.22     11198\n",
      "          12       0.18      0.26      0.21      8873\n",
      "          13       0.25      0.30      0.27      9191\n",
      "          14       0.70      0.59      0.64     13290\n",
      "\n",
      "    accuracy                           0.31    190365\n",
      "   macro avg       0.33      0.37      0.34    190365\n",
      "weighted avg       0.33      0.31      0.32    190365\n",
      "\n"
     ]
    }
   ],
   "source": [
    "knn = KNeighborsClassifier()\n",
    "knn.fit(X_train, y_train)\n",
    "y_pred = knn.predict(X_test)\n",
    "print(classification_report(y_test, y_pred))"
   ]
  },
  {
   "cell_type": "code",
   "execution_count": 25,
   "metadata": {},
   "outputs": [
    {
     "name": "stdout",
     "output_type": "stream",
     "text": [
      "              precision    recall  f1-score   support\n",
      "\n",
      "           0       0.02      0.74      0.05       196\n",
      "           1       0.35      0.13      0.19      5195\n",
      "           2       0.58      0.46      0.51      6857\n",
      "           3       0.07      0.23      0.11      2773\n",
      "           4       0.15      0.15      0.15      6231\n",
      "           5       0.20      0.22      0.21     15040\n",
      "           6       0.26      0.36      0.30     22077\n",
      "           7       0.31      0.13      0.18     24325\n",
      "           8       0.25      0.28      0.27     23215\n",
      "           9       0.25      0.26      0.25     22520\n",
      "          10       0.20      0.17      0.18     19384\n",
      "          11       0.14      0.16      0.15     11198\n",
      "          12       0.14      0.10      0.12      8873\n",
      "          13       0.18      0.24      0.20      9191\n",
      "          14       0.68      0.37      0.48     13290\n",
      "\n",
      "    accuracy                           0.24    190365\n",
      "   macro avg       0.25      0.27      0.22    190365\n",
      "weighted avg       0.27      0.24      0.24    190365\n",
      "\n"
     ]
    }
   ],
   "source": [
    "from sklearn.ensemble import AdaBoostClassifier\n",
    "ada = AdaBoostClassifier()\n",
    "ada.fit(X_train, y_train)\n",
    "y_pred = ada.predict(X_test)\n",
    "print(classification_report(y_test, y_pred))"
   ]
  },
  {
   "cell_type": "code",
   "execution_count": 26,
   "metadata": {},
   "outputs": [
    {
     "name": "stdout",
     "output_type": "stream",
     "text": [
      "              precision    recall  f1-score   support\n",
      "\n",
      "           0       0.16      0.69      0.26       196\n",
      "           1       0.86      0.82      0.84      5195\n",
      "           2       0.86      0.80      0.83      6857\n",
      "           3       0.56      0.70      0.62      2773\n",
      "           4       0.68      0.75      0.71      6231\n",
      "           5       0.78      0.80      0.79     15040\n",
      "           6       0.81      0.78      0.80     22077\n",
      "           7       0.81      0.76      0.78     24325\n",
      "           8       0.78      0.74      0.76     23215\n",
      "           9       0.78      0.74      0.76     22520\n",
      "          10       0.76      0.74      0.75     19384\n",
      "          11       0.65      0.74      0.69     11198\n",
      "          12       0.66      0.76      0.71      8873\n",
      "          13       0.73      0.82      0.77      9191\n",
      "          14       0.94      0.90      0.92     13290\n",
      "\n",
      "    accuracy                           0.77    190365\n",
      "   macro avg       0.72      0.77      0.73    190365\n",
      "weighted avg       0.78      0.77      0.77    190365\n",
      "\n"
     ]
    }
   ],
   "source": [
    "from sklearn.ensemble import HistGradientBoostingClassifier\n",
    "hgbc = HistGradientBoostingClassifier()\n",
    "hgbc.fit(X_train, y_train)\n",
    "y_pred = hgbc.predict(X_test)\n",
    "print(classification_report(y_test, y_pred))"
   ]
  },
  {
   "cell_type": "code",
   "execution_count": 27,
   "metadata": {},
   "outputs": [
    {
     "name": "stdout",
     "output_type": "stream",
     "text": [
      "              precision    recall  f1-score   support\n",
      "\n",
      "           0       0.23      0.62      0.34       196\n",
      "           1       0.88      0.86      0.87      5195\n",
      "           2       0.87      0.84      0.85      6857\n",
      "           3       0.66      0.71      0.68      2773\n",
      "           4       0.73      0.76      0.75      6231\n",
      "           5       0.81      0.83      0.82     15040\n",
      "           6       0.83      0.82      0.82     22077\n",
      "           7       0.83      0.78      0.80     24325\n",
      "           8       0.79      0.77      0.78     23215\n",
      "           9       0.80      0.75      0.77     22520\n",
      "          10       0.78      0.76      0.77     19384\n",
      "          11       0.68      0.76      0.72     11198\n",
      "          12       0.69      0.78      0.73      8873\n",
      "          13       0.77      0.83      0.80      9191\n",
      "          14       0.95      0.93      0.94     13290\n",
      "\n",
      "    accuracy                           0.80    190365\n",
      "   macro avg       0.75      0.79      0.76    190365\n",
      "weighted avg       0.80      0.80      0.80    190365\n",
      "\n"
     ]
    }
   ],
   "source": [
    "import xgboost as xgb\n",
    "xgb_model = xgb.XGBClassifier(objective=\"multi:softprob\", random_state=2814)\n",
    "xgb_model.fit(X_train, y_train)\n",
    "y_pred = xgb_model.predict(X_test)\n",
    "print(classification_report(y_test, y_pred))"
   ]
  },
  {
   "cell_type": "code",
   "execution_count": null,
   "metadata": {},
   "outputs": [],
   "source": []
  }
 ],
 "metadata": {
  "kernelspec": {
   "display_name": "Python 3.10.5 64-bit ('masters_thesis')",
   "language": "python",
   "name": "python3"
  },
  "language_info": {
   "codemirror_mode": {
    "name": "ipython",
    "version": 3
   },
   "file_extension": ".py",
   "mimetype": "text/x-python",
   "name": "python",
   "nbconvert_exporter": "python",
   "pygments_lexer": "ipython3",
   "version": "3.10.5"
  },
  "orig_nbformat": 4,
  "vscode": {
   "interpreter": {
    "hash": "ecf9425976ca1d495f6ff342e01edb9b99409cdaa6c55166a5169aaab36ca909"
   }
  }
 },
 "nbformat": 4,
 "nbformat_minor": 2
}
