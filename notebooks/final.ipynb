{
 "cells": [
  {
   "cell_type": "code",
   "execution_count": 29,
   "metadata": {},
   "outputs": [],
   "source": [
    "import pandas as pd\n",
    "import numpy as np\n",
    "import pandas as pd\n",
    "from sklearn.preprocessing import LabelEncoder\n",
    "from sklearn.experimental import enable_iterative_imputer\n",
    "from sklearn.impute import IterativeImputer\n",
    "from sklearn.ensemble import RandomForestRegressor, RandomForestClassifier\n",
    "import pandas as pd\n",
    "import random\n",
    "import numpy as np\n",
    "from sklearn.tree import DecisionTreeClassifier\n",
    "from sklearn.ensemble import RandomForestClassifier\n",
    "from sklearn.model_selection import RepeatedStratifiedKFold\n",
    "from sklearn.svm import LinearSVC\n",
    "from sklearn.naive_bayes import GaussianNB\n",
    "from imblearn.pipeline import Pipeline\n",
    "from sklearn.neighbors import KNeighborsClassifier\n",
    "from sklearn.model_selection import GridSearchCV\n",
    "from imblearn.over_sampling import SMOTE\n",
    "from sklearn.ensemble import RandomForestClassifier\n",
    "from sklearn.linear_model import LogisticRegression\n",
    "from sklearn.linear_model import LogisticRegressionCV\n",
    "from sklearn.svm import SVC\n",
    "from sklearn.preprocessing import MinMaxScaler, StandardScaler, QuantileTransformer, RobustScaler\n",
    "from imblearn.combine import SMOTETomek\n",
    "from sklearn.model_selection import train_test_split, cross_validate\n",
    "from imblearn.under_sampling import TomekLinks\n",
    "from sklearn.metrics import classification_report\n",
    "import matplotlib.pyplot as plt\n",
    "from sklearn.model_selection import cross_val_score\n",
    "from yellowbrick.classifier.rocauc import roc_auc\n",
    "from sklearn.preprocessing import OneHotEncoder\n",
    "from sklearn.compose import make_column_transformer\n",
    "from yellowbrick.classifier import ROCAUC\n",
    "from imblearn.over_sampling import SMOTENC\n",
    "from sklearn.metrics import roc_curve, auc\n",
    "random.seed(2814)"
   ]
  },
  {
   "cell_type": "code",
   "execution_count": 30,
   "metadata": {},
   "outputs": [],
   "source": [
    "df = pd.read_csv('../data/processed/3_seai_miss_forest_imputation.csv')\n",
    "df.drop(['BerRating', 'CO2Rating'], axis = 1, inplace=True)\n",
    "df['NoOfSidesSheltered'] = df['NoOfSidesSheltered'].replace(0, 'zero')\n",
    "df['NoOfSidesSheltered'] = df['NoOfSidesSheltered'].replace(1, 'one')\n",
    "df['NoOfSidesSheltered'] = df['NoOfSidesSheltered'].replace(2, 'two')\n",
    "df['NoOfSidesSheltered'] = df['NoOfSidesSheltered'].replace(3, 'three')\n",
    "df['NoOfSidesSheltered'] = df['NoOfSidesSheltered'].replace(4, 'four')\n",
    "df['NoOfSidesSheltered'] = df['NoOfSidesSheltered'].astype('category')\n",
    "df['YearofConstruction'] = df['YearofConstruction'].astype('category')"
   ]
  },
  {
   "cell_type": "markdown",
   "metadata": {},
   "source": [
    "df['EnergyRating'] = df['EnergyRating'].replace('A1', 'A')\n",
    "df['EnergyRating'] = df['EnergyRating'].replace('A2', 'A')\n",
    "df['EnergyRating'] = df['EnergyRating'].replace('A3', 'A')\n",
    "df['EnergyRating'] = df['EnergyRating'].replace('B1', 'B')\n",
    "df['EnergyRating'] = df['EnergyRating'].replace('B2', 'B')\n",
    "df['EnergyRating'] = df['EnergyRating'].replace('B3', 'B')\n",
    "df['EnergyRating'] = df['EnergyRating'].replace('C1', 'C')\n",
    "df['EnergyRating'] = df['EnergyRating'].replace('C2', 'C')\n",
    "df['EnergyRating'] = df['EnergyRating'].replace('C3', 'C')\n",
    "df['EnergyRating'] = df['EnergyRating'].replace('D1', 'D')\n",
    "df['EnergyRating'] = df['EnergyRating'].replace('D2', 'D')\n",
    "df['EnergyRating'] = df['EnergyRating'].replace('E1', 'E')\n",
    "df['EnergyRating'] = df['EnergyRating'].replace('E2', 'E')\n",
    "df['EnergyRating'] = df['EnergyRating'].replace('F', 'F')\n",
    "df['EnergyRating'] = df['EnergyRating'].replace('G', 'G')"
   ]
  },
  {
   "cell_type": "code",
   "execution_count": 31,
   "metadata": {},
   "outputs": [],
   "source": [
    "new_cols = [col for col in df.columns if col != 'EnergyRating'] + ['EnergyRating']\n",
    "df = df[new_cols]\n",
    "del(new_cols)"
   ]
  },
  {
   "cell_type": "code",
   "execution_count": 32,
   "metadata": {},
   "outputs": [],
   "source": [
    "X = df.iloc[:, :-1] # Independent Variables\n",
    "y = df.iloc[:, -1] # Dependent Variables"
   ]
  },
  {
   "cell_type": "code",
   "execution_count": 34,
   "metadata": {},
   "outputs": [],
   "source": [
    "numerical = [\n",
    "    'GroundFloorArea(sq m)'\n",
    "    ,'TotalDeliveredEnergy'\n",
    "    ,'InsulationThickness'\n",
    "]\n",
    "\n",
    "X[numerical] = MinMaxScaler().fit_transform(X[numerical])"
   ]
  },
  {
   "cell_type": "code",
   "execution_count": 35,
   "metadata": {},
   "outputs": [],
   "source": [
    "# Train-Test Split\n",
    "X_train, X_test, y_train, y_test = train_test_split(\n",
    "    X, y, test_size=0.2, stratify=y,  random_state=2814)"
   ]
  },
  {
   "cell_type": "code",
   "execution_count": 36,
   "metadata": {},
   "outputs": [],
   "source": [
    "# Create the oversampler\n",
    "smotenc = SMOTENC([0,2,4,5,6,7,8,9,10],random_state = 2814)\n",
    "X_train, y_train = smotenc.fit_resample(X_train, y_train)"
   ]
  },
  {
   "cell_type": "code",
   "execution_count": 37,
   "metadata": {},
   "outputs": [],
   "source": [
    "# https://stackoverflow.com/a/52935270/5923619\n",
    "# One Hot Encodes our categorical feature and binds it to the original dataset\n",
    "def encode_and_bind(original_dataframe, feature_to_encode):\n",
    "    dummies = pd.get_dummies(original_dataframe[[feature_to_encode]])\n",
    "    res = pd.concat([original_dataframe, dummies], axis=1)\n",
    "    res = res.drop([feature_to_encode], axis=1)\n",
    "    return(res) "
   ]
  },
  {
   "cell_type": "code",
   "execution_count": 38,
   "metadata": {},
   "outputs": [],
   "source": [
    "# One Hot Encode all of our categorical features\n",
    "categorical = [ \n",
    "    'YearofConstruction'\n",
    "    ,'CountyName'\n",
    "    ,'DwellingTypeDescr'\n",
    "    ,'MainSpaceHeatingFuel'\n",
    "    ,'MainWaterHeatingFuel'\n",
    "    ,'VentilationMethod'\n",
    "    ,'StructureType'\n",
    "    ,'InsulationType'\n",
    "    ,'NoOfSidesSheltered'\n",
    "]\n",
    "\n",
    "for feature in categorical:\n",
    "    X_train = encode_and_bind(X_train, feature)"
   ]
  },
  {
   "cell_type": "code",
   "execution_count": 39,
   "metadata": {},
   "outputs": [],
   "source": [
    "# One Hot Encode all of our categorical features\n",
    "for feature in categorical:\n",
    "    X_test = encode_and_bind(X_test, feature)"
   ]
  },
  {
   "cell_type": "markdown",
   "metadata": {},
   "source": [
    "# Define SMOTE-Tomek Links\n",
    "resample=SMOTETomek(tomek=TomekLinks(sampling_strategy='majority'), smote=SMOTE(k_neighbors=6), random_state=2814)\n",
    "X_train, y_train = resample.fit_resample(X_train, y_train)"
   ]
  },
  {
   "cell_type": "code",
   "execution_count": 51,
   "metadata": {},
   "outputs": [
    {
     "ename": "KeyError",
     "evalue": "\"['MainWaterHeatingFuel_Electricity - On-peak Night-Ra'] not found in axis\"",
     "output_type": "error",
     "traceback": [
      "\u001b[0;31m---------------------------------------------------------------------------\u001b[0m",
      "\u001b[0;31mKeyError\u001b[0m                                  Traceback (most recent call last)",
      "\u001b[1;32m/Users/oisinbrannock/Documents/masters_thesis_ob2814/masters_thesis/notebooks/final.ipynb Cell 13\u001b[0m in \u001b[0;36m<cell line: 1>\u001b[0;34m()\u001b[0m\n\u001b[0;32m----> <a href='vscode-notebook-cell:/Users/oisinbrannock/Documents/masters_thesis_ob2814/masters_thesis/notebooks/final.ipynb#ch0000038?line=0'>1</a>\u001b[0m X_test \u001b[39m=\u001b[39m X_test\u001b[39m.\u001b[39;49mdrop(\u001b[39m'\u001b[39;49m\u001b[39mMainWaterHeatingFuel_Electricity - On-peak Night-Ra\u001b[39;49m\u001b[39m'\u001b[39;49m, axis\u001b[39m=\u001b[39;49m\u001b[39m1\u001b[39;49m)\n\u001b[1;32m      <a href='vscode-notebook-cell:/Users/oisinbrannock/Documents/masters_thesis_ob2814/masters_thesis/notebooks/final.ipynb#ch0000038?line=1'>2</a>\u001b[0m X_train \u001b[39m=\u001b[39m X_train\u001b[39m.\u001b[39mdrop(\u001b[39m'\u001b[39m\u001b[39mMainSpaceHeatingFuel_Bioethanol from renewable sour\u001b[39m\u001b[39m'\u001b[39m, axis\u001b[39m=\u001b[39m\u001b[39m1\u001b[39m)\n\u001b[1;32m      <a href='vscode-notebook-cell:/Users/oisinbrannock/Documents/masters_thesis_ob2814/masters_thesis/notebooks/final.ipynb#ch0000038?line=2'>3</a>\u001b[0m X_train \u001b[39m=\u001b[39m X_train\u001b[39m.\u001b[39mdrop(\u001b[39m'\u001b[39m\u001b[39mMainSpaceHeatingFuel_Biodiesel from renewable sourc\u001b[39m\u001b[39m'\u001b[39m, axis\u001b[39m=\u001b[39m\u001b[39m1\u001b[39m)\n",
      "File \u001b[0;32m~/.pyenv/versions/3.10.5/envs/masters_thesis/lib/python3.10/site-packages/pandas/util/_decorators.py:311\u001b[0m, in \u001b[0;36mdeprecate_nonkeyword_arguments.<locals>.decorate.<locals>.wrapper\u001b[0;34m(*args, **kwargs)\u001b[0m\n\u001b[1;32m    305\u001b[0m \u001b[39mif\u001b[39;00m \u001b[39mlen\u001b[39m(args) \u001b[39m>\u001b[39m num_allow_args:\n\u001b[1;32m    306\u001b[0m     warnings\u001b[39m.\u001b[39mwarn(\n\u001b[1;32m    307\u001b[0m         msg\u001b[39m.\u001b[39mformat(arguments\u001b[39m=\u001b[39marguments),\n\u001b[1;32m    308\u001b[0m         \u001b[39mFutureWarning\u001b[39;00m,\n\u001b[1;32m    309\u001b[0m         stacklevel\u001b[39m=\u001b[39mstacklevel,\n\u001b[1;32m    310\u001b[0m     )\n\u001b[0;32m--> 311\u001b[0m \u001b[39mreturn\u001b[39;00m func(\u001b[39m*\u001b[39;49margs, \u001b[39m*\u001b[39;49m\u001b[39m*\u001b[39;49mkwargs)\n",
      "File \u001b[0;32m~/.pyenv/versions/3.10.5/envs/masters_thesis/lib/python3.10/site-packages/pandas/core/frame.py:4954\u001b[0m, in \u001b[0;36mDataFrame.drop\u001b[0;34m(self, labels, axis, index, columns, level, inplace, errors)\u001b[0m\n\u001b[1;32m   4806\u001b[0m \u001b[39m@deprecate_nonkeyword_arguments\u001b[39m(version\u001b[39m=\u001b[39m\u001b[39mNone\u001b[39;00m, allowed_args\u001b[39m=\u001b[39m[\u001b[39m\"\u001b[39m\u001b[39mself\u001b[39m\u001b[39m\"\u001b[39m, \u001b[39m\"\u001b[39m\u001b[39mlabels\u001b[39m\u001b[39m\"\u001b[39m])\n\u001b[1;32m   4807\u001b[0m \u001b[39mdef\u001b[39;00m \u001b[39mdrop\u001b[39m(\n\u001b[1;32m   4808\u001b[0m     \u001b[39mself\u001b[39m,\n\u001b[0;32m   (...)\u001b[0m\n\u001b[1;32m   4815\u001b[0m     errors: \u001b[39mstr\u001b[39m \u001b[39m=\u001b[39m \u001b[39m\"\u001b[39m\u001b[39mraise\u001b[39m\u001b[39m\"\u001b[39m,\n\u001b[1;32m   4816\u001b[0m ):\n\u001b[1;32m   4817\u001b[0m     \u001b[39m\"\"\"\u001b[39;00m\n\u001b[1;32m   4818\u001b[0m \u001b[39m    Drop specified labels from rows or columns.\u001b[39;00m\n\u001b[1;32m   4819\u001b[0m \n\u001b[0;32m   (...)\u001b[0m\n\u001b[1;32m   4952\u001b[0m \u001b[39m            weight  1.0     0.8\u001b[39;00m\n\u001b[1;32m   4953\u001b[0m \u001b[39m    \"\"\"\u001b[39;00m\n\u001b[0;32m-> 4954\u001b[0m     \u001b[39mreturn\u001b[39;00m \u001b[39msuper\u001b[39;49m()\u001b[39m.\u001b[39;49mdrop(\n\u001b[1;32m   4955\u001b[0m         labels\u001b[39m=\u001b[39;49mlabels,\n\u001b[1;32m   4956\u001b[0m         axis\u001b[39m=\u001b[39;49maxis,\n\u001b[1;32m   4957\u001b[0m         index\u001b[39m=\u001b[39;49mindex,\n\u001b[1;32m   4958\u001b[0m         columns\u001b[39m=\u001b[39;49mcolumns,\n\u001b[1;32m   4959\u001b[0m         level\u001b[39m=\u001b[39;49mlevel,\n\u001b[1;32m   4960\u001b[0m         inplace\u001b[39m=\u001b[39;49minplace,\n\u001b[1;32m   4961\u001b[0m         errors\u001b[39m=\u001b[39;49merrors,\n\u001b[1;32m   4962\u001b[0m     )\n",
      "File \u001b[0;32m~/.pyenv/versions/3.10.5/envs/masters_thesis/lib/python3.10/site-packages/pandas/core/generic.py:4267\u001b[0m, in \u001b[0;36mNDFrame.drop\u001b[0;34m(self, labels, axis, index, columns, level, inplace, errors)\u001b[0m\n\u001b[1;32m   4265\u001b[0m \u001b[39mfor\u001b[39;00m axis, labels \u001b[39min\u001b[39;00m axes\u001b[39m.\u001b[39mitems():\n\u001b[1;32m   4266\u001b[0m     \u001b[39mif\u001b[39;00m labels \u001b[39mis\u001b[39;00m \u001b[39mnot\u001b[39;00m \u001b[39mNone\u001b[39;00m:\n\u001b[0;32m-> 4267\u001b[0m         obj \u001b[39m=\u001b[39m obj\u001b[39m.\u001b[39;49m_drop_axis(labels, axis, level\u001b[39m=\u001b[39;49mlevel, errors\u001b[39m=\u001b[39;49merrors)\n\u001b[1;32m   4269\u001b[0m \u001b[39mif\u001b[39;00m inplace:\n\u001b[1;32m   4270\u001b[0m     \u001b[39mself\u001b[39m\u001b[39m.\u001b[39m_update_inplace(obj)\n",
      "File \u001b[0;32m~/.pyenv/versions/3.10.5/envs/masters_thesis/lib/python3.10/site-packages/pandas/core/generic.py:4311\u001b[0m, in \u001b[0;36mNDFrame._drop_axis\u001b[0;34m(self, labels, axis, level, errors, consolidate, only_slice)\u001b[0m\n\u001b[1;32m   4309\u001b[0m         new_axis \u001b[39m=\u001b[39m axis\u001b[39m.\u001b[39mdrop(labels, level\u001b[39m=\u001b[39mlevel, errors\u001b[39m=\u001b[39merrors)\n\u001b[1;32m   4310\u001b[0m     \u001b[39melse\u001b[39;00m:\n\u001b[0;32m-> 4311\u001b[0m         new_axis \u001b[39m=\u001b[39m axis\u001b[39m.\u001b[39;49mdrop(labels, errors\u001b[39m=\u001b[39;49merrors)\n\u001b[1;32m   4312\u001b[0m     indexer \u001b[39m=\u001b[39m axis\u001b[39m.\u001b[39mget_indexer(new_axis)\n\u001b[1;32m   4314\u001b[0m \u001b[39m# Case for non-unique axis\u001b[39;00m\n\u001b[1;32m   4315\u001b[0m \u001b[39melse\u001b[39;00m:\n",
      "File \u001b[0;32m~/.pyenv/versions/3.10.5/envs/masters_thesis/lib/python3.10/site-packages/pandas/core/indexes/base.py:6644\u001b[0m, in \u001b[0;36mIndex.drop\u001b[0;34m(self, labels, errors)\u001b[0m\n\u001b[1;32m   6642\u001b[0m \u001b[39mif\u001b[39;00m mask\u001b[39m.\u001b[39many():\n\u001b[1;32m   6643\u001b[0m     \u001b[39mif\u001b[39;00m errors \u001b[39m!=\u001b[39m \u001b[39m\"\u001b[39m\u001b[39mignore\u001b[39m\u001b[39m\"\u001b[39m:\n\u001b[0;32m-> 6644\u001b[0m         \u001b[39mraise\u001b[39;00m \u001b[39mKeyError\u001b[39;00m(\u001b[39mf\u001b[39m\u001b[39m\"\u001b[39m\u001b[39m{\u001b[39;00m\u001b[39mlist\u001b[39m(labels[mask])\u001b[39m}\u001b[39;00m\u001b[39m not found in axis\u001b[39m\u001b[39m\"\u001b[39m)\n\u001b[1;32m   6645\u001b[0m     indexer \u001b[39m=\u001b[39m indexer[\u001b[39m~\u001b[39mmask]\n\u001b[1;32m   6646\u001b[0m \u001b[39mreturn\u001b[39;00m \u001b[39mself\u001b[39m\u001b[39m.\u001b[39mdelete(indexer)\n",
      "\u001b[0;31mKeyError\u001b[0m: \"['MainWaterHeatingFuel_Electricity - On-peak Night-Ra'] not found in axis\""
     ]
    }
   ],
   "source": [
    "X_test = X_test.drop('MainWaterHeatingFuel_Electricity - On-peak Night-Ra', axis=1)\n",
    "X_train = X_train.drop('MainSpaceHeatingFuel_Bioethanol from renewable sour', axis=1)\n",
    "X_train = X_train.drop('MainSpaceHeatingFuel_Biodiesel from renewable sourc', axis=1)\n",
    "X_train = X_train.drop('MainWaterHeatingFuel_None', axis=1)"
   ]
  },
  {
   "cell_type": "code",
   "execution_count": 53,
   "metadata": {},
   "outputs": [],
   "source": [
    "X_train.to_csv('../data/interim/1_X_train.csv', index=False)\n",
    "y_train.to_csv('../data/interim/1_y_train.csv', index=False)\n",
    "X_test.to_csv('../data/interim/1_X_test.csv', index=False)\n",
    "y_test.to_csv('../data/interim/1_y_test.csv', index=False)"
   ]
  },
  {
   "cell_type": "code",
   "execution_count": 52,
   "metadata": {},
   "outputs": [
    {
     "name": "stdout",
     "output_type": "stream",
     "text": [
      "              precision    recall  f1-score   support\n",
      "\n",
      "          A1       0.31      0.63      0.42       252\n",
      "          A2       0.90      0.90      0.90      8648\n",
      "          A3       0.90      0.87      0.88     10239\n",
      "          B1       0.56      0.71      0.63      3052\n",
      "          B2       0.62      0.68      0.65      6563\n",
      "          B3       0.75      0.73      0.74     15594\n",
      "          C1       0.78      0.76      0.77     22757\n",
      "          C2       0.77      0.75      0.76     24906\n",
      "          C3       0.75      0.75      0.75     23637\n",
      "          D1       0.79      0.78      0.79     22871\n",
      "          D2       0.82      0.80      0.81     19637\n",
      "          E1       0.75      0.78      0.77     11326\n",
      "          E2       0.78      0.79      0.78      8956\n",
      "           F       0.83      0.85      0.84      9269\n",
      "           G       0.95      0.94      0.95     13363\n",
      "\n",
      "    accuracy                           0.79    201070\n",
      "   macro avg       0.75      0.78      0.76    201070\n",
      "weighted avg       0.79      0.79      0.79    201070\n",
      "\n"
     ]
    }
   ],
   "source": [
    "# Modelling\n",
    "dt = DecisionTreeClassifier(random_state=2814)\n",
    "dt.fit(X_train, y_train)\n",
    "\n",
    "y_pred = dt.predict(X_test)\n",
    "print(classification_report(y_test,y_pred))"
   ]
  },
  {
   "cell_type": "code",
   "execution_count": 54,
   "metadata": {},
   "outputs": [],
   "source": [
    "rf = RandomForestClassifier(random_state=2814)\n",
    "rf.fit(X_train, y_train)\n",
    "y_pred = rf.predict(X_test)\n",
    "print(classification_report(y_test, y_pred))"
   ]
  },
  {
   "cell_type": "code",
   "execution_count": null,
   "metadata": {},
   "outputs": [
    {
     "name": "stderr",
     "output_type": "stream",
     "text": [
      "/Users/oisinbrannock/.pyenv/versions/3.10.5/envs/masters_thesis/lib/python3.10/site-packages/sklearn/linear_model/_logistic.py:444: ConvergenceWarning: lbfgs failed to converge (status=1):\n",
      "STOP: TOTAL NO. of ITERATIONS REACHED LIMIT.\n",
      "\n",
      "Increase the number of iterations (max_iter) or scale the data as shown in:\n",
      "    https://scikit-learn.org/stable/modules/preprocessing.html\n",
      "Please also refer to the documentation for alternative solver options:\n",
      "    https://scikit-learn.org/stable/modules/linear_model.html#logistic-regression\n",
      "  n_iter_i = _check_optimize_result(\n"
     ]
    },
    {
     "name": "stdout",
     "output_type": "stream",
     "text": [
      "              precision    recall  f1-score   support\n",
      "\n",
      "          A1       0.03      0.70      0.07       314\n",
      "          A2       0.59      0.48      0.53     10810\n",
      "          A3       0.53      0.48      0.51     12798\n",
      "          B1       0.05      0.21      0.08      3815\n",
      "          B2       0.12      0.33      0.17      8203\n",
      "          B3       0.19      0.24      0.21     19493\n",
      "          C1       0.24      0.25      0.24     28446\n",
      "          C2       0.23      0.15      0.18     31133\n",
      "          C3       0.22      0.12      0.15     29546\n",
      "          D1       0.23      0.17      0.20     28588\n",
      "          D2       0.21      0.12      0.16     24547\n",
      "          E1       0.15      0.10      0.12     14158\n",
      "          E2       0.13      0.14      0.13     11195\n",
      "           F       0.17      0.29      0.22     11587\n",
      "           G       0.51      0.61      0.56     16704\n",
      "\n",
      "    accuracy                           0.24    251337\n",
      "   macro avg       0.24      0.29      0.23    251337\n",
      "weighted avg       0.26      0.24      0.24    251337\n",
      "\n"
     ]
    }
   ],
   "source": [
    "lr = LogisticRegression(random_state=2814, solver='sag')\n",
    "lr.fit(X_train, y_train)\n",
    "y_pred = lr.predict(X_test)\n",
    "print(classification_report(y_test, y_pred))"
   ]
  },
  {
   "cell_type": "code",
   "execution_count": null,
   "metadata": {},
   "outputs": [],
   "source": [
    "svm = LinearSVC(random_state=2814)\n",
    "svm.fit(X_train, y_train)\n",
    "y_pred = svm.predict(X_test)\n",
    "print(classification_report(y_test, y_pred))"
   ]
  },
  {
   "cell_type": "code",
   "execution_count": null,
   "metadata": {},
   "outputs": [],
   "source": [
    "nb = GaussianNB()\n",
    "nb.fit(X_train, y_train)\n",
    "y_pred = nb.predict(X_test)\n",
    "print(classification_report(y_test, y_pred))"
   ]
  },
  {
   "cell_type": "code",
   "execution_count": null,
   "metadata": {},
   "outputs": [],
   "source": [
    "knn = KNeighborsClassifier()\n",
    "knn.fit(X_train, y_train)\n",
    "y_pred = knn.predict(X_test)\n",
    "print(classification_report(y_test, y_pred))"
   ]
  }
 ],
 "metadata": {
  "kernelspec": {
   "display_name": "Python 3.10.5 64-bit ('masters_thesis')",
   "language": "python",
   "name": "python3"
  },
  "language_info": {
   "codemirror_mode": {
    "name": "ipython",
    "version": 3
   },
   "file_extension": ".py",
   "mimetype": "text/x-python",
   "name": "python",
   "nbconvert_exporter": "python",
   "pygments_lexer": "ipython3",
   "version": "3.10.5"
  },
  "orig_nbformat": 4,
  "vscode": {
   "interpreter": {
    "hash": "ecf9425976ca1d495f6ff342e01edb9b99409cdaa6c55166a5169aaab36ca909"
   }
  }
 },
 "nbformat": 4,
 "nbformat_minor": 2
}
